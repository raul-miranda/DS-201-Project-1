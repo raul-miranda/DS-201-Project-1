{
  "nbformat": 4,
  "nbformat_minor": 0,
  "metadata": {
    "colab": {
      "name": "D201_Project_2_version1.ipynb",
      "provenance": [],
      "collapsed_sections": [],
      "toc_visible": true,
      "include_colab_link": true
    },
    "kernelspec": {
      "name": "python3",
      "display_name": "Python 3"
    },
    "language_info": {
      "name": "python"
    }
  },
  "cells": [
    {
      "cell_type": "markdown",
      "metadata": {
        "id": "view-in-github",
        "colab_type": "text"
      },
      "source": [
        "<a href=\"https://colab.research.google.com/github/raul-miranda/DS-201-Project-1/blob/main/D201_Project_2_version1.ipynb\" target=\"_parent\"><img src=\"https://colab.research.google.com/assets/colab-badge.svg\" alt=\"Open In Colab\"/></a>"
      ]
    },
    {
      "cell_type": "markdown",
      "metadata": {
        "id": "dC4bK7FBhhkI"
      },
      "source": [
        "**Stroke Predictions**\n",
        "---\n",
        "Ana Ortez-Rivera, Olga Tolchinsky, Rongjia Zhang, Raul Miranda\n",
        "\n",
        "Data Science 201 - Spring 2021\n",
        "Project 2\n",
        "April 29, 2021\n",
        "\n",
        "Source of dataset: https://www.kaggle.com/fedesoriano/stroke-prediction-dataset"
      ]
    },
    {
      "cell_type": "markdown",
      "metadata": {
        "id": "8eDuNuI3aAPw"
      },
      "source": [
        "## **1. Introduction**\n"
      ]
    },
    {
      "cell_type": "markdown",
      "metadata": {
        "id": "r3jSAC6xhdjs"
      },
      "source": [
        "**BACKGROUND**\n",
        "\n",
        "**What is Stroke?**\n",
        "\n",
        "A stroke is a brain attack—a sudden interruption of continuous blood flow to the brain. A stroke occurs when a blood vessel in the brain becomes blocked or narrowed, or when a blood vessel bursts and spills blood into the brain.\n",
        "\n",
        "There are two main causes of stroke: a blocked artery (ischemic stroke) or leaking or bursting of a blood vessel (hemorrhagic stroke). Ischemic stroke is the most common type of stroke. It happens when the brain's blood vessels become narrowed or blocked, causing severely reduced blood flow (ischemia). Hemorrhagic stroke occurs when a blood vessel in your brain leaks or ruptures. Brain hemorrhages can result from many conditions that affect your blood vessels.\n",
        "\n",
        "**Who is at risk of stroke?**\n",
        "\n",
        "Each year nearly 800,000 Americans have a stroke, and about 600,000 are first strokes. Once a person suffers a first stroke, the risk of another stroke significantly increases. The risk of a recurrent stroke is greatest right after a stroke and decreases with time. Stroke occurs in all age groups, in both sexes, and in all races in every country. Stroke can even occur before birth, when the developing infant is still in the womb (a common cause of cerebral palsy).\n",
        "\n",
        "**What are the risk factors of stroke?**\n",
        "\n",
        "Some people are at a higher risk for stroke than others. Generally, stroke risk factors fall into two categories: unmodifiable or modifiable. Unmodifiable risk factors—those that can’t be changed or controlled—include age, gender, race or ethnicity, and family history. Modifiable risk factors and medical conditions, including high blood pressure, high cholesterol, and smoking, can be controlled with medical care or changed by the person at risk. Understanding the risk factors and working on them may help prevent a stroke.\n",
        "\n",
        "**Unmodifiable risk factors**\n",
        "\n",
        "*Age*\n",
        "\n",
        "Stroke affects people of all ages (including young adults, children, infants, and fetuses in the womb). However, stroke risk increases with age—the older you are, the more likely you are to have a stroke.\n",
        "\n",
        "*Gender*\n",
        "\n",
        "Gender also plays a role in risk for stroke. Stroke is more common in men than women. Men have a higher risk of stroke in young and middle age, but rates even out at older ages, and more women die from stroke. Even though women have fewer strokes than men, women are generally older when they have their strokes and are more likely to die from them.\n",
        "\n",
        "*Family History*\n",
        "\n",
        "Having a parent, grandparent, or sibling who has had a stroke puts a person at greater risk of stroke. The risk of stroke may be linked to certain genetic traits in some families.\n",
        "\n",
        "*Race*\n",
        "\n",
        "The risk for stroke varies among different ethnic and racial groups. The incidence of stroke among African Americans and Hispanic Americans is almost double that of Caucasians. African and Hispanic Americans tend to have strokes at a younger age than Caucasians. The death rate from stroke is higher in African Americans than in Caucasians or Hispanics.\n",
        "\n",
        "*Prior stroke or heart attack*\n",
        "\n",
        "Someone who has had a stroke or heart attack has a higher risk of having another one. Individuals who have had a heart attack also have a higher stroke risk.\n",
        "\n",
        "**Modifiable Risk Factors**\n",
        "\n",
        "Modifiable risk factors are those that can be changed or controlled to prevent or reduce the risk of stroke. The most important modifiable risk factors for stroke are high blood pressure, heart disease, diabetes, and smoking. Others include heavy alcohol use and high cholesterol. Control of these conditions is a highly effective population strategy and has led to a 70 percent decrease in stroke risk over the past 50 years.\n",
        "\n",
        "*High Blood Pressure*\n",
        "\n",
        "Hypertension or high blood pressure is the number one risk factor for stroke. For people with high blood pressure, the risk for stroke before age 80 is 2 to 4 times higher than the risk for those without high blood pressure. Hypertension promotes atherosclerosis and causes damage to blood vessels. Atherosclerosis is the major cause of blood vessel narrowing, leading to both heart attack and stroke. \n",
        "\n",
        "\n",
        "*Atrial fibrillation*\n",
        "\n",
        "\n",
        "Atrial fibrillation is the most common heart arrhythmia affecting over 9 percent of people over age 65. The atria don’t push blood out to the two lower chambers of the heart. This leads to blood stagnation in the atria, and the formation of blood clots that can loosen and leave the heart and travel to the brain, causing an ischemic stroke. \n",
        "\n",
        "*Cholesterol Levels*\n",
        "\n",
        "Many people do not realize that high cholesterol contributes to stroke risk. A healthy diet and regular exercise are the best ways to lower total cholesterol levels. In some cases, doctors may prescribe cholesterol-lowering medication such as statin drugs. Genetics also may play a role in high cholesterol levels. Hyperlipidemia (abnormally high levels of fatty materials called lipids) and hypercholesterolemia (too much cholesterol in the bloodstream) are inherited conditions that can cause high cholesterol.\n",
        "\n",
        "*Diabetes*\n",
        "\n",
        "Diabetes can damage the blood vessels in the brain and increase a person's risk for stroke. In diabetes, glucose (blood sugar) is not efficiently moved from the blood to the body’s cells. Instead, it builds up in the blood, where it can damage the blood vessels and tissue that carry fluids (including blood) through the body. High blood pressure is common among people with diabetes and accounts for much of their increased stroke risk. The greatest modifiable risk factor for diabetes is obesity. The increase of obesity and diabetes in the U.S. is thought to be responsible for the recent erosion of the decades-long progress in reducing stroke and heart attack. If blood glucose levels are high at the time of a stroke, then brain damage is usually more severe and extensive than when blood glucose is closer to normal. Controlling blood sugar does appear to reduce the risk of recurrent stroke.\n",
        "\n",
        "*Smoking*\n",
        "\n",
        "Smoking by itself (without the presence of other risk factors) almost doubles a person's risk for ischemic stroke. Smoking promotes atherosclerosis and aneurysm formation and stimulates blood clotting factors. The risk for stroke decreases significantly 2 years after a person quits smoking; by 5 years, the risk decreases even further to the level of nonsmokers. \n",
        "\n",
        "*Obesity and physical Inactivity (high level of bmi)*\n",
        "\n",
        "Obesity—a medical condition in which a person has too much body fat—is associated with 3 other stroke risk factors: high blood pressure, diabetes, and heart disease. It clearly is a risk factor for stroke. \n",
        "\n",
        "*Head and neck injuries*\n",
        "\n",
        "Head injury or traumatic brain injury may cause bleeding within the brain leading to damage similar to that caused by a hemorrhagic stroke. Neck injury, when associated with spontaneous tearing of the arteries caused by sudden and severe neck extension, neck rotation, or pressure on the artery, also is a contributing cause of stroke, especially in young adults. Neck calisthenics, \"bottoms-up\" drinking, extending the neck backwards over a sink for hair-washing in hair salons, and improperly performed chiropractic manipulation of the neck can also strain the arteries, possibly leading to stroke.\n",
        "\n",
        "*Drug Abuse*\n",
        "\n",
        "Drug abuse greatly increases the risk of stroke. Short- and long-term use of addictive drugs such as cocaine and amphetamine can damage blood vessel walls, causing them to rupture and bleed into the brain (hemorrhagic stroke). These and other drugs can also narrow the brain’s blood vessels and stop blood flow, causing an ischemic stroke. Intravenous injection of drugs like heroin carries high risk of heart valve infection which can cause stroke. "
      ]
    },
    {
      "cell_type": "markdown",
      "metadata": {
        "id": "gRcebDAxx0dn"
      },
      "source": [
        "The features of the data are as follows:\n",
        "\n",
        "*   id: unique identifier - numerical\n",
        "*   gender: \"Male\", \"Female\" or \"Other\" - categorical\n",
        "*   age: age of the patient - numerical\n",
        "*   hypertension: 0 if the patient doesn't have hypertension, 1 if the patient has hypertension - categorical\n",
        "*   heart_disease: 0 if the patient doesn't have any heart diseases, 1 if the patient has a heart disease - categorical\n",
        "*   ever_married: \"No\" or \"Yes\" - categorical\n",
        "*   work_type: \"children\", \"Govt_jov\", \"Never_worked\", \"Private\" or \"Self-employed\" - categorical\n",
        "*   Residence_type: \"Rural\" or \"Urban\" - categorical\n",
        "*   avg_glucose_level: average glucose level in blood - continuous\n",
        "*   bmi: body mass index - continuous\n",
        "*   smoking_status: \"formerly smoked\", \"never smoked\", \"smokes\" or \"Unknown\" - categorical\n",
        "*   stroke: 1 if the patient had a stroke or 0 if not - categorical\n",
        "\n",
        "*Note: \"Unknown\" in smoking_status means that the information is unavailable for this patient\n",
        "\n",
        "\n"
      ]
    },
    {
      "cell_type": "markdown",
      "metadata": {
        "id": "MPODBvr4Wudf"
      },
      "source": [
        "References:\n",
        "\n",
        "https://www.mayoclinic.org/diseases-conditions/stroke/symptoms-causes/syc-20350113\n",
        "\n",
        "https://www.ninds.nih.gov/Disorders/Patient-Caregiver-Education/Hope-Through-Research/Stroke-Hope-Through-Research"
      ]
    },
    {
      "cell_type": "markdown",
      "metadata": {
        "id": "TQ7QEg89WvCE"
      },
      "source": [
        "**Questions to Answers**\n",
        "1. What is the importance of each factor in determining the likelihood of having a stroke?\n",
        "\n",
        "2. What are the most important factors?"
      ]
    },
    {
      "cell_type": "markdown",
      "metadata": {
        "id": "tpXv5-GGaPvG"
      },
      "source": [
        "**DATASET**\n",
        "\n",
        "The source of the dataset is kaggle:\n",
        "https://www.kaggle.com/fedesoriano/stroke-prediction-dataset\n",
        "\n",
        "Attribute Information:\n",
        "\n",
        "*   id: unique identifier - numerical\n",
        "*   gender: \"Male\", \"Female\" or \"Other\" - categorical\n",
        "*   age: age of the patient - numerical\n",
        "*   hypertension: 0 if the patient doesn't have hypertension, 1 if the patient has hypertension - categorical\n",
        "*   heart_disease: 0 if the patient doesn't have any heart diseases, 1 if the patient has a heart disease - categorical\n",
        "*   ever_married: \"No\" or \"Yes\" - categorical\n",
        "*   work_type: \"children\", \"Govt_jov\", \"Never_worked\", \"Private\" or \"Self-employed\" - categorical\n",
        "*   Residence_type: \"Rural\" or \"Urban\" - categorical\n",
        "*   avg_glucose_level: average glucose level in blood - continuous\n",
        "*   bmi: body mass index - continuous\n",
        "*   smoking_status: \"formerly smoked\", \"never smoked\", \"smokes\" or \"Unknown\" - categorical\n",
        "*   stroke: 1 if the patient had a stroke or 0 if not - categorical\n",
        "\n",
        "*Note: \"Unknown\" in smoking_status means that the information is unavailable for this patient\n",
        "\n",
        "\n"
      ]
    },
    {
      "cell_type": "markdown",
      "metadata": {
        "id": "rUSq_FmI1yYI"
      },
      "source": [
        "## **2. Data Wrangling**\n"
      ]
    },
    {
      "cell_type": "markdown",
      "metadata": {
        "id": "FzLoyl8yag3x"
      },
      "source": [
        "### 2a. Loading the Data"
      ]
    },
    {
      "cell_type": "code",
      "metadata": {
        "id": "evCqdsjTEPkK"
      },
      "source": [
        "# Importing packages\n",
        "import pandas as pd\n",
        "import numpy as np\n",
        "from google.colab import files"
      ],
      "execution_count": null,
      "outputs": []
    },
    {
      "cell_type": "code",
      "metadata": {
        "colab": {
          "resources": {
            "http://localhost:8080/nbextensions/google.colab/files.js": {
              "data": "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",
              "ok": true,
              "headers": [
                [
                  "content-type",
                  "application/javascript"
                ]
              ],
              "status": 200,
              "status_text": ""
            }
          },
          "base_uri": "https://localhost:8080/",
          "height": 73
        },
        "id": "bHiCN6clivm6",
        "outputId": "c4a7e614-7bb1-427d-c345-bbcad89b1bd5"
      },
      "source": [
        "# Uploading csv file\n",
        "uploaded = files.upload()"
      ],
      "execution_count": null,
      "outputs": [
        {
          "output_type": "display_data",
          "data": {
            "text/html": [
              "\n",
              "     <input type=\"file\" id=\"files-2a740f35-7cce-4d57-8dcc-c2c3ea172ba2\" name=\"files[]\" multiple disabled\n",
              "        style=\"border:none\" />\n",
              "     <output id=\"result-2a740f35-7cce-4d57-8dcc-c2c3ea172ba2\">\n",
              "      Upload widget is only available when the cell has been executed in the\n",
              "      current browser session. Please rerun this cell to enable.\n",
              "      </output>\n",
              "      <script src=\"/nbextensions/google.colab/files.js\"></script> "
            ],
            "text/plain": [
              "<IPython.core.display.HTML object>"
            ]
          },
          "metadata": {
            "tags": []
          }
        },
        {
          "output_type": "stream",
          "text": [
            "Saving healthcare-dataset-stroke-data.csv to healthcare-dataset-stroke-data.csv\n"
          ],
          "name": "stdout"
        }
      ]
    },
    {
      "cell_type": "code",
      "metadata": {
        "id": "X-ZulUcTiwW3"
      },
      "source": [
        "# Loading csv into dateframe\n",
        "df_health = pd.read_csv('healthcare-dataset-stroke-data.csv')"
      ],
      "execution_count": null,
      "outputs": []
    },
    {
      "cell_type": "code",
      "metadata": {
        "colab": {
          "base_uri": "https://localhost:8080/",
          "height": 347
        },
        "id": "lD8MKaPGiwZa",
        "outputId": "cf90aa45-0758-446b-e016-f2b4e8df6c79"
      },
      "source": [
        "# Viewing data\n",
        "df_health[:10]"
      ],
      "execution_count": null,
      "outputs": [
        {
          "output_type": "execute_result",
          "data": {
            "text/html": [
              "<div>\n",
              "<style scoped>\n",
              "    .dataframe tbody tr th:only-of-type {\n",
              "        vertical-align: middle;\n",
              "    }\n",
              "\n",
              "    .dataframe tbody tr th {\n",
              "        vertical-align: top;\n",
              "    }\n",
              "\n",
              "    .dataframe thead th {\n",
              "        text-align: right;\n",
              "    }\n",
              "</style>\n",
              "<table border=\"1\" class=\"dataframe\">\n",
              "  <thead>\n",
              "    <tr style=\"text-align: right;\">\n",
              "      <th></th>\n",
              "      <th>id</th>\n",
              "      <th>gender</th>\n",
              "      <th>age</th>\n",
              "      <th>hypertension</th>\n",
              "      <th>heart_disease</th>\n",
              "      <th>ever_married</th>\n",
              "      <th>work_type</th>\n",
              "      <th>Residence_type</th>\n",
              "      <th>avg_glucose_level</th>\n",
              "      <th>bmi</th>\n",
              "      <th>smoking_status</th>\n",
              "      <th>stroke</th>\n",
              "    </tr>\n",
              "  </thead>\n",
              "  <tbody>\n",
              "    <tr>\n",
              "      <th>0</th>\n",
              "      <td>9046</td>\n",
              "      <td>Male</td>\n",
              "      <td>67.0</td>\n",
              "      <td>0</td>\n",
              "      <td>1</td>\n",
              "      <td>Yes</td>\n",
              "      <td>Private</td>\n",
              "      <td>Urban</td>\n",
              "      <td>228.69</td>\n",
              "      <td>36.6</td>\n",
              "      <td>formerly smoked</td>\n",
              "      <td>1</td>\n",
              "    </tr>\n",
              "    <tr>\n",
              "      <th>1</th>\n",
              "      <td>51676</td>\n",
              "      <td>Female</td>\n",
              "      <td>61.0</td>\n",
              "      <td>0</td>\n",
              "      <td>0</td>\n",
              "      <td>Yes</td>\n",
              "      <td>Self-employed</td>\n",
              "      <td>Rural</td>\n",
              "      <td>202.21</td>\n",
              "      <td>NaN</td>\n",
              "      <td>never smoked</td>\n",
              "      <td>1</td>\n",
              "    </tr>\n",
              "    <tr>\n",
              "      <th>2</th>\n",
              "      <td>31112</td>\n",
              "      <td>Male</td>\n",
              "      <td>80.0</td>\n",
              "      <td>0</td>\n",
              "      <td>1</td>\n",
              "      <td>Yes</td>\n",
              "      <td>Private</td>\n",
              "      <td>Rural</td>\n",
              "      <td>105.92</td>\n",
              "      <td>32.5</td>\n",
              "      <td>never smoked</td>\n",
              "      <td>1</td>\n",
              "    </tr>\n",
              "    <tr>\n",
              "      <th>3</th>\n",
              "      <td>60182</td>\n",
              "      <td>Female</td>\n",
              "      <td>49.0</td>\n",
              "      <td>0</td>\n",
              "      <td>0</td>\n",
              "      <td>Yes</td>\n",
              "      <td>Private</td>\n",
              "      <td>Urban</td>\n",
              "      <td>171.23</td>\n",
              "      <td>34.4</td>\n",
              "      <td>smokes</td>\n",
              "      <td>1</td>\n",
              "    </tr>\n",
              "    <tr>\n",
              "      <th>4</th>\n",
              "      <td>1665</td>\n",
              "      <td>Female</td>\n",
              "      <td>79.0</td>\n",
              "      <td>1</td>\n",
              "      <td>0</td>\n",
              "      <td>Yes</td>\n",
              "      <td>Self-employed</td>\n",
              "      <td>Rural</td>\n",
              "      <td>174.12</td>\n",
              "      <td>24.0</td>\n",
              "      <td>never smoked</td>\n",
              "      <td>1</td>\n",
              "    </tr>\n",
              "    <tr>\n",
              "      <th>5</th>\n",
              "      <td>56669</td>\n",
              "      <td>Male</td>\n",
              "      <td>81.0</td>\n",
              "      <td>0</td>\n",
              "      <td>0</td>\n",
              "      <td>Yes</td>\n",
              "      <td>Private</td>\n",
              "      <td>Urban</td>\n",
              "      <td>186.21</td>\n",
              "      <td>29.0</td>\n",
              "      <td>formerly smoked</td>\n",
              "      <td>1</td>\n",
              "    </tr>\n",
              "    <tr>\n",
              "      <th>6</th>\n",
              "      <td>53882</td>\n",
              "      <td>Male</td>\n",
              "      <td>74.0</td>\n",
              "      <td>1</td>\n",
              "      <td>1</td>\n",
              "      <td>Yes</td>\n",
              "      <td>Private</td>\n",
              "      <td>Rural</td>\n",
              "      <td>70.09</td>\n",
              "      <td>27.4</td>\n",
              "      <td>never smoked</td>\n",
              "      <td>1</td>\n",
              "    </tr>\n",
              "    <tr>\n",
              "      <th>7</th>\n",
              "      <td>10434</td>\n",
              "      <td>Female</td>\n",
              "      <td>69.0</td>\n",
              "      <td>0</td>\n",
              "      <td>0</td>\n",
              "      <td>No</td>\n",
              "      <td>Private</td>\n",
              "      <td>Urban</td>\n",
              "      <td>94.39</td>\n",
              "      <td>22.8</td>\n",
              "      <td>never smoked</td>\n",
              "      <td>1</td>\n",
              "    </tr>\n",
              "    <tr>\n",
              "      <th>8</th>\n",
              "      <td>27419</td>\n",
              "      <td>Female</td>\n",
              "      <td>59.0</td>\n",
              "      <td>0</td>\n",
              "      <td>0</td>\n",
              "      <td>Yes</td>\n",
              "      <td>Private</td>\n",
              "      <td>Rural</td>\n",
              "      <td>76.15</td>\n",
              "      <td>NaN</td>\n",
              "      <td>Unknown</td>\n",
              "      <td>1</td>\n",
              "    </tr>\n",
              "    <tr>\n",
              "      <th>9</th>\n",
              "      <td>60491</td>\n",
              "      <td>Female</td>\n",
              "      <td>78.0</td>\n",
              "      <td>0</td>\n",
              "      <td>0</td>\n",
              "      <td>Yes</td>\n",
              "      <td>Private</td>\n",
              "      <td>Urban</td>\n",
              "      <td>58.57</td>\n",
              "      <td>24.2</td>\n",
              "      <td>Unknown</td>\n",
              "      <td>1</td>\n",
              "    </tr>\n",
              "  </tbody>\n",
              "</table>\n",
              "</div>"
            ],
            "text/plain": [
              "      id  gender   age  ...   bmi   smoking_status stroke\n",
              "0   9046    Male  67.0  ...  36.6  formerly smoked      1\n",
              "1  51676  Female  61.0  ...   NaN     never smoked      1\n",
              "2  31112    Male  80.0  ...  32.5     never smoked      1\n",
              "3  60182  Female  49.0  ...  34.4           smokes      1\n",
              "4   1665  Female  79.0  ...  24.0     never smoked      1\n",
              "5  56669    Male  81.0  ...  29.0  formerly smoked      1\n",
              "6  53882    Male  74.0  ...  27.4     never smoked      1\n",
              "7  10434  Female  69.0  ...  22.8     never smoked      1\n",
              "8  27419  Female  59.0  ...   NaN          Unknown      1\n",
              "9  60491  Female  78.0  ...  24.2          Unknown      1\n",
              "\n",
              "[10 rows x 12 columns]"
            ]
          },
          "metadata": {
            "tags": []
          },
          "execution_count": 10
        }
      ]
    },
    {
      "cell_type": "code",
      "metadata": {
        "id": "FBUd7Pv2iwb-",
        "colab": {
          "base_uri": "https://localhost:8080/"
        },
        "outputId": "cf31c6ae-ab8a-4727-e825-3477a355aa77"
      },
      "source": [
        "# Checking data types of dataframe\n",
        "print (df_health.shape)\n",
        "print (df_health.dtypes)"
      ],
      "execution_count": null,
      "outputs": [
        {
          "output_type": "stream",
          "text": [
            "(5110, 12)\n",
            "id                     int64\n",
            "gender                object\n",
            "age                  float64\n",
            "hypertension           int64\n",
            "heart_disease          int64\n",
            "ever_married          object\n",
            "work_type             object\n",
            "Residence_type        object\n",
            "avg_glucose_level    float64\n",
            "bmi                  float64\n",
            "smoking_status        object\n",
            "stroke                 int64\n",
            "dtype: object\n"
          ],
          "name": "stdout"
        }
      ]
    },
    {
      "cell_type": "markdown",
      "metadata": {
        "id": "qd1s3CXa19os"
      },
      "source": [
        "### 2b. Data Cleaning"
      ]
    },
    {
      "cell_type": "code",
      "metadata": {
        "id": "rS9TFE0c9ySR"
      },
      "source": [
        "# Drop  \"id\" column; unnecessary for prediction\n",
        "df_health.drop('id', inplace=True, axis=1)"
      ],
      "execution_count": null,
      "outputs": []
    },
    {
      "cell_type": "code",
      "metadata": {
        "colab": {
          "base_uri": "https://localhost:8080/"
        },
        "id": "v_HKv9QiEqj5",
        "outputId": "28ee872d-2e32-4ab9-e706-3216e84a54b0"
      },
      "source": [
        "# Descriptive statistics of numerical variables\n",
        "df_health.describe()"
      ],
      "execution_count": null,
      "outputs": [
        {
          "output_type": "execute_result",
          "data": {
            "text/html": [
              "<div>\n",
              "<style scoped>\n",
              "    .dataframe tbody tr th:only-of-type {\n",
              "        vertical-align: middle;\n",
              "    }\n",
              "\n",
              "    .dataframe tbody tr th {\n",
              "        vertical-align: top;\n",
              "    }\n",
              "\n",
              "    .dataframe thead th {\n",
              "        text-align: right;\n",
              "    }\n",
              "</style>\n",
              "<table border=\"1\" class=\"dataframe\">\n",
              "  <thead>\n",
              "    <tr style=\"text-align: right;\">\n",
              "      <th></th>\n",
              "      <th>age</th>\n",
              "      <th>hypertension</th>\n",
              "      <th>heart_disease</th>\n",
              "      <th>avg_glucose_level</th>\n",
              "      <th>bmi</th>\n",
              "      <th>stroke</th>\n",
              "    </tr>\n",
              "  </thead>\n",
              "  <tbody>\n",
              "    <tr>\n",
              "      <th>count</th>\n",
              "      <td>5110.000000</td>\n",
              "      <td>5110.000000</td>\n",
              "      <td>5110.000000</td>\n",
              "      <td>5110.000000</td>\n",
              "      <td>4909.000000</td>\n",
              "      <td>5110.000000</td>\n",
              "    </tr>\n",
              "    <tr>\n",
              "      <th>mean</th>\n",
              "      <td>43.226614</td>\n",
              "      <td>0.097456</td>\n",
              "      <td>0.054012</td>\n",
              "      <td>106.147677</td>\n",
              "      <td>28.893237</td>\n",
              "      <td>0.048728</td>\n",
              "    </tr>\n",
              "    <tr>\n",
              "      <th>std</th>\n",
              "      <td>22.612647</td>\n",
              "      <td>0.296607</td>\n",
              "      <td>0.226063</td>\n",
              "      <td>45.283560</td>\n",
              "      <td>7.854067</td>\n",
              "      <td>0.215320</td>\n",
              "    </tr>\n",
              "    <tr>\n",
              "      <th>min</th>\n",
              "      <td>0.080000</td>\n",
              "      <td>0.000000</td>\n",
              "      <td>0.000000</td>\n",
              "      <td>55.120000</td>\n",
              "      <td>10.300000</td>\n",
              "      <td>0.000000</td>\n",
              "    </tr>\n",
              "    <tr>\n",
              "      <th>25%</th>\n",
              "      <td>25.000000</td>\n",
              "      <td>0.000000</td>\n",
              "      <td>0.000000</td>\n",
              "      <td>77.245000</td>\n",
              "      <td>23.500000</td>\n",
              "      <td>0.000000</td>\n",
              "    </tr>\n",
              "    <tr>\n",
              "      <th>50%</th>\n",
              "      <td>45.000000</td>\n",
              "      <td>0.000000</td>\n",
              "      <td>0.000000</td>\n",
              "      <td>91.885000</td>\n",
              "      <td>28.100000</td>\n",
              "      <td>0.000000</td>\n",
              "    </tr>\n",
              "    <tr>\n",
              "      <th>75%</th>\n",
              "      <td>61.000000</td>\n",
              "      <td>0.000000</td>\n",
              "      <td>0.000000</td>\n",
              "      <td>114.090000</td>\n",
              "      <td>33.100000</td>\n",
              "      <td>0.000000</td>\n",
              "    </tr>\n",
              "    <tr>\n",
              "      <th>max</th>\n",
              "      <td>82.000000</td>\n",
              "      <td>1.000000</td>\n",
              "      <td>1.000000</td>\n",
              "      <td>271.740000</td>\n",
              "      <td>97.600000</td>\n",
              "      <td>1.000000</td>\n",
              "    </tr>\n",
              "  </tbody>\n",
              "</table>\n",
              "</div>"
            ],
            "text/plain": [
              "               age  hypertension  ...          bmi       stroke\n",
              "count  5110.000000   5110.000000  ...  4909.000000  5110.000000\n",
              "mean     43.226614      0.097456  ...    28.893237     0.048728\n",
              "std      22.612647      0.296607  ...     7.854067     0.215320\n",
              "min       0.080000      0.000000  ...    10.300000     0.000000\n",
              "25%      25.000000      0.000000  ...    23.500000     0.000000\n",
              "50%      45.000000      0.000000  ...    28.100000     0.000000\n",
              "75%      61.000000      0.000000  ...    33.100000     0.000000\n",
              "max      82.000000      1.000000  ...    97.600000     1.000000\n",
              "\n",
              "[8 rows x 6 columns]"
            ]
          },
          "metadata": {
            "tags": []
          },
          "execution_count": 13
        }
      ]
    },
    {
      "cell_type": "code",
      "metadata": {
        "colab": {
          "base_uri": "https://localhost:8080/"
        },
        "id": "wBjxVYnLSA_P",
        "outputId": "7bd46c92-b749-4a97-ad2a-e7540f151769"
      },
      "source": [
        "# Checking the NAs in the dataset\n",
        "df_health.isna().sum()"
      ],
      "execution_count": null,
      "outputs": [
        {
          "output_type": "execute_result",
          "data": {
            "text/plain": [
              "gender                 0\n",
              "age                    0\n",
              "hypertension           0\n",
              "heart_disease          0\n",
              "ever_married           0\n",
              "work_type              0\n",
              "Residence_type         0\n",
              "avg_glucose_level      0\n",
              "bmi                  201\n",
              "smoking_status         0\n",
              "stroke                 0\n",
              "dtype: int64"
            ]
          },
          "metadata": {
            "tags": []
          },
          "execution_count": 14
        }
      ]
    },
    {
      "cell_type": "code",
      "metadata": {
        "id": "-TjBSPiPEyX1",
        "colab": {
          "base_uri": "https://localhost:8080/"
        },
        "outputId": "3ae05f61-6dc6-4159-af5a-21c50d394f23"
      },
      "source": [
        "# Replace NaN with mean value of bmi to avoid changing the column mean - create copy to preserve original df_health dataset\n",
        "df_health_2 = pd.DataFrame(df_health).copy()\n",
        "df_health_2['bmi'] = df_health_2['bmi'].fillna(df_health_2['bmi'].mean())\n",
        "df_health_2"
      ],
      "execution_count": null,
      "outputs": [
        {
          "output_type": "execute_result",
          "data": {
            "text/html": [
              "<div>\n",
              "<style scoped>\n",
              "    .dataframe tbody tr th:only-of-type {\n",
              "        vertical-align: middle;\n",
              "    }\n",
              "\n",
              "    .dataframe tbody tr th {\n",
              "        vertical-align: top;\n",
              "    }\n",
              "\n",
              "    .dataframe thead th {\n",
              "        text-align: right;\n",
              "    }\n",
              "</style>\n",
              "<table border=\"1\" class=\"dataframe\">\n",
              "  <thead>\n",
              "    <tr style=\"text-align: right;\">\n",
              "      <th></th>\n",
              "      <th>gender</th>\n",
              "      <th>age</th>\n",
              "      <th>hypertension</th>\n",
              "      <th>heart_disease</th>\n",
              "      <th>ever_married</th>\n",
              "      <th>work_type</th>\n",
              "      <th>Residence_type</th>\n",
              "      <th>avg_glucose_level</th>\n",
              "      <th>bmi</th>\n",
              "      <th>smoking_status</th>\n",
              "      <th>stroke</th>\n",
              "    </tr>\n",
              "  </thead>\n",
              "  <tbody>\n",
              "    <tr>\n",
              "      <th>0</th>\n",
              "      <td>Male</td>\n",
              "      <td>67.0</td>\n",
              "      <td>0</td>\n",
              "      <td>1</td>\n",
              "      <td>Yes</td>\n",
              "      <td>Private</td>\n",
              "      <td>Urban</td>\n",
              "      <td>228.69</td>\n",
              "      <td>36.600000</td>\n",
              "      <td>formerly smoked</td>\n",
              "      <td>1</td>\n",
              "    </tr>\n",
              "    <tr>\n",
              "      <th>1</th>\n",
              "      <td>Female</td>\n",
              "      <td>61.0</td>\n",
              "      <td>0</td>\n",
              "      <td>0</td>\n",
              "      <td>Yes</td>\n",
              "      <td>Self-employed</td>\n",
              "      <td>Rural</td>\n",
              "      <td>202.21</td>\n",
              "      <td>28.893237</td>\n",
              "      <td>never smoked</td>\n",
              "      <td>1</td>\n",
              "    </tr>\n",
              "    <tr>\n",
              "      <th>2</th>\n",
              "      <td>Male</td>\n",
              "      <td>80.0</td>\n",
              "      <td>0</td>\n",
              "      <td>1</td>\n",
              "      <td>Yes</td>\n",
              "      <td>Private</td>\n",
              "      <td>Rural</td>\n",
              "      <td>105.92</td>\n",
              "      <td>32.500000</td>\n",
              "      <td>never smoked</td>\n",
              "      <td>1</td>\n",
              "    </tr>\n",
              "    <tr>\n",
              "      <th>3</th>\n",
              "      <td>Female</td>\n",
              "      <td>49.0</td>\n",
              "      <td>0</td>\n",
              "      <td>0</td>\n",
              "      <td>Yes</td>\n",
              "      <td>Private</td>\n",
              "      <td>Urban</td>\n",
              "      <td>171.23</td>\n",
              "      <td>34.400000</td>\n",
              "      <td>smokes</td>\n",
              "      <td>1</td>\n",
              "    </tr>\n",
              "    <tr>\n",
              "      <th>4</th>\n",
              "      <td>Female</td>\n",
              "      <td>79.0</td>\n",
              "      <td>1</td>\n",
              "      <td>0</td>\n",
              "      <td>Yes</td>\n",
              "      <td>Self-employed</td>\n",
              "      <td>Rural</td>\n",
              "      <td>174.12</td>\n",
              "      <td>24.000000</td>\n",
              "      <td>never smoked</td>\n",
              "      <td>1</td>\n",
              "    </tr>\n",
              "    <tr>\n",
              "      <th>...</th>\n",
              "      <td>...</td>\n",
              "      <td>...</td>\n",
              "      <td>...</td>\n",
              "      <td>...</td>\n",
              "      <td>...</td>\n",
              "      <td>...</td>\n",
              "      <td>...</td>\n",
              "      <td>...</td>\n",
              "      <td>...</td>\n",
              "      <td>...</td>\n",
              "      <td>...</td>\n",
              "    </tr>\n",
              "    <tr>\n",
              "      <th>5105</th>\n",
              "      <td>Female</td>\n",
              "      <td>80.0</td>\n",
              "      <td>1</td>\n",
              "      <td>0</td>\n",
              "      <td>Yes</td>\n",
              "      <td>Private</td>\n",
              "      <td>Urban</td>\n",
              "      <td>83.75</td>\n",
              "      <td>28.893237</td>\n",
              "      <td>never smoked</td>\n",
              "      <td>0</td>\n",
              "    </tr>\n",
              "    <tr>\n",
              "      <th>5106</th>\n",
              "      <td>Female</td>\n",
              "      <td>81.0</td>\n",
              "      <td>0</td>\n",
              "      <td>0</td>\n",
              "      <td>Yes</td>\n",
              "      <td>Self-employed</td>\n",
              "      <td>Urban</td>\n",
              "      <td>125.20</td>\n",
              "      <td>40.000000</td>\n",
              "      <td>never smoked</td>\n",
              "      <td>0</td>\n",
              "    </tr>\n",
              "    <tr>\n",
              "      <th>5107</th>\n",
              "      <td>Female</td>\n",
              "      <td>35.0</td>\n",
              "      <td>0</td>\n",
              "      <td>0</td>\n",
              "      <td>Yes</td>\n",
              "      <td>Self-employed</td>\n",
              "      <td>Rural</td>\n",
              "      <td>82.99</td>\n",
              "      <td>30.600000</td>\n",
              "      <td>never smoked</td>\n",
              "      <td>0</td>\n",
              "    </tr>\n",
              "    <tr>\n",
              "      <th>5108</th>\n",
              "      <td>Male</td>\n",
              "      <td>51.0</td>\n",
              "      <td>0</td>\n",
              "      <td>0</td>\n",
              "      <td>Yes</td>\n",
              "      <td>Private</td>\n",
              "      <td>Rural</td>\n",
              "      <td>166.29</td>\n",
              "      <td>25.600000</td>\n",
              "      <td>formerly smoked</td>\n",
              "      <td>0</td>\n",
              "    </tr>\n",
              "    <tr>\n",
              "      <th>5109</th>\n",
              "      <td>Female</td>\n",
              "      <td>44.0</td>\n",
              "      <td>0</td>\n",
              "      <td>0</td>\n",
              "      <td>Yes</td>\n",
              "      <td>Govt_job</td>\n",
              "      <td>Urban</td>\n",
              "      <td>85.28</td>\n",
              "      <td>26.200000</td>\n",
              "      <td>Unknown</td>\n",
              "      <td>0</td>\n",
              "    </tr>\n",
              "  </tbody>\n",
              "</table>\n",
              "<p>5110 rows × 11 columns</p>\n",
              "</div>"
            ],
            "text/plain": [
              "      gender   age  hypertension  ...        bmi   smoking_status stroke\n",
              "0       Male  67.0             0  ...  36.600000  formerly smoked      1\n",
              "1     Female  61.0             0  ...  28.893237     never smoked      1\n",
              "2       Male  80.0             0  ...  32.500000     never smoked      1\n",
              "3     Female  49.0             0  ...  34.400000           smokes      1\n",
              "4     Female  79.0             1  ...  24.000000     never smoked      1\n",
              "...      ...   ...           ...  ...        ...              ...    ...\n",
              "5105  Female  80.0             1  ...  28.893237     never smoked      0\n",
              "5106  Female  81.0             0  ...  40.000000     never smoked      0\n",
              "5107  Female  35.0             0  ...  30.600000     never smoked      0\n",
              "5108    Male  51.0             0  ...  25.600000  formerly smoked      0\n",
              "5109  Female  44.0             0  ...  26.200000          Unknown      0\n",
              "\n",
              "[5110 rows x 11 columns]"
            ]
          },
          "metadata": {
            "tags": []
          },
          "execution_count": 15
        }
      ]
    },
    {
      "cell_type": "code",
      "metadata": {
        "colab": {
          "base_uri": "https://localhost:8080/"
        },
        "id": "Ppsz3KTuEyac",
        "outputId": "0f6cab20-adfa-486c-ac4a-03f100c50522"
      },
      "source": [
        "# Viewing remaining nulls\n",
        "df_health_2.isna().sum()"
      ],
      "execution_count": null,
      "outputs": [
        {
          "output_type": "execute_result",
          "data": {
            "text/plain": [
              "gender               0\n",
              "age                  0\n",
              "hypertension         0\n",
              "heart_disease        0\n",
              "ever_married         0\n",
              "work_type            0\n",
              "Residence_type       0\n",
              "avg_glucose_level    0\n",
              "bmi                  0\n",
              "smoking_status       0\n",
              "stroke               0\n",
              "dtype: int64"
            ]
          },
          "metadata": {
            "tags": []
          },
          "execution_count": 16
        }
      ]
    },
    {
      "cell_type": "code",
      "metadata": {
        "colab": {
          "base_uri": "https://localhost:8080/"
        },
        "id": "QjAc9BDMDCwF",
        "outputId": "2072d9c5-c7e9-468d-99c9-194a3a856aae"
      },
      "source": [
        "# Replace 'Unknown'  'smoking_status' to the most common for the same gender, work_type and residence_type groups\n",
        "print (df_health_2['smoking_status'].value_counts())  # before changing\n",
        "df_health_2['smoking_status'] = df_health_2['smoking_status'].replace('Unknown', np.nan)   # replace unknown with NaN\n",
        "df_health_2['smoking_status'] = df_health_2.groupby(\n",
        "    ['gender','work_type','Residence_type'], \n",
        "    sort=False).smoking_status.apply(lambda x: x.fillna(x.mode().iloc[0]))    # replace  NaN with most common for group \n",
        "print (df_health_2['smoking_status'].value_counts())  # after changing\n",
        "print (df_health_2['smoking_status'].isna().sum())    # check for NaN"
      ],
      "execution_count": null,
      "outputs": [
        {
          "output_type": "stream",
          "text": [
            "never smoked       1892\n",
            "Unknown            1544\n",
            "formerly smoked     885\n",
            "smokes              789\n",
            "Name: smoking_status, dtype: int64\n",
            "never smoked       3402\n",
            "formerly smoked     919\n",
            "smokes              789\n",
            "Name: smoking_status, dtype: int64\n",
            "0\n"
          ],
          "name": "stdout"
        }
      ]
    },
    {
      "cell_type": "markdown",
      "metadata": {
        "id": "7nhEQf-8aVmT"
      },
      "source": [
        "## **3. Exploratory Data Analysis (EDA)**\n"
      ]
    },
    {
      "cell_type": "code",
      "metadata": {
        "id": "nEqUbyGaTzta"
      },
      "source": [
        "import matplotlib.pyplot as plt\n",
        "import seaborn as sns\n",
        "from pandas.plotting import scatter_matrix"
      ],
      "execution_count": null,
      "outputs": []
    },
    {
      "cell_type": "code",
      "metadata": {
        "colab": {
          "base_uri": "https://localhost:8080/",
          "height": 318
        },
        "id": "SGpEkrFb7Vum",
        "outputId": "3ca3f0d6-631a-473c-fd91-a1466f3405d0"
      },
      "source": [
        "plt.pie(df_health_2.stroke.value_counts(),labels=df_health_2.stroke.value_counts().index)"
      ],
      "execution_count": null,
      "outputs": [
        {
          "output_type": "execute_result",
          "data": {
            "text/plain": [
              "([<matplotlib.patches.Wedge at 0x7f4600be8d90>,\n",
              "  <matplotlib.patches.Wedge at 0x7f4600bf6210>],\n",
              " [Text(-1.0871361453364168, 0.16773491438301516, '0'),\n",
              "  Text(1.087136143373357, -0.1677349271061446, '1')])"
            ]
          },
          "metadata": {
            "tags": []
          },
          "execution_count": 19
        },
        {
          "output_type": "display_data",
          "data": {
            "image/png": "[encoded data removed]",
            "text/plain": [
              "<Figure size 432x288 with 1 Axes>"
            ]
          },
          "metadata": {
            "tags": []
          }
        }
      ]
    },
    {
      "cell_type": "markdown",
      "metadata": {
        "id": "phP5k3yBFVUu"
      },
      "source": [
        "### 3a. Histograms\n"
      ]
    },
    {
      "cell_type": "code",
      "metadata": {
        "colab": {
          "base_uri": "https://localhost:8080/",
          "height": 301
        },
        "id": "jSpC-J9cAPYQ",
        "outputId": "dbe0ff54-2bc9-4085-99f2-d74adda84437"
      },
      "source": [
        "# Graph of genders reported and stroke\n",
        "sns.set_theme(style=\"darkgrid\")\n",
        "sns.countplot(data=df_health_2, x='gender', hue='stroke')\n",
        "plt.xlabel('Reported Genders')\n",
        "plt.ylabel('Count')\n",
        "plt.title('Reported Genders')\n",
        "plt.show()"
      ],
      "execution_count": null,
      "outputs": [
        {
          "output_type": "display_data",
          "data": {
            "image/png": "[encoded data removed]",
            "text/plain": [
              "<Figure size 432x288 with 1 Axes>"
            ]
          },
          "metadata": {
            "tags": []
          }
        }
      ]
    },
    {
      "cell_type": "code",
      "metadata": {
        "colab": {
          "base_uri": "https://localhost:8080/",
          "height": 1000
        },
        "id": "rHAtrLMu-5rw",
        "outputId": "5d87f3ae-19b7-4bf4-8ba3-67a1f036d714"
      },
      "source": [
        "fig,axes = plt.subplots(2,3,figsize = (22,22))\n",
        "\n",
        "sns.countplot(ax=axes[0,0],data=df_health_2,x='hypertension'  , hue = 'stroke')\n",
        "sns.countplot(ax=axes[0,1],data=df_health_2,x='heart_disease' , hue = 'stroke')\n",
        "sns.countplot(ax=axes[0,2],data=df_health_2,x='ever_married'  , hue = 'stroke')\n",
        "sns.countplot(ax=axes[1,0],data=df_health_2,x='work_type'     , hue = 'stroke')\n",
        "sns.countplot(ax=axes[1,1],data=df_health_2,x='Residence_type', hue = 'stroke')\n",
        "sns.countplot(ax=axes[1,2],data=df_health_2,x='smoking_status', hue = 'stroke')\n",
        "\n",
        "plt.show()"
      ],
      "execution_count": null,
      "outputs": [
        {
          "output_type": "display_data",
          "data": {
            "image/png": "[encoded data removed]",
            "text/plain": [
              "<Figure size 1584x1584 with 6 Axes>"
            ]
          },
          "metadata": {
            "tags": []
          }
        }
      ]
    },
    {
      "cell_type": "markdown",
      "metadata": {
        "id": "CgZCwc4KFc7e"
      },
      "source": [
        "### 3b. Barplot"
      ]
    },
    {
      "cell_type": "code",
      "metadata": {
        "colab": {
          "base_uri": "https://localhost:8080/",
          "height": 284
        },
        "id": "5-huCgdUGUye",
        "outputId": "14bddacc-4952-477a-8416-c23e5ebf4cd8"
      },
      "source": [
        "# Graph of ages\n",
        "ax = sns.boxplot(x=df_health_2[\"age\"])"
      ],
      "execution_count": null,
      "outputs": [
        {
          "output_type": "display_data",
          "data": {
            "image/png": "[encoded data removed]",
            "text/plain": [
              "<Figure size 432x288 with 1 Axes>"
            ]
          },
          "metadata": {
            "tags": []
          }
        }
      ]
    },
    {
      "cell_type": "code",
      "metadata": {
        "colab": {
          "base_uri": "https://localhost:8080/",
          "height": 284
        },
        "id": "oqBDXkrmDIvB",
        "outputId": "32d943a1-7ac3-4518-9aca-0451a7e4100f"
      },
      "source": [
        "ax = sns.boxplot(x=df_health_2[\"avg_glucose_level\"])"
      ],
      "execution_count": null,
      "outputs": [
        {
          "output_type": "display_data",
          "data": {
            "image/png": "[encoded data removed]",
            "text/plain": [
              "<Figure size 432x288 with 1 Axes>"
            ]
          },
          "metadata": {
            "tags": []
          }
        }
      ]
    },
    {
      "cell_type": "code",
      "metadata": {
        "colab": {
          "base_uri": "https://localhost:8080/",
          "height": 284
        },
        "id": "3LsW3QITDSn3",
        "outputId": "1d8e0802-aa90-42b0-ed3d-a65dafcf4d12"
      },
      "source": [
        "ax = sns.boxplot(x=df_health_2[\"bmi\"])"
      ],
      "execution_count": null,
      "outputs": [
        {
          "output_type": "display_data",
          "data": {
            "image/png": "[encoded data removed]",
            "text/plain": [
              "<Figure size 432x288 with 1 Axes>"
            ]
          },
          "metadata": {
            "tags": []
          }
        }
      ]
    },
    {
      "cell_type": "code",
      "metadata": {
        "colab": {
          "base_uri": "https://localhost:8080/",
          "height": 133
        },
        "id": "LYMWxG5HKGUK",
        "outputId": "717f4d02-823c-435a-f237-586579c54113"
      },
      "source": [
        "sns.distplot(x=df_health_2['bmi']"
      ],
      "execution_count": null,
      "outputs": [
        {
          "output_type": "error",
          "ename": "SyntaxError",
          "evalue": "ignored",
          "traceback": [
            "\u001b[0;36m  File \u001b[0;32m\"<ipython-input-25-915a87fcb2d3>\"\u001b[0;36m, line \u001b[0;32m1\u001b[0m\n\u001b[0;31m    sns.distplot(x=df_health_2['bmi']\u001b[0m\n\u001b[0m                                     ^\u001b[0m\n\u001b[0;31mSyntaxError\u001b[0m\u001b[0;31m:\u001b[0m unexpected EOF while parsing\n"
          ]
        }
      ]
    },
    {
      "cell_type": "markdown",
      "metadata": {
        "id": "ptvMg_r5Fkid"
      },
      "source": [
        "### 3c. Scatterplots"
      ]
    },
    {
      "cell_type": "code",
      "metadata": {
        "id": "aEQ7u1ETFvxY"
      },
      "source": [
        "# Viewing average glucose level against bmi\n",
        "plt.scatter(df_health_2['avg_glucose_level'], df_health_2['bmi'])    "
      ],
      "execution_count": null,
      "outputs": []
    },
    {
      "cell_type": "code",
      "metadata": {
        "id": "e8ZSia1cGXMp"
      },
      "source": [
        "# Viewing bmi against age\n",
        "plt.scatter(df_health_2['age'], df_health_2['bmi']) "
      ],
      "execution_count": null,
      "outputs": []
    },
    {
      "cell_type": "code",
      "metadata": {
        "id": "Q96z0qAxWv4c"
      },
      "source": [
        "# Viewing Avg Glucose Level against age\n",
        "plt.scatter(df_health_2['age'], df_health_2['avg_glucose_level'])"
      ],
      "execution_count": null,
      "outputs": []
    },
    {
      "cell_type": "code",
      "metadata": {
        "id": "B7AGnkLGHZ3R"
      },
      "source": [
        "# Correlations between age, glucose level and bmi\n",
        "scatter_matrix(df_health_2[['age','avg_glucose_level','bmi']], alpha=0.2, figsize=(10,10), diagonal=\"kde\");"
      ],
      "execution_count": null,
      "outputs": []
    },
    {
      "cell_type": "code",
      "metadata": {
        "id": "hzjpHha-Hul2"
      },
      "source": [
        "# Viewing the distribution of males and females against age\n",
        "groups = df_health_2.groupby('gender')\n",
        "fig, ax = plt.subplots()\n",
        "for name, group in groups:\n",
        "    ax.plot(group.age, group.bmi, marker='o', linestyle='', ms=4, label=name)\n",
        "ax.legend()\n",
        "\n",
        "plt.show()"
      ],
      "execution_count": null,
      "outputs": []
    },
    {
      "cell_type": "code",
      "metadata": {
        "id": "9YiTMkb5HzcJ"
      },
      "source": [
        "\n",
        "# Viewing distribution of work type (incl children) against age\n",
        "groups = df_health_2.groupby ('work_type')\n",
        "fig, ax = plt.subplots()\n",
        "for name, group in groups:\n",
        "    ax.plot(group.age, group.avg_glucose_level, marker='o', linestyle='', ms=4, label=name)\n",
        "ax.legend()\n",
        "\n",
        "plt.show()"
      ],
      "execution_count": null,
      "outputs": []
    },
    {
      "cell_type": "markdown",
      "metadata": {
        "id": "SP0DON8DZWRm"
      },
      "source": [
        "### 3d. Heatmap\n"
      ]
    },
    {
      "cell_type": "code",
      "metadata": {
        "id": "cu9aJ4vzMMCW"
      },
      "source": [
        "# Correlation Heatmap\n",
        "import seaborn as sns\n",
        "Z = df_health_2.copy()\n",
        "Z['gender'] = Z['gender'].map({'Male':1, 'Female':0, 'Other':2})\n",
        "Z['ever_married'] = Z['ever_married'].map({'Yes':1, 'No':0})\n",
        "Z['work_type'] = Z['work_type'].map({'Private':0, 'Self-employed':1, 'Govt_job':2, 'children':3, 'Never_worked':4})\n",
        "Z['Residence_type'] = Z['Residence_type'].map({'Urban':0, 'Rural':1})\n",
        "Z['smoking_status'] = Z['smoking_status'].map({'formerly smoked':0, 'never smoked':1, 'smokes':2, 'Unknown':3})\n",
        "\n",
        "fig, ax = plt.subplots (figsize=(10,10))\n",
        "sns.heatmap(Z.corr(), cmap='coolwarm', annot=True, linewidths=.5)"
      ],
      "execution_count": null,
      "outputs": []
    },
    {
      "cell_type": "markdown",
      "metadata": {
        "id": "tC84ikkxFhz7"
      },
      "source": [
        ""
      ]
    },
    {
      "cell_type": "markdown",
      "metadata": {
        "id": "Mfr-dNcWgsYL"
      },
      "source": [
        "## **4. Modeling**"
      ]
    },
    {
      "cell_type": "code",
      "metadata": {
        "id": "YRCXEqb3ULAU"
      },
      "source": [
        "# Import packages\n",
        "\n",
        "# Mathplotlib\n",
        "from matplotlib import pyplot as plt\n",
        "# XGBoost\n",
        "import xgboost as xgb\n",
        "from xgboost import plot_importance\n",
        "# Sklean\n",
        "from sklearn import metrics\n",
        "from sklearn.linear_model import LogisticRegression\n",
        "from sklearn.model_selection import train_test_split\n",
        "from sklearn.metrics import classification_report, confusion_matrix\n",
        "from sklearn.metrics import roc_auc_score, roc_curve, accuracy_score\n",
        "from sklearn.metrics import precision_score, recall_score\n",
        "from sklearn.metrics import accuracy_score\n",
        "from sklearn import preprocessing\n",
        "from sklearn.tree import DecisionTreeClassifier\n",
        "\n",
        "%matplotlib inline\n",
        "\n"
      ],
      "execution_count": null,
      "outputs": []
    },
    {
      "cell_type": "markdown",
      "metadata": {
        "id": "we2tOsDUg7Xw"
      },
      "source": [
        "###4a. Linear Regression (Olga)"
      ]
    },
    {
      "cell_type": "code",
      "metadata": {
        "id": "ZQ6_Rgjjn212"
      },
      "source": [
        "X = df_health_2.drop(['avg_glucose_level', 'stroke'], axis=1)\n",
        "X.shape"
      ],
      "execution_count": null,
      "outputs": []
    },
    {
      "cell_type": "code",
      "metadata": {
        "id": "QBCxsA9hoZMB"
      },
      "source": [
        "y = df_health_2['avg_glucose_level']\n",
        "y.shape"
      ],
      "execution_count": null,
      "outputs": []
    },
    {
      "cell_type": "code",
      "metadata": {
        "id": "IdML9zhWodnC"
      },
      "source": [
        "type(X)"
      ],
      "execution_count": null,
      "outputs": []
    },
    {
      "cell_type": "code",
      "metadata": {
        "id": "IT5zlz8WoiHa"
      },
      "source": [
        "X['gender'] = X['gender'].map({'Male':1, 'Female':0, 'Other':2})\n",
        "X['ever_married'] = X['ever_married'].map({'Yes':1, 'No':0})\n",
        "X['work_type'] = X['work_type'].map({'Private':0, 'Self-employed':1, 'Govt_job':2, 'children':3, 'Never_worked':4})\n",
        "X['Residence_type'] = X['Residence_type'].map({'Urban':0, 'Rural':1})\n",
        "X['smoking_status'] = X['smoking_status'].map({'formerly smoked':0, 'never smoked':1, 'smokes':2, 'Unknown':3})\n",
        "X.isnull().sum()"
      ],
      "execution_count": null,
      "outputs": []
    },
    {
      "cell_type": "code",
      "metadata": {
        "id": "1SjLG48nokNh"
      },
      "source": [
        "X_train, X_test, y_train, y_test = train_test_split( X, y, test_size=0.30)"
      ],
      "execution_count": null,
      "outputs": []
    },
    {
      "cell_type": "code",
      "metadata": {
        "id": "Rxvua2X3oojG"
      },
      "source": [
        "from sklearn.linear_model import LinearRegression\n",
        "LinReg = LinearRegression()"
      ],
      "execution_count": null,
      "outputs": []
    },
    {
      "cell_type": "code",
      "metadata": {
        "id": "cYmNGpiPorgs"
      },
      "source": [
        "X_train.shape, y_train.shape"
      ],
      "execution_count": null,
      "outputs": []
    },
    {
      "cell_type": "code",
      "metadata": {
        "id": "mDG5xElAovM3"
      },
      "source": [
        "X_test.shape, y_test.shape"
      ],
      "execution_count": null,
      "outputs": []
    },
    {
      "cell_type": "code",
      "metadata": {
        "id": "ATe6Al6-o7zI"
      },
      "source": [
        "LinReg.fit(X_train, y_train)"
      ],
      "execution_count": null,
      "outputs": []
    },
    {
      "cell_type": "code",
      "metadata": {
        "id": "8eLnPWyDsRHj"
      },
      "source": [
        "y_predicted = LinReg.predict(X_test)"
      ],
      "execution_count": null,
      "outputs": []
    },
    {
      "cell_type": "code",
      "metadata": {
        "id": "e7Yf3-HHsjjY"
      },
      "source": [
        "from sklearn.metrics import mean_squared_error\n",
        "print(mean_squared_error(y_true = y_test, y_pred = LinReg.predict(X_test)))"
      ],
      "execution_count": null,
      "outputs": []
    },
    {
      "cell_type": "code",
      "metadata": {
        "id": "IFug6zeYsnfE"
      },
      "source": [
        "print(mean_squared_error(y_true = y_train, y_pred = LinReg.predict(X_train)))"
      ],
      "execution_count": null,
      "outputs": []
    },
    {
      "cell_type": "code",
      "metadata": {
        "id": "BnJgpImkstxV"
      },
      "source": [
        "LinReg.score(X_test, y_test)"
      ],
      "execution_count": null,
      "outputs": []
    },
    {
      "cell_type": "code",
      "metadata": {
        "id": "tAgJEm7-sxgW"
      },
      "source": [
        "from sklearn.metrics import mean_absolute_error\n",
        "print(mean_absolute_error(y_true = y_test, y_pred = LinReg.predict(X_test)))"
      ],
      "execution_count": null,
      "outputs": []
    },
    {
      "cell_type": "code",
      "metadata": {
        "id": "ipEnB7wktXv8"
      },
      "source": [
        "import matplotlib.pyplot as plt\n",
        "plt.hist(y_test - y_predicted)"
      ],
      "execution_count": null,
      "outputs": []
    },
    {
      "cell_type": "code",
      "metadata": {
        "id": "X6TdMzh-tcr4"
      },
      "source": [
        "plt.scatter(y_predicted, y_test - y_predicted)"
      ],
      "execution_count": null,
      "outputs": []
    },
    {
      "cell_type": "code",
      "metadata": {
        "id": "9JefJ7iFtif-"
      },
      "source": [
        "plt.scatter(LinReg.predict(X), y - LinReg.predict(X))"
      ],
      "execution_count": null,
      "outputs": []
    },
    {
      "cell_type": "code",
      "metadata": {
        "id": "fOX4XnnAtnlN"
      },
      "source": [
        "plt.scatter(LinReg.predict(X_train), y_train - LinReg.predict(X_train))"
      ],
      "execution_count": null,
      "outputs": []
    },
    {
      "cell_type": "code",
      "metadata": {
        "id": "CyafKg5Rtr7u"
      },
      "source": [
        "print(X_test.columns)    #   variables\n",
        "print(LinReg.coef_)      #  regression coefficients for each of the variables"
      ],
      "execution_count": null,
      "outputs": []
    },
    {
      "cell_type": "code",
      "metadata": {
        "id": "fbTri7BdtwQ0"
      },
      "source": [
        "print(LinReg.intercept_)    #  intercept value of avg_glucose_level"
      ],
      "execution_count": null,
      "outputs": []
    },
    {
      "cell_type": "markdown",
      "metadata": {
        "id": "hB1fRaU-hPA8"
      },
      "source": [
        "###4b. Logistic Regression (Ana)\n"
      ]
    },
    {
      "cell_type": "code",
      "metadata": {
        "id": "Uk07sGTQSSu2"
      },
      "source": [
        "X = df_health_2.drop('stroke', axis=1)\n",
        "y = df_health_2['stroke']\n",
        "\n",
        "X['gender'] = X['gender'].map({'Male':1, 'Female':0, 'Other':2})\n",
        "X['ever_married'] = X['ever_married'].map({'Yes':1, 'No':0})\n",
        "X['work_type'] = X['work_type'].map({'Private':0, 'Self-employed':1, 'Govt_job':2, 'children':3, 'Never_worked':4})\n",
        "X['Residence_type'] = X['Residence_type'].map({'Urban':0, 'Rural':1})\n",
        "X['smoking_status'] = X['smoking_status'].map({'formerly smoked':0, 'never smoked':1, 'smokes':2, 'Unknown':3})"
      ],
      "execution_count": null,
      "outputs": []
    },
    {
      "cell_type": "code",
      "metadata": {
        "id": "4wxnWddIM0QK"
      },
      "source": [
        "X_train, X_test, y_train, y_test= train_test_split(X, y, test_size=0.25,random_state=0)\n",
        "print(X_train.shape , X_test.shape)"
      ],
      "execution_count": null,
      "outputs": []
    },
    {
      "cell_type": "code",
      "metadata": {
        "id": "mxp1aSFR2yj6"
      },
      "source": [
        "from imblearn.over_sampling import SMOTE\n",
        "smt = SMOTE (random_state=1, ratio='minority')\n",
        "X_train_SMOTE, y_train_SMOTE = smt.fit_sample(X_train, y_train)\n",
        "print (\"X_train shape: \", X_train_SMOTE.shape)\n",
        "print (\"y_train shape: \", y_train_SMOTE.shape)\n",
        "print (\"X_test shape: \", X_test.shape)\n",
        "print (\"y_test shape: \", y_test.shape)\n",
        "type(X_train_SMOTE)"
      ],
      "execution_count": null,
      "outputs": []
    },
    {
      "cell_type": "code",
      "metadata": {
        "id": "iiAQNwglNE87"
      },
      "source": [
        "LogReg = LogisticRegression()\n",
        "scaler = preprocessing.StandardScaler()\n",
        "X_train_SMOTE = scaler.fit_transform(X_train_SMOTE)\n",
        "X_test = scaler.transform(X_test)\n",
        "LogReg.fit(X_train_SMOTE,y_train_SMOTE)\n",
        "y_pred=LogReg.predict(X_test)"
      ],
      "execution_count": null,
      "outputs": []
    },
    {
      "cell_type": "code",
      "metadata": {
        "id": "Bb3ttFi_Wcme"
      },
      "source": [
        "print(\"\\n\\nAccuracy:\",metrics.accuracy_score(y_test, y_pred))     \n",
        "print(\"Precision:\",metrics.precision_score(y_test, y_pred))\n",
        "print(\"Recall:\",metrics.recall_score(y_test, y_pred))"
      ],
      "execution_count": null,
      "outputs": []
    },
    {
      "cell_type": "code",
      "metadata": {
        "id": "TOLHAUJmTdLn"
      },
      "source": [
        "print('Classes', LogReg.classes_)\n",
        "print('Intercept',LogReg.intercept_)\n",
        "print(\"Coefficients\", LogReg.coef_ )"
      ],
      "execution_count": null,
      "outputs": []
    },
    {
      "cell_type": "code",
      "metadata": {
        "id": "XNBFuLc5TgUr"
      },
      "source": [
        "print(classification_report(y_test, LogReg.predict(X_test)))"
      ],
      "execution_count": null,
      "outputs": []
    },
    {
      "cell_type": "code",
      "metadata": {
        "id": "U73D7udTTpvl"
      },
      "source": [
        "conf_mat = confusion_matrix(y_test, y_pred)\n",
        "conf_mat"
      ],
      "execution_count": null,
      "outputs": []
    },
    {
      "cell_type": "code",
      "metadata": {
        "id": "UEPyZrLyTtOA"
      },
      "source": [
        "categories = [0,1] \n",
        "fig, ax = plt.subplots()\n",
        "plt.xticks([0,1], categories)\n",
        "plt.yticks([0,1], categories)\n",
        "# create heatmap\n",
        "sns.heatmap(pd.DataFrame(conf_mat), annot=True, cmap=\"YlGnBu\" ,fmt='g')\n",
        "ax.xaxis.set_label_position(\"top\")\n",
        "plt.tight_layout()\n",
        "plt.title('Confusion matrix', y=1.1)\n",
        "plt.ylabel('Actual label')\n",
        "plt.xlabel('Predicted label')"
      ],
      "execution_count": null,
      "outputs": []
    },
    {
      "cell_type": "code",
      "metadata": {
        "id": "4zHmKaW2U6aR"
      },
      "source": [
        "y_pred_proba = LogReg.predict_proba(X_test)[::,1]\n",
        "fpr, tpr, _ = roc_curve(y_test,  y_pred_proba)\n",
        "auc = roc_auc_score(y_test, y_pred_proba)\n",
        "plt.figure()\n",
        "lw = 2\n",
        "plt.plot(fpr, tpr, color='darkorange',\n",
        "        lw=2, label='ROC curve (area = %0.2f)' % auc)\n",
        "plt.plot([0, 1], [0, 1], color='navy', lw=2, linestyle='--')\n",
        "plt.xlim([0.0, 1.0])\n",
        "plt.ylim([0.0, 1.05])\n",
        "plt.xlabel('False Positive Rate')\n",
        "plt.ylabel('True Positive Rate')\n",
        "plt.title('Title')\n",
        "plt.legend(loc=\"lower right\")\n",
        "plt.show()"
      ],
      "execution_count": null,
      "outputs": []
    },
    {
      "cell_type": "markdown",
      "metadata": {
        "id": "38zSO1xxMHnU"
      },
      "source": [
        "### 4c. Decision Tree (Raul)"
      ]
    },
    {
      "cell_type": "code",
      "metadata": {
        "id": "GnI0pMMiID8E"
      },
      "source": [
        "dt = DecisionTreeClassifier(criterion= 'entropy', max_depth=8, random_state=1)\n",
        "dt.fit(X_train_SMOTE,y_train_SMOTE)\n",
        "y_pred = dt.predict(X_test)\n",
        "\n",
        "print (\"Accuracy: %.4f\" % (accuracy_score(y_test, y_pred)))"
      ],
      "execution_count": null,
      "outputs": []
    },
    {
      "cell_type": "code",
      "metadata": {
        "id": "pSVNhM7Ktbiu"
      },
      "source": [
        "from sklearn.ensemble import RandomForestClassifier\n",
        "rf_cl = RandomForestClassifier(n_estimators=100,\n",
        "                            random_state=11)\n",
        "rf_cl.fit(X_train_SMOTE, y_train_SMOTE)\n",
        "rf_pred= rf_cl.predict(X_test)\n",
        "accuracy = float(np.sum(rf_pred==y_test))/y_test.shape[0]\n",
        "print(\"Accuracy: %.4f\" % (accuracy))"
      ],
      "execution_count": null,
      "outputs": []
    },
    {
      "cell_type": "markdown",
      "metadata": {
        "id": "7MkVMkSbItHb"
      },
      "source": [
        "### 4d. XG Boost (Renee)"
      ]
    },
    {
      "cell_type": "code",
      "metadata": {
        "id": "IvEXUNIDzVoN"
      },
      "source": [
        "X_train_SMOTE = pd.DataFrame(X_train_SMOTE)      # XG Boost requires dataframes for X_test, X_train \n",
        "type(X_train_SMOTE)"
      ],
      "execution_count": null,
      "outputs": []
    },
    {
      "cell_type": "code",
      "metadata": {
        "id": "hk4zdnObIlRG"
      },
      "source": [
        "params={'learning_rate':0.4,\n",
        "        'max_depth':7,\n",
        "        'num_boost_round':2000,\n",
        "        'objective': 'multi:softprob',\n",
        "        'random_state': 7,\n",
        "        'silent':0,\n",
        "        'num_class':4,\n",
        "        'eta':0.8\n",
        "        }\n",
        "\n",
        "model= xgb.train(params, xgb.DMatrix(X_train, y_train))\n",
        "y_pred= model.predict(xgb.DMatrix(X_test))\n",
        "\n",
        "model.save_model('testXGboostClass.model')\n",
        "\n",
        "# return the index of the biggest pro\n",
        "yprob= np.argmax(y_pred, axis=1)\n",
        "\n",
        "predictions= [round(value) for value in yprob]\n",
        "\n",
        "#evaluate predictions\n",
        "accuracy= accuracy_score(y_test, predictions)\n",
        "print(\"Accuracy: %.4f\"% (accuracy))\n",
        "\n",
        "plot_importance(model)\n",
        "plt.show"
      ],
      "execution_count": null,
      "outputs": []
    },
    {
      "cell_type": "markdown",
      "metadata": {
        "id": "1dkUUmVHgv9n"
      },
      "source": [
        "## **5. Conclusion**\n",
        "\n",
        "\n",
        "1. About the dataset\n",
        "\n",
        "2. EDA results\n",
        "     The heatmap shows that 'stroke' appears to be affected the most by: 'age', 'hypertension', 'heart_disease', and 'avg_glucose_level'. Other features appear to be less correlated than those.\n",
        "\n",
        "\n",
        "3. About the models\n",
        "\n",
        "4. Results from Linear Regression of 'bmi' dependence on all variables but 'stroke'\n",
        "\n",
        "5. Results from Logistic Regression of 'stroke' against all variables\n",
        "\n",
        "6. Results from Decision Tree methods for classification\n",
        "\n",
        "7. Results from XGBoost for classification\n",
        "\n",
        "8. Overall conclusions\n",
        "  The most important features that contribute to the models that best predict 'stroke' are: 'age', 'smoking_status', 'avg_glucose_level' and 'bmi'. \n",
        "\n",
        "  It is surprising that the most accurate models rely only on two variables, 'age' and 'smoking_level' as predictors of 'stroke'. \n",
        "\n",
        "9. How to improve the study\n",
        "   It appears that more information would allow predictability of 'stroke' likelihood. A recall score of about .5 was the best obtained in the logistic regression and classification models. Such low score lends little confidence to any of these models. Including other information such as 'atrial_fibrillation', 'diabetes', 'cholesterol_level', 'high_blood_pressure', 'family_history', 'race', and 'drug_abuse', would make any model far more robust.\n",
        "\n"
      ]
    }
  ]
}