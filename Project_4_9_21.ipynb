{
  "nbformat": 4,
  "nbformat_minor": 5,
  "metadata": {
    "colab": {
      "name": "Project_4_9_21.ipynb",
      "provenance": [],
      "collapsed_sections": [],
      "toc_visible": true,
      "include_colab_link": true
    },
    "kernelspec": {
      "display_name": "Python 3",
      "language": "python",
      "name": "python3"
    },
    "language_info": {
      "codemirror_mode": {
        "name": "ipython",
        "version": 3
      },
      "file_extension": ".py",
      "mimetype": "text/x-python",
      "name": "python",
      "nbconvert_exporter": "python",
      "pygments_lexer": "ipython3",
      "version": "3.8.5"
    }
  },
  "cells": [
    {
      "cell_type": "markdown",
      "metadata": {
        "id": "view-in-github",
        "colab_type": "text"
      },
      "source": [
        "<a href=\"https://colab.research.google.com/github/raul-miranda/DS-201-Project-1/blob/main/Project_4_9_21.ipynb\" target=\"_parent\"><img src=\"https://colab.research.google.com/assets/colab-badge.svg\" alt=\"Open In Colab\"/></a>"
      ]
    },
    {
      "cell_type": "markdown",
      "metadata": {
        "id": "MPpNExmj6a-7"
      },
      "source": [
        "### **On the Problem of Predicting Whether a Data Science Candidate is Ready to Leave Their Job** \n",
        "\n",
        "Ana Ortez-Rivera, Olga Tolchinsky, Rongjia Zhang, Raul Miranda\n",
        "\n",
        "Data Science 201 - Spring 2021  \n",
        "Project 1   \n",
        "April 6, 2021"
      ],
      "id": "MPpNExmj6a-7"
    },
    {
      "cell_type": "markdown",
      "metadata": {
        "id": "af-riTgf6CGu"
      },
      "source": [
        "## 1. Introduction"
      ],
      "id": "af-riTgf6CGu"
    },
    {
      "cell_type": "markdown",
      "metadata": {
        "id": "m-KuFldP62Sq"
      },
      "source": [
        "Human resource departments at companies and institutions face the usual challenge of sorting hundreds to thousands of applications to identify those candidates who are most likely to leave their present employment. Although a decision to leave depends strongly on the offer received, experience determines that candidates have various levels of predisposition based only on their current circumstances. Ranking candidates according to that predisposition allows HR departments to focus their resources on those candidates that are most likely to change jobs. \n",
        "\n",
        "To start exploring this problem, Team 4 selected a dataset from Kaggle titled \"HR Analytics: Job Change of Data Scientists.\" https://www.kaggle.com/arashnic/hr-analytics-job-change-of-data-scientists.\n",
        "\n",
        "\n",
        "This dataset contains information about a large pool of potential candidates at a hypothetical company. That information includes their gender, relevant experience, education level, current company type and size, city index of development, years since been hired for the last job, etc., and the expressed desire to either leave their current position or likely to stay in it.\n",
        "\n",
        "The purpose of our project is to do Exploratory Data Analysis to examine the database, and then determine what features appear as better determinant of the outcome for each candidate in the database: likely to leave or likely to stay.  Full statistical analysis to generate a model capable of predicting with high accuracy, precision and recall the binary outcome is outside the project scope at this stage. However, it implements a logistic regression model as an initial step.\n",
        "\n",
        "The questions to investigate are:  \n",
        "1) Which gender is most probable to leave their current job?  \n",
        "2) What type of company will employees most likely leave?  \n",
        "3) Does more training time lead to candidates more likely to leave their current job?  \n",
        "4) Are people likely to change their jobs when they have experience that is more relevant to the position?  \n",
        "5) Are they likely to leave when they have more years of experience?\n",
        "\n"
      ],
      "id": "m-KuFldP62Sq"
    },
    {
      "cell_type": "markdown",
      "metadata": {
        "id": "p9rKG0fO7PJi"
      },
      "source": [
        "The features of the data are as follows:\n",
        "\n",
        "*   enrollee_id : Unique ID for candidate - categorical \n",
        "*   city: City code - discrete\n",
        "*   city_development_index : Development index of the city (scaled) - continuous\n",
        "*   gender: Gender of candidate - categorical\n",
        "*   relevant_experience: Relevant experience of candidate - categorical\n",
        "*   enrolled_university: Type of University course enrolled if any - categorical\n",
        "*   education_level: Education level of candidate - categorical\n",
        "*   major_discipline: Education major discipline of candidate - categorical\n",
        "*   experience: Candidate total experience in years - discrete\n",
        "*   company_size: No of employees in current employer's company - discrete\n",
        "*   company_type : Type of current employer - categorical\n",
        "*   last_new_job: Difference in years between previous job and current job - discrete\n",
        "*   training_hours: training hours completed - continuous\n",
        "*   target: 0 – Not looking for job change, 1 – Looking for a job change - binary"
      ],
      "id": "p9rKG0fO7PJi"
    },
    {
      "cell_type": "markdown",
      "metadata": {
        "id": "soNEyxzF8Icc"
      },
      "source": [
        "## 2. Data Ingestion & Wrangling"
      ],
      "id": "soNEyxzF8Icc"
    },
    {
      "cell_type": "code",
      "metadata": {
        "id": "2ISknwzer0wg"
      },
      "source": [
        "# Import all the necessary packages\n",
        "import pandas as pd\n",
        "import numpy as np\n",
        "import seaborn as sns\n",
        "import matplotlib.pyplot as plt\n",
        "from sklearn import metrics\n",
        "from sklearn.linear_model import LogisticRegression\n",
        "from sklearn.model_selection import train_test_split"
      ],
      "id": "2ISknwzer0wg",
      "execution_count": 1,
      "outputs": []
    },
    {
      "cell_type": "code",
      "metadata": {
        "colab": {
          "resources": {
            "http://localhost:8080/nbextensions/google.colab/files.js": {
              "data": "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",
              "ok": true,
              "headers": [
                [
                  "content-type",
                  "application/javascript"
                ]
              ],
              "status": 200,
              "status_text": ""
            }
          },
          "base_uri": "https://localhost:8080/",
          "height": 140
        },
        "id": "tPBuwkXkGpZf",
        "outputId": "c50c78a1-a29e-4718-fd4a-c7bc63e2a48e"
      },
      "source": [
        "# Download source files into google colab drive, from desktop; the alternative is to read directly from kaggle\n",
        "from google.colab import files\n",
        "target = files.upload()"
      ],
      "id": "tPBuwkXkGpZf",
      "execution_count": 3,
      "outputs": [
        {
          "output_type": "display_data",
          "data": {
            "text/html": [
              "\n",
              "     <input type=\"file\" id=\"files-70b6095a-cf5d-48ee-a313-9e4b13b68711\" name=\"files[]\" multiple disabled\n",
              "        style=\"border:none\" />\n",
              "     <output id=\"result-70b6095a-cf5d-48ee-a313-9e4b13b68711\">\n",
              "      Upload widget is only available when the cell has been executed in the\n",
              "      current browser session. Please rerun this cell to enable.\n",
              "      </output>\n",
              "      <script src=\"/nbextensions/google.colab/files.js\"></script> "
            ],
            "text/plain": [
              "<IPython.core.display.HTML object>"
            ]
          },
          "metadata": {
            "tags": []
          }
        },
        {
          "output_type": "stream",
          "text": [
            "Saving aug_test.csv to aug_test.csv\n",
            "Saving aug_train.csv to aug_train.csv\n",
            "Saving jobchange_test_target_values.npy to jobchange_test_target_values.npy\n"
          ],
          "name": "stdout"
        }
      ]
    },
    {
      "cell_type": "code",
      "metadata": {
        "colab": {
          "base_uri": "https://localhost:8080/"
        },
        "id": "RBLPmQ6FFQ5i",
        "outputId": "5553e0e6-245f-4a7e-fe1c-23696bc84412"
      },
      "source": [
        "# Check: list files in google colab current directory\n",
        "import os\n",
        "from os import listdir\n",
        "\n",
        "for f in os.listdir('.'):\n",
        "  if os.path.isfile(f):\n",
        "    print(f)"
      ],
      "id": "RBLPmQ6FFQ5i",
      "execution_count": 4,
      "outputs": [
        {
          "output_type": "stream",
          "text": [
            "aug_train.csv\n",
            "aug_test.csv\n",
            "jobchange_test_target_values.npy\n"
          ],
          "name": "stdout"
        }
      ]
    },
    {
      "cell_type": "code",
      "metadata": {
        "id": "XTB16j8ir0wg"
      },
      "source": [
        "# Load the target data for the test set, provided as a numpy array\n",
        "target =  np.load('jobchange_test_target_values.npy')"
      ],
      "id": "XTB16j8ir0wg",
      "execution_count": 22,
      "outputs": []
    },
    {
      "cell_type": "code",
      "metadata": {
        "colab": {
          "base_uri": "https://localhost:8080/"
        },
        "id": "8haMy0u6r0wg",
        "outputId": "eb5b661b-11ae-45ee-93c4-c998a9ce8af1"
      },
      "source": [
        "# Viewing the length \n",
        "len(target)"
      ],
      "id": "8haMy0u6r0wg",
      "execution_count": 5,
      "outputs": [
        {
          "output_type": "execute_result",
          "data": {
            "text/plain": [
              "2129"
            ]
          },
          "metadata": {
            "tags": []
          },
          "execution_count": 5
        }
      ]
    },
    {
      "cell_type": "code",
      "metadata": {
        "id": "CJjtx9WLr0wh"
      },
      "source": [
        "# Load the test set, provided as a CSV file\n",
        "testdata = pd.read_csv('aug_test.csv',sep=',')"
      ],
      "id": "CJjtx9WLr0wh",
      "execution_count": 23,
      "outputs": []
    },
    {
      "cell_type": "code",
      "metadata": {
        "colab": {
          "base_uri": "https://localhost:8080/"
        },
        "id": "r2Am1G0Jr0wi",
        "outputId": "68f556fa-f591-464a-89f5-5f13965a536c"
      },
      "source": [
        "# Viewing the length\n",
        "len(testdata)"
      ],
      "id": "r2Am1G0Jr0wi",
      "execution_count": 7,
      "outputs": [
        {
          "output_type": "execute_result",
          "data": {
            "text/plain": [
              "2129"
            ]
          },
          "metadata": {
            "tags": []
          },
          "execution_count": 7
        }
      ]
    },
    {
      "cell_type": "code",
      "metadata": {
        "id": "xIQEDdsWr0wi"
      },
      "source": [
        "# Correct typo in 'relevent'\n",
        "testdata['relevent_experience'] = testdata['relevent_experience'].str.replace('relevent', 'relevant')\n",
        "testdata.rename (inplace=True, columns={'relevent_experience':'relevant_experience'})"
      ],
      "id": "xIQEDdsWr0wi",
      "execution_count": 24,
      "outputs": []
    },
    {
      "cell_type": "code",
      "metadata": {
        "colab": {
          "base_uri": "https://localhost:8080/",
          "height": 224
        },
        "id": "NUMf7mZyr0wi",
        "outputId": "80cab759-32b4-4704-df02-3dbd39f7d742"
      },
      "source": [
        "testdata[0:5]  # test data without the target column"
      ],
      "id": "NUMf7mZyr0wi",
      "execution_count": 9,
      "outputs": [
        {
          "output_type": "execute_result",
          "data": {
            "text/html": [
              "<div>\n",
              "<style scoped>\n",
              "    .dataframe tbody tr th:only-of-type {\n",
              "        vertical-align: middle;\n",
              "    }\n",
              "\n",
              "    .dataframe tbody tr th {\n",
              "        vertical-align: top;\n",
              "    }\n",
              "\n",
              "    .dataframe thead th {\n",
              "        text-align: right;\n",
              "    }\n",
              "</style>\n",
              "<table border=\"1\" class=\"dataframe\">\n",
              "  <thead>\n",
              "    <tr style=\"text-align: right;\">\n",
              "      <th></th>\n",
              "      <th>enrollee_id</th>\n",
              "      <th>city</th>\n",
              "      <th>city_development_index</th>\n",
              "      <th>gender</th>\n",
              "      <th>relevant_experience</th>\n",
              "      <th>enrolled_university</th>\n",
              "      <th>education_level</th>\n",
              "      <th>major_discipline</th>\n",
              "      <th>experience</th>\n",
              "      <th>company_size</th>\n",
              "      <th>company_type</th>\n",
              "      <th>last_new_job</th>\n",
              "      <th>training_hours</th>\n",
              "    </tr>\n",
              "  </thead>\n",
              "  <tbody>\n",
              "    <tr>\n",
              "      <th>0</th>\n",
              "      <td>32403</td>\n",
              "      <td>city_41</td>\n",
              "      <td>0.827</td>\n",
              "      <td>Male</td>\n",
              "      <td>Has relevant experience</td>\n",
              "      <td>Full time course</td>\n",
              "      <td>Graduate</td>\n",
              "      <td>STEM</td>\n",
              "      <td>9</td>\n",
              "      <td>&lt;10</td>\n",
              "      <td>NaN</td>\n",
              "      <td>1</td>\n",
              "      <td>21</td>\n",
              "    </tr>\n",
              "    <tr>\n",
              "      <th>1</th>\n",
              "      <td>9858</td>\n",
              "      <td>city_103</td>\n",
              "      <td>0.920</td>\n",
              "      <td>Female</td>\n",
              "      <td>Has relevant experience</td>\n",
              "      <td>no_enrollment</td>\n",
              "      <td>Graduate</td>\n",
              "      <td>STEM</td>\n",
              "      <td>5</td>\n",
              "      <td>NaN</td>\n",
              "      <td>Pvt Ltd</td>\n",
              "      <td>1</td>\n",
              "      <td>98</td>\n",
              "    </tr>\n",
              "    <tr>\n",
              "      <th>2</th>\n",
              "      <td>31806</td>\n",
              "      <td>city_21</td>\n",
              "      <td>0.624</td>\n",
              "      <td>Male</td>\n",
              "      <td>No relevant experience</td>\n",
              "      <td>no_enrollment</td>\n",
              "      <td>High School</td>\n",
              "      <td>NaN</td>\n",
              "      <td>&lt;1</td>\n",
              "      <td>NaN</td>\n",
              "      <td>Pvt Ltd</td>\n",
              "      <td>never</td>\n",
              "      <td>15</td>\n",
              "    </tr>\n",
              "    <tr>\n",
              "      <th>3</th>\n",
              "      <td>27385</td>\n",
              "      <td>city_13</td>\n",
              "      <td>0.827</td>\n",
              "      <td>Male</td>\n",
              "      <td>Has relevant experience</td>\n",
              "      <td>no_enrollment</td>\n",
              "      <td>Masters</td>\n",
              "      <td>STEM</td>\n",
              "      <td>11</td>\n",
              "      <td>10/49</td>\n",
              "      <td>Pvt Ltd</td>\n",
              "      <td>1</td>\n",
              "      <td>39</td>\n",
              "    </tr>\n",
              "    <tr>\n",
              "      <th>4</th>\n",
              "      <td>27724</td>\n",
              "      <td>city_103</td>\n",
              "      <td>0.920</td>\n",
              "      <td>Male</td>\n",
              "      <td>Has relevant experience</td>\n",
              "      <td>no_enrollment</td>\n",
              "      <td>Graduate</td>\n",
              "      <td>STEM</td>\n",
              "      <td>&gt;20</td>\n",
              "      <td>10000+</td>\n",
              "      <td>Pvt Ltd</td>\n",
              "      <td>&gt;4</td>\n",
              "      <td>72</td>\n",
              "    </tr>\n",
              "  </tbody>\n",
              "</table>\n",
              "</div>"
            ],
            "text/plain": [
              "   enrollee_id      city  ...  last_new_job training_hours\n",
              "0        32403   city_41  ...             1             21\n",
              "1         9858  city_103  ...             1             98\n",
              "2        31806   city_21  ...         never             15\n",
              "3        27385   city_13  ...             1             39\n",
              "4        27724  city_103  ...            >4             72\n",
              "\n",
              "[5 rows x 13 columns]"
            ]
          },
          "metadata": {
            "tags": []
          },
          "execution_count": 9
        }
      ]
    },
    {
      "cell_type": "code",
      "metadata": {
        "colab": {
          "base_uri": "https://localhost:8080/"
        },
        "id": "uARxmgmFr0wj",
        "outputId": "1582bebd-ae4f-43a7-9fc3-a4fe62b461c9"
      },
      "source": [
        "target[:5]   #   target array"
      ],
      "id": "uARxmgmFr0wj",
      "execution_count": 10,
      "outputs": [
        {
          "output_type": "execute_result",
          "data": {
            "text/plain": [
              "array([1., 0., 1., 0., 1.])"
            ]
          },
          "metadata": {
            "tags": []
          },
          "execution_count": 10
        }
      ]
    },
    {
      "cell_type": "code",
      "metadata": {
        "id": "OIEepS38r0wj"
      },
      "source": [
        "#  Append the column with targets to testdata \n",
        "testdata['target'] = target    "
      ],
      "id": "OIEepS38r0wj",
      "execution_count": 25,
      "outputs": []
    },
    {
      "cell_type": "code",
      "metadata": {
        "colab": {
          "base_uri": "https://localhost:8080/",
          "height": 224
        },
        "id": "9WhxqqRzr0wj",
        "outputId": "46483cfa-9dd0-4242-8243-cca9cb1ca01d"
      },
      "source": [
        "testdata[:5]  #  test data with the target column"
      ],
      "id": "9WhxqqRzr0wj",
      "execution_count": 12,
      "outputs": [
        {
          "output_type": "execute_result",
          "data": {
            "text/html": [
              "<div>\n",
              "<style scoped>\n",
              "    .dataframe tbody tr th:only-of-type {\n",
              "        vertical-align: middle;\n",
              "    }\n",
              "\n",
              "    .dataframe tbody tr th {\n",
              "        vertical-align: top;\n",
              "    }\n",
              "\n",
              "    .dataframe thead th {\n",
              "        text-align: right;\n",
              "    }\n",
              "</style>\n",
              "<table border=\"1\" class=\"dataframe\">\n",
              "  <thead>\n",
              "    <tr style=\"text-align: right;\">\n",
              "      <th></th>\n",
              "      <th>enrollee_id</th>\n",
              "      <th>city</th>\n",
              "      <th>city_development_index</th>\n",
              "      <th>gender</th>\n",
              "      <th>relevant_experience</th>\n",
              "      <th>enrolled_university</th>\n",
              "      <th>education_level</th>\n",
              "      <th>major_discipline</th>\n",
              "      <th>experience</th>\n",
              "      <th>company_size</th>\n",
              "      <th>company_type</th>\n",
              "      <th>last_new_job</th>\n",
              "      <th>training_hours</th>\n",
              "      <th>target</th>\n",
              "    </tr>\n",
              "  </thead>\n",
              "  <tbody>\n",
              "    <tr>\n",
              "      <th>0</th>\n",
              "      <td>32403</td>\n",
              "      <td>city_41</td>\n",
              "      <td>0.827</td>\n",
              "      <td>Male</td>\n",
              "      <td>Has relevant experience</td>\n",
              "      <td>Full time course</td>\n",
              "      <td>Graduate</td>\n",
              "      <td>STEM</td>\n",
              "      <td>9</td>\n",
              "      <td>&lt;10</td>\n",
              "      <td>NaN</td>\n",
              "      <td>1</td>\n",
              "      <td>21</td>\n",
              "      <td>1.0</td>\n",
              "    </tr>\n",
              "    <tr>\n",
              "      <th>1</th>\n",
              "      <td>9858</td>\n",
              "      <td>city_103</td>\n",
              "      <td>0.920</td>\n",
              "      <td>Female</td>\n",
              "      <td>Has relevant experience</td>\n",
              "      <td>no_enrollment</td>\n",
              "      <td>Graduate</td>\n",
              "      <td>STEM</td>\n",
              "      <td>5</td>\n",
              "      <td>NaN</td>\n",
              "      <td>Pvt Ltd</td>\n",
              "      <td>1</td>\n",
              "      <td>98</td>\n",
              "      <td>0.0</td>\n",
              "    </tr>\n",
              "    <tr>\n",
              "      <th>2</th>\n",
              "      <td>31806</td>\n",
              "      <td>city_21</td>\n",
              "      <td>0.624</td>\n",
              "      <td>Male</td>\n",
              "      <td>No relevant experience</td>\n",
              "      <td>no_enrollment</td>\n",
              "      <td>High School</td>\n",
              "      <td>NaN</td>\n",
              "      <td>&lt;1</td>\n",
              "      <td>NaN</td>\n",
              "      <td>Pvt Ltd</td>\n",
              "      <td>never</td>\n",
              "      <td>15</td>\n",
              "      <td>1.0</td>\n",
              "    </tr>\n",
              "    <tr>\n",
              "      <th>3</th>\n",
              "      <td>27385</td>\n",
              "      <td>city_13</td>\n",
              "      <td>0.827</td>\n",
              "      <td>Male</td>\n",
              "      <td>Has relevant experience</td>\n",
              "      <td>no_enrollment</td>\n",
              "      <td>Masters</td>\n",
              "      <td>STEM</td>\n",
              "      <td>11</td>\n",
              "      <td>10/49</td>\n",
              "      <td>Pvt Ltd</td>\n",
              "      <td>1</td>\n",
              "      <td>39</td>\n",
              "      <td>0.0</td>\n",
              "    </tr>\n",
              "    <tr>\n",
              "      <th>4</th>\n",
              "      <td>27724</td>\n",
              "      <td>city_103</td>\n",
              "      <td>0.920</td>\n",
              "      <td>Male</td>\n",
              "      <td>Has relevant experience</td>\n",
              "      <td>no_enrollment</td>\n",
              "      <td>Graduate</td>\n",
              "      <td>STEM</td>\n",
              "      <td>&gt;20</td>\n",
              "      <td>10000+</td>\n",
              "      <td>Pvt Ltd</td>\n",
              "      <td>&gt;4</td>\n",
              "      <td>72</td>\n",
              "      <td>1.0</td>\n",
              "    </tr>\n",
              "  </tbody>\n",
              "</table>\n",
              "</div>"
            ],
            "text/plain": [
              "   enrollee_id      city  ...  training_hours target\n",
              "0        32403   city_41  ...              21    1.0\n",
              "1         9858  city_103  ...              98    0.0\n",
              "2        31806   city_21  ...              15    1.0\n",
              "3        27385   city_13  ...              39    0.0\n",
              "4        27724  city_103  ...              72    1.0\n",
              "\n",
              "[5 rows x 14 columns]"
            ]
          },
          "metadata": {
            "tags": []
          },
          "execution_count": 12
        }
      ]
    },
    {
      "cell_type": "code",
      "metadata": {
        "id": "r8PLhh9ar0wj"
      },
      "source": [
        "# Load the training set, provided as a CSV file\n",
        "training = pd.read_csv('aug_train.csv',sep=',')"
      ],
      "id": "r8PLhh9ar0wj",
      "execution_count": 32,
      "outputs": []
    },
    {
      "cell_type": "code",
      "metadata": {
        "colab": {
          "base_uri": "https://localhost:8080/"
        },
        "id": "mwj8vRYrr0wk",
        "outputId": "bfe1cd9d-fbc7-431b-c4b9-55acb5634256"
      },
      "source": [
        "# Viewing the length\n",
        "len(training)"
      ],
      "id": "mwj8vRYrr0wk",
      "execution_count": 14,
      "outputs": [
        {
          "output_type": "execute_result",
          "data": {
            "text/plain": [
              "19158"
            ]
          },
          "metadata": {
            "tags": []
          },
          "execution_count": 14
        }
      ]
    },
    {
      "cell_type": "code",
      "metadata": {
        "colab": {
          "base_uri": "https://localhost:8080/",
          "height": 224
        },
        "id": "6XXu49kLr0wk",
        "outputId": "9babed32-b595-4ad6-e7b7-b026ad78432b"
      },
      "source": [
        "# Correct typo in 'relevent'\n",
        "training['relevent_experience'] = training['relevent_experience'].str.replace('relevent', 'relevant')\n",
        "training.rename (inplace=True, columns={'relevent_experience':'relevant_experience'})\n",
        "training.head()"
      ],
      "id": "6XXu49kLr0wk",
      "execution_count": 33,
      "outputs": [
        {
          "output_type": "execute_result",
          "data": {
            "text/html": [
              "<div>\n",
              "<style scoped>\n",
              "    .dataframe tbody tr th:only-of-type {\n",
              "        vertical-align: middle;\n",
              "    }\n",
              "\n",
              "    .dataframe tbody tr th {\n",
              "        vertical-align: top;\n",
              "    }\n",
              "\n",
              "    .dataframe thead th {\n",
              "        text-align: right;\n",
              "    }\n",
              "</style>\n",
              "<table border=\"1\" class=\"dataframe\">\n",
              "  <thead>\n",
              "    <tr style=\"text-align: right;\">\n",
              "      <th></th>\n",
              "      <th>enrollee_id</th>\n",
              "      <th>city</th>\n",
              "      <th>city_development_index</th>\n",
              "      <th>gender</th>\n",
              "      <th>relevant_experience</th>\n",
              "      <th>enrolled_university</th>\n",
              "      <th>education_level</th>\n",
              "      <th>major_discipline</th>\n",
              "      <th>experience</th>\n",
              "      <th>company_size</th>\n",
              "      <th>company_type</th>\n",
              "      <th>last_new_job</th>\n",
              "      <th>training_hours</th>\n",
              "      <th>target</th>\n",
              "    </tr>\n",
              "  </thead>\n",
              "  <tbody>\n",
              "    <tr>\n",
              "      <th>0</th>\n",
              "      <td>8949</td>\n",
              "      <td>city_103</td>\n",
              "      <td>0.920</td>\n",
              "      <td>Male</td>\n",
              "      <td>Has relevant experience</td>\n",
              "      <td>no_enrollment</td>\n",
              "      <td>Graduate</td>\n",
              "      <td>STEM</td>\n",
              "      <td>&gt;20</td>\n",
              "      <td>NaN</td>\n",
              "      <td>NaN</td>\n",
              "      <td>1</td>\n",
              "      <td>36</td>\n",
              "      <td>1.0</td>\n",
              "    </tr>\n",
              "    <tr>\n",
              "      <th>1</th>\n",
              "      <td>29725</td>\n",
              "      <td>city_40</td>\n",
              "      <td>0.776</td>\n",
              "      <td>Male</td>\n",
              "      <td>No relevant experience</td>\n",
              "      <td>no_enrollment</td>\n",
              "      <td>Graduate</td>\n",
              "      <td>STEM</td>\n",
              "      <td>15</td>\n",
              "      <td>50-99</td>\n",
              "      <td>Pvt Ltd</td>\n",
              "      <td>&gt;4</td>\n",
              "      <td>47</td>\n",
              "      <td>0.0</td>\n",
              "    </tr>\n",
              "    <tr>\n",
              "      <th>2</th>\n",
              "      <td>11561</td>\n",
              "      <td>city_21</td>\n",
              "      <td>0.624</td>\n",
              "      <td>NaN</td>\n",
              "      <td>No relevant experience</td>\n",
              "      <td>Full time course</td>\n",
              "      <td>Graduate</td>\n",
              "      <td>STEM</td>\n",
              "      <td>5</td>\n",
              "      <td>NaN</td>\n",
              "      <td>NaN</td>\n",
              "      <td>never</td>\n",
              "      <td>83</td>\n",
              "      <td>0.0</td>\n",
              "    </tr>\n",
              "    <tr>\n",
              "      <th>3</th>\n",
              "      <td>33241</td>\n",
              "      <td>city_115</td>\n",
              "      <td>0.789</td>\n",
              "      <td>NaN</td>\n",
              "      <td>No relevant experience</td>\n",
              "      <td>NaN</td>\n",
              "      <td>Graduate</td>\n",
              "      <td>Business Degree</td>\n",
              "      <td>&lt;1</td>\n",
              "      <td>NaN</td>\n",
              "      <td>Pvt Ltd</td>\n",
              "      <td>never</td>\n",
              "      <td>52</td>\n",
              "      <td>1.0</td>\n",
              "    </tr>\n",
              "    <tr>\n",
              "      <th>4</th>\n",
              "      <td>666</td>\n",
              "      <td>city_162</td>\n",
              "      <td>0.767</td>\n",
              "      <td>Male</td>\n",
              "      <td>Has relevant experience</td>\n",
              "      <td>no_enrollment</td>\n",
              "      <td>Masters</td>\n",
              "      <td>STEM</td>\n",
              "      <td>&gt;20</td>\n",
              "      <td>50-99</td>\n",
              "      <td>Funded Startup</td>\n",
              "      <td>4</td>\n",
              "      <td>8</td>\n",
              "      <td>0.0</td>\n",
              "    </tr>\n",
              "  </tbody>\n",
              "</table>\n",
              "</div>"
            ],
            "text/plain": [
              "   enrollee_id      city  ...  training_hours target\n",
              "0         8949  city_103  ...              36    1.0\n",
              "1        29725   city_40  ...              47    0.0\n",
              "2        11561   city_21  ...              83    0.0\n",
              "3        33241  city_115  ...              52    1.0\n",
              "4          666  city_162  ...               8    0.0\n",
              "\n",
              "[5 rows x 14 columns]"
            ]
          },
          "metadata": {
            "tags": []
          },
          "execution_count": 33
        }
      ]
    },
    {
      "cell_type": "code",
      "metadata": {
        "id": "2O3HfFY9r0wk"
      },
      "source": [
        "# Save the test set with target column included\n",
        "testdata.to_csv ('aug_test1.csv', sep = ',')"
      ],
      "id": "2O3HfFY9r0wk",
      "execution_count": 16,
      "outputs": []
    },
    {
      "cell_type": "code",
      "metadata": {
        "colab": {
          "base_uri": "https://localhost:8080/"
        },
        "collapsed": true,
        "id": "cVWSSOwnr0wl",
        "outputId": "dac2d982-a870-41c4-9211-311279fa233c"
      },
      "source": [
        "# Checking to see how many null values\n",
        "training.isnull().sum()"
      ],
      "id": "cVWSSOwnr0wl",
      "execution_count": 34,
      "outputs": [
        {
          "output_type": "execute_result",
          "data": {
            "text/plain": [
              "enrollee_id                  0\n",
              "city                         0\n",
              "city_development_index       0\n",
              "gender                    4508\n",
              "relevant_experience          0\n",
              "enrolled_university        386\n",
              "education_level            460\n",
              "major_discipline          2813\n",
              "experience                  65\n",
              "company_size              5938\n",
              "company_type              6140\n",
              "last_new_job               423\n",
              "training_hours               0\n",
              "target                       0\n",
              "dtype: int64"
            ]
          },
          "metadata": {
            "tags": []
          },
          "execution_count": 34
        }
      ]
    },
    {
      "cell_type": "code",
      "metadata": {
        "id": "rK1NC3QHr0wl"
      },
      "source": [
        "# Dropping all the nulls \n",
        "new_training = training.drop(['enrollee_id','city','major_discipline','gender','company_size','company_type'], axis=1)\n",
        "new_training = new_training.dropna()"
      ],
      "id": "rK1NC3QHr0wl",
      "execution_count": 36,
      "outputs": []
    },
    {
      "cell_type": "code",
      "metadata": {
        "colab": {
          "base_uri": "https://localhost:8080/"
        },
        "collapsed": true,
        "id": "pLh5zgM5r0wl",
        "outputId": "b677a502-fbfc-4028-d9d6-6987b48368de"
      },
      "source": [
        "# Viewing new dataset\n",
        "new_training.shape"
      ],
      "id": "pLh5zgM5r0wl",
      "execution_count": 37,
      "outputs": [
        {
          "output_type": "execute_result",
          "data": {
            "text/plain": [
              "(18014, 8)"
            ]
          },
          "metadata": {
            "tags": []
          },
          "execution_count": 37
        }
      ]
    },
    {
      "cell_type": "code",
      "metadata": {
        "colab": {
          "base_uri": "https://localhost:8080/"
        },
        "collapsed": true,
        "id": "f8v_zB9rr0wl",
        "outputId": "69d7c49f-2db0-40d5-a081-d13ac0b0f08f"
      },
      "source": [
        "# Checking that there are no more nulls\n",
        "new_training.isnull().sum()"
      ],
      "id": "f8v_zB9rr0wl",
      "execution_count": 38,
      "outputs": [
        {
          "output_type": "execute_result",
          "data": {
            "text/plain": [
              "city_development_index    0\n",
              "relevant_experience       0\n",
              "enrolled_university       0\n",
              "education_level           0\n",
              "experience                0\n",
              "last_new_job              0\n",
              "training_hours            0\n",
              "target                    0\n",
              "dtype: int64"
            ]
          },
          "metadata": {
            "tags": []
          },
          "execution_count": 38
        }
      ]
    },
    {
      "cell_type": "code",
      "metadata": {
        "colab": {
          "base_uri": "https://localhost:8080/",
          "height": 224
        },
        "collapsed": true,
        "id": "59aygCPMr0wm",
        "outputId": "798a2e45-606d-4224-f42b-62a0703ab050"
      },
      "source": [
        "# Viewing head of new data\n",
        "new_training.head()"
      ],
      "id": "59aygCPMr0wm",
      "execution_count": 39,
      "outputs": [
        {
          "output_type": "execute_result",
          "data": {
            "text/html": [
              "<div>\n",
              "<style scoped>\n",
              "    .dataframe tbody tr th:only-of-type {\n",
              "        vertical-align: middle;\n",
              "    }\n",
              "\n",
              "    .dataframe tbody tr th {\n",
              "        vertical-align: top;\n",
              "    }\n",
              "\n",
              "    .dataframe thead th {\n",
              "        text-align: right;\n",
              "    }\n",
              "</style>\n",
              "<table border=\"1\" class=\"dataframe\">\n",
              "  <thead>\n",
              "    <tr style=\"text-align: right;\">\n",
              "      <th></th>\n",
              "      <th>city_development_index</th>\n",
              "      <th>relevant_experience</th>\n",
              "      <th>enrolled_university</th>\n",
              "      <th>education_level</th>\n",
              "      <th>experience</th>\n",
              "      <th>last_new_job</th>\n",
              "      <th>training_hours</th>\n",
              "      <th>target</th>\n",
              "    </tr>\n",
              "  </thead>\n",
              "  <tbody>\n",
              "    <tr>\n",
              "      <th>0</th>\n",
              "      <td>0.920</td>\n",
              "      <td>Has relevant experience</td>\n",
              "      <td>no_enrollment</td>\n",
              "      <td>Graduate</td>\n",
              "      <td>&gt;20</td>\n",
              "      <td>1</td>\n",
              "      <td>36</td>\n",
              "      <td>1.0</td>\n",
              "    </tr>\n",
              "    <tr>\n",
              "      <th>1</th>\n",
              "      <td>0.776</td>\n",
              "      <td>No relevant experience</td>\n",
              "      <td>no_enrollment</td>\n",
              "      <td>Graduate</td>\n",
              "      <td>15</td>\n",
              "      <td>&gt;4</td>\n",
              "      <td>47</td>\n",
              "      <td>0.0</td>\n",
              "    </tr>\n",
              "    <tr>\n",
              "      <th>2</th>\n",
              "      <td>0.624</td>\n",
              "      <td>No relevant experience</td>\n",
              "      <td>Full time course</td>\n",
              "      <td>Graduate</td>\n",
              "      <td>5</td>\n",
              "      <td>never</td>\n",
              "      <td>83</td>\n",
              "      <td>0.0</td>\n",
              "    </tr>\n",
              "    <tr>\n",
              "      <th>4</th>\n",
              "      <td>0.767</td>\n",
              "      <td>Has relevant experience</td>\n",
              "      <td>no_enrollment</td>\n",
              "      <td>Masters</td>\n",
              "      <td>&gt;20</td>\n",
              "      <td>4</td>\n",
              "      <td>8</td>\n",
              "      <td>0.0</td>\n",
              "    </tr>\n",
              "    <tr>\n",
              "      <th>5</th>\n",
              "      <td>0.764</td>\n",
              "      <td>Has relevant experience</td>\n",
              "      <td>Part time course</td>\n",
              "      <td>Graduate</td>\n",
              "      <td>11</td>\n",
              "      <td>1</td>\n",
              "      <td>24</td>\n",
              "      <td>1.0</td>\n",
              "    </tr>\n",
              "  </tbody>\n",
              "</table>\n",
              "</div>"
            ],
            "text/plain": [
              "   city_development_index      relevant_experience  ... training_hours target\n",
              "0                   0.920  Has relevant experience  ...             36    1.0\n",
              "1                   0.776   No relevant experience  ...             47    0.0\n",
              "2                   0.624   No relevant experience  ...             83    0.0\n",
              "4                   0.767  Has relevant experience  ...              8    0.0\n",
              "5                   0.764  Has relevant experience  ...             24    1.0\n",
              "\n",
              "[5 rows x 8 columns]"
            ]
          },
          "metadata": {
            "tags": []
          },
          "execution_count": 39
        }
      ]
    },
    {
      "cell_type": "markdown",
      "metadata": {
        "id": "rKHG-z6s8Tgy"
      },
      "source": [
        "## 3. Exploratory Data Analysis (EDA)"
      ],
      "id": "rKHG-z6s8Tgy"
    },
    {
      "cell_type": "code",
      "metadata": {
        "colab": {
          "base_uri": "https://localhost:8080/"
        },
        "id": "z_cM7Ybur0wm",
        "outputId": "b5ba69ac-3254-414d-8fd3-7055abb8aff9"
      },
      "source": [
        "# Counting the target data, showing that it is imbalanced\n",
        "new_training.value_counts('target')"
      ],
      "id": "z_cM7Ybur0wm",
      "execution_count": 13,
      "outputs": [
        {
          "output_type": "execute_result",
          "data": {
            "text/plain": [
              "target\n",
              "0.0    13593\n",
              "1.0     4421\n",
              "dtype: int64"
            ]
          },
          "metadata": {
            "tags": []
          },
          "execution_count": 13
        }
      ]
    },
    {
      "cell_type": "code",
      "metadata": {
        "colab": {
          "base_uri": "https://localhost:8080/",
          "height": 369
        },
        "id": "8m4ZikTCr0wm",
        "outputId": "fe66f98a-3700-4f93-e2f5-0b87a6f2371e"
      },
      "source": [
        "# Plotting the amount of target data, showing that it is imbalanced\n",
        "sns.displot(new_training['target'])\n",
        "plt.show()"
      ],
      "id": "8m4ZikTCr0wm",
      "execution_count": 14,
      "outputs": [
        {
          "output_type": "display_data",
          "data": {
            "image/png": "[encoded data removed]",
            "text/plain": [
              "<Figure size 360x360 with 1 Axes>"
            ]
          },
          "metadata": {
            "tags": [],
            "needs_background": "light"
          }
        }
      ]
    },
    {
      "cell_type": "code",
      "metadata": {
        "id": "-Rgy5Hs3r0wn",
        "colab": {
          "base_uri": "https://localhost:8080/",
          "height": 562
        },
        "outputId": "90092a32-3adc-4e4e-854a-f7027c8d9a62"
      },
      "source": [
        "# Graph of the number of genders reported in dataset\n",
        "sns.set_theme(style=\"darkgrid\")\n",
        "sns.displot(new_training['gender'])\n",
        "plt.xlabel('Reported Genders')\n",
        "plt.ylabel('Count')\n",
        "plt.title('Reported Genders')\n",
        "plt.show()"
      ],
      "id": "-Rgy5Hs3r0wn",
      "execution_count": 15,
      "outputs": [
        {
          "output_type": "error",
          "ename": "KeyError",
          "evalue": "ignored",
          "traceback": [
            "\u001b[0;31m---------------------------------------------------------------------------\u001b[0m",
            "\u001b[0;31mKeyError\u001b[0m                                  Traceback (most recent call last)",
            "\u001b[0;32m/usr/local/lib/python3.7/dist-packages/pandas/core/indexes/base.py\u001b[0m in \u001b[0;36mget_loc\u001b[0;34m(self, key, method, tolerance)\u001b[0m\n\u001b[1;32m   2897\u001b[0m             \u001b[0;32mtry\u001b[0m\u001b[0;34m:\u001b[0m\u001b[0;34m\u001b[0m\u001b[0;34m\u001b[0m\u001b[0m\n\u001b[0;32m-> 2898\u001b[0;31m                 \u001b[0;32mreturn\u001b[0m \u001b[0mself\u001b[0m\u001b[0;34m.\u001b[0m\u001b[0m_engine\u001b[0m\u001b[0;34m.\u001b[0m\u001b[0mget_loc\u001b[0m\u001b[0;34m(\u001b[0m\u001b[0mcasted_key\u001b[0m\u001b[0;34m)\u001b[0m\u001b[0;34m\u001b[0m\u001b[0;34m\u001b[0m\u001b[0m\n\u001b[0m\u001b[1;32m   2899\u001b[0m             \u001b[0;32mexcept\u001b[0m \u001b[0mKeyError\u001b[0m \u001b[0;32mas\u001b[0m \u001b[0merr\u001b[0m\u001b[0;34m:\u001b[0m\u001b[0;34m\u001b[0m\u001b[0;34m\u001b[0m\u001b[0m\n",
            "\u001b[0;32mpandas/_libs/index.pyx\u001b[0m in \u001b[0;36mpandas._libs.index.IndexEngine.get_loc\u001b[0;34m()\u001b[0m\n",
            "\u001b[0;32mpandas/_libs/index.pyx\u001b[0m in \u001b[0;36mpandas._libs.index.IndexEngine.get_loc\u001b[0;34m()\u001b[0m\n",
            "\u001b[0;32mpandas/_libs/hashtable_class_helper.pxi\u001b[0m in \u001b[0;36mpandas._libs.hashtable.PyObjectHashTable.get_item\u001b[0;34m()\u001b[0m\n",
            "\u001b[0;32mpandas/_libs/hashtable_class_helper.pxi\u001b[0m in \u001b[0;36mpandas._libs.hashtable.PyObjectHashTable.get_item\u001b[0;34m()\u001b[0m\n",
            "\u001b[0;31mKeyError\u001b[0m: 'gender'",
            "\nThe above exception was the direct cause of the following exception:\n",
            "\u001b[0;31mKeyError\u001b[0m                                  Traceback (most recent call last)",
            "\u001b[0;32m<ipython-input-15-8dc313f02343>\u001b[0m in \u001b[0;36m<module>\u001b[0;34m()\u001b[0m\n\u001b[1;32m      1\u001b[0m \u001b[0;31m# Graph of the number of genders reported in dataset\u001b[0m\u001b[0;34m\u001b[0m\u001b[0;34m\u001b[0m\u001b[0;34m\u001b[0m\u001b[0m\n\u001b[1;32m      2\u001b[0m \u001b[0msns\u001b[0m\u001b[0;34m.\u001b[0m\u001b[0mset_theme\u001b[0m\u001b[0;34m(\u001b[0m\u001b[0mstyle\u001b[0m\u001b[0;34m=\u001b[0m\u001b[0;34m\"darkgrid\"\u001b[0m\u001b[0;34m)\u001b[0m\u001b[0;34m\u001b[0m\u001b[0;34m\u001b[0m\u001b[0m\n\u001b[0;32m----> 3\u001b[0;31m \u001b[0msns\u001b[0m\u001b[0;34m.\u001b[0m\u001b[0mdisplot\u001b[0m\u001b[0;34m(\u001b[0m\u001b[0mnew_training\u001b[0m\u001b[0;34m[\u001b[0m\u001b[0;34m'gender'\u001b[0m\u001b[0;34m]\u001b[0m\u001b[0;34m)\u001b[0m\u001b[0;34m\u001b[0m\u001b[0;34m\u001b[0m\u001b[0m\n\u001b[0m\u001b[1;32m      4\u001b[0m \u001b[0mplt\u001b[0m\u001b[0;34m.\u001b[0m\u001b[0mxlabel\u001b[0m\u001b[0;34m(\u001b[0m\u001b[0;34m'Reported Genders'\u001b[0m\u001b[0;34m)\u001b[0m\u001b[0;34m\u001b[0m\u001b[0;34m\u001b[0m\u001b[0m\n\u001b[1;32m      5\u001b[0m \u001b[0mplt\u001b[0m\u001b[0;34m.\u001b[0m\u001b[0mylabel\u001b[0m\u001b[0;34m(\u001b[0m\u001b[0;34m'Count'\u001b[0m\u001b[0;34m)\u001b[0m\u001b[0;34m\u001b[0m\u001b[0;34m\u001b[0m\u001b[0m\n",
            "\u001b[0;32m/usr/local/lib/python3.7/dist-packages/pandas/core/frame.py\u001b[0m in \u001b[0;36m__getitem__\u001b[0;34m(self, key)\u001b[0m\n\u001b[1;32m   2904\u001b[0m             \u001b[0;32mif\u001b[0m \u001b[0mself\u001b[0m\u001b[0;34m.\u001b[0m\u001b[0mcolumns\u001b[0m\u001b[0;34m.\u001b[0m\u001b[0mnlevels\u001b[0m \u001b[0;34m>\u001b[0m \u001b[0;36m1\u001b[0m\u001b[0;34m:\u001b[0m\u001b[0;34m\u001b[0m\u001b[0;34m\u001b[0m\u001b[0m\n\u001b[1;32m   2905\u001b[0m                 \u001b[0;32mreturn\u001b[0m \u001b[0mself\u001b[0m\u001b[0;34m.\u001b[0m\u001b[0m_getitem_multilevel\u001b[0m\u001b[0;34m(\u001b[0m\u001b[0mkey\u001b[0m\u001b[0;34m)\u001b[0m\u001b[0;34m\u001b[0m\u001b[0;34m\u001b[0m\u001b[0m\n\u001b[0;32m-> 2906\u001b[0;31m             \u001b[0mindexer\u001b[0m \u001b[0;34m=\u001b[0m \u001b[0mself\u001b[0m\u001b[0;34m.\u001b[0m\u001b[0mcolumns\u001b[0m\u001b[0;34m.\u001b[0m\u001b[0mget_loc\u001b[0m\u001b[0;34m(\u001b[0m\u001b[0mkey\u001b[0m\u001b[0;34m)\u001b[0m\u001b[0;34m\u001b[0m\u001b[0;34m\u001b[0m\u001b[0m\n\u001b[0m\u001b[1;32m   2907\u001b[0m             \u001b[0;32mif\u001b[0m \u001b[0mis_integer\u001b[0m\u001b[0;34m(\u001b[0m\u001b[0mindexer\u001b[0m\u001b[0;34m)\u001b[0m\u001b[0;34m:\u001b[0m\u001b[0;34m\u001b[0m\u001b[0;34m\u001b[0m\u001b[0m\n\u001b[1;32m   2908\u001b[0m                 \u001b[0mindexer\u001b[0m \u001b[0;34m=\u001b[0m \u001b[0;34m[\u001b[0m\u001b[0mindexer\u001b[0m\u001b[0;34m]\u001b[0m\u001b[0;34m\u001b[0m\u001b[0;34m\u001b[0m\u001b[0m\n",
            "\u001b[0;32m/usr/local/lib/python3.7/dist-packages/pandas/core/indexes/base.py\u001b[0m in \u001b[0;36mget_loc\u001b[0;34m(self, key, method, tolerance)\u001b[0m\n\u001b[1;32m   2898\u001b[0m                 \u001b[0;32mreturn\u001b[0m \u001b[0mself\u001b[0m\u001b[0;34m.\u001b[0m\u001b[0m_engine\u001b[0m\u001b[0;34m.\u001b[0m\u001b[0mget_loc\u001b[0m\u001b[0;34m(\u001b[0m\u001b[0mcasted_key\u001b[0m\u001b[0;34m)\u001b[0m\u001b[0;34m\u001b[0m\u001b[0;34m\u001b[0m\u001b[0m\n\u001b[1;32m   2899\u001b[0m             \u001b[0;32mexcept\u001b[0m \u001b[0mKeyError\u001b[0m \u001b[0;32mas\u001b[0m \u001b[0merr\u001b[0m\u001b[0;34m:\u001b[0m\u001b[0;34m\u001b[0m\u001b[0;34m\u001b[0m\u001b[0m\n\u001b[0;32m-> 2900\u001b[0;31m                 \u001b[0;32mraise\u001b[0m \u001b[0mKeyError\u001b[0m\u001b[0;34m(\u001b[0m\u001b[0mkey\u001b[0m\u001b[0;34m)\u001b[0m \u001b[0;32mfrom\u001b[0m \u001b[0merr\u001b[0m\u001b[0;34m\u001b[0m\u001b[0;34m\u001b[0m\u001b[0m\n\u001b[0m\u001b[1;32m   2901\u001b[0m \u001b[0;34m\u001b[0m\u001b[0m\n\u001b[1;32m   2902\u001b[0m         \u001b[0;32mif\u001b[0m \u001b[0mtolerance\u001b[0m \u001b[0;32mis\u001b[0m \u001b[0;32mnot\u001b[0m \u001b[0;32mNone\u001b[0m\u001b[0;34m:\u001b[0m\u001b[0;34m\u001b[0m\u001b[0;34m\u001b[0m\u001b[0m\n",
            "\u001b[0;31mKeyError\u001b[0m: 'gender'"
          ]
        }
      ]
    },
    {
      "cell_type": "code",
      "metadata": {
        "id": "EBq_Iw_fr0wn",
        "colab": {
          "base_uri": "https://localhost:8080/",
          "height": 301
        },
        "outputId": "4f1a4e64-fdae-42bd-9955-709170b4fbd1"
      },
      "source": [
        "# Bargraph of the number of people who are willing to leave/stay based on gender\n",
        "sns.set_theme(style=\"whitegrid\")\n",
        "sns.countplot(x='target',hue='gender',data=new_training)\n",
        "plt.xlabel('Target')\n",
        "plt.ylabel('Count')\n",
        "plt.title('Gender and Target Data')\n",
        "plt.xticks([0.0, 1.0], ['Stay', 'Leave'])\n",
        "plt.show()"
      ],
      "id": "EBq_Iw_fr0wn",
      "execution_count": 25,
      "outputs": [
        {
          "output_type": "display_data",
          "data": {
            "image/png": "[encoded data removed]",
            "text/plain": [
              "<Figure size 432x288 with 1 Axes>"
            ]
          },
          "metadata": {
            "tags": []
          }
        }
      ]
    },
    {
      "cell_type": "code",
      "metadata": {
        "id": "jg_tXKS_r0wn",
        "scrolled": true,
        "colab": {
          "base_uri": "https://localhost:8080/",
          "height": 301
        },
        "outputId": "b94c7559-6fde-4125-e336-190ae27c0825"
      },
      "source": [
        "# Bargraph of the number of people who are willing to leave/stay in dataset\n",
        "sns.countplot(x='target', data = new_training)\n",
        "plt.xlabel('Target')\n",
        "plt.ylabel('Count')\n",
        "plt.title('Projected to Leave Training Hours Completed')\n",
        "plt.xticks([0.0, 1.0], ['Stay', 'Leave'])\n",
        "plt.show()"
      ],
      "id": "jg_tXKS_r0wn",
      "execution_count": 26,
      "outputs": [
        {
          "output_type": "display_data",
          "data": {
            "image/png": "[encoded data removed]",
            "text/plain": [
              "<Figure size 432x288 with 1 Axes>"
            ]
          },
          "metadata": {
            "tags": []
          }
        }
      ]
    },
    {
      "cell_type": "code",
      "metadata": {
        "id": "rz05kALIr0wn",
        "colab": {
          "base_uri": "https://localhost:8080/",
          "height": 301
        },
        "outputId": "c661be77-0b46-4266-8cc7-256024ce1132"
      },
      "source": [
        "# Barplot of the genders of people who are willing to leave/stay and the training hours completed\n",
        "sns.set_theme(style=\"dark\")\n",
        "sns.barplot(x=\"target\", y=\"training_hours\", hue=\"gender\", data=new_training)\n",
        "plt.xticks([0.0, 1.0], ['Stay', 'Leave'])\n",
        "plt.xlabel('Target')\n",
        "plt.ylabel('Training Hours Completed')\n",
        "plt.title('Gender of Those Projected to Leave and Training Hours Completed')\n",
        "plt.show()"
      ],
      "id": "rz05kALIr0wn",
      "execution_count": 27,
      "outputs": [
        {
          "output_type": "display_data",
          "data": {
            "image/png": "[encoded data removed]",
            "text/plain": [
              "<Figure size 432x288 with 1 Axes>"
            ]
          },
          "metadata": {
            "tags": []
          }
        }
      ]
    },
    {
      "cell_type": "code",
      "metadata": {
        "id": "0aAYMtJ8r0wo",
        "colab": {
          "base_uri": "https://localhost:8080/",
          "height": 301
        },
        "outputId": "00a7ca89-48ba-4034-8a6b-5a8c2f625469"
      },
      "source": [
        "# Bargraph counting those with relevant experience based on gender\n",
        "sns.set_theme(style=\"darkgrid\")\n",
        "sns.countplot(x='relevant_experience', hue = 'gender',data=new_training)\n",
        "plt.xlabel('Relevant Experience')\n",
        "plt.ylabel('Count')\n",
        "plt.title('Relevant Experience and Gender')\n",
        "plt.show()"
      ],
      "id": "0aAYMtJ8r0wo",
      "execution_count": 28,
      "outputs": [
        {
          "output_type": "display_data",
          "data": {
            "image/png": "[encoded data removed]",
            "text/plain": [
              "<Figure size 432x288 with 1 Axes>"
            ]
          },
          "metadata": {
            "tags": []
          }
        }
      ]
    },
    {
      "cell_type": "code",
      "metadata": {
        "id": "5hkv1L7or0wo",
        "scrolled": true,
        "colab": {
          "base_uri": "https://localhost:8080/",
          "height": 301
        },
        "outputId": "d2201739-e4de-48fc-8008-159d7879e742"
      },
      "source": [
        "# Bargraph counting those who have relevent experience based on likelihood of leaving/staying\n",
        "sns.set_theme(style=\"whitegrid\")\n",
        "sns.countplot(x ='relevant_experience', hue ='target',data=new_training)\n",
        "plt.xlabel('Relevant Experience')\n",
        "plt.ylabel('Count')\n",
        "plt.title('Relevant Experience')\n",
        "plt.legend(('Stay','Leave'))\n",
        "plt.show()"
      ],
      "id": "5hkv1L7or0wo",
      "execution_count": 29,
      "outputs": [
        {
          "output_type": "display_data",
          "data": {
            "image/png": "[encoded data removed]",
            "text/plain": [
              "<Figure size 432x288 with 1 Axes>"
            ]
          },
          "metadata": {
            "tags": []
          }
        }
      ]
    },
    {
      "cell_type": "code",
      "metadata": {
        "id": "WhbbDE7Qr0wo",
        "colab": {
          "base_uri": "https://localhost:8080/",
          "height": 301
        },
        "outputId": "c3839a90-34df-4dca-bdd7-b79fd179b17f"
      },
      "source": [
        "# Graph on how many different years of experiences employeees have\n",
        "experience_order = ['<1','1','2','3','4','5','6','7','8','9','10','11','12','13','14','15','16','17','18','19','20','>20']\n",
        "sns.countplot(x='experience',data=new_training, order=experience_order)\n",
        "plt.xlabel('Years of Experience')\n",
        "plt.ylabel('Count')\n",
        "plt.title('Experience')\n",
        "plt.show()\n"
      ],
      "id": "WhbbDE7Qr0wo",
      "execution_count": 30,
      "outputs": [
        {
          "output_type": "display_data",
          "data": {
            "image/png": "[encoded data removed]",
            "text/plain": [
              "<Figure size 432x288 with 1 Axes>"
            ]
          },
          "metadata": {
            "tags": []
          }
        }
      ]
    },
    {
      "cell_type": "code",
      "metadata": {
        "id": "XM4TiWXQr0wp",
        "scrolled": true,
        "colab": {
          "base_uri": "https://localhost:8080/",
          "height": 301
        },
        "outputId": "3048cc10-d880-40a9-bbd2-654a7381b185"
      },
      "source": [
        "# Bargraph counting the types of companies in dataset\n",
        "sns.set_theme(style=\"white\")\n",
        "sns.countplot(y='company_type',data=new_training)\n",
        "plt.xlabel('Count')\n",
        "plt.ylabel('Company Type')\n",
        "plt.title('Company Types')\n",
        "plt.show()"
      ],
      "id": "XM4TiWXQr0wp",
      "execution_count": 31,
      "outputs": [
        {
          "output_type": "display_data",
          "data": {
            "image/png": "[encoded data removed]",
            "text/plain": [
              "<Figure size 432x288 with 1 Axes>"
            ]
          },
          "metadata": {
            "tags": []
          }
        }
      ]
    },
    {
      "cell_type": "code",
      "metadata": {
        "id": "W05kT2QKr0wp",
        "colab": {
          "base_uri": "https://localhost:8080/",
          "height": 301
        },
        "outputId": "5b2c5351-a385-4d94-8fbd-8392c0d5834a"
      },
      "source": [
        "# Graph counting the types of companies and how many employees are/are not willing to leave\n",
        "sns.set_theme(style=\"dark\")\n",
        "sns.countplot(y='company_type',hue= 'target', data=new_training)\n",
        "plt.legend(('Stay','Leave'), loc='lower center')\n",
        "plt.xlabel('Count')\n",
        "plt.ylabel('Company Type')\n",
        "plt.title('Company Type')\n",
        "plt.show()"
      ],
      "id": "W05kT2QKr0wp",
      "execution_count": 32,
      "outputs": [
        {
          "output_type": "display_data",
          "data": {
            "image/png": "[encoded data removed]",
            "text/plain": [
              "<Figure size 432x288 with 1 Axes>"
            ]
          },
          "metadata": {
            "tags": []
          }
        }
      ]
    },
    {
      "cell_type": "code",
      "metadata": {
        "id": "gyYl_KSbr0wq"
      },
      "source": [
        ""
      ],
      "id": "gyYl_KSbr0wq",
      "execution_count": 32,
      "outputs": []
    },
    {
      "cell_type": "markdown",
      "metadata": {
        "id": "rJI4UQXO8zFl"
      },
      "source": [
        "## 4. Simulate a nonparametric inference of the Median for a quantitative variable\n"
      ],
      "id": "rJI4UQXO8zFl"
    },
    {
      "cell_type": "markdown",
      "metadata": {
        "id": "d6td4ACGso-j"
      },
      "source": [
        "4a. Bootstrapping"
      ],
      "id": "d6td4ACGso-j"
    },
    {
      "cell_type": "code",
      "metadata": {
        "id": "Wdypd7bWr0wq",
        "colab": {
          "base_uri": "https://localhost:8080/",
          "height": 437
        },
        "outputId": "060db7d6-f6a3-4849-f4fb-0c6bb2edfadf"
      },
      "source": [
        "# (bootstrapping inference of median of 'training_hours' array)\n",
        "print (\"\\nMedian of the original training set: \", training['training_hours'].median())   #  original sample median\n",
        "\n",
        "boot = np.random.choice(training['training_hours'], 1000)\n",
        "median_boot_samples = []\n",
        "for i in range (100):\n",
        "  boot_sample = np.random.choice(boot, 1000)\n",
        "  median_boot_samples.append(np.median(boot_sample))\n",
        "\n",
        "bootstrap_median = np.median(median_boot_samples)\n",
        "print (\"\\nBootstrap median (red line): \", bootstrap_median)        # compare bootstrap median with original\n",
        "\n",
        "conf_int = np.percentile(median_boot_samples, [2.5, 97.5])     #confidence interval, central 95%\n",
        "print (\"\\n95% Confidence interval (yellow lines):\", conf_int,'\\n\\n')\n",
        "\n",
        "sns.kdeplot (median_boot_samples)      # plot the distribution, indicate median, conf. int.\n",
        "plt.axvline (bootstrap_median, color = 'red')\n",
        "plt.xlabel('Training Hours')\n",
        "plt.ylabel('Density')\n",
        "plt.title('Distribution of Training Hours')\n",
        "for ends in conf_int:\n",
        "  plt.axvline (ends, color = 'yellow')\n",
        "plt.show()\n"
      ],
      "id": "Wdypd7bWr0wq",
      "execution_count": 80,
      "outputs": [
        {
          "output_type": "stream",
          "text": [
            "\n",
            "Median of the original training set:  47.0\n",
            "\n",
            "Bootstrap median (red line):  47.0\n",
            "\n",
            "95% Confidence interval (yellow lines): [44. 50.] \n",
            "\n",
            "\n"
          ],
          "name": "stdout"
        },
        {
          "output_type": "display_data",
          "data": {
            "image/png": "[encoded data removed]",
            "text/plain": [
              "<Figure size 432x288 with 1 Axes>"
            ]
          },
          "metadata": {
            "tags": []
          }
        }
      ]
    },
    {
      "cell_type": "code",
      "metadata": {
        "id": "8U0CDf8tr0wq",
        "colab": {
          "base_uri": "https://localhost:8080/"
        },
        "outputId": "f595dfb6-d063-46c0-fb2e-ede663858597"
      },
      "source": [
        "## implement bootstrapping to infer the median of 'training_hours', using sklearn resample\n",
        "from sklearn.utils import resample\n",
        "\n",
        "print (\"\\nMedian of the original training set: \", training['training_hours'].median())   #  original sample median\n",
        "\n",
        "median_boot_samples = []\n",
        "\n",
        "for i in range (100):\n",
        "  boot_sample = resample(boot, replace=True, random_state=1)\n",
        "  median_boot_samples.append (np.median(boot_sample))\n",
        "\n",
        "bootstrap_median = np.median(median_boot_samples)\n",
        "print (\"\\nBootstrap median (red line): \", bootstrap_median)        # compare bootstrap median with original"
      ],
      "id": "8U0CDf8tr0wq",
      "execution_count": 79,
      "outputs": [
        {
          "output_type": "stream",
          "text": [
            "\n",
            "Median of the original training set:  47.0\n",
            "\n",
            "Bootstrap median (red line):  50.0\n"
          ],
          "name": "stdout"
        }
      ]
    },
    {
      "cell_type": "markdown",
      "metadata": {
        "id": "sMlhrTpDsyjw"
      },
      "source": [
        "## 5. Calculating probabilites"
      ],
      "id": "sMlhrTpDsyjw"
    },
    {
      "cell_type": "code",
      "metadata": {
        "id": "5rohl8VAr0wq"
      },
      "source": [
        "# Calculate probability of leaving for each category,  defined as P = Leave/(Leave+Stay)"
      ],
      "id": "5rohl8VAr0wq",
      "execution_count": 35,
      "outputs": []
    },
    {
      "cell_type": "code",
      "metadata": {
        "id": "vTsD0DmvTD80",
        "colab": {
          "base_uri": "https://localhost:8080/",
          "height": 235
        },
        "outputId": "51ada38f-dac1-4fa4-9fc4-ec836ae33547"
      },
      "source": [
        "counts = new_training.groupby(['gender','target']).size().reset_index(name='counts')\n",
        "counts"
      ],
      "id": "vTsD0DmvTD80",
      "execution_count": 36,
      "outputs": [
        {
          "output_type": "execute_result",
          "data": {
            "text/html": [
              "<div>\n",
              "<style scoped>\n",
              "    .dataframe tbody tr th:only-of-type {\n",
              "        vertical-align: middle;\n",
              "    }\n",
              "\n",
              "    .dataframe tbody tr th {\n",
              "        vertical-align: top;\n",
              "    }\n",
              "\n",
              "    .dataframe thead th {\n",
              "        text-align: right;\n",
              "    }\n",
              "</style>\n",
              "<table border=\"1\" class=\"dataframe\">\n",
              "  <thead>\n",
              "    <tr style=\"text-align: right;\">\n",
              "      <th></th>\n",
              "      <th>gender</th>\n",
              "      <th>target</th>\n",
              "      <th>counts</th>\n",
              "    </tr>\n",
              "  </thead>\n",
              "  <tbody>\n",
              "    <tr>\n",
              "      <th>0</th>\n",
              "      <td>Female</td>\n",
              "      <td>0.0</td>\n",
              "      <td>673</td>\n",
              "    </tr>\n",
              "    <tr>\n",
              "      <th>1</th>\n",
              "      <td>Female</td>\n",
              "      <td>1.0</td>\n",
              "      <td>131</td>\n",
              "    </tr>\n",
              "    <tr>\n",
              "      <th>2</th>\n",
              "      <td>Male</td>\n",
              "      <td>0.0</td>\n",
              "      <td>6733</td>\n",
              "    </tr>\n",
              "    <tr>\n",
              "      <th>3</th>\n",
              "      <td>Male</td>\n",
              "      <td>1.0</td>\n",
              "      <td>1340</td>\n",
              "    </tr>\n",
              "    <tr>\n",
              "      <th>4</th>\n",
              "      <td>Other</td>\n",
              "      <td>0.0</td>\n",
              "      <td>66</td>\n",
              "    </tr>\n",
              "    <tr>\n",
              "      <th>5</th>\n",
              "      <td>Other</td>\n",
              "      <td>1.0</td>\n",
              "      <td>12</td>\n",
              "    </tr>\n",
              "  </tbody>\n",
              "</table>\n",
              "</div>"
            ],
            "text/plain": [
              "   gender  target  counts\n",
              "0  Female     0.0     673\n",
              "1  Female     1.0     131\n",
              "2    Male     0.0    6733\n",
              "3    Male     1.0    1340\n",
              "4   Other     0.0      66\n",
              "5   Other     1.0      12"
            ]
          },
          "metadata": {
            "tags": []
          },
          "execution_count": 36
        }
      ]
    },
    {
      "cell_type": "code",
      "metadata": {
        "id": "vS6wCHvTYJwI",
        "colab": {
          "base_uri": "https://localhost:8080/"
        },
        "outputId": "99c5c6f9-e4d7-4faa-8f21-93a938b00cb2"
      },
      "source": [
        "Pfem = counts.loc[1,'counts'] / (counts.loc[0,'counts'] + counts.loc[1,'counts'])\n",
        "Pmal = counts.loc[3,'counts'] / (counts.loc[2,'counts'] + counts.loc[3,'counts'])\n",
        "Poth = counts.loc[5,'counts'] / (counts.loc[4,'counts'] + counts.loc[5,'counts'])\n",
        "print ('\\nProbabilities\\nFemales: ', Pfem, '\\nMales: ', Pmal,'\\nOther: ', Poth)"
      ],
      "id": "vS6wCHvTYJwI",
      "execution_count": 37,
      "outputs": [
        {
          "output_type": "stream",
          "text": [
            "\n",
            "Probabilities\n",
            "Females:  0.16293532338308458 \n",
            "Males:  0.16598538337668772 \n",
            "Other:  0.15384615384615385\n"
          ],
          "name": "stdout"
        }
      ]
    },
    {
      "cell_type": "code",
      "metadata": {
        "id": "tqhiq7X8o6LM",
        "colab": {
          "base_uri": "https://localhost:8080/",
          "height": 235
        },
        "outputId": "8074ae3f-6a60-47bb-dc8d-239f9574e862"
      },
      "source": [
        "counts = new_training.groupby(['education_level','target']).size().reset_index(name='counts')\n",
        "counts"
      ],
      "id": "tqhiq7X8o6LM",
      "execution_count": 38,
      "outputs": [
        {
          "output_type": "execute_result",
          "data": {
            "text/html": [
              "<div>\n",
              "<style scoped>\n",
              "    .dataframe tbody tr th:only-of-type {\n",
              "        vertical-align: middle;\n",
              "    }\n",
              "\n",
              "    .dataframe tbody tr th {\n",
              "        vertical-align: top;\n",
              "    }\n",
              "\n",
              "    .dataframe thead th {\n",
              "        text-align: right;\n",
              "    }\n",
              "</style>\n",
              "<table border=\"1\" class=\"dataframe\">\n",
              "  <thead>\n",
              "    <tr style=\"text-align: right;\">\n",
              "      <th></th>\n",
              "      <th>education_level</th>\n",
              "      <th>target</th>\n",
              "      <th>counts</th>\n",
              "    </tr>\n",
              "  </thead>\n",
              "  <tbody>\n",
              "    <tr>\n",
              "      <th>0</th>\n",
              "      <td>Graduate</td>\n",
              "      <td>0.0</td>\n",
              "      <td>5160</td>\n",
              "    </tr>\n",
              "    <tr>\n",
              "      <th>1</th>\n",
              "      <td>Graduate</td>\n",
              "      <td>1.0</td>\n",
              "      <td>1092</td>\n",
              "    </tr>\n",
              "    <tr>\n",
              "      <th>2</th>\n",
              "      <td>Masters</td>\n",
              "      <td>0.0</td>\n",
              "      <td>2092</td>\n",
              "    </tr>\n",
              "    <tr>\n",
              "      <th>3</th>\n",
              "      <td>Masters</td>\n",
              "      <td>1.0</td>\n",
              "      <td>357</td>\n",
              "    </tr>\n",
              "    <tr>\n",
              "      <th>4</th>\n",
              "      <td>Phd</td>\n",
              "      <td>0.0</td>\n",
              "      <td>220</td>\n",
              "    </tr>\n",
              "    <tr>\n",
              "      <th>5</th>\n",
              "      <td>Phd</td>\n",
              "      <td>1.0</td>\n",
              "      <td>34</td>\n",
              "    </tr>\n",
              "  </tbody>\n",
              "</table>\n",
              "</div>"
            ],
            "text/plain": [
              "  education_level  target  counts\n",
              "0        Graduate     0.0    5160\n",
              "1        Graduate     1.0    1092\n",
              "2         Masters     0.0    2092\n",
              "3         Masters     1.0     357\n",
              "4             Phd     0.0     220\n",
              "5             Phd     1.0      34"
            ]
          },
          "metadata": {
            "tags": []
          },
          "execution_count": 38
        }
      ]
    },
    {
      "cell_type": "code",
      "metadata": {
        "id": "E0UPhfZyrCUJ",
        "colab": {
          "base_uri": "https://localhost:8080/"
        },
        "outputId": "b06826ff-a751-4ecd-ece0-cbc2eb52637e"
      },
      "source": [
        "Pgra = counts.loc[1,'counts'] / (counts.loc[0,'counts'] + counts.loc[1,'counts'])\n",
        "Pmst = counts.loc[3,'counts'] / (counts.loc[2,'counts'] + counts.loc[3,'counts'])\n",
        "Pphd = counts.loc[5,'counts'] / (counts.loc[4,'counts'] + counts.loc[5,'counts'])\n",
        "print ('\\nProbabilities\\nGraduates: ', Pgra,'\\nMasters: ', Pmst,'\\nPhDs: ', Pphd)"
      ],
      "id": "E0UPhfZyrCUJ",
      "execution_count": 39,
      "outputs": [
        {
          "output_type": "stream",
          "text": [
            "\n",
            "Probabilities\n",
            "Graduates:  0.1746641074856046 \n",
            "Masters:  0.14577378521845652 \n",
            "PhDs:  0.13385826771653545\n"
          ],
          "name": "stdout"
        }
      ]
    },
    {
      "cell_type": "code",
      "metadata": {
        "id": "X1xTnBKn6bYX",
        "colab": {
          "base_uri": "https://localhost:8080/",
          "height": 514
        },
        "outputId": "38483d16-ed26-49f4-d72d-77255baa349c"
      },
      "source": [
        "# Probabilities for subcategories:   gender in each education_level\n",
        "\n",
        "counts = new_training.groupby(['education_level','gender','target']).size().reset_index(name='counts')\n",
        "counts"
      ],
      "id": "X1xTnBKn6bYX",
      "execution_count": 40,
      "outputs": [
        {
          "output_type": "execute_result",
          "data": {
            "text/html": [
              "<div>\n",
              "<style scoped>\n",
              "    .dataframe tbody tr th:only-of-type {\n",
              "        vertical-align: middle;\n",
              "    }\n",
              "\n",
              "    .dataframe tbody tr th {\n",
              "        vertical-align: top;\n",
              "    }\n",
              "\n",
              "    .dataframe thead th {\n",
              "        text-align: right;\n",
              "    }\n",
              "</style>\n",
              "<table border=\"1\" class=\"dataframe\">\n",
              "  <thead>\n",
              "    <tr style=\"text-align: right;\">\n",
              "      <th></th>\n",
              "      <th>education_level</th>\n",
              "      <th>gender</th>\n",
              "      <th>target</th>\n",
              "      <th>counts</th>\n",
              "    </tr>\n",
              "  </thead>\n",
              "  <tbody>\n",
              "    <tr>\n",
              "      <th>0</th>\n",
              "      <td>Graduate</td>\n",
              "      <td>Female</td>\n",
              "      <td>0.0</td>\n",
              "      <td>441</td>\n",
              "    </tr>\n",
              "    <tr>\n",
              "      <th>1</th>\n",
              "      <td>Graduate</td>\n",
              "      <td>Female</td>\n",
              "      <td>1.0</td>\n",
              "      <td>85</td>\n",
              "    </tr>\n",
              "    <tr>\n",
              "      <th>2</th>\n",
              "      <td>Graduate</td>\n",
              "      <td>Male</td>\n",
              "      <td>0.0</td>\n",
              "      <td>4669</td>\n",
              "    </tr>\n",
              "    <tr>\n",
              "      <th>3</th>\n",
              "      <td>Graduate</td>\n",
              "      <td>Male</td>\n",
              "      <td>1.0</td>\n",
              "      <td>995</td>\n",
              "    </tr>\n",
              "    <tr>\n",
              "      <th>4</th>\n",
              "      <td>Graduate</td>\n",
              "      <td>Other</td>\n",
              "      <td>0.0</td>\n",
              "      <td>50</td>\n",
              "    </tr>\n",
              "    <tr>\n",
              "      <th>5</th>\n",
              "      <td>Graduate</td>\n",
              "      <td>Other</td>\n",
              "      <td>1.0</td>\n",
              "      <td>12</td>\n",
              "    </tr>\n",
              "    <tr>\n",
              "      <th>6</th>\n",
              "      <td>Masters</td>\n",
              "      <td>Female</td>\n",
              "      <td>0.0</td>\n",
              "      <td>194</td>\n",
              "    </tr>\n",
              "    <tr>\n",
              "      <th>7</th>\n",
              "      <td>Masters</td>\n",
              "      <td>Female</td>\n",
              "      <td>1.0</td>\n",
              "      <td>42</td>\n",
              "    </tr>\n",
              "    <tr>\n",
              "      <th>8</th>\n",
              "      <td>Masters</td>\n",
              "      <td>Male</td>\n",
              "      <td>0.0</td>\n",
              "      <td>1882</td>\n",
              "    </tr>\n",
              "    <tr>\n",
              "      <th>9</th>\n",
              "      <td>Masters</td>\n",
              "      <td>Male</td>\n",
              "      <td>1.0</td>\n",
              "      <td>315</td>\n",
              "    </tr>\n",
              "    <tr>\n",
              "      <th>10</th>\n",
              "      <td>Masters</td>\n",
              "      <td>Other</td>\n",
              "      <td>0.0</td>\n",
              "      <td>16</td>\n",
              "    </tr>\n",
              "    <tr>\n",
              "      <th>11</th>\n",
              "      <td>Phd</td>\n",
              "      <td>Female</td>\n",
              "      <td>0.0</td>\n",
              "      <td>38</td>\n",
              "    </tr>\n",
              "    <tr>\n",
              "      <th>12</th>\n",
              "      <td>Phd</td>\n",
              "      <td>Female</td>\n",
              "      <td>1.0</td>\n",
              "      <td>4</td>\n",
              "    </tr>\n",
              "    <tr>\n",
              "      <th>13</th>\n",
              "      <td>Phd</td>\n",
              "      <td>Male</td>\n",
              "      <td>0.0</td>\n",
              "      <td>182</td>\n",
              "    </tr>\n",
              "    <tr>\n",
              "      <th>14</th>\n",
              "      <td>Phd</td>\n",
              "      <td>Male</td>\n",
              "      <td>1.0</td>\n",
              "      <td>30</td>\n",
              "    </tr>\n",
              "  </tbody>\n",
              "</table>\n",
              "</div>"
            ],
            "text/plain": [
              "   education_level  gender  target  counts\n",
              "0         Graduate  Female     0.0     441\n",
              "1         Graduate  Female     1.0      85\n",
              "2         Graduate    Male     0.0    4669\n",
              "3         Graduate    Male     1.0     995\n",
              "4         Graduate   Other     0.0      50\n",
              "5         Graduate   Other     1.0      12\n",
              "6          Masters  Female     0.0     194\n",
              "7          Masters  Female     1.0      42\n",
              "8          Masters    Male     0.0    1882\n",
              "9          Masters    Male     1.0     315\n",
              "10         Masters   Other     0.0      16\n",
              "11             Phd  Female     0.0      38\n",
              "12             Phd  Female     1.0       4\n",
              "13             Phd    Male     0.0     182\n",
              "14             Phd    Male     1.0      30"
            ]
          },
          "metadata": {
            "tags": []
          },
          "execution_count": 40
        }
      ]
    },
    {
      "cell_type": "code",
      "metadata": {
        "id": "G2FaFszK9MRR",
        "colab": {
          "base_uri": "https://localhost:8080/"
        },
        "outputId": "ba8b360e-250f-4384-92d9-20ffb56e8e23"
      },
      "source": [
        "Pgraf = counts.loc[1,'counts'] / (counts.loc[0,'counts'] + counts.loc[1,'counts'])\n",
        "Pmstf = counts.loc[7,'counts'] / (counts.loc[6,'counts'] + counts.loc[3,'counts'])\n",
        "Pphdf = counts.loc[12,'counts'] / (counts.loc[11,'counts'] + counts.loc[5,'counts'])\n",
        "Pgram = counts.loc[3,'counts'] / (counts.loc[2,'counts'] + counts.loc[1,'counts'])\n",
        "Pmstm = counts.loc[9,'counts'] / (counts.loc[8,'counts'] + counts.loc[3,'counts'])\n",
        "Pphdm = counts.loc[14,'counts'] / (counts.loc[13,'counts'] + counts.loc[5,'counts'])\n",
        "Pgrao = counts.loc[5,'counts'] / (counts.loc[4,'counts'] + counts.loc[1,'counts'])\n",
        "Pmsto = 0. / (counts.loc[2,'counts'] + counts.loc[3,'counts'])\n",
        "Pphdo = 0. / (counts.loc[4,'counts'] + counts.loc[5,'counts'])\n",
        "print ('Probabilities\\nFemale graduates: ', Pgraf,'\\nFemale masters:', Pmstf,'\\nFemale PhDs:', Pphdf)\n",
        "print ('\\nMale graduates: ', Pgram,'\\nMale masters:', Pmstm,'\\nMale PhDs:', Pphdm)\n",
        "print ('\\nOther graduates: ', Pgrao,'\\nOther masters:' ,Pmsto,'\\nOther PhDs:', Pphdo)"
      ],
      "id": "G2FaFszK9MRR",
      "execution_count": 41,
      "outputs": [
        {
          "output_type": "stream",
          "text": [
            "Probabilities\n",
            "Female graduates:  0.16159695817490494 \n",
            "Female masters: 0.03532380151387721 \n",
            "Female PhDs: 0.08\n",
            "\n",
            "Male graduates:  0.20929743374000842 \n",
            "Male masters: 0.10948905109489052 \n",
            "Male PhDs: 0.15463917525773196\n",
            "\n",
            "Other graduates:  0.08888888888888889 \n",
            "Other masters: 0.0 \n",
            "Other PhDs: 0.0\n"
          ],
          "name": "stdout"
        }
      ]
    },
    {
      "cell_type": "code",
      "metadata": {
        "id": "osY1mX0S_rD6",
        "colab": {
          "base_uri": "https://localhost:8080/",
          "height": 266
        },
        "outputId": "4fa2c276-be37-4dff-d836-5248c87f1afb"
      },
      "source": [
        "# Looking at other categorical variables: major_discipline and the average target (1: likely to leave)\n",
        "new_training.drop('enrollee_id', axis=1).groupby('major_discipline').mean()"
      ],
      "id": "osY1mX0S_rD6",
      "execution_count": 42,
      "outputs": [
        {
          "output_type": "execute_result",
          "data": {
            "text/html": [
              "<div>\n",
              "<style scoped>\n",
              "    .dataframe tbody tr th:only-of-type {\n",
              "        vertical-align: middle;\n",
              "    }\n",
              "\n",
              "    .dataframe tbody tr th {\n",
              "        vertical-align: top;\n",
              "    }\n",
              "\n",
              "    .dataframe thead th {\n",
              "        text-align: right;\n",
              "    }\n",
              "</style>\n",
              "<table border=\"1\" class=\"dataframe\">\n",
              "  <thead>\n",
              "    <tr style=\"text-align: right;\">\n",
              "      <th></th>\n",
              "      <th>city_development_index</th>\n",
              "      <th>training_hours</th>\n",
              "      <th>target</th>\n",
              "    </tr>\n",
              "    <tr>\n",
              "      <th>major_discipline</th>\n",
              "      <th></th>\n",
              "      <th></th>\n",
              "      <th></th>\n",
              "    </tr>\n",
              "  </thead>\n",
              "  <tbody>\n",
              "    <tr>\n",
              "      <th>Arts</th>\n",
              "      <td>0.907961</td>\n",
              "      <td>56.224806</td>\n",
              "      <td>0.069767</td>\n",
              "    </tr>\n",
              "    <tr>\n",
              "      <th>Business Degree</th>\n",
              "      <td>0.878659</td>\n",
              "      <td>70.482353</td>\n",
              "      <td>0.123529</td>\n",
              "    </tr>\n",
              "    <tr>\n",
              "      <th>Humanities</th>\n",
              "      <td>0.900392</td>\n",
              "      <td>66.124339</td>\n",
              "      <td>0.105820</td>\n",
              "    </tr>\n",
              "    <tr>\n",
              "      <th>No Major</th>\n",
              "      <td>0.863777</td>\n",
              "      <td>59.687500</td>\n",
              "      <td>0.133929</td>\n",
              "    </tr>\n",
              "    <tr>\n",
              "      <th>Other</th>\n",
              "      <td>0.860650</td>\n",
              "      <td>61.728814</td>\n",
              "      <td>0.107345</td>\n",
              "    </tr>\n",
              "    <tr>\n",
              "      <th>STEM</th>\n",
              "      <td>0.839554</td>\n",
              "      <td>65.202779</td>\n",
              "      <td>0.172612</td>\n",
              "    </tr>\n",
              "  </tbody>\n",
              "</table>\n",
              "</div>"
            ],
            "text/plain": [
              "                  city_development_index  training_hours    target\n",
              "major_discipline                                                  \n",
              "Arts                            0.907961       56.224806  0.069767\n",
              "Business Degree                 0.878659       70.482353  0.123529\n",
              "Humanities                      0.900392       66.124339  0.105820\n",
              "No Major                        0.863777       59.687500  0.133929\n",
              "Other                           0.860650       61.728814  0.107345\n",
              "STEM                            0.839554       65.202779  0.172612"
            ]
          },
          "metadata": {
            "tags": []
          },
          "execution_count": 42
        }
      ]
    },
    {
      "cell_type": "code",
      "metadata": {
        "id": "iAz1JOBQDqd4",
        "colab": {
          "base_uri": "https://localhost:8080/",
          "height": 266
        },
        "outputId": "5823e4b1-06b0-45d5-bf85-de9c4ed04443"
      },
      "source": [
        "# Looking at other categorical variables: company_type and the average target\n",
        "new_training.drop('enrollee_id', axis=1).groupby('company_type').mean()"
      ],
      "id": "iAz1JOBQDqd4",
      "execution_count": 43,
      "outputs": [
        {
          "output_type": "execute_result",
          "data": {
            "text/html": [
              "<div>\n",
              "<style scoped>\n",
              "    .dataframe tbody tr th:only-of-type {\n",
              "        vertical-align: middle;\n",
              "    }\n",
              "\n",
              "    .dataframe tbody tr th {\n",
              "        vertical-align: top;\n",
              "    }\n",
              "\n",
              "    .dataframe thead th {\n",
              "        text-align: right;\n",
              "    }\n",
              "</style>\n",
              "<table border=\"1\" class=\"dataframe\">\n",
              "  <thead>\n",
              "    <tr style=\"text-align: right;\">\n",
              "      <th></th>\n",
              "      <th>city_development_index</th>\n",
              "      <th>training_hours</th>\n",
              "      <th>target</th>\n",
              "    </tr>\n",
              "    <tr>\n",
              "      <th>company_type</th>\n",
              "      <th></th>\n",
              "      <th></th>\n",
              "      <th></th>\n",
              "    </tr>\n",
              "  </thead>\n",
              "  <tbody>\n",
              "    <tr>\n",
              "      <th>Early Stage Startup</th>\n",
              "      <td>0.807151</td>\n",
              "      <td>69.441558</td>\n",
              "      <td>0.202597</td>\n",
              "    </tr>\n",
              "    <tr>\n",
              "      <th>Funded Startup</th>\n",
              "      <td>0.853381</td>\n",
              "      <td>67.178571</td>\n",
              "      <td>0.137755</td>\n",
              "    </tr>\n",
              "    <tr>\n",
              "      <th>NGO</th>\n",
              "      <td>0.856022</td>\n",
              "      <td>63.117978</td>\n",
              "      <td>0.154494</td>\n",
              "    </tr>\n",
              "    <tr>\n",
              "      <th>Other</th>\n",
              "      <td>0.870667</td>\n",
              "      <td>69.305556</td>\n",
              "      <td>0.208333</td>\n",
              "    </tr>\n",
              "    <tr>\n",
              "      <th>Public Sector</th>\n",
              "      <td>0.871012</td>\n",
              "      <td>59.132979</td>\n",
              "      <td>0.166667</td>\n",
              "    </tr>\n",
              "    <tr>\n",
              "      <th>Pvt Ltd</th>\n",
              "      <td>0.842602</td>\n",
              "      <td>65.135708</td>\n",
              "      <td>0.166765</td>\n",
              "    </tr>\n",
              "  </tbody>\n",
              "</table>\n",
              "</div>"
            ],
            "text/plain": [
              "                     city_development_index  training_hours    target\n",
              "company_type                                                         \n",
              "Early Stage Startup                0.807151       69.441558  0.202597\n",
              "Funded Startup                     0.853381       67.178571  0.137755\n",
              "NGO                                0.856022       63.117978  0.154494\n",
              "Other                              0.870667       69.305556  0.208333\n",
              "Public Sector                      0.871012       59.132979  0.166667\n",
              "Pvt Ltd                            0.842602       65.135708  0.166765"
            ]
          },
          "metadata": {
            "tags": []
          },
          "execution_count": 43
        }
      ]
    },
    {
      "cell_type": "code",
      "metadata": {
        "id": "xVbvefo1FRTM",
        "colab": {
          "base_uri": "https://localhost:8080/",
          "height": 142
        },
        "outputId": "78284c77-4f7e-4f8e-a696-b15da1aff993"
      },
      "source": [
        "# Looking at other categorical variables: relevant_experience and the average target\n",
        "new_training.drop('enrollee_id', axis=1).groupby('relevant_experience').mean()"
      ],
      "id": "xVbvefo1FRTM",
      "execution_count": 44,
      "outputs": [
        {
          "output_type": "execute_result",
          "data": {
            "text/html": [
              "<div>\n",
              "<style scoped>\n",
              "    .dataframe tbody tr th:only-of-type {\n",
              "        vertical-align: middle;\n",
              "    }\n",
              "\n",
              "    .dataframe tbody tr th {\n",
              "        vertical-align: top;\n",
              "    }\n",
              "\n",
              "    .dataframe thead th {\n",
              "        text-align: right;\n",
              "    }\n",
              "</style>\n",
              "<table border=\"1\" class=\"dataframe\">\n",
              "  <thead>\n",
              "    <tr style=\"text-align: right;\">\n",
              "      <th></th>\n",
              "      <th>city_development_index</th>\n",
              "      <th>training_hours</th>\n",
              "      <th>target</th>\n",
              "    </tr>\n",
              "    <tr>\n",
              "      <th>relevant_experience</th>\n",
              "      <th></th>\n",
              "      <th></th>\n",
              "      <th></th>\n",
              "    </tr>\n",
              "  </thead>\n",
              "  <tbody>\n",
              "    <tr>\n",
              "      <th>Has relevant experience</th>\n",
              "      <td>0.844350</td>\n",
              "      <td>65.472042</td>\n",
              "      <td>0.160489</td>\n",
              "    </tr>\n",
              "    <tr>\n",
              "      <th>No relevant experience</th>\n",
              "      <td>0.846132</td>\n",
              "      <td>62.250906</td>\n",
              "      <td>0.201993</td>\n",
              "    </tr>\n",
              "  </tbody>\n",
              "</table>\n",
              "</div>"
            ],
            "text/plain": [
              "                         city_development_index  training_hours    target\n",
              "relevant_experience                                                      \n",
              "Has relevant experience                0.844350       65.472042  0.160489\n",
              "No relevant experience                 0.846132       62.250906  0.201993"
            ]
          },
          "metadata": {
            "tags": []
          },
          "execution_count": 44
        }
      ]
    },
    {
      "cell_type": "code",
      "metadata": {
        "id": "yM3uYj_qFg_R",
        "colab": {
          "base_uri": "https://localhost:8080/",
          "height": 731
        },
        "outputId": "ccdcc558-a978-41eb-978c-c1c291f534d0"
      },
      "source": [
        "# Plotting the years of experience against average target\n",
        "\n",
        "dftemp = new_training.drop('enrollee_id', axis=1).groupby('experience', as_index=False)['target'].mean()\n",
        "dftemp.loc[dftemp.experience == '>20', 'experience'] = 25\n",
        "dftemp.loc[dftemp.experience == '<1', 'experience'] = 0.5\n",
        "dftemp.experience = pd.to_numeric(dftemp.experience)\n",
        "dftemp"
      ],
      "id": "yM3uYj_qFg_R",
      "execution_count": 16,
      "outputs": [
        {
          "output_type": "execute_result",
          "data": {
            "text/html": [
              "<div>\n",
              "<style scoped>\n",
              "    .dataframe tbody tr th:only-of-type {\n",
              "        vertical-align: middle;\n",
              "    }\n",
              "\n",
              "    .dataframe tbody tr th {\n",
              "        vertical-align: top;\n",
              "    }\n",
              "\n",
              "    .dataframe thead th {\n",
              "        text-align: right;\n",
              "    }\n",
              "</style>\n",
              "<table border=\"1\" class=\"dataframe\">\n",
              "  <thead>\n",
              "    <tr style=\"text-align: right;\">\n",
              "      <th></th>\n",
              "      <th>experience</th>\n",
              "      <th>target</th>\n",
              "    </tr>\n",
              "  </thead>\n",
              "  <tbody>\n",
              "    <tr>\n",
              "      <th>0</th>\n",
              "      <td>1.0</td>\n",
              "      <td>0.421053</td>\n",
              "    </tr>\n",
              "    <tr>\n",
              "      <th>1</th>\n",
              "      <td>10.0</td>\n",
              "      <td>0.213531</td>\n",
              "    </tr>\n",
              "    <tr>\n",
              "      <th>2</th>\n",
              "      <td>11.0</td>\n",
              "      <td>0.228043</td>\n",
              "    </tr>\n",
              "    <tr>\n",
              "      <th>3</th>\n",
              "      <td>12.0</td>\n",
              "      <td>0.178947</td>\n",
              "    </tr>\n",
              "    <tr>\n",
              "      <th>4</th>\n",
              "      <td>13.0</td>\n",
              "      <td>0.188630</td>\n",
              "    </tr>\n",
              "    <tr>\n",
              "      <th>5</th>\n",
              "      <td>14.0</td>\n",
              "      <td>0.177504</td>\n",
              "    </tr>\n",
              "    <tr>\n",
              "      <th>6</th>\n",
              "      <td>15.0</td>\n",
              "      <td>0.166168</td>\n",
              "    </tr>\n",
              "    <tr>\n",
              "      <th>7</th>\n",
              "      <td>16.0</td>\n",
              "      <td>0.133197</td>\n",
              "    </tr>\n",
              "    <tr>\n",
              "      <th>8</th>\n",
              "      <td>17.0</td>\n",
              "      <td>0.169184</td>\n",
              "    </tr>\n",
              "    <tr>\n",
              "      <th>9</th>\n",
              "      <td>18.0</td>\n",
              "      <td>0.142857</td>\n",
              "    </tr>\n",
              "    <tr>\n",
              "      <th>10</th>\n",
              "      <td>19.0</td>\n",
              "      <td>0.163265</td>\n",
              "    </tr>\n",
              "    <tr>\n",
              "      <th>11</th>\n",
              "      <td>2.0</td>\n",
              "      <td>0.337011</td>\n",
              "    </tr>\n",
              "    <tr>\n",
              "      <th>12</th>\n",
              "      <td>20.0</td>\n",
              "      <td>0.232394</td>\n",
              "    </tr>\n",
              "    <tr>\n",
              "      <th>13</th>\n",
              "      <td>3.0</td>\n",
              "      <td>0.349141</td>\n",
              "    </tr>\n",
              "    <tr>\n",
              "      <th>14</th>\n",
              "      <td>4.0</td>\n",
              "      <td>0.321263</td>\n",
              "    </tr>\n",
              "    <tr>\n",
              "      <th>15</th>\n",
              "      <td>5.0</td>\n",
              "      <td>0.290950</td>\n",
              "    </tr>\n",
              "    <tr>\n",
              "      <th>16</th>\n",
              "      <td>6.0</td>\n",
              "      <td>0.286089</td>\n",
              "    </tr>\n",
              "    <tr>\n",
              "      <th>17</th>\n",
              "      <td>7.0</td>\n",
              "      <td>0.295316</td>\n",
              "    </tr>\n",
              "    <tr>\n",
              "      <th>18</th>\n",
              "      <td>8.0</td>\n",
              "      <td>0.239583</td>\n",
              "    </tr>\n",
              "    <tr>\n",
              "      <th>19</th>\n",
              "      <td>9.0</td>\n",
              "      <td>0.211538</td>\n",
              "    </tr>\n",
              "    <tr>\n",
              "      <th>20</th>\n",
              "      <td>0.5</td>\n",
              "      <td>0.456763</td>\n",
              "    </tr>\n",
              "    <tr>\n",
              "      <th>21</th>\n",
              "      <td>25.0</td>\n",
              "      <td>0.152734</td>\n",
              "    </tr>\n",
              "  </tbody>\n",
              "</table>\n",
              "</div>"
            ],
            "text/plain": [
              "    experience    target\n",
              "0          1.0  0.421053\n",
              "1         10.0  0.213531\n",
              "2         11.0  0.228043\n",
              "3         12.0  0.178947\n",
              "4         13.0  0.188630\n",
              "5         14.0  0.177504\n",
              "6         15.0  0.166168\n",
              "7         16.0  0.133197\n",
              "8         17.0  0.169184\n",
              "9         18.0  0.142857\n",
              "10        19.0  0.163265\n",
              "11         2.0  0.337011\n",
              "12        20.0  0.232394\n",
              "13         3.0  0.349141\n",
              "14         4.0  0.321263\n",
              "15         5.0  0.290950\n",
              "16         6.0  0.286089\n",
              "17         7.0  0.295316\n",
              "18         8.0  0.239583\n",
              "19         9.0  0.211538\n",
              "20         0.5  0.456763\n",
              "21        25.0  0.152734"
            ]
          },
          "metadata": {
            "tags": []
          },
          "execution_count": 16
        }
      ]
    },
    {
      "cell_type": "code",
      "metadata": {
        "id": "4tuuTgjvXYSv",
        "colab": {
          "base_uri": "https://localhost:8080/",
          "height": 301
        },
        "outputId": "2df0a221-d38e-40fd-b66a-92d2692e09ce"
      },
      "source": [
        "x, y = dftemp.experience, dftemp.target\n",
        "plt.scatter(x, y, marker='o') ;\n",
        "plt.xlabel('Experience')\n",
        "plt.ylabel('Probability')\n",
        "plt.title ('Likelihood of Leaving Decreases with Years of Experience')\n",
        "plt.show()\n"
      ],
      "id": "4tuuTgjvXYSv",
      "execution_count": 17,
      "outputs": [
        {
          "output_type": "display_data",
          "data": {
            "image/png": "[encoded data removed]",
            "text/plain": [
              "<Figure size 432x288 with 1 Axes>"
            ]
          },
          "metadata": {
            "tags": []
          }
        }
      ]
    },
    {
      "cell_type": "code",
      "metadata": {
        "id": "KPDFgY21s-mC",
        "colab": {
          "base_uri": "https://localhost:8080/"
        },
        "outputId": "5d7fb37d-1311-4894-b85b-0d44afb22988"
      },
      "source": [
        "# Getting basic statistics on city development index\n",
        "new_training['city_development_index'].describe()"
      ],
      "id": "KPDFgY21s-mC",
      "execution_count": 47,
      "outputs": [
        {
          "output_type": "execute_result",
          "data": {
            "text/plain": [
              "count    8955.000000\n",
              "mean        0.844570\n",
              "std         0.116178\n",
              "min         0.448000\n",
              "25%         0.794000\n",
              "50%         0.910000\n",
              "75%         0.920000\n",
              "max         0.949000\n",
              "Name: city_development_index, dtype: float64"
            ]
          },
          "metadata": {
            "tags": []
          },
          "execution_count": 47
        }
      ]
    },
    {
      "cell_type": "code",
      "metadata": {
        "id": "qGgAZepItSh9",
        "colab": {
          "base_uri": "https://localhost:8080/",
          "height": 295
        },
        "outputId": "72aabb83-f32e-477a-91df-0af0cd7498e9"
      },
      "source": [
        "# Binning the city_development_index to create 'City_class\" and examine average target for each class\n",
        "bins = [0.4,.82,.919,.92,.96]\n",
        "labels = ['.40-.82', '.821-.91','.911-.930','.931-.960']\n",
        "new_training['City_class'] = pd.cut(new_training.city_development_index, bins, labels=labels)\n",
        "\n",
        "new_training.drop('enrollee_id', axis=1).groupby('City_class', as_index=False).mean()"
      ],
      "id": "qGgAZepItSh9",
      "execution_count": 48,
      "outputs": [
        {
          "output_type": "stream",
          "text": [
            "/usr/local/lib/python3.7/dist-packages/ipykernel_launcher.py:4: SettingWithCopyWarning: \n",
            "A value is trying to be set on a copy of a slice from a DataFrame.\n",
            "Try using .loc[row_indexer,col_indexer] = value instead\n",
            "\n",
            "See the caveats in the documentation: https://pandas.pydata.org/pandas-docs/stable/user_guide/indexing.html#returning-a-view-versus-a-copy\n",
            "  after removing the cwd from sys.path.\n"
          ],
          "name": "stderr"
        },
        {
          "output_type": "execute_result",
          "data": {
            "text/html": [
              "<div>\n",
              "<style scoped>\n",
              "    .dataframe tbody tr th:only-of-type {\n",
              "        vertical-align: middle;\n",
              "    }\n",
              "\n",
              "    .dataframe tbody tr th {\n",
              "        vertical-align: top;\n",
              "    }\n",
              "\n",
              "    .dataframe thead th {\n",
              "        text-align: right;\n",
              "    }\n",
              "</style>\n",
              "<table border=\"1\" class=\"dataframe\">\n",
              "  <thead>\n",
              "    <tr style=\"text-align: right;\">\n",
              "      <th></th>\n",
              "      <th>City_class</th>\n",
              "      <th>city_development_index</th>\n",
              "      <th>training_hours</th>\n",
              "      <th>target</th>\n",
              "    </tr>\n",
              "  </thead>\n",
              "  <tbody>\n",
              "    <tr>\n",
              "      <th>0</th>\n",
              "      <td>.40-.82</td>\n",
              "      <td>0.670677</td>\n",
              "      <td>65.545822</td>\n",
              "      <td>0.376665</td>\n",
              "    </tr>\n",
              "    <tr>\n",
              "      <th>1</th>\n",
              "      <td>.821-.91</td>\n",
              "      <td>0.891245</td>\n",
              "      <td>63.705711</td>\n",
              "      <td>0.076282</td>\n",
              "    </tr>\n",
              "    <tr>\n",
              "      <th>2</th>\n",
              "      <td>.911-.930</td>\n",
              "      <td>0.920000</td>\n",
              "      <td>65.775380</td>\n",
              "      <td>0.094093</td>\n",
              "    </tr>\n",
              "    <tr>\n",
              "      <th>3</th>\n",
              "      <td>.931-.960</td>\n",
              "      <td>0.928850</td>\n",
              "      <td>65.185304</td>\n",
              "      <td>0.080671</td>\n",
              "    </tr>\n",
              "  </tbody>\n",
              "</table>\n",
              "</div>"
            ],
            "text/plain": [
              "  City_class  city_development_index  training_hours    target\n",
              "0    .40-.82                0.670677       65.545822  0.376665\n",
              "1   .821-.91                0.891245       63.705711  0.076282\n",
              "2  .911-.930                0.920000       65.775380  0.094093\n",
              "3  .931-.960                0.928850       65.185304  0.080671"
            ]
          },
          "metadata": {
            "tags": []
          },
          "execution_count": 48
        }
      ]
    },
    {
      "cell_type": "code",
      "metadata": {
        "id": "_OoSvTlI2xK1",
        "colab": {
          "base_uri": "https://localhost:8080/"
        },
        "outputId": "4beea2a2-045c-4c38-ab5f-c0ebbbd0de02"
      },
      "source": [
        "# Creating 'Training_hr' as bins of training hours to examine mean target for each class\n",
        "new_training['experience'].describe()"
      ],
      "id": "_OoSvTlI2xK1",
      "execution_count": 49,
      "outputs": [
        {
          "output_type": "execute_result",
          "data": {
            "text/plain": [
              "count     8955\n",
              "unique      22\n",
              "top        >20\n",
              "freq      1881\n",
              "Name: experience, dtype: object"
            ]
          },
          "metadata": {
            "tags": []
          },
          "execution_count": 49
        }
      ]
    },
    {
      "cell_type": "code",
      "metadata": {
        "colab": {
          "base_uri": "https://localhost:8080/",
          "height": 326
        },
        "id": "cBiYVht52rMo",
        "outputId": "a17b1c64-0ad0-419d-a9b6-4e6bb23ce9b7"
      },
      "source": [
        "bins = [0,5,9,12,16,20]\n",
        "labels = ['0-5', '5.1-9','9.1-12','12.1-16', '16.1-20']\n",
        "new_training['Training_hr'] = pd.cut(new_training.training_hours, bins, labels=labels)\n",
        "\n",
        "new_training.drop('enrollee_id', axis=1).groupby('Training_hr', as_index=False).mean()"
      ],
      "id": "cBiYVht52rMo",
      "execution_count": 50,
      "outputs": [
        {
          "output_type": "stream",
          "text": [
            "/usr/local/lib/python3.7/dist-packages/ipykernel_launcher.py:3: SettingWithCopyWarning: \n",
            "A value is trying to be set on a copy of a slice from a DataFrame.\n",
            "Try using .loc[row_indexer,col_indexer] = value instead\n",
            "\n",
            "See the caveats in the documentation: https://pandas.pydata.org/pandas-docs/stable/user_guide/indexing.html#returning-a-view-versus-a-copy\n",
            "  This is separate from the ipykernel package so we can avoid doing imports until\n"
          ],
          "name": "stderr"
        },
        {
          "output_type": "execute_result",
          "data": {
            "text/html": [
              "<div>\n",
              "<style scoped>\n",
              "    .dataframe tbody tr th:only-of-type {\n",
              "        vertical-align: middle;\n",
              "    }\n",
              "\n",
              "    .dataframe tbody tr th {\n",
              "        vertical-align: top;\n",
              "    }\n",
              "\n",
              "    .dataframe thead th {\n",
              "        text-align: right;\n",
              "    }\n",
              "</style>\n",
              "<table border=\"1\" class=\"dataframe\">\n",
              "  <thead>\n",
              "    <tr style=\"text-align: right;\">\n",
              "      <th></th>\n",
              "      <th>Training_hr</th>\n",
              "      <th>city_development_index</th>\n",
              "      <th>training_hours</th>\n",
              "      <th>target</th>\n",
              "    </tr>\n",
              "  </thead>\n",
              "  <tbody>\n",
              "    <tr>\n",
              "      <th>0</th>\n",
              "      <td>0-5</td>\n",
              "      <td>0.833728</td>\n",
              "      <td>3.664000</td>\n",
              "      <td>0.192000</td>\n",
              "    </tr>\n",
              "    <tr>\n",
              "      <th>1</th>\n",
              "      <td>5.1-9</td>\n",
              "      <td>0.845561</td>\n",
              "      <td>7.493243</td>\n",
              "      <td>0.182432</td>\n",
              "    </tr>\n",
              "    <tr>\n",
              "      <th>2</th>\n",
              "      <td>9.1-12</td>\n",
              "      <td>0.844767</td>\n",
              "      <td>11.037433</td>\n",
              "      <td>0.171123</td>\n",
              "    </tr>\n",
              "    <tr>\n",
              "      <th>3</th>\n",
              "      <td>12.1-16</td>\n",
              "      <td>0.848122</td>\n",
              "      <td>14.547500</td>\n",
              "      <td>0.167500</td>\n",
              "    </tr>\n",
              "    <tr>\n",
              "      <th>4</th>\n",
              "      <td>16.1-20</td>\n",
              "      <td>0.848012</td>\n",
              "      <td>18.480249</td>\n",
              "      <td>0.149688</td>\n",
              "    </tr>\n",
              "  </tbody>\n",
              "</table>\n",
              "</div>"
            ],
            "text/plain": [
              "  Training_hr  city_development_index  training_hours    target\n",
              "0         0-5                0.833728        3.664000  0.192000\n",
              "1       5.1-9                0.845561        7.493243  0.182432\n",
              "2      9.1-12                0.844767       11.037433  0.171123\n",
              "3     12.1-16                0.848122       14.547500  0.167500\n",
              "4     16.1-20                0.848012       18.480249  0.149688"
            ]
          },
          "metadata": {
            "tags": []
          },
          "execution_count": 50
        }
      ]
    },
    {
      "cell_type": "code",
      "metadata": {
        "colab": {
          "base_uri": "https://localhost:8080/"
        },
        "id": "3cULK4EO557U",
        "outputId": "c33580ee-8e76-40b7-fc8b-0fe803c678db"
      },
      "source": [
        "# Looking at company_type\n",
        "new_training['company_type'].describe()"
      ],
      "id": "3cULK4EO557U",
      "execution_count": 51,
      "outputs": [
        {
          "output_type": "execute_result",
          "data": {
            "text/plain": [
              "count        8955\n",
              "unique          6\n",
              "top       Pvt Ltd\n",
              "freq         6794\n",
              "Name: company_type, dtype: object"
            ]
          },
          "metadata": {
            "tags": []
          },
          "execution_count": 51
        }
      ]
    },
    {
      "cell_type": "code",
      "metadata": {
        "colab": {
          "base_uri": "https://localhost:8080/"
        },
        "id": "rAkEDTsc6zX7",
        "outputId": "f39f0672-062c-4a1f-92f7-c86428a76ba5"
      },
      "source": [
        "# Looking at years since 'last_new_job'\n",
        "new_training['last_new_job'].describe()"
      ],
      "id": "rAkEDTsc6zX7",
      "execution_count": 52,
      "outputs": [
        {
          "output_type": "execute_result",
          "data": {
            "text/plain": [
              "count     8955\n",
              "unique       6\n",
              "top          1\n",
              "freq      3838\n",
              "Name: last_new_job, dtype: object"
            ]
          },
          "metadata": {
            "tags": []
          },
          "execution_count": 52
        }
      ]
    },
    {
      "cell_type": "markdown",
      "metadata": {
        "id": "9mslsbqDyFmN"
      },
      "source": [
        "## 6. Modeling with scikit-learn LogisticRegression"
      ],
      "id": "9mslsbqDyFmN"
    },
    {
      "cell_type": "code",
      "metadata": {
        "colab": {
          "base_uri": "https://localhost:8080/"
        },
        "id": "IXwqWxAYoBsn",
        "outputId": "4378ac5e-ce37-4a36-93ca-4d5f40aeb25c"
      },
      "source": [
        "# Clean original testdata and combine with original training data\n",
        "\n",
        "testdata.isnull().sum()"
      ],
      "id": "IXwqWxAYoBsn",
      "execution_count": 40,
      "outputs": [
        {
          "output_type": "execute_result",
          "data": {
            "text/plain": [
              "enrollee_id                 0\n",
              "city                        0\n",
              "city_development_index      0\n",
              "gender                    508\n",
              "relevant_experience         0\n",
              "enrolled_university        31\n",
              "education_level            52\n",
              "major_discipline          312\n",
              "experience                  5\n",
              "company_size              622\n",
              "company_type              634\n",
              "last_new_job               40\n",
              "training_hours              0\n",
              "target                      0\n",
              "dtype: int64"
            ]
          },
          "metadata": {
            "tags": []
          },
          "execution_count": 40
        }
      ]
    },
    {
      "cell_type": "code",
      "metadata": {
        "colab": {
          "base_uri": "https://localhost:8080/"
        },
        "id": "1OifKexgpCIC",
        "outputId": "3b013e11-1832-4778-8821-a3970d5122b9"
      },
      "source": [
        "new_testdata = testdata.drop(['enrollee_id','city','major_discipline','gender','company_size','company_type'], axis=1)\n",
        "new_testdata = new_testdata.dropna()\n",
        "new_testdata.isnull().sum()"
      ],
      "id": "1OifKexgpCIC",
      "execution_count": 42,
      "outputs": [
        {
          "output_type": "execute_result",
          "data": {
            "text/plain": [
              "city_development_index    0\n",
              "relevant_experience       0\n",
              "enrolled_university       0\n",
              "education_level           0\n",
              "experience                0\n",
              "last_new_job              0\n",
              "training_hours            0\n",
              "target                    0\n",
              "dtype: int64"
            ]
          },
          "metadata": {
            "tags": []
          },
          "execution_count": 42
        }
      ]
    },
    {
      "cell_type": "code",
      "metadata": {
        "colab": {
          "base_uri": "https://localhost:8080/",
          "height": 379
        },
        "id": "mviULat5pCD5",
        "outputId": "986f50b9-68dd-4d81-d10f-7c20a6f97a65"
      },
      "source": [
        "new_testdata[:10]"
      ],
      "id": "mviULat5pCD5",
      "execution_count": 43,
      "outputs": [
        {
          "output_type": "execute_result",
          "data": {
            "text/html": [
              "<div>\n",
              "<style scoped>\n",
              "    .dataframe tbody tr th:only-of-type {\n",
              "        vertical-align: middle;\n",
              "    }\n",
              "\n",
              "    .dataframe tbody tr th {\n",
              "        vertical-align: top;\n",
              "    }\n",
              "\n",
              "    .dataframe thead th {\n",
              "        text-align: right;\n",
              "    }\n",
              "</style>\n",
              "<table border=\"1\" class=\"dataframe\">\n",
              "  <thead>\n",
              "    <tr style=\"text-align: right;\">\n",
              "      <th></th>\n",
              "      <th>city_development_index</th>\n",
              "      <th>relevant_experience</th>\n",
              "      <th>enrolled_university</th>\n",
              "      <th>education_level</th>\n",
              "      <th>experience</th>\n",
              "      <th>last_new_job</th>\n",
              "      <th>training_hours</th>\n",
              "      <th>target</th>\n",
              "    </tr>\n",
              "  </thead>\n",
              "  <tbody>\n",
              "    <tr>\n",
              "      <th>0</th>\n",
              "      <td>0.827</td>\n",
              "      <td>Has relevant experience</td>\n",
              "      <td>Full time course</td>\n",
              "      <td>Graduate</td>\n",
              "      <td>9</td>\n",
              "      <td>1</td>\n",
              "      <td>21</td>\n",
              "      <td>1.0</td>\n",
              "    </tr>\n",
              "    <tr>\n",
              "      <th>1</th>\n",
              "      <td>0.920</td>\n",
              "      <td>Has relevant experience</td>\n",
              "      <td>no_enrollment</td>\n",
              "      <td>Graduate</td>\n",
              "      <td>5</td>\n",
              "      <td>1</td>\n",
              "      <td>98</td>\n",
              "      <td>0.0</td>\n",
              "    </tr>\n",
              "    <tr>\n",
              "      <th>2</th>\n",
              "      <td>0.624</td>\n",
              "      <td>No relevant experience</td>\n",
              "      <td>no_enrollment</td>\n",
              "      <td>High School</td>\n",
              "      <td>&lt;1</td>\n",
              "      <td>never</td>\n",
              "      <td>15</td>\n",
              "      <td>1.0</td>\n",
              "    </tr>\n",
              "    <tr>\n",
              "      <th>3</th>\n",
              "      <td>0.827</td>\n",
              "      <td>Has relevant experience</td>\n",
              "      <td>no_enrollment</td>\n",
              "      <td>Masters</td>\n",
              "      <td>11</td>\n",
              "      <td>1</td>\n",
              "      <td>39</td>\n",
              "      <td>0.0</td>\n",
              "    </tr>\n",
              "    <tr>\n",
              "      <th>4</th>\n",
              "      <td>0.920</td>\n",
              "      <td>Has relevant experience</td>\n",
              "      <td>no_enrollment</td>\n",
              "      <td>Graduate</td>\n",
              "      <td>&gt;20</td>\n",
              "      <td>&gt;4</td>\n",
              "      <td>72</td>\n",
              "      <td>1.0</td>\n",
              "    </tr>\n",
              "    <tr>\n",
              "      <th>5</th>\n",
              "      <td>0.899</td>\n",
              "      <td>No relevant experience</td>\n",
              "      <td>Part time course</td>\n",
              "      <td>Masters</td>\n",
              "      <td>10</td>\n",
              "      <td>2</td>\n",
              "      <td>12</td>\n",
              "      <td>1.0</td>\n",
              "    </tr>\n",
              "    <tr>\n",
              "      <th>6</th>\n",
              "      <td>0.624</td>\n",
              "      <td>Has relevant experience</td>\n",
              "      <td>no_enrollment</td>\n",
              "      <td>Graduate</td>\n",
              "      <td>&lt;1</td>\n",
              "      <td>1</td>\n",
              "      <td>11</td>\n",
              "      <td>0.0</td>\n",
              "    </tr>\n",
              "    <tr>\n",
              "      <th>7</th>\n",
              "      <td>0.920</td>\n",
              "      <td>Has relevant experience</td>\n",
              "      <td>no_enrollment</td>\n",
              "      <td>Graduate</td>\n",
              "      <td>&gt;20</td>\n",
              "      <td>&gt;4</td>\n",
              "      <td>81</td>\n",
              "      <td>1.0</td>\n",
              "    </tr>\n",
              "    <tr>\n",
              "      <th>8</th>\n",
              "      <td>0.878</td>\n",
              "      <td>Has relevant experience</td>\n",
              "      <td>no_enrollment</td>\n",
              "      <td>Graduate</td>\n",
              "      <td>14</td>\n",
              "      <td>4</td>\n",
              "      <td>2</td>\n",
              "      <td>0.0</td>\n",
              "    </tr>\n",
              "    <tr>\n",
              "      <th>9</th>\n",
              "      <td>0.624</td>\n",
              "      <td>Has relevant experience</td>\n",
              "      <td>Full time course</td>\n",
              "      <td>Graduate</td>\n",
              "      <td>3</td>\n",
              "      <td>1</td>\n",
              "      <td>4</td>\n",
              "      <td>1.0</td>\n",
              "    </tr>\n",
              "  </tbody>\n",
              "</table>\n",
              "</div>"
            ],
            "text/plain": [
              "   city_development_index      relevant_experience  ... training_hours target\n",
              "0                   0.827  Has relevant experience  ...             21    1.0\n",
              "1                   0.920  Has relevant experience  ...             98    0.0\n",
              "2                   0.624   No relevant experience  ...             15    1.0\n",
              "3                   0.827  Has relevant experience  ...             39    0.0\n",
              "4                   0.920  Has relevant experience  ...             72    1.0\n",
              "5                   0.899   No relevant experience  ...             12    1.0\n",
              "6                   0.624  Has relevant experience  ...             11    0.0\n",
              "7                   0.920  Has relevant experience  ...             81    1.0\n",
              "8                   0.878  Has relevant experience  ...              2    0.0\n",
              "9                   0.624  Has relevant experience  ...              4    1.0\n",
              "\n",
              "[10 rows x 8 columns]"
            ]
          },
          "metadata": {
            "tags": []
          },
          "execution_count": 43
        }
      ]
    },
    {
      "cell_type": "code",
      "metadata": {
        "colab": {
          "base_uri": "https://localhost:8080/",
          "height": 224
        },
        "id": "4zIBwrh6B_kA",
        "outputId": "3a869502-7328-49e5-be7e-97c1c9b06da8"
      },
      "source": [
        "# Combine training and testing sets originally given; drop vars not used as predictors\n",
        "\n",
        "new_training2 = new_training.append(new_testdata)       # concat 2 datasets\n",
        "#new_training2 = new_training.drop(['enrollee_id','City_class','Training_hr'], axis=1)   # drop enrollee_id, City_class, Training_hr\n",
        "new_training2.head()"
      ],
      "id": "4zIBwrh6B_kA",
      "execution_count": 45,
      "outputs": [
        {
          "output_type": "execute_result",
          "data": {
            "text/html": [
              "<div>\n",
              "<style scoped>\n",
              "    .dataframe tbody tr th:only-of-type {\n",
              "        vertical-align: middle;\n",
              "    }\n",
              "\n",
              "    .dataframe tbody tr th {\n",
              "        vertical-align: top;\n",
              "    }\n",
              "\n",
              "    .dataframe thead th {\n",
              "        text-align: right;\n",
              "    }\n",
              "</style>\n",
              "<table border=\"1\" class=\"dataframe\">\n",
              "  <thead>\n",
              "    <tr style=\"text-align: right;\">\n",
              "      <th></th>\n",
              "      <th>city_development_index</th>\n",
              "      <th>relevant_experience</th>\n",
              "      <th>enrolled_university</th>\n",
              "      <th>education_level</th>\n",
              "      <th>experience</th>\n",
              "      <th>last_new_job</th>\n",
              "      <th>training_hours</th>\n",
              "      <th>target</th>\n",
              "    </tr>\n",
              "  </thead>\n",
              "  <tbody>\n",
              "    <tr>\n",
              "      <th>0</th>\n",
              "      <td>0.920</td>\n",
              "      <td>Has relevant experience</td>\n",
              "      <td>no_enrollment</td>\n",
              "      <td>Graduate</td>\n",
              "      <td>&gt;20</td>\n",
              "      <td>1</td>\n",
              "      <td>36</td>\n",
              "      <td>1.0</td>\n",
              "    </tr>\n",
              "    <tr>\n",
              "      <th>1</th>\n",
              "      <td>0.776</td>\n",
              "      <td>No relevant experience</td>\n",
              "      <td>no_enrollment</td>\n",
              "      <td>Graduate</td>\n",
              "      <td>15</td>\n",
              "      <td>&gt;4</td>\n",
              "      <td>47</td>\n",
              "      <td>0.0</td>\n",
              "    </tr>\n",
              "    <tr>\n",
              "      <th>2</th>\n",
              "      <td>0.624</td>\n",
              "      <td>No relevant experience</td>\n",
              "      <td>Full time course</td>\n",
              "      <td>Graduate</td>\n",
              "      <td>5</td>\n",
              "      <td>never</td>\n",
              "      <td>83</td>\n",
              "      <td>0.0</td>\n",
              "    </tr>\n",
              "    <tr>\n",
              "      <th>4</th>\n",
              "      <td>0.767</td>\n",
              "      <td>Has relevant experience</td>\n",
              "      <td>no_enrollment</td>\n",
              "      <td>Masters</td>\n",
              "      <td>&gt;20</td>\n",
              "      <td>4</td>\n",
              "      <td>8</td>\n",
              "      <td>0.0</td>\n",
              "    </tr>\n",
              "    <tr>\n",
              "      <th>5</th>\n",
              "      <td>0.764</td>\n",
              "      <td>Has relevant experience</td>\n",
              "      <td>Part time course</td>\n",
              "      <td>Graduate</td>\n",
              "      <td>11</td>\n",
              "      <td>1</td>\n",
              "      <td>24</td>\n",
              "      <td>1.0</td>\n",
              "    </tr>\n",
              "  </tbody>\n",
              "</table>\n",
              "</div>"
            ],
            "text/plain": [
              "   city_development_index      relevant_experience  ... training_hours target\n",
              "0                   0.920  Has relevant experience  ...             36    1.0\n",
              "1                   0.776   No relevant experience  ...             47    0.0\n",
              "2                   0.624   No relevant experience  ...             83    0.0\n",
              "4                   0.767  Has relevant experience  ...              8    0.0\n",
              "5                   0.764  Has relevant experience  ...             24    1.0\n",
              "\n",
              "[5 rows x 8 columns]"
            ]
          },
          "metadata": {
            "tags": []
          },
          "execution_count": 45
        }
      ]
    },
    {
      "cell_type": "code",
      "metadata": {
        "colab": {
          "base_uri": "https://localhost:8080/"
        },
        "id": "CJ4sJGylr-LJ",
        "outputId": "81004b9b-d855-4698-ec32-bac1a05e0eaa"
      },
      "source": [
        "new_training2.shape"
      ],
      "id": "CJ4sJGylr-LJ",
      "execution_count": 46,
      "outputs": [
        {
          "output_type": "execute_result",
          "data": {
            "text/plain": [
              "(20032, 8)"
            ]
          },
          "metadata": {
            "tags": []
          },
          "execution_count": 46
        }
      ]
    },
    {
      "cell_type": "code",
      "metadata": {
        "colab": {
          "base_uri": "https://localhost:8080/",
          "height": 379
        },
        "id": "WRCSCLpjg5EW",
        "outputId": "3f0fd445-00c5-402e-b28f-da3df0aed8b3"
      },
      "source": [
        "# Convert columns that contain mixed characters and numbers to numbers\n",
        "#   so that these columns will now be numeric: 'experience','city','company_size','last_new_job'\n",
        "\n",
        "new_training2.loc[new_training2.experience == '<1','experience'] = \"0\"   \n",
        "new_training2.loc[new_training2.experience == '>20','experience'] = \"25\"   # numeric assignment of >20 to 25\n",
        "#new_training2['city'] = new_training2['city'].str.replace('city_', '')        #convert city codes to numbers\n",
        "#new_training2.loc[new_training2.company_size == '<10','company_size'] = \"5\"   # numeric assignment of <10 to 5\n",
        "#new_training2.loc[new_training2.company_size == '10000+','company_size'] = \"12000\"   # numeric assignment of >10000 to 13000\n",
        "#new_training2.loc[new_training2.company_size == '10/49','company_size'] = \"30\"   # numeric assignment of range to the average\n",
        "#new_training2.loc[new_training2.company_size == '50-99','company_size'] = \"75\"   # numeric assignment of range to the average\n",
        "#new_training2.loc[new_training2.company_size == '100-500','company_size'] = \"300\"   # numeric assignment of range to the average\n",
        "#new_training2.loc[new_training2.company_size == '500-999','company_size'] = \"750\"   # numeric assignment of range to the average\n",
        "#new_training2.loc[new_training2.company_size == '1000-4999','company_size'] = \"3000\"   # numeric assignment of range to the average\n",
        "#new_training2.loc[new_training2.company_size == '5000-9999','company_size'] = \"7500\"  # numeric assignment of range to the average\n",
        "new_training2.loc[new_training2.last_new_job == '>4','last_new_job'] = \"5\" # numeric assignment of >4 to 5\n",
        "new_training2.loc[new_training2.last_new_job == 'never','last_new_job'] = \"0\" # numeric assignment of never to 0\n",
        "#new_training2[['experience','city','company_size','last_new_job','training_hours']] = new_training2[['experience','city','company_size','last_new_job','training_hours']].apply(pd.to_numeric)\n",
        "new_training2[['experience','last_new_job','training_hours']] = new_training2[['experience','last_new_job','training_hours']].apply(pd.to_numeric)\n",
        "new_training2[:10]\n"
      ],
      "id": "WRCSCLpjg5EW",
      "execution_count": 48,
      "outputs": [
        {
          "output_type": "execute_result",
          "data": {
            "text/html": [
              "<div>\n",
              "<style scoped>\n",
              "    .dataframe tbody tr th:only-of-type {\n",
              "        vertical-align: middle;\n",
              "    }\n",
              "\n",
              "    .dataframe tbody tr th {\n",
              "        vertical-align: top;\n",
              "    }\n",
              "\n",
              "    .dataframe thead th {\n",
              "        text-align: right;\n",
              "    }\n",
              "</style>\n",
              "<table border=\"1\" class=\"dataframe\">\n",
              "  <thead>\n",
              "    <tr style=\"text-align: right;\">\n",
              "      <th></th>\n",
              "      <th>city_development_index</th>\n",
              "      <th>relevant_experience</th>\n",
              "      <th>enrolled_university</th>\n",
              "      <th>education_level</th>\n",
              "      <th>experience</th>\n",
              "      <th>last_new_job</th>\n",
              "      <th>training_hours</th>\n",
              "      <th>target</th>\n",
              "    </tr>\n",
              "  </thead>\n",
              "  <tbody>\n",
              "    <tr>\n",
              "      <th>0</th>\n",
              "      <td>0.920</td>\n",
              "      <td>Has relevant experience</td>\n",
              "      <td>no_enrollment</td>\n",
              "      <td>Graduate</td>\n",
              "      <td>25</td>\n",
              "      <td>1</td>\n",
              "      <td>36</td>\n",
              "      <td>1.0</td>\n",
              "    </tr>\n",
              "    <tr>\n",
              "      <th>1</th>\n",
              "      <td>0.776</td>\n",
              "      <td>No relevant experience</td>\n",
              "      <td>no_enrollment</td>\n",
              "      <td>Graduate</td>\n",
              "      <td>15</td>\n",
              "      <td>5</td>\n",
              "      <td>47</td>\n",
              "      <td>0.0</td>\n",
              "    </tr>\n",
              "    <tr>\n",
              "      <th>2</th>\n",
              "      <td>0.624</td>\n",
              "      <td>No relevant experience</td>\n",
              "      <td>Full time course</td>\n",
              "      <td>Graduate</td>\n",
              "      <td>5</td>\n",
              "      <td>0</td>\n",
              "      <td>83</td>\n",
              "      <td>0.0</td>\n",
              "    </tr>\n",
              "    <tr>\n",
              "      <th>4</th>\n",
              "      <td>0.767</td>\n",
              "      <td>Has relevant experience</td>\n",
              "      <td>no_enrollment</td>\n",
              "      <td>Masters</td>\n",
              "      <td>25</td>\n",
              "      <td>4</td>\n",
              "      <td>8</td>\n",
              "      <td>0.0</td>\n",
              "    </tr>\n",
              "    <tr>\n",
              "      <th>5</th>\n",
              "      <td>0.764</td>\n",
              "      <td>Has relevant experience</td>\n",
              "      <td>Part time course</td>\n",
              "      <td>Graduate</td>\n",
              "      <td>11</td>\n",
              "      <td>1</td>\n",
              "      <td>24</td>\n",
              "      <td>1.0</td>\n",
              "    </tr>\n",
              "    <tr>\n",
              "      <th>6</th>\n",
              "      <td>0.920</td>\n",
              "      <td>Has relevant experience</td>\n",
              "      <td>no_enrollment</td>\n",
              "      <td>High School</td>\n",
              "      <td>5</td>\n",
              "      <td>1</td>\n",
              "      <td>24</td>\n",
              "      <td>0.0</td>\n",
              "    </tr>\n",
              "    <tr>\n",
              "      <th>7</th>\n",
              "      <td>0.762</td>\n",
              "      <td>Has relevant experience</td>\n",
              "      <td>no_enrollment</td>\n",
              "      <td>Graduate</td>\n",
              "      <td>13</td>\n",
              "      <td>5</td>\n",
              "      <td>18</td>\n",
              "      <td>1.0</td>\n",
              "    </tr>\n",
              "    <tr>\n",
              "      <th>8</th>\n",
              "      <td>0.920</td>\n",
              "      <td>Has relevant experience</td>\n",
              "      <td>no_enrollment</td>\n",
              "      <td>Graduate</td>\n",
              "      <td>7</td>\n",
              "      <td>1</td>\n",
              "      <td>46</td>\n",
              "      <td>1.0</td>\n",
              "    </tr>\n",
              "    <tr>\n",
              "      <th>9</th>\n",
              "      <td>0.920</td>\n",
              "      <td>Has relevant experience</td>\n",
              "      <td>no_enrollment</td>\n",
              "      <td>Graduate</td>\n",
              "      <td>17</td>\n",
              "      <td>5</td>\n",
              "      <td>123</td>\n",
              "      <td>0.0</td>\n",
              "    </tr>\n",
              "    <tr>\n",
              "      <th>10</th>\n",
              "      <td>0.624</td>\n",
              "      <td>No relevant experience</td>\n",
              "      <td>Full time course</td>\n",
              "      <td>High School</td>\n",
              "      <td>2</td>\n",
              "      <td>0</td>\n",
              "      <td>32</td>\n",
              "      <td>1.0</td>\n",
              "    </tr>\n",
              "  </tbody>\n",
              "</table>\n",
              "</div>"
            ],
            "text/plain": [
              "    city_development_index      relevant_experience  ... training_hours target\n",
              "0                    0.920  Has relevant experience  ...             36    1.0\n",
              "1                    0.776   No relevant experience  ...             47    0.0\n",
              "2                    0.624   No relevant experience  ...             83    0.0\n",
              "4                    0.767  Has relevant experience  ...              8    0.0\n",
              "5                    0.764  Has relevant experience  ...             24    1.0\n",
              "6                    0.920  Has relevant experience  ...             24    0.0\n",
              "7                    0.762  Has relevant experience  ...             18    1.0\n",
              "8                    0.920  Has relevant experience  ...             46    1.0\n",
              "9                    0.920  Has relevant experience  ...            123    0.0\n",
              "10                   0.624   No relevant experience  ...             32    1.0\n",
              "\n",
              "[10 rows x 8 columns]"
            ]
          },
          "metadata": {
            "tags": []
          },
          "execution_count": 48
        }
      ]
    },
    {
      "cell_type": "code",
      "metadata": {
        "id": "-0_B3N-BaoY_"
      },
      "source": [
        "#  Use pd.get_dummies to convert categorical variables to numeric"
      ],
      "id": "-0_B3N-BaoY_",
      "execution_count": 59,
      "outputs": []
    },
    {
      "cell_type": "code",
      "metadata": {
        "id": "2zrqZ-N5asve",
        "colab": {
          "base_uri": "https://localhost:8080/",
          "height": 456
        },
        "outputId": "7d328eb9-5ead-435e-fee2-ad56426a437a"
      },
      "source": [
        "#new_training3 = pd.get_dummies(new_training2, columns=['gender','relevant_experience','enrolled_university','education_level','major_discipline','company_type'])\n",
        "new_training3 = pd.get_dummies(new_training2, columns=['relevant_experience','enrolled_university','education_level'])\n",
        "new_training3"
      ],
      "id": "2zrqZ-N5asve",
      "execution_count": 50,
      "outputs": [
        {
          "output_type": "execute_result",
          "data": {
            "text/html": [
              "<div>\n",
              "<style scoped>\n",
              "    .dataframe tbody tr th:only-of-type {\n",
              "        vertical-align: middle;\n",
              "    }\n",
              "\n",
              "    .dataframe tbody tr th {\n",
              "        vertical-align: top;\n",
              "    }\n",
              "\n",
              "    .dataframe thead th {\n",
              "        text-align: right;\n",
              "    }\n",
              "</style>\n",
              "<table border=\"1\" class=\"dataframe\">\n",
              "  <thead>\n",
              "    <tr style=\"text-align: right;\">\n",
              "      <th></th>\n",
              "      <th>city_development_index</th>\n",
              "      <th>experience</th>\n",
              "      <th>last_new_job</th>\n",
              "      <th>training_hours</th>\n",
              "      <th>target</th>\n",
              "      <th>relevant_experience_Has relevant experience</th>\n",
              "      <th>relevant_experience_No relevant experience</th>\n",
              "      <th>enrolled_university_Full time course</th>\n",
              "      <th>enrolled_university_Part time course</th>\n",
              "      <th>enrolled_university_no_enrollment</th>\n",
              "      <th>education_level_Graduate</th>\n",
              "      <th>education_level_High School</th>\n",
              "      <th>education_level_Masters</th>\n",
              "      <th>education_level_Phd</th>\n",
              "      <th>education_level_Primary School</th>\n",
              "    </tr>\n",
              "  </thead>\n",
              "  <tbody>\n",
              "    <tr>\n",
              "      <th>0</th>\n",
              "      <td>0.920</td>\n",
              "      <td>25</td>\n",
              "      <td>1</td>\n",
              "      <td>36</td>\n",
              "      <td>1.0</td>\n",
              "      <td>1</td>\n",
              "      <td>0</td>\n",
              "      <td>0</td>\n",
              "      <td>0</td>\n",
              "      <td>1</td>\n",
              "      <td>1</td>\n",
              "      <td>0</td>\n",
              "      <td>0</td>\n",
              "      <td>0</td>\n",
              "      <td>0</td>\n",
              "    </tr>\n",
              "    <tr>\n",
              "      <th>1</th>\n",
              "      <td>0.776</td>\n",
              "      <td>15</td>\n",
              "      <td>5</td>\n",
              "      <td>47</td>\n",
              "      <td>0.0</td>\n",
              "      <td>0</td>\n",
              "      <td>1</td>\n",
              "      <td>0</td>\n",
              "      <td>0</td>\n",
              "      <td>1</td>\n",
              "      <td>1</td>\n",
              "      <td>0</td>\n",
              "      <td>0</td>\n",
              "      <td>0</td>\n",
              "      <td>0</td>\n",
              "    </tr>\n",
              "    <tr>\n",
              "      <th>2</th>\n",
              "      <td>0.624</td>\n",
              "      <td>5</td>\n",
              "      <td>0</td>\n",
              "      <td>83</td>\n",
              "      <td>0.0</td>\n",
              "      <td>0</td>\n",
              "      <td>1</td>\n",
              "      <td>1</td>\n",
              "      <td>0</td>\n",
              "      <td>0</td>\n",
              "      <td>1</td>\n",
              "      <td>0</td>\n",
              "      <td>0</td>\n",
              "      <td>0</td>\n",
              "      <td>0</td>\n",
              "    </tr>\n",
              "    <tr>\n",
              "      <th>4</th>\n",
              "      <td>0.767</td>\n",
              "      <td>25</td>\n",
              "      <td>4</td>\n",
              "      <td>8</td>\n",
              "      <td>0.0</td>\n",
              "      <td>1</td>\n",
              "      <td>0</td>\n",
              "      <td>0</td>\n",
              "      <td>0</td>\n",
              "      <td>1</td>\n",
              "      <td>0</td>\n",
              "      <td>0</td>\n",
              "      <td>1</td>\n",
              "      <td>0</td>\n",
              "      <td>0</td>\n",
              "    </tr>\n",
              "    <tr>\n",
              "      <th>5</th>\n",
              "      <td>0.764</td>\n",
              "      <td>11</td>\n",
              "      <td>1</td>\n",
              "      <td>24</td>\n",
              "      <td>1.0</td>\n",
              "      <td>1</td>\n",
              "      <td>0</td>\n",
              "      <td>0</td>\n",
              "      <td>1</td>\n",
              "      <td>0</td>\n",
              "      <td>1</td>\n",
              "      <td>0</td>\n",
              "      <td>0</td>\n",
              "      <td>0</td>\n",
              "      <td>0</td>\n",
              "    </tr>\n",
              "    <tr>\n",
              "      <th>...</th>\n",
              "      <td>...</td>\n",
              "      <td>...</td>\n",
              "      <td>...</td>\n",
              "      <td>...</td>\n",
              "      <td>...</td>\n",
              "      <td>...</td>\n",
              "      <td>...</td>\n",
              "      <td>...</td>\n",
              "      <td>...</td>\n",
              "      <td>...</td>\n",
              "      <td>...</td>\n",
              "      <td>...</td>\n",
              "      <td>...</td>\n",
              "      <td>...</td>\n",
              "      <td>...</td>\n",
              "    </tr>\n",
              "    <tr>\n",
              "      <th>2124</th>\n",
              "      <td>0.920</td>\n",
              "      <td>16</td>\n",
              "      <td>4</td>\n",
              "      <td>15</td>\n",
              "      <td>0.0</td>\n",
              "      <td>0</td>\n",
              "      <td>1</td>\n",
              "      <td>0</td>\n",
              "      <td>0</td>\n",
              "      <td>1</td>\n",
              "      <td>1</td>\n",
              "      <td>0</td>\n",
              "      <td>0</td>\n",
              "      <td>0</td>\n",
              "      <td>0</td>\n",
              "    </tr>\n",
              "    <tr>\n",
              "      <th>2125</th>\n",
              "      <td>0.897</td>\n",
              "      <td>18</td>\n",
              "      <td>2</td>\n",
              "      <td>30</td>\n",
              "      <td>1.0</td>\n",
              "      <td>1</td>\n",
              "      <td>0</td>\n",
              "      <td>0</td>\n",
              "      <td>0</td>\n",
              "      <td>1</td>\n",
              "      <td>0</td>\n",
              "      <td>0</td>\n",
              "      <td>1</td>\n",
              "      <td>0</td>\n",
              "      <td>0</td>\n",
              "    </tr>\n",
              "    <tr>\n",
              "      <th>2126</th>\n",
              "      <td>0.887</td>\n",
              "      <td>3</td>\n",
              "      <td>0</td>\n",
              "      <td>18</td>\n",
              "      <td>0.0</td>\n",
              "      <td>0</td>\n",
              "      <td>1</td>\n",
              "      <td>0</td>\n",
              "      <td>0</td>\n",
              "      <td>1</td>\n",
              "      <td>0</td>\n",
              "      <td>0</td>\n",
              "      <td>0</td>\n",
              "      <td>0</td>\n",
              "      <td>1</td>\n",
              "    </tr>\n",
              "    <tr>\n",
              "      <th>2127</th>\n",
              "      <td>0.804</td>\n",
              "      <td>7</td>\n",
              "      <td>1</td>\n",
              "      <td>84</td>\n",
              "      <td>0.0</td>\n",
              "      <td>1</td>\n",
              "      <td>0</td>\n",
              "      <td>1</td>\n",
              "      <td>0</td>\n",
              "      <td>0</td>\n",
              "      <td>0</td>\n",
              "      <td>1</td>\n",
              "      <td>0</td>\n",
              "      <td>0</td>\n",
              "      <td>0</td>\n",
              "    </tr>\n",
              "    <tr>\n",
              "      <th>2128</th>\n",
              "      <td>0.804</td>\n",
              "      <td>15</td>\n",
              "      <td>2</td>\n",
              "      <td>11</td>\n",
              "      <td>0.0</td>\n",
              "      <td>1</td>\n",
              "      <td>0</td>\n",
              "      <td>0</td>\n",
              "      <td>0</td>\n",
              "      <td>1</td>\n",
              "      <td>0</td>\n",
              "      <td>0</td>\n",
              "      <td>1</td>\n",
              "      <td>0</td>\n",
              "      <td>0</td>\n",
              "    </tr>\n",
              "  </tbody>\n",
              "</table>\n",
              "<p>20032 rows × 15 columns</p>\n",
              "</div>"
            ],
            "text/plain": [
              "      city_development_index  ...  education_level_Primary School\n",
              "0                      0.920  ...                               0\n",
              "1                      0.776  ...                               0\n",
              "2                      0.624  ...                               0\n",
              "4                      0.767  ...                               0\n",
              "5                      0.764  ...                               0\n",
              "...                      ...  ...                             ...\n",
              "2124                   0.920  ...                               0\n",
              "2125                   0.897  ...                               0\n",
              "2126                   0.887  ...                               1\n",
              "2127                   0.804  ...                               0\n",
              "2128                   0.804  ...                               0\n",
              "\n",
              "[20032 rows x 15 columns]"
            ]
          },
          "metadata": {
            "tags": []
          },
          "execution_count": 50
        }
      ]
    },
    {
      "cell_type": "code",
      "metadata": {
        "id": "JEbzxAmJeANf"
      },
      "source": [
        "#  We can use these lines to add columns of 0's for other educational levels that may exist in test data\n",
        "#new_training3['education_level_High_School'] = 0\n",
        "#new_training3['education_level_Primary_School'] = 0\n",
        "#new_training3"
      ],
      "id": "JEbzxAmJeANf",
      "execution_count": 61,
      "outputs": []
    },
    {
      "cell_type": "code",
      "metadata": {
        "id": "Z3kSxzfBin87",
        "colab": {
          "base_uri": "https://localhost:8080/"
        },
        "outputId": "06015ec7-4c27-4fd8-8838-a5286ca1d637"
      },
      "source": [
        "#  Allocate the target variable to the y array and the predictor variables to the X array\n",
        "\n",
        "y = new_training3['target']\n",
        "X = new_training3.drop(['target'], axis=1)\n",
        "\n",
        "#  Use  sklearn train_test_split to recreate the training and test data sets\n",
        "X_train, X_test, y_train, y_test = train_test_split(X,y,test_size=0.2, random_state=42)\n",
        "print (\"X_train shape: \", X_train.shape)\n",
        "print (\"y_train shape: \", y_train.shape)\n",
        "print (\"X_test shape: \", X_test.shape)\n",
        "print (\"y_test shape: \", y_test.shape)\n",
        "type(X_train)"
      ],
      "id": "Z3kSxzfBin87",
      "execution_count": 51,
      "outputs": [
        {
          "output_type": "stream",
          "text": [
            "X_train shape:  (16025, 14)\n",
            "y_train shape:  (16025,)\n",
            "X_test shape:  (4007, 14)\n",
            "y_test shape:  (4007,)\n"
          ],
          "name": "stdout"
        },
        {
          "output_type": "execute_result",
          "data": {
            "text/plain": [
              "pandas.core.frame.DataFrame"
            ]
          },
          "metadata": {
            "tags": []
          },
          "execution_count": 51
        }
      ]
    },
    {
      "cell_type": "code",
      "metadata": {
        "id": "QGBdFtyphSWk"
      },
      "source": [
        "# Instantiate a  class of sklearn LogisticRegression \n",
        "model = LogisticRegression(max_iter=1000)\n",
        "# Fit the model to the training data\n",
        "model.fit(X_train, y_train)\n",
        "# Use the model to predict the target of the test set, on the basis of the categorical variables in the test set\n",
        "y_pred = pd.Series(model.predict(X_test))\n"
      ],
      "id": "QGBdFtyphSWk",
      "execution_count": 52,
      "outputs": []
    },
    {
      "cell_type": "code",
      "metadata": {
        "id": "NcZ3A5Ud3gHj",
        "colab": {
          "base_uri": "https://localhost:8080/"
        },
        "outputId": "b88266e4-3070-46b2-9e1b-5b71a1954519"
      },
      "source": [
        "# print some fitting results\n",
        "\n",
        "print ('\\nIntercept: ', model.intercept_)\n",
        "print ('\\nCoefficients: ', model.coef_, end='\\n\\n')"
      ],
      "id": "NcZ3A5Ud3gHj",
      "execution_count": 53,
      "outputs": [
        {
          "output_type": "stream",
          "text": [
            "\n",
            "Intercept:  [1.55575527]\n",
            "\n",
            "Coefficients:  [[-5.27574371e+00 -1.40007671e-02  3.01340295e-02 -8.94206707e-04\n",
            "   4.14399982e-01  1.08909679e+00  7.22168402e-01  4.08616922e-01\n",
            "   3.72711446e-01  8.31893245e-01  8.70883547e-02  6.28524553e-01\n",
            "   2.60615215e-01 -3.04624599e-01]]\n",
            "\n"
          ],
          "name": "stdout"
        }
      ]
    },
    {
      "cell_type": "code",
      "metadata": {
        "id": "4e4gJ4Xvp_Sk",
        "colab": {
          "base_uri": "https://localhost:8080/",
          "height": 442
        },
        "outputId": "8d3c0b4d-f997-4f6b-c588-70b5b76feda0"
      },
      "source": [
        "#  Calculate the confusion matrix using sklearn metrics.confusion_matrix method\n",
        "\n",
        "cnf_matrix = metrics.confusion_matrix(y_test, y_pred)     # confusion matrix calculation\n",
        "print ('\\n\\nConfusion matrix:\\n', cnf_matrix, '\\n\\n')\n",
        "class_names=[0,1] # name  of classes\n",
        "\n",
        "# graph the confusion matrix\n",
        "fig, ax = plt.subplots()\n",
        "tick_marks = np.arange(len(class_names))\n",
        "plt.xticks(tick_marks, class_names)\n",
        "plt.yticks(tick_marks, class_names)\n",
        "# create heatmap\n",
        "sns.heatmap(pd.DataFrame(cnf_matrix), annot=True, cmap=\"YlGnBu\" ,fmt='g')\n",
        "ax.xaxis.set_label_position(\"top\")\n",
        "plt.tight_layout()\n",
        "plt.title('Confusion matrix', y=1.1)\n",
        "plt.ylabel('Actual label')\n",
        "plt.xlabel('Predicted label')\n",
        "plt.show()"
      ],
      "id": "4e4gJ4Xvp_Sk",
      "execution_count": 54,
      "outputs": [
        {
          "output_type": "stream",
          "text": [
            "\n",
            "\n",
            "Confusion matrix:\n",
            " [[2829  174]\n",
            " [ 765  239]] \n",
            "\n",
            "\n"
          ],
          "name": "stdout"
        },
        {
          "output_type": "display_data",
          "data": {
            "image/png": "[encoded data removed]",
            "text/plain": [
              "<Figure size 432x288 with 2 Axes>"
            ]
          },
          "metadata": {
            "tags": []
          }
        }
      ]
    },
    {
      "cell_type": "code",
      "metadata": {
        "id": "DvF75E5Qs6iC",
        "colab": {
          "base_uri": "https://localhost:8080/"
        },
        "outputId": "e22cddac-7462-4d1e-d42f-8a6ee6a14143"
      },
      "source": [
        "# Calculate the Accuracy, Precision, Recall from the confusion matrix, using sklearn metrics methods\n",
        "\n",
        "print(\"Accuracy:\",metrics.accuracy_score(y_test, y_pred))     # accuracy precision and recall calculation\n",
        "print(\"Precision:\",metrics.precision_score(y_test, y_pred))\n",
        "print(\"Recall:\",metrics.recall_score(y_test, y_pred))"
      ],
      "id": "DvF75E5Qs6iC",
      "execution_count": 55,
      "outputs": [
        {
          "output_type": "stream",
          "text": [
            "Accuracy: 0.7656600948340404\n",
            "Precision: 0.5786924939467313\n",
            "Recall: 0.23804780876494025\n"
          ],
          "name": "stdout"
        }
      ]
    },
    {
      "cell_type": "code",
      "metadata": {
        "id": "Vvs1Rcy9tA0E",
        "colab": {
          "base_uri": "https://localhost:8080/",
          "height": 301
        },
        "outputId": "dd6ddd46-124c-4c67-d129-37deccb2580f"
      },
      "source": [
        "# Calculate and plot the ROC curve from the model predictions versus actual targets, using sklearn metrics methods\n",
        "y_pred_proba = model.predict_proba(X_test)[::,1]             # predict probability\n",
        "fpr, tpr, _ = metrics.roc_curve(y_test,  y_pred_proba)       # receiver operating characteristic curve\n",
        "auc = metrics.roc_auc_score(y_test, y_pred_proba)            # true positive against false positive\n",
        "# graph it\n",
        "plt.title('Receiver Operating Characteristic')\n",
        "plt.plot(fpr,tpr,label=\"new_training3, auc=\"+str(auc))\n",
        "plt.legend(loc='lower right')\n",
        "plt.plot([0,1], [0,1], 'r--')\n",
        "plt.ylabel('True Positive Rate')\n",
        "plt.xlabel('False Positive Rate')\n",
        "plt.show()"
      ],
      "id": "Vvs1Rcy9tA0E",
      "execution_count": 56,
      "outputs": [
        {
          "output_type": "display_data",
          "data": {
            "image/png": "[encoded data removed]",
            "text/plain": [
              "<Figure size 432x288 with 1 Axes>"
            ]
          },
          "metadata": {
            "tags": []
          }
        }
      ]
    },
    {
      "cell_type": "code",
      "metadata": {
        "id": "YU0Nbq4G52wR",
        "colab": {
          "base_uri": "https://localhost:8080/",
          "height": 359
        },
        "outputId": "a0496815-bc25-4425-96b5-32191d19efb2"
      },
      "source": [
        "# Show some of the predictions\n",
        "y_test = y_test.reset_index(drop=True)\n",
        "z = pd.concat([y_test, y_pred], axis=1)\n",
        "z.columns = ['True', 'Predictions']\n",
        "z.iloc[:10]"
      ],
      "id": "YU0Nbq4G52wR",
      "execution_count": 68,
      "outputs": [
        {
          "output_type": "execute_result",
          "data": {
            "text/html": [
              "<div>\n",
              "<style scoped>\n",
              "    .dataframe tbody tr th:only-of-type {\n",
              "        vertical-align: middle;\n",
              "    }\n",
              "\n",
              "    .dataframe tbody tr th {\n",
              "        vertical-align: top;\n",
              "    }\n",
              "\n",
              "    .dataframe thead th {\n",
              "        text-align: right;\n",
              "    }\n",
              "</style>\n",
              "<table border=\"1\" class=\"dataframe\">\n",
              "  <thead>\n",
              "    <tr style=\"text-align: right;\">\n",
              "      <th></th>\n",
              "      <th>True</th>\n",
              "      <th>Predictions</th>\n",
              "    </tr>\n",
              "  </thead>\n",
              "  <tbody>\n",
              "    <tr>\n",
              "      <th>0</th>\n",
              "      <td>0.0</td>\n",
              "      <td>0.0</td>\n",
              "    </tr>\n",
              "    <tr>\n",
              "      <th>1</th>\n",
              "      <td>0.0</td>\n",
              "      <td>0.0</td>\n",
              "    </tr>\n",
              "    <tr>\n",
              "      <th>2</th>\n",
              "      <td>0.0</td>\n",
              "      <td>0.0</td>\n",
              "    </tr>\n",
              "    <tr>\n",
              "      <th>3</th>\n",
              "      <td>0.0</td>\n",
              "      <td>1.0</td>\n",
              "    </tr>\n",
              "    <tr>\n",
              "      <th>4</th>\n",
              "      <td>0.0</td>\n",
              "      <td>0.0</td>\n",
              "    </tr>\n",
              "    <tr>\n",
              "      <th>5</th>\n",
              "      <td>0.0</td>\n",
              "      <td>0.0</td>\n",
              "    </tr>\n",
              "    <tr>\n",
              "      <th>6</th>\n",
              "      <td>1.0</td>\n",
              "      <td>0.0</td>\n",
              "    </tr>\n",
              "    <tr>\n",
              "      <th>7</th>\n",
              "      <td>0.0</td>\n",
              "      <td>0.0</td>\n",
              "    </tr>\n",
              "    <tr>\n",
              "      <th>8</th>\n",
              "      <td>0.0</td>\n",
              "      <td>0.0</td>\n",
              "    </tr>\n",
              "    <tr>\n",
              "      <th>9</th>\n",
              "      <td>0.0</td>\n",
              "      <td>0.0</td>\n",
              "    </tr>\n",
              "  </tbody>\n",
              "</table>\n",
              "</div>"
            ],
            "text/plain": [
              "   True  Predictions\n",
              "0   0.0          0.0\n",
              "1   0.0          0.0\n",
              "2   0.0          0.0\n",
              "3   0.0          1.0\n",
              "4   0.0          0.0\n",
              "5   0.0          0.0\n",
              "6   1.0          0.0\n",
              "7   0.0          0.0\n",
              "8   0.0          0.0\n",
              "9   0.0          0.0"
            ]
          },
          "metadata": {
            "tags": []
          },
          "execution_count": 68
        }
      ]
    },
    {
      "cell_type": "code",
      "metadata": {
        "id": "bshag9w30bfb",
        "colab": {
          "base_uri": "https://localhost:8080/"
        },
        "outputId": "ad12e31d-c226-494a-d7c3-0992b370a1ab"
      },
      "source": [
        "# Summary statistics\n",
        "print (metrics.classification_report(y_test, y_pred))"
      ],
      "id": "bshag9w30bfb",
      "execution_count": 57,
      "outputs": [
        {
          "output_type": "stream",
          "text": [
            "              precision    recall  f1-score   support\n",
            "\n",
            "         0.0       0.79      0.94      0.86      3003\n",
            "         1.0       0.58      0.24      0.34      1004\n",
            "\n",
            "    accuracy                           0.77      4007\n",
            "   macro avg       0.68      0.59      0.60      4007\n",
            "weighted avg       0.73      0.77      0.73      4007\n",
            "\n"
          ],
          "name": "stdout"
        }
      ]
    },
    {
      "cell_type": "code",
      "metadata": {
        "id": "uYIXrg2XnDnb"
      },
      "source": [
        "#  Using SMOTE  (Synthetic Minority Oversampling Technique)\n",
        "#   to  try to resolve the imbalanced target problem\n"
      ],
      "id": "uYIXrg2XnDnb",
      "execution_count": 70,
      "outputs": []
    },
    {
      "cell_type": "code",
      "metadata": {
        "id": "HHEwzci9zcrs",
        "colab": {
          "base_uri": "https://localhost:8080/"
        },
        "outputId": "e44761ba-0195-437c-c3a1-5a0683ef9f0b"
      },
      "source": [
        "from imblearn.over_sampling import SMOTE"
      ],
      "id": "HHEwzci9zcrs",
      "execution_count": 58,
      "outputs": [
        {
          "output_type": "stream",
          "text": [
            "/usr/local/lib/python3.7/dist-packages/sklearn/externals/six.py:31: FutureWarning: The module is deprecated in version 0.21 and will be removed in version 0.23 since we've dropped support for Python 2.7. Please rely on the official version of six (https://pypi.org/project/six/).\n",
            "  \"(https://pypi.org/project/six/).\", FutureWarning)\n",
            "/usr/local/lib/python3.7/dist-packages/sklearn/utils/deprecation.py:144: FutureWarning: The sklearn.neighbors.base module is  deprecated in version 0.22 and will be removed in version 0.24. The corresponding classes / functions should instead be imported from sklearn.neighbors. Anything that cannot be imported from sklearn.neighbors is now part of the private API.\n",
            "  warnings.warn(message, FutureWarning)\n"
          ],
          "name": "stderr"
        }
      ]
    },
    {
      "cell_type": "code",
      "metadata": {
        "id": "Vp7K37a9zqYm",
        "colab": {
          "base_uri": "https://localhost:8080/"
        },
        "outputId": "1032156b-c0b9-427c-c9ed-86dc825c3372"
      },
      "source": [
        "smt = SMOTE (random_state=42, ratio='minority')\n",
        "X_train_SMOTE, y_train_SMOTE = smt.fit_sample(X_train, y_train)"
      ],
      "id": "Vp7K37a9zqYm",
      "execution_count": 59,
      "outputs": [
        {
          "output_type": "stream",
          "text": [
            "/usr/local/lib/python3.7/dist-packages/sklearn/utils/deprecation.py:87: FutureWarning: Function safe_indexing is deprecated; safe_indexing is deprecated in version 0.22 and will be removed in version 0.24.\n",
            "  warnings.warn(msg, category=FutureWarning)\n"
          ],
          "name": "stderr"
        }
      ]
    },
    {
      "cell_type": "code",
      "metadata": {
        "id": "0RxxcQwn31Nx",
        "colab": {
          "base_uri": "https://localhost:8080/"
        },
        "outputId": "182c8444-3868-48fe-94e4-3883e9217dab"
      },
      "source": [
        "# See the new shape\n",
        "\n",
        "print (\"X_train shape: \", X_train_SMOTE.shape)\n",
        "print (\"y_train shape: \", y_train_SMOTE.shape)\n",
        "print (\"X_test shape: \", X_test.shape)\n",
        "print (\"y_test shape: \", y_test.shape)\n",
        "type(X_train_SMOTE)"
      ],
      "id": "0RxxcQwn31Nx",
      "execution_count": 60,
      "outputs": [
        {
          "output_type": "stream",
          "text": [
            "X_train shape:  (24122, 14)\n",
            "y_train shape:  (24122,)\n",
            "X_test shape:  (4007, 14)\n",
            "y_test shape:  (4007,)\n"
          ],
          "name": "stdout"
        },
        {
          "output_type": "execute_result",
          "data": {
            "text/plain": [
              "numpy.ndarray"
            ]
          },
          "metadata": {
            "tags": []
          },
          "execution_count": 60
        }
      ]
    },
    {
      "cell_type": "code",
      "metadata": {
        "id": "r82Iecyl4O4G",
        "colab": {
          "base_uri": "https://localhost:8080/",
          "height": 1000
        },
        "outputId": "42c382f1-3739-492a-e086-ee779176071b"
      },
      "source": [
        "# Repeat the Logistic Regression and Prediction with the SMOTEd datasets\n",
        "\n",
        "# Instantiate a  class of sklearn LogisticRegression \n",
        "model = LogisticRegression(max_iter=1000)\n",
        "# Fit the model to the training data\n",
        "model.fit(X_train_SMOTE, y_train_SMOTE)\n",
        "# Use the model to predict the target of the test set, on the basis of the categorical variables in the test set\n",
        "y_pred = pd.Series(model.predict(X_test))\n",
        "\n",
        "# print some fitting results\n",
        "\n",
        "print ('\\nIntercept: ', model.intercept_)\n",
        "print ('\\nCoefficients: ', model.coef_, end='\\n\\n')\n",
        "\n",
        "#  Calculate the confusion matrix using sklearn metrics.confusion_matrix method\n",
        "\n",
        "cnf_matrix = metrics.confusion_matrix(y_test, y_pred)     # confusion matrix calculation\n",
        "print ('\\n\\nConfusion matrix:\\n', cnf_matrix, '\\n\\n')\n",
        "class_names=[0,1] # name  of classes\n",
        "\n",
        "# graph the confusion matrix\n",
        "fig, ax = plt.subplots()\n",
        "tick_marks = np.arange(len(class_names))\n",
        "plt.xticks(tick_marks, class_names)\n",
        "plt.yticks(tick_marks, class_names)\n",
        "# create heatmap\n",
        "sns.heatmap(pd.DataFrame(cnf_matrix), annot=True, cmap=\"YlGnBu\" ,fmt='g')\n",
        "ax.xaxis.set_label_position(\"top\")\n",
        "plt.tight_layout()\n",
        "plt.title('Confusion matrix', y=1.1)\n",
        "plt.ylabel('Actual label')\n",
        "plt.xlabel('Predicted label')\n",
        "plt.show()\n",
        "\n",
        "# Calculate the Accuracy, Precision, Recall from the confusion matrix, using sklearn metrics methods\n",
        "\n",
        "print(\"\\n\\nAccuracy:\",metrics.accuracy_score(y_test, y_pred))     # accuracy precision and recall calculation\n",
        "print(\"Precision:\",metrics.precision_score(y_test, y_pred))\n",
        "print(\"Recall:\",metrics.recall_score(y_test, y_pred))\n",
        "\n",
        "print ('\\n\\n', metrics.classification_report(y_test, y_pred), '\\n\\n')\n",
        "\n",
        "# Calculate and plot the ROC curve from the model predictions versus actual targets, using sklearn metrics methods\n",
        "y_pred_proba = model.predict_proba(X_test)[::,1]             # predict probability\n",
        "fpr, tpr, _ = metrics.roc_curve(y_test,  y_pred_proba)       # receiver operating characteristic curve\n",
        "auc = metrics.roc_auc_score(y_test, y_pred_proba)            # true positive against false positive\n",
        "# graph it\n",
        "plt.title('Receiver Operating Characteristic')\n",
        "plt.plot(fpr,tpr,label=\"new_training3, auc=\"+str(auc))\n",
        "plt.legend(loc='lower right')\n",
        "plt.plot([0,1], [0,1], 'r--')\n",
        "plt.ylabel('True Positive Rate')\n",
        "plt.xlabel('False Positive Rate')\n",
        "plt.show()\n"
      ],
      "id": "r82Iecyl4O4G",
      "execution_count": 61,
      "outputs": [
        {
          "output_type": "stream",
          "text": [
            "\n",
            "Intercept:  [2.29872837]\n",
            "\n",
            "Coefficients:  [[-6.01889934e+00 -1.84376070e-03  2.66872269e-02 -8.27803218e-04\n",
            "   7.27715617e-01  1.46129450e+00  1.02942547e+00  5.47091584e-01\n",
            "   6.12493067e-01  1.15821941e+00  1.84586720e-01  8.02080833e-01\n",
            "   3.51877184e-01 -3.07754024e-01]]\n",
            "\n",
            "\n",
            "\n",
            "Confusion matrix:\n",
            " [[2203  800]\n",
            " [ 349  655]] \n",
            "\n",
            "\n"
          ],
          "name": "stdout"
        },
        {
          "output_type": "display_data",
          "data": {
            "image/png": "[encoded data removed]",
            "text/plain": [
              "<Figure size 432x288 with 2 Axes>"
            ]
          },
          "metadata": {
            "tags": []
          }
        },
        {
          "output_type": "stream",
          "text": [
            "\n",
            "\n",
            "Accuracy: 0.713251809333666\n",
            "Precision: 0.45017182130584193\n",
            "Recall: 0.6523904382470119\n",
            "\n",
            "\n",
            "               precision    recall  f1-score   support\n",
            "\n",
            "         0.0       0.86      0.73      0.79      3003\n",
            "         1.0       0.45      0.65      0.53      1004\n",
            "\n",
            "    accuracy                           0.71      4007\n",
            "   macro avg       0.66      0.69      0.66      4007\n",
            "weighted avg       0.76      0.71      0.73      4007\n",
            " \n",
            "\n",
            "\n"
          ],
          "name": "stdout"
        },
        {
          "output_type": "display_data",
          "data": {
            "image/png": "[encoded data removed]",
            "text/plain": [
              "<Figure size 432x288 with 1 Axes>"
            ]
          },
          "metadata": {
            "tags": []
          }
        }
      ]
    },
    {
      "cell_type": "markdown",
      "metadata": {
        "id": "R6aENLkX9Kly"
      },
      "source": [
        "## 5. Conclusions\n"
      ],
      "id": "R6aENLkX9Kly"
    },
    {
      "cell_type": "markdown",
      "metadata": {
        "id": "rNT9s_WUtsKO"
      },
      "source": [
        "This project has shown that predicting the intention to leave employment on the basis of a partial set of variables is not straightforward. It would have been important to include more information on the current job and the prospective job. For example, level of both positions, salary, and the like. \n",
        "\n",
        "**The goal of our project was to answer the following questions:**\n",
        "\n",
        "1) Which **gender** is most probable to leave their current job?\n",
        "> The data shows that both males and females are as likely to leave or stay. Those that are in the \"other\" gender category are less likely to leave.\n",
        "\n",
        "> Due to an imbalanced data on genders, our intitial EDA is skewed. Therefore, the conclusions that are made are biased. However, more tend to leave rather than stay for both these genders. There is small data size of the \"other\" genders.\n",
        "\n",
        "> Within the gender groups, more females are more likely to stay. \n",
        "\n",
        "2) What **type of company** will employees most likely leave?\n",
        "> Employees of private, public sector, and NGOs companies are less likely to leave. Out of all, those in founded start-ups are the least likely to leave. \n",
        "\n",
        "> Those in early stage and other are more likely to leave. \n",
        "\n",
        "> We can assume that those in early stage start ups have less job securitiy, in which a lot of start ups fail in their first years.\n",
        "\n",
        "> Additionally, half of the companies in the data are private companies. This is another way that our data is imbalanced. The ratio of leave:stay is large for the private.\n",
        "\n",
        "\n",
        "3) Does more **training time** lead to candidates more likely to leave their current job?\n",
        "> Those that have more training hours are more likely to stay rather than to leave. \n",
        "\n",
        "> Training hours have some influence, but  are not a major factor in explaining the probability of leaving.\n",
        "\n",
        "> We can assume that it is because those who are more trained feel security and oppportunties for growth within their companies. Having training opportunties shows that companies are willing to invest in their employees. Employees may feel less \"stuck\" or \"stagnant\" in their current jobs.\n",
        "\n",
        "> Also, using the bootstrap mehtod we were able to get the same median and the python statistic mean for training hours.\n",
        "\n",
        "4) Are people likely to change their jobs when they have **experience that is more relevant** to the position?\n",
        "\n",
        "> The data shows that those who have more relevant experience are more likely to stay rather than leave. \n",
        "\n",
        "> We could assume that those who have less experience are looking for new more favorable oppportunities in other companies. These people may have lower expectations, or picky, of the new job. There are also less job opportunties for mid-level or late-career job seekers. There are more job options for early-career employees in the market.\n",
        "\n",
        "> The data is also imblanced, in which we have more people that have relevant experience than those who do not. \n",
        "\n",
        "> We do not have information about the position they currently have versus the position that they are applyting to. We can assume that their current position is a better than the offers that are in the market.\n",
        "\n",
        "> Also, the smooth curve of probability of staying in the position shows the constant decrease with respect of years of experience. \n",
        "\n",
        "5) Are they likely to leave when they have more **years of experience**?\n",
        "> Those that have more relevant experience are less likely to leave. \n",
        "\n",
        "> What is missing in the data is more information on the current job positions. It would be great to see the level of jobs and the salary. Not having this information makes it more difficult to understand incentives of why they choose to leave. Additionally, the data is slightly imbalanced because those that have 20 years of experiencs are over represented in the data. The plotted data of years of experience is not a normal distribution.\n",
        "\n",
        "**Additional findings:**\n",
        "\n",
        "Education level \n",
        "> Those that are \"graduates\" or those that have their Bachelors, are more likely to leave rather than stay.\n",
        "\n",
        "> The higher the education, the more likely they are able to stay.\n",
        "> We can assume that people with lower experience in education are more likely to take risks and change jobs into new opportunities. \n",
        "\n",
        "> Looking within gender groups, female are less likely to leave rather than stay in comparison to males. In the \"other\" category none are wiling to leave when they have Masters or PhD. Within the scope of this data, we can assume this can be explained in which females may have more responsibilities with children than males. They may be working mothers than need the stablity of their jobs and not willing to take larger risks. \n",
        "\n",
        "Major Disciplines\n",
        "> STEM majors are more likely to leave than of the other majors. Those that have degrees in the Arts are less likely to leave. However, Art majors are underrepresented in the data, and STEM majors are overrepresented.\n",
        "\n",
        "> We can assume that this is because those that are coming from the Art field could be having mid-career changes, and had to work hard to be able to get their current positions through additional training. They may feel satisfied having reached their current jobs and are less willing to leave. We can assume that those with STEM degress are more confident in changing jobs in the Tech field because they have a wider skills set through their degrees.\n",
        "\n",
        "City Development Index\n",
        "> By looking at city class, the probability of leaving is highest in the first 25th percentile of the city index (or lower developed areas.\n",
        "\n",
        "> People are more willing to leave their jobs located in cities that have a lower city index. \n",
        "\n",
        "> In the data, most companies have higher city development indexes.\n",
        "\n",
        "**Modeling with Logistic Regression:**\n",
        "> In the confusion matrix, the recall is too low, but the precision is acceptable. The model overall is accurate when trained with the dataset provided, with an accuracy of 84.6%, precision of 51.7%, and recall of 23.6%. Technically this is not a reliable model.\n",
        "\n",
        ">After applying the SMOTE procedure to generate more minority samples, the model trained with more data improved the recall (59.3%) as expected. However, it  decreased the accuracy (77.1%) and precision(35.9%), as expected.\n",
        "\n",
        ">The model is not accurate enough to reliably predict the target, and should be improved. We would like over 95% accuracy.\n",
        "\n",
        ">The required steps to improve the model are not a part of this project.\n",
        "\n",
        "**Reflections on the data:**\n",
        "\n",
        "Imbalanced data\n",
        "> The imbalance of data is a major issue in our dataset because this causes inconsistencies in finding conclusions to our questions. For example, there is a imbalance in the amount of \"target\" and \"gender\" and therefore this could cause over estimation of \"leaves\" in our models.\n",
        "\n",
        "> Ideally, we would want to have about equal representation in the various levels of variables, but we do not have such in the data. Other procedures besides SMOTE can be attempted in the future. Likewise, it is possible to explore other classification methods than logistic regression.\n",
        "\n",
        "More information needed\n",
        "> We would like to have more information that dives deeper into the dataset, such as \"what is the current position and salary of the employees,\" and \"what is the position and salary that they are leaving the companies for?\" Another important factor needed would be the age of employees.\n",
        "\n",
        "\n",
        "\n"
      ],
      "id": "rNT9s_WUtsKO"
    }
  ]
}