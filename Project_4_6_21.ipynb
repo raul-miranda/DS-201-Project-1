{
  "nbformat": 4,
  "nbformat_minor": 5,
  "metadata": {
    "colab": {
      "name": "Project_4_6_21.ipynb",
      "provenance": [],
      "collapsed_sections": [],
      "toc_visible": true,
      "include_colab_link": true
    },
    "kernelspec": {
      "display_name": "Python 3",
      "language": "python",
      "name": "python3"
    },
    "language_info": {
      "codemirror_mode": {
        "name": "ipython",
        "version": 3
      },
      "file_extension": ".py",
      "mimetype": "text/x-python",
      "name": "python",
      "nbconvert_exporter": "python",
      "pygments_lexer": "ipython3",
      "version": "3.8.5"
    }
  },
  "cells": [
    {
      "cell_type": "markdown",
      "metadata": {
        "id": "view-in-github",
        "colab_type": "text"
      },
      "source": [
        "<a href=\"https://colab.research.google.com/github/raul-miranda/DS-201-Project-1/blob/main/Project_4_6_21.ipynb\" target=\"_parent\"><img src=\"https://colab.research.google.com/assets/colab-badge.svg\" alt=\"Open In Colab\"/></a>"
      ]
    },
    {
      "cell_type": "markdown",
      "metadata": {
        "id": "MPpNExmj6a-7"
      },
      "source": [
        "### **On the Problem of Predicting Whether a Data Science Candidate is Ready to Leave Their Job** \n",
        "\n",
        "Ana Ortez-Rivera, Olga Tolchinsky, Rongjia Zhang, Raul Miranda\n",
        "\n",
        "Data Science 201 - Spring 2021  \n",
        "Project 1   \n",
        "April 6, 2021"
      ],
      "id": "MPpNExmj6a-7"
    },
    {
      "cell_type": "markdown",
      "metadata": {
        "id": "af-riTgf6CGu"
      },
      "source": [
        "## 1. Introduction"
      ],
      "id": "af-riTgf6CGu"
    },
    {
      "cell_type": "markdown",
      "metadata": {
        "id": "m-KuFldP62Sq"
      },
      "source": [
        "Human resource departments at companies and institutions face the usual challenge of sorting hundreds to thousands of applications to identify those candidates who are most likely to leave their present employment. Although a decision to leave depends strongly on the offer received, experience determines that candidates have various levels of predisposition based only on their current circumstances. Ranking candidates according to that predisposition allows HR departments to focus their resources on those candidates that are most likely to change jobs. \n",
        "\n",
        "To start exploring this problem, Team 4 selected a dataset from Kaggle titled \"HR Analytics: Job Change of Data Scientists.\" https://www.kaggle.com/arashnic/hr-analytics-job-change-of-data-scientists.\n",
        "\n",
        "\n",
        "This dataset contains information about a large pool of potential candidates at a hypothetical company. That information includes their gender, relevant experience, education level, current company type and size, city index of development, years since been hired for the last job, etc., and the expressed desire to either leave their current position or likely to stay in it.\n",
        "\n",
        "The purpose of our project is to do Exploratory Data Analysis to examine the database, and then determine what features appear as better determinant of the outcome for each candidate in the database: likely to leave or likely to stay.  Full statistical analysis to generate a model capable of predicting with high accuracy, precision and recall the binary outcome is outside the project scope at this stage. However, it implements a logistic regression model as an initial step.\n",
        "\n",
        "The questions to investigate are:  \n",
        "1) Which gender is most probable to leave their current job?  \n",
        "2) What type of company will employees most likely leave?  \n",
        "3) Does more training time lead to candidates more likely to leave their current job?  \n",
        "4) Are people likely to change their jobs when they have experience that is more relevant to the position?  \n",
        "5) Are they likely to leave when they have more years of experience?\n",
        "\n"
      ],
      "id": "m-KuFldP62Sq"
    },
    {
      "cell_type": "markdown",
      "metadata": {
        "id": "p9rKG0fO7PJi"
      },
      "source": [
        "The features of the data are as follows:\n",
        "\n",
        "*   enrollee_id : Unique ID for candidate - categorical \n",
        "*   city: City code - discrete\n",
        "*   city_development_index : Development index of the city (scaled) - continuous\n",
        "*   gender: Gender of candidate - categorical\n",
        "*   relevant_experience: Relevant experience of candidate - categorical\n",
        "*   enrolled_university: Type of University course enrolled if any - categorical\n",
        "*   education_level: Education level of candidate - categorical\n",
        "*   major_discipline: Education major discipline of candidate - categorical\n",
        "*   experience: Candidate total experience in years - discrete\n",
        "*   company_size: No of employees in current employer's company - discrete\n",
        "*   company_type : Type of current employer - categorical\n",
        "*   last_new_job: Difference in years between previous job and current job - discrete\n",
        "*   training_hours: training hours completed - continuous\n",
        "*   target: 0 – Not looking for job change, 1 – Looking for a job change - binary"
      ],
      "id": "p9rKG0fO7PJi"
    },
    {
      "cell_type": "markdown",
      "metadata": {
        "id": "soNEyxzF8Icc"
      },
      "source": [
        "## 2. Data Ingestion & Wrangling"
      ],
      "id": "soNEyxzF8Icc"
    },
    {
      "cell_type": "code",
      "metadata": {
        "id": "2ISknwzer0wg"
      },
      "source": [
        "# Import all the necessary packages\n",
        "import pandas as pd\n",
        "import numpy as np\n",
        "import seaborn as sns\n",
        "import matplotlib.pyplot as plt\n",
        "from sklearn import metrics\n",
        "from sklearn.linear_model import LogisticRegression\n",
        "from sklearn.model_selection import train_test_split"
      ],
      "id": "2ISknwzer0wg",
      "execution_count": null,
      "outputs": []
    },
    {
      "cell_type": "code",
      "metadata": {
        "colab": {
          "resources": {
            "http://localhost:8080/nbextensions/google.colab/files.js": {
              "data": "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",
              "headers": [
                [
                  "content-type",
                  "application/javascript"
                ]
              ],
              "ok": true,
              "status": 200,
              "status_text": ""
            }
          },
          "base_uri": "https://localhost:8080/",
          "height": 73
        },
        "id": "tPBuwkXkGpZf",
        "outputId": "b6d82aec-1f8e-4f7b-e14f-55089f5e5d3e"
      },
      "source": [
        "# Download source files into google colab drive, from desktop; the alternative is to read directly from kaggle\n",
        "from google.colab import files\n",
        "target = files.upload()"
      ],
      "id": "tPBuwkXkGpZf",
      "execution_count": null,
      "outputs": [
        {
          "output_type": "display_data",
          "data": {
            "text/html": [
              "\n",
              "     <input type=\"file\" id=\"files-1e1857bd-b0ef-4f74-a7f8-636c6215cfa1\" name=\"files[]\" multiple disabled\n",
              "        style=\"border:none\" />\n",
              "     <output id=\"result-1e1857bd-b0ef-4f74-a7f8-636c6215cfa1\">\n",
              "      Upload widget is only available when the cell has been executed in the\n",
              "      current browser session. Please rerun this cell to enable.\n",
              "      </output>\n",
              "      <script src=\"/nbextensions/google.colab/files.js\"></script> "
            ],
            "text/plain": [
              "<IPython.core.display.HTML object>"
            ]
          },
          "metadata": {
            "tags": []
          }
        },
        {
          "output_type": "stream",
          "text": [
            "Saving jobchange_test_target_values.npy to jobchange_test_target_values (1).npy\n"
          ],
          "name": "stdout"
        }
      ]
    },
    {
      "cell_type": "code",
      "metadata": {
        "colab": {
          "base_uri": "https://localhost:8080/"
        },
        "id": "RBLPmQ6FFQ5i",
        "outputId": "edcd6d99-7820-4016-ee25-42cfad707310"
      },
      "source": [
        "# Check: list files in google colab current directory\n",
        "import os\n",
        "from os import listdir\n",
        "\n",
        "for f in os.listdir('.'):\n",
        "  if os.path.isfile(f):\n",
        "    print(f)"
      ],
      "id": "RBLPmQ6FFQ5i",
      "execution_count": null,
      "outputs": [
        {
          "output_type": "stream",
          "text": [
            "aug_test1.csv\n",
            "aug_train.csv\n",
            "jobchange_test_target_values (1).npy\n",
            "aug_test.csv\n",
            "jobchange_test_target_values.npy\n"
          ],
          "name": "stdout"
        }
      ]
    },
    {
      "cell_type": "code",
      "metadata": {
        "id": "XTB16j8ir0wg"
      },
      "source": [
        "# Load the target data for the test set, provided as a numpy array\n",
        "target =  np.load('jobchange_test_target_values.npy')"
      ],
      "id": "XTB16j8ir0wg",
      "execution_count": null,
      "outputs": []
    },
    {
      "cell_type": "code",
      "metadata": {
        "colab": {
          "base_uri": "https://localhost:8080/"
        },
        "id": "8haMy0u6r0wg",
        "outputId": "1dfc6a21-c6f0-49e7-ddf9-9b1060bb75fe"
      },
      "source": [
        "# Viewing the length \n",
        "len(target)"
      ],
      "id": "8haMy0u6r0wg",
      "execution_count": null,
      "outputs": [
        {
          "output_type": "execute_result",
          "data": {
            "text/plain": [
              "2129"
            ]
          },
          "metadata": {
            "tags": []
          },
          "execution_count": 13
        }
      ]
    },
    {
      "cell_type": "code",
      "metadata": {
        "id": "CJjtx9WLr0wh"
      },
      "source": [
        "# Load the test set, provided as a CSV file\n",
        "testdata = pd.read_csv('aug_test.csv',sep=',')"
      ],
      "id": "CJjtx9WLr0wh",
      "execution_count": null,
      "outputs": []
    },
    {
      "cell_type": "code",
      "metadata": {
        "colab": {
          "base_uri": "https://localhost:8080/"
        },
        "id": "r2Am1G0Jr0wi",
        "outputId": "51903e02-c998-4799-c06b-4c9a78e0745b"
      },
      "source": [
        "# Viewing the length\n",
        "len(testdata)"
      ],
      "id": "r2Am1G0Jr0wi",
      "execution_count": null,
      "outputs": [
        {
          "output_type": "execute_result",
          "data": {
            "text/plain": [
              "2129"
            ]
          },
          "metadata": {
            "tags": []
          },
          "execution_count": 15
        }
      ]
    },
    {
      "cell_type": "code",
      "metadata": {
        "id": "xIQEDdsWr0wi"
      },
      "source": [
        "# Correct typo in 'relevent'\n",
        "testdata['relevent_experience'] = testdata['relevent_experience'].str.replace('relevent', 'relevant')\n",
        "testdata.rename (inplace=True, columns={'relevent_experience':'relevant_experience'})"
      ],
      "id": "xIQEDdsWr0wi",
      "execution_count": null,
      "outputs": []
    },
    {
      "cell_type": "code",
      "metadata": {
        "colab": {
          "base_uri": "https://localhost:8080/"
        },
        "id": "NUMf7mZyr0wi",
        "outputId": "57514ba5-474e-46db-8e5e-3fb4ec76c453"
      },
      "source": [
        "testdata[0:5]  # test data without the target column"
      ],
      "id": "NUMf7mZyr0wi",
      "execution_count": null,
      "outputs": [
        {
          "output_type": "execute_result",
          "data": {
            "text/html": [
              "<div>\n",
              "<style scoped>\n",
              "    .dataframe tbody tr th:only-of-type {\n",
              "        vertical-align: middle;\n",
              "    }\n",
              "\n",
              "    .dataframe tbody tr th {\n",
              "        vertical-align: top;\n",
              "    }\n",
              "\n",
              "    .dataframe thead th {\n",
              "        text-align: right;\n",
              "    }\n",
              "</style>\n",
              "<table border=\"1\" class=\"dataframe\">\n",
              "  <thead>\n",
              "    <tr style=\"text-align: right;\">\n",
              "      <th></th>\n",
              "      <th>enrollee_id</th>\n",
              "      <th>city</th>\n",
              "      <th>city_development_index</th>\n",
              "      <th>gender</th>\n",
              "      <th>relevant_experience</th>\n",
              "      <th>enrolled_university</th>\n",
              "      <th>education_level</th>\n",
              "      <th>major_discipline</th>\n",
              "      <th>experience</th>\n",
              "      <th>company_size</th>\n",
              "      <th>company_type</th>\n",
              "      <th>last_new_job</th>\n",
              "      <th>training_hours</th>\n",
              "    </tr>\n",
              "  </thead>\n",
              "  <tbody>\n",
              "    <tr>\n",
              "      <th>0</th>\n",
              "      <td>32403</td>\n",
              "      <td>city_41</td>\n",
              "      <td>0.827</td>\n",
              "      <td>Male</td>\n",
              "      <td>Has relevant experience</td>\n",
              "      <td>Full time course</td>\n",
              "      <td>Graduate</td>\n",
              "      <td>STEM</td>\n",
              "      <td>9</td>\n",
              "      <td>&lt;10</td>\n",
              "      <td>NaN</td>\n",
              "      <td>1</td>\n",
              "      <td>21</td>\n",
              "    </tr>\n",
              "    <tr>\n",
              "      <th>1</th>\n",
              "      <td>9858</td>\n",
              "      <td>city_103</td>\n",
              "      <td>0.920</td>\n",
              "      <td>Female</td>\n",
              "      <td>Has relevant experience</td>\n",
              "      <td>no_enrollment</td>\n",
              "      <td>Graduate</td>\n",
              "      <td>STEM</td>\n",
              "      <td>5</td>\n",
              "      <td>NaN</td>\n",
              "      <td>Pvt Ltd</td>\n",
              "      <td>1</td>\n",
              "      <td>98</td>\n",
              "    </tr>\n",
              "    <tr>\n",
              "      <th>2</th>\n",
              "      <td>31806</td>\n",
              "      <td>city_21</td>\n",
              "      <td>0.624</td>\n",
              "      <td>Male</td>\n",
              "      <td>No relevant experience</td>\n",
              "      <td>no_enrollment</td>\n",
              "      <td>High School</td>\n",
              "      <td>NaN</td>\n",
              "      <td>&lt;1</td>\n",
              "      <td>NaN</td>\n",
              "      <td>Pvt Ltd</td>\n",
              "      <td>never</td>\n",
              "      <td>15</td>\n",
              "    </tr>\n",
              "    <tr>\n",
              "      <th>3</th>\n",
              "      <td>27385</td>\n",
              "      <td>city_13</td>\n",
              "      <td>0.827</td>\n",
              "      <td>Male</td>\n",
              "      <td>Has relevant experience</td>\n",
              "      <td>no_enrollment</td>\n",
              "      <td>Masters</td>\n",
              "      <td>STEM</td>\n",
              "      <td>11</td>\n",
              "      <td>10/49</td>\n",
              "      <td>Pvt Ltd</td>\n",
              "      <td>1</td>\n",
              "      <td>39</td>\n",
              "    </tr>\n",
              "    <tr>\n",
              "      <th>4</th>\n",
              "      <td>27724</td>\n",
              "      <td>city_103</td>\n",
              "      <td>0.920</td>\n",
              "      <td>Male</td>\n",
              "      <td>Has relevant experience</td>\n",
              "      <td>no_enrollment</td>\n",
              "      <td>Graduate</td>\n",
              "      <td>STEM</td>\n",
              "      <td>&gt;20</td>\n",
              "      <td>10000+</td>\n",
              "      <td>Pvt Ltd</td>\n",
              "      <td>&gt;4</td>\n",
              "      <td>72</td>\n",
              "    </tr>\n",
              "  </tbody>\n",
              "</table>\n",
              "</div>"
            ],
            "text/plain": [
              "   enrollee_id      city  ...  last_new_job training_hours\n",
              "0        32403   city_41  ...             1             21\n",
              "1         9858  city_103  ...             1             98\n",
              "2        31806   city_21  ...         never             15\n",
              "3        27385   city_13  ...             1             39\n",
              "4        27724  city_103  ...            >4             72\n",
              "\n",
              "[5 rows x 13 columns]"
            ]
          },
          "metadata": {
            "tags": []
          },
          "execution_count": 17
        }
      ]
    },
    {
      "cell_type": "code",
      "metadata": {
        "colab": {
          "base_uri": "https://localhost:8080/"
        },
        "id": "uARxmgmFr0wj",
        "outputId": "f6b270a6-0379-40d8-8729-a30bd10ffea8"
      },
      "source": [
        "target[:5]   #   target array"
      ],
      "id": "uARxmgmFr0wj",
      "execution_count": null,
      "outputs": [
        {
          "output_type": "execute_result",
          "data": {
            "text/plain": [
              "array([1., 0., 1., 0., 1.])"
            ]
          },
          "metadata": {
            "tags": []
          },
          "execution_count": 18
        }
      ]
    },
    {
      "cell_type": "code",
      "metadata": {
        "id": "OIEepS38r0wj"
      },
      "source": [
        "#  Append the column with targets to testdata \n",
        "testdata['target'] = target    "
      ],
      "id": "OIEepS38r0wj",
      "execution_count": null,
      "outputs": []
    },
    {
      "cell_type": "code",
      "metadata": {
        "colab": {
          "base_uri": "https://localhost:8080/"
        },
        "id": "9WhxqqRzr0wj",
        "outputId": "093e1cfe-112f-41d8-9ab1-db5a4a160a4c"
      },
      "source": [
        "testdata[:5]  #  test data with the target column"
      ],
      "id": "9WhxqqRzr0wj",
      "execution_count": null,
      "outputs": [
        {
          "output_type": "execute_result",
          "data": {
            "text/html": [
              "<div>\n",
              "<style scoped>\n",
              "    .dataframe tbody tr th:only-of-type {\n",
              "        vertical-align: middle;\n",
              "    }\n",
              "\n",
              "    .dataframe tbody tr th {\n",
              "        vertical-align: top;\n",
              "    }\n",
              "\n",
              "    .dataframe thead th {\n",
              "        text-align: right;\n",
              "    }\n",
              "</style>\n",
              "<table border=\"1\" class=\"dataframe\">\n",
              "  <thead>\n",
              "    <tr style=\"text-align: right;\">\n",
              "      <th></th>\n",
              "      <th>enrollee_id</th>\n",
              "      <th>city</th>\n",
              "      <th>city_development_index</th>\n",
              "      <th>gender</th>\n",
              "      <th>relevant_experience</th>\n",
              "      <th>enrolled_university</th>\n",
              "      <th>education_level</th>\n",
              "      <th>major_discipline</th>\n",
              "      <th>experience</th>\n",
              "      <th>company_size</th>\n",
              "      <th>company_type</th>\n",
              "      <th>last_new_job</th>\n",
              "      <th>training_hours</th>\n",
              "      <th>target</th>\n",
              "    </tr>\n",
              "  </thead>\n",
              "  <tbody>\n",
              "    <tr>\n",
              "      <th>0</th>\n",
              "      <td>32403</td>\n",
              "      <td>city_41</td>\n",
              "      <td>0.827</td>\n",
              "      <td>Male</td>\n",
              "      <td>Has relevant experience</td>\n",
              "      <td>Full time course</td>\n",
              "      <td>Graduate</td>\n",
              "      <td>STEM</td>\n",
              "      <td>9</td>\n",
              "      <td>&lt;10</td>\n",
              "      <td>NaN</td>\n",
              "      <td>1</td>\n",
              "      <td>21</td>\n",
              "      <td>1.0</td>\n",
              "    </tr>\n",
              "    <tr>\n",
              "      <th>1</th>\n",
              "      <td>9858</td>\n",
              "      <td>city_103</td>\n",
              "      <td>0.920</td>\n",
              "      <td>Female</td>\n",
              "      <td>Has relevant experience</td>\n",
              "      <td>no_enrollment</td>\n",
              "      <td>Graduate</td>\n",
              "      <td>STEM</td>\n",
              "      <td>5</td>\n",
              "      <td>NaN</td>\n",
              "      <td>Pvt Ltd</td>\n",
              "      <td>1</td>\n",
              "      <td>98</td>\n",
              "      <td>0.0</td>\n",
              "    </tr>\n",
              "    <tr>\n",
              "      <th>2</th>\n",
              "      <td>31806</td>\n",
              "      <td>city_21</td>\n",
              "      <td>0.624</td>\n",
              "      <td>Male</td>\n",
              "      <td>No relevant experience</td>\n",
              "      <td>no_enrollment</td>\n",
              "      <td>High School</td>\n",
              "      <td>NaN</td>\n",
              "      <td>&lt;1</td>\n",
              "      <td>NaN</td>\n",
              "      <td>Pvt Ltd</td>\n",
              "      <td>never</td>\n",
              "      <td>15</td>\n",
              "      <td>1.0</td>\n",
              "    </tr>\n",
              "    <tr>\n",
              "      <th>3</th>\n",
              "      <td>27385</td>\n",
              "      <td>city_13</td>\n",
              "      <td>0.827</td>\n",
              "      <td>Male</td>\n",
              "      <td>Has relevant experience</td>\n",
              "      <td>no_enrollment</td>\n",
              "      <td>Masters</td>\n",
              "      <td>STEM</td>\n",
              "      <td>11</td>\n",
              "      <td>10/49</td>\n",
              "      <td>Pvt Ltd</td>\n",
              "      <td>1</td>\n",
              "      <td>39</td>\n",
              "      <td>0.0</td>\n",
              "    </tr>\n",
              "    <tr>\n",
              "      <th>4</th>\n",
              "      <td>27724</td>\n",
              "      <td>city_103</td>\n",
              "      <td>0.920</td>\n",
              "      <td>Male</td>\n",
              "      <td>Has relevant experience</td>\n",
              "      <td>no_enrollment</td>\n",
              "      <td>Graduate</td>\n",
              "      <td>STEM</td>\n",
              "      <td>&gt;20</td>\n",
              "      <td>10000+</td>\n",
              "      <td>Pvt Ltd</td>\n",
              "      <td>&gt;4</td>\n",
              "      <td>72</td>\n",
              "      <td>1.0</td>\n",
              "    </tr>\n",
              "  </tbody>\n",
              "</table>\n",
              "</div>"
            ],
            "text/plain": [
              "   enrollee_id      city  ...  training_hours target\n",
              "0        32403   city_41  ...              21    1.0\n",
              "1         9858  city_103  ...              98    0.0\n",
              "2        31806   city_21  ...              15    1.0\n",
              "3        27385   city_13  ...              39    0.0\n",
              "4        27724  city_103  ...              72    1.0\n",
              "\n",
              "[5 rows x 14 columns]"
            ]
          },
          "metadata": {
            "tags": []
          },
          "execution_count": 20
        }
      ]
    },
    {
      "cell_type": "code",
      "metadata": {
        "id": "r8PLhh9ar0wj"
      },
      "source": [
        "# Load the training set, provided as a CSV file\n",
        "training = pd.read_csv('aug_train.csv',sep=',')"
      ],
      "id": "r8PLhh9ar0wj",
      "execution_count": null,
      "outputs": []
    },
    {
      "cell_type": "code",
      "metadata": {
        "colab": {
          "base_uri": "https://localhost:8080/"
        },
        "id": "mwj8vRYrr0wk",
        "outputId": "3d293c12-fa02-4561-e533-85062290f65a"
      },
      "source": [
        "# Viewing the length\n",
        "len(training)"
      ],
      "id": "mwj8vRYrr0wk",
      "execution_count": null,
      "outputs": [
        {
          "output_type": "execute_result",
          "data": {
            "text/plain": [
              "19158"
            ]
          },
          "metadata": {
            "tags": []
          },
          "execution_count": 22
        }
      ]
    },
    {
      "cell_type": "code",
      "metadata": {
        "colab": {
          "base_uri": "https://localhost:8080/"
        },
        "id": "6XXu49kLr0wk",
        "outputId": "eb5eb8b6-2672-4b54-a69a-b4c0e9b63106"
      },
      "source": [
        "# Correct typo in 'relevent'\n",
        "training['relevent_experience'] = training['relevent_experience'].str.replace('relevent', 'relevant')\n",
        "training.rename (inplace=True, columns={'relevent_experience':'relevant_experience'})\n",
        "training.head()"
      ],
      "id": "6XXu49kLr0wk",
      "execution_count": null,
      "outputs": [
        {
          "output_type": "execute_result",
          "data": {
            "text/html": [
              "<div>\n",
              "<style scoped>\n",
              "    .dataframe tbody tr th:only-of-type {\n",
              "        vertical-align: middle;\n",
              "    }\n",
              "\n",
              "    .dataframe tbody tr th {\n",
              "        vertical-align: top;\n",
              "    }\n",
              "\n",
              "    .dataframe thead th {\n",
              "        text-align: right;\n",
              "    }\n",
              "</style>\n",
              "<table border=\"1\" class=\"dataframe\">\n",
              "  <thead>\n",
              "    <tr style=\"text-align: right;\">\n",
              "      <th></th>\n",
              "      <th>enrollee_id</th>\n",
              "      <th>city</th>\n",
              "      <th>city_development_index</th>\n",
              "      <th>gender</th>\n",
              "      <th>relevant_experience</th>\n",
              "      <th>enrolled_university</th>\n",
              "      <th>education_level</th>\n",
              "      <th>major_discipline</th>\n",
              "      <th>experience</th>\n",
              "      <th>company_size</th>\n",
              "      <th>company_type</th>\n",
              "      <th>last_new_job</th>\n",
              "      <th>training_hours</th>\n",
              "      <th>target</th>\n",
              "    </tr>\n",
              "  </thead>\n",
              "  <tbody>\n",
              "    <tr>\n",
              "      <th>0</th>\n",
              "      <td>8949</td>\n",
              "      <td>city_103</td>\n",
              "      <td>0.920</td>\n",
              "      <td>Male</td>\n",
              "      <td>Has relevant experience</td>\n",
              "      <td>no_enrollment</td>\n",
              "      <td>Graduate</td>\n",
              "      <td>STEM</td>\n",
              "      <td>&gt;20</td>\n",
              "      <td>NaN</td>\n",
              "      <td>NaN</td>\n",
              "      <td>1</td>\n",
              "      <td>36</td>\n",
              "      <td>1.0</td>\n",
              "    </tr>\n",
              "    <tr>\n",
              "      <th>1</th>\n",
              "      <td>29725</td>\n",
              "      <td>city_40</td>\n",
              "      <td>0.776</td>\n",
              "      <td>Male</td>\n",
              "      <td>No relevant experience</td>\n",
              "      <td>no_enrollment</td>\n",
              "      <td>Graduate</td>\n",
              "      <td>STEM</td>\n",
              "      <td>15</td>\n",
              "      <td>50-99</td>\n",
              "      <td>Pvt Ltd</td>\n",
              "      <td>&gt;4</td>\n",
              "      <td>47</td>\n",
              "      <td>0.0</td>\n",
              "    </tr>\n",
              "    <tr>\n",
              "      <th>2</th>\n",
              "      <td>11561</td>\n",
              "      <td>city_21</td>\n",
              "      <td>0.624</td>\n",
              "      <td>NaN</td>\n",
              "      <td>No relevant experience</td>\n",
              "      <td>Full time course</td>\n",
              "      <td>Graduate</td>\n",
              "      <td>STEM</td>\n",
              "      <td>5</td>\n",
              "      <td>NaN</td>\n",
              "      <td>NaN</td>\n",
              "      <td>never</td>\n",
              "      <td>83</td>\n",
              "      <td>0.0</td>\n",
              "    </tr>\n",
              "    <tr>\n",
              "      <th>3</th>\n",
              "      <td>33241</td>\n",
              "      <td>city_115</td>\n",
              "      <td>0.789</td>\n",
              "      <td>NaN</td>\n",
              "      <td>No relevant experience</td>\n",
              "      <td>NaN</td>\n",
              "      <td>Graduate</td>\n",
              "      <td>Business Degree</td>\n",
              "      <td>&lt;1</td>\n",
              "      <td>NaN</td>\n",
              "      <td>Pvt Ltd</td>\n",
              "      <td>never</td>\n",
              "      <td>52</td>\n",
              "      <td>1.0</td>\n",
              "    </tr>\n",
              "    <tr>\n",
              "      <th>4</th>\n",
              "      <td>666</td>\n",
              "      <td>city_162</td>\n",
              "      <td>0.767</td>\n",
              "      <td>Male</td>\n",
              "      <td>Has relevant experience</td>\n",
              "      <td>no_enrollment</td>\n",
              "      <td>Masters</td>\n",
              "      <td>STEM</td>\n",
              "      <td>&gt;20</td>\n",
              "      <td>50-99</td>\n",
              "      <td>Funded Startup</td>\n",
              "      <td>4</td>\n",
              "      <td>8</td>\n",
              "      <td>0.0</td>\n",
              "    </tr>\n",
              "  </tbody>\n",
              "</table>\n",
              "</div>"
            ],
            "text/plain": [
              "   enrollee_id      city  ...  training_hours target\n",
              "0         8949  city_103  ...              36    1.0\n",
              "1        29725   city_40  ...              47    0.0\n",
              "2        11561   city_21  ...              83    0.0\n",
              "3        33241  city_115  ...              52    1.0\n",
              "4          666  city_162  ...               8    0.0\n",
              "\n",
              "[5 rows x 14 columns]"
            ]
          },
          "metadata": {
            "tags": []
          },
          "execution_count": 23
        }
      ]
    },
    {
      "cell_type": "code",
      "metadata": {
        "id": "2O3HfFY9r0wk"
      },
      "source": [
        "# Save the test set with target column included\n",
        "testdata.to_csv ('aug_test1.csv', sep = ',')"
      ],
      "id": "2O3HfFY9r0wk",
      "execution_count": null,
      "outputs": []
    },
    {
      "cell_type": "code",
      "metadata": {
        "colab": {
          "base_uri": "https://localhost:8080/"
        },
        "collapsed": true,
        "id": "cVWSSOwnr0wl",
        "outputId": "a9302b9e-08fc-4b08-f4ad-9b5973299a71"
      },
      "source": [
        "# Checking to see how many null values\n",
        "training.isnull().sum()"
      ],
      "id": "cVWSSOwnr0wl",
      "execution_count": null,
      "outputs": [
        {
          "output_type": "execute_result",
          "data": {
            "text/plain": [
              "enrollee_id                  0\n",
              "city                         0\n",
              "city_development_index       0\n",
              "gender                    4508\n",
              "relevant_experience          0\n",
              "enrolled_university        386\n",
              "education_level            460\n",
              "major_discipline          2813\n",
              "experience                  65\n",
              "company_size              5938\n",
              "company_type              6140\n",
              "last_new_job               423\n",
              "training_hours               0\n",
              "target                       0\n",
              "dtype: int64"
            ]
          },
          "metadata": {
            "tags": []
          },
          "execution_count": 25
        }
      ]
    },
    {
      "cell_type": "code",
      "metadata": {
        "id": "rK1NC3QHr0wl"
      },
      "source": [
        "# Dropping all the nulls \n",
        "new_training = training.dropna()"
      ],
      "id": "rK1NC3QHr0wl",
      "execution_count": null,
      "outputs": []
    },
    {
      "cell_type": "code",
      "metadata": {
        "colab": {
          "base_uri": "https://localhost:8080/"
        },
        "collapsed": true,
        "id": "pLh5zgM5r0wl",
        "outputId": "07bb7a83-c79e-4ac2-da5d-b108d9f20d57"
      },
      "source": [
        "# Viewing new dataset\n",
        "new_training.shape"
      ],
      "id": "pLh5zgM5r0wl",
      "execution_count": null,
      "outputs": [
        {
          "output_type": "execute_result",
          "data": {
            "text/plain": [
              "(8955, 14)"
            ]
          },
          "metadata": {
            "tags": []
          },
          "execution_count": 27
        }
      ]
    },
    {
      "cell_type": "code",
      "metadata": {
        "colab": {
          "base_uri": "https://localhost:8080/"
        },
        "collapsed": true,
        "id": "f8v_zB9rr0wl",
        "outputId": "ceae3c57-f71e-4981-c208-1456b08945a3"
      },
      "source": [
        "# Checking that there are no more nulls\n",
        "new_training.isnull().sum()"
      ],
      "id": "f8v_zB9rr0wl",
      "execution_count": null,
      "outputs": [
        {
          "output_type": "execute_result",
          "data": {
            "text/plain": [
              "enrollee_id               0\n",
              "city                      0\n",
              "city_development_index    0\n",
              "gender                    0\n",
              "relevant_experience       0\n",
              "enrolled_university       0\n",
              "education_level           0\n",
              "major_discipline          0\n",
              "experience                0\n",
              "company_size              0\n",
              "company_type              0\n",
              "last_new_job              0\n",
              "training_hours            0\n",
              "target                    0\n",
              "dtype: int64"
            ]
          },
          "metadata": {
            "tags": []
          },
          "execution_count": 28
        }
      ]
    },
    {
      "cell_type": "code",
      "metadata": {
        "colab": {
          "base_uri": "https://localhost:8080/"
        },
        "collapsed": true,
        "id": "59aygCPMr0wm",
        "outputId": "91d3aa32-98aa-4622-d2e1-a6a7acf7024a"
      },
      "source": [
        "# Viewing head of new data\n",
        "new_training.head()"
      ],
      "id": "59aygCPMr0wm",
      "execution_count": null,
      "outputs": [
        {
          "output_type": "execute_result",
          "data": {
            "text/html": [
              "<div>\n",
              "<style scoped>\n",
              "    .dataframe tbody tr th:only-of-type {\n",
              "        vertical-align: middle;\n",
              "    }\n",
              "\n",
              "    .dataframe tbody tr th {\n",
              "        vertical-align: top;\n",
              "    }\n",
              "\n",
              "    .dataframe thead th {\n",
              "        text-align: right;\n",
              "    }\n",
              "</style>\n",
              "<table border=\"1\" class=\"dataframe\">\n",
              "  <thead>\n",
              "    <tr style=\"text-align: right;\">\n",
              "      <th></th>\n",
              "      <th>enrollee_id</th>\n",
              "      <th>city</th>\n",
              "      <th>city_development_index</th>\n",
              "      <th>gender</th>\n",
              "      <th>relevant_experience</th>\n",
              "      <th>enrolled_university</th>\n",
              "      <th>education_level</th>\n",
              "      <th>major_discipline</th>\n",
              "      <th>experience</th>\n",
              "      <th>company_size</th>\n",
              "      <th>company_type</th>\n",
              "      <th>last_new_job</th>\n",
              "      <th>training_hours</th>\n",
              "      <th>target</th>\n",
              "    </tr>\n",
              "  </thead>\n",
              "  <tbody>\n",
              "    <tr>\n",
              "      <th>1</th>\n",
              "      <td>29725</td>\n",
              "      <td>city_40</td>\n",
              "      <td>0.776</td>\n",
              "      <td>Male</td>\n",
              "      <td>No relevant experience</td>\n",
              "      <td>no_enrollment</td>\n",
              "      <td>Graduate</td>\n",
              "      <td>STEM</td>\n",
              "      <td>15</td>\n",
              "      <td>50-99</td>\n",
              "      <td>Pvt Ltd</td>\n",
              "      <td>&gt;4</td>\n",
              "      <td>47</td>\n",
              "      <td>0.0</td>\n",
              "    </tr>\n",
              "    <tr>\n",
              "      <th>4</th>\n",
              "      <td>666</td>\n",
              "      <td>city_162</td>\n",
              "      <td>0.767</td>\n",
              "      <td>Male</td>\n",
              "      <td>Has relevant experience</td>\n",
              "      <td>no_enrollment</td>\n",
              "      <td>Masters</td>\n",
              "      <td>STEM</td>\n",
              "      <td>&gt;20</td>\n",
              "      <td>50-99</td>\n",
              "      <td>Funded Startup</td>\n",
              "      <td>4</td>\n",
              "      <td>8</td>\n",
              "      <td>0.0</td>\n",
              "    </tr>\n",
              "    <tr>\n",
              "      <th>7</th>\n",
              "      <td>402</td>\n",
              "      <td>city_46</td>\n",
              "      <td>0.762</td>\n",
              "      <td>Male</td>\n",
              "      <td>Has relevant experience</td>\n",
              "      <td>no_enrollment</td>\n",
              "      <td>Graduate</td>\n",
              "      <td>STEM</td>\n",
              "      <td>13</td>\n",
              "      <td>&lt;10</td>\n",
              "      <td>Pvt Ltd</td>\n",
              "      <td>&gt;4</td>\n",
              "      <td>18</td>\n",
              "      <td>1.0</td>\n",
              "    </tr>\n",
              "    <tr>\n",
              "      <th>8</th>\n",
              "      <td>27107</td>\n",
              "      <td>city_103</td>\n",
              "      <td>0.920</td>\n",
              "      <td>Male</td>\n",
              "      <td>Has relevant experience</td>\n",
              "      <td>no_enrollment</td>\n",
              "      <td>Graduate</td>\n",
              "      <td>STEM</td>\n",
              "      <td>7</td>\n",
              "      <td>50-99</td>\n",
              "      <td>Pvt Ltd</td>\n",
              "      <td>1</td>\n",
              "      <td>46</td>\n",
              "      <td>1.0</td>\n",
              "    </tr>\n",
              "    <tr>\n",
              "      <th>11</th>\n",
              "      <td>23853</td>\n",
              "      <td>city_103</td>\n",
              "      <td>0.920</td>\n",
              "      <td>Male</td>\n",
              "      <td>Has relevant experience</td>\n",
              "      <td>no_enrollment</td>\n",
              "      <td>Graduate</td>\n",
              "      <td>STEM</td>\n",
              "      <td>5</td>\n",
              "      <td>5000-9999</td>\n",
              "      <td>Pvt Ltd</td>\n",
              "      <td>1</td>\n",
              "      <td>108</td>\n",
              "      <td>0.0</td>\n",
              "    </tr>\n",
              "  </tbody>\n",
              "</table>\n",
              "</div>"
            ],
            "text/plain": [
              "    enrollee_id      city  ...  training_hours target\n",
              "1         29725   city_40  ...              47    0.0\n",
              "4           666  city_162  ...               8    0.0\n",
              "7           402   city_46  ...              18    1.0\n",
              "8         27107  city_103  ...              46    1.0\n",
              "11        23853  city_103  ...             108    0.0\n",
              "\n",
              "[5 rows x 14 columns]"
            ]
          },
          "metadata": {
            "tags": []
          },
          "execution_count": 29
        }
      ]
    },
    {
      "cell_type": "markdown",
      "metadata": {
        "id": "rKHG-z6s8Tgy"
      },
      "source": [
        "## 3. Exploratory Data Analysis (EDA)"
      ],
      "id": "rKHG-z6s8Tgy"
    },
    {
      "cell_type": "code",
      "metadata": {
        "colab": {
          "base_uri": "https://localhost:8080/"
        },
        "id": "z_cM7Ybur0wm",
        "outputId": "1457dbd8-6116-4c78-cc72-3a9df08ec627"
      },
      "source": [
        "# Counting the target data, showing that it is imbalanced\n",
        "new_training.value_counts('target')"
      ],
      "id": "z_cM7Ybur0wm",
      "execution_count": null,
      "outputs": [
        {
          "output_type": "execute_result",
          "data": {
            "text/plain": [
              "target\n",
              "0.0    7472\n",
              "1.0    1483\n",
              "dtype: int64"
            ]
          },
          "metadata": {
            "tags": []
          },
          "execution_count": 30
        }
      ]
    },
    {
      "cell_type": "code",
      "metadata": {
        "colab": {
          "base_uri": "https://localhost:8080/"
        },
        "id": "8m4ZikTCr0wm",
        "outputId": "203ec80c-594c-4947-e850-1648157b2893"
      },
      "source": [
        "# Plotting the amount of target data, showing that it is imbalanced\n",
        "sns.displot(new_training['target'])\n",
        "plt.show()"
      ],
      "id": "8m4ZikTCr0wm",
      "execution_count": null,
      "outputs": [
        {
          "output_type": "display_data",
          "data": {
            "image/png": "[encoded data removed]",
            "text/plain": [
              "<Figure size 360x360 with 1 Axes>"
            ]
          },
          "metadata": {
            "tags": []
          }
        }
      ]
    },
    {
      "cell_type": "code",
      "metadata": {
        "id": "-Rgy5Hs3r0wn"
      },
      "source": [
        "# Graph of the number of genders reported in dataset\n",
        "sns.set_theme(style=\"darkgrid\")\n",
        "sns.displot(new_training['gender'])\n",
        "plt.xlabel('Reported Genders')\n",
        "plt.ylabel('Count')\n",
        "plt.title('Reported Genders')\n",
        "plt.show()"
      ],
      "id": "-Rgy5Hs3r0wn",
      "execution_count": null,
      "outputs": []
    },
    {
      "cell_type": "code",
      "metadata": {
        "id": "EBq_Iw_fr0wn"
      },
      "source": [
        "# Bargraph of the number of people who are willing to leave/stay based on gender\n",
        "sns.set_theme(style=\"whitegrid\")\n",
        "sns.countplot(x='target',hue='gender',data=new_training)\n",
        "plt.xlabel('Target')\n",
        "plt.ylabel('Count')\n",
        "plt.title('Gender and Target Data')\n",
        "plt.xticks([0.0, 1.0], ['Stay', 'Leave'])\n",
        "plt.show()"
      ],
      "id": "EBq_Iw_fr0wn",
      "execution_count": null,
      "outputs": []
    },
    {
      "cell_type": "code",
      "metadata": {
        "id": "jg_tXKS_r0wn",
        "scrolled": true
      },
      "source": [
        "# Bargraph of the number of people who are willing to leave/stay in dataset\n",
        "sns.countplot(x='target', data = new_training)\n",
        "plt.xlabel('Target')\n",
        "plt.ylabel('Count')\n",
        "plt.title('Projected to Leave Training Hours Completed')\n",
        "plt.xticks([0.0, 1.0], ['Stay', 'Leave'])\n",
        "plt.show()"
      ],
      "id": "jg_tXKS_r0wn",
      "execution_count": null,
      "outputs": []
    },
    {
      "cell_type": "code",
      "metadata": {
        "id": "rz05kALIr0wn"
      },
      "source": [
        "# Barplot of the genders of people who are willing to leave/stay and the training hours completed\n",
        "sns.set_theme(style=\"dark\")\n",
        "sns.barplot(x=\"target\", y=\"training_hours\", hue=\"gender\", data=new_training)\n",
        "plt.xticks([0.0, 1.0], ['Stay', 'Leave'])\n",
        "plt.xlabel('Target')\n",
        "plt.ylabel('Training Hours Completed')\n",
        "plt.title('Gender of Those Projected to Leave and Training Hours Completed')\n",
        "plt.show()"
      ],
      "id": "rz05kALIr0wn",
      "execution_count": null,
      "outputs": []
    },
    {
      "cell_type": "code",
      "metadata": {
        "id": "0aAYMtJ8r0wo"
      },
      "source": [
        "# Bargraph counting those with relevant experience based on gender\n",
        "sns.set_theme(style=\"darkgrid\")\n",
        "sns.countplot(x='relevant_experience', hue = 'gender',data=new_training)\n",
        "plt.xlabel('Relevant Experience')\n",
        "plt.ylabel('Count')\n",
        "plt.title('Relevant Experience and Gender')\n",
        "plt.show()"
      ],
      "id": "0aAYMtJ8r0wo",
      "execution_count": null,
      "outputs": []
    },
    {
      "cell_type": "code",
      "metadata": {
        "id": "5hkv1L7or0wo",
        "scrolled": true
      },
      "source": [
        "# Bargraph counting those who have relevent experience based on likelihood of leaving/staying\n",
        "sns.set_theme(style=\"whitegrid\")\n",
        "sns.countplot(x ='relevant_experience', hue ='target',data=new_training)\n",
        "plt.xlabel('Relevant Experience')\n",
        "plt.ylabel('Count')\n",
        "plt.title('Relevant Experience')\n",
        "plt.legend(('Stay','Leave'))\n",
        "plt.show()"
      ],
      "id": "5hkv1L7or0wo",
      "execution_count": null,
      "outputs": []
    },
    {
      "cell_type": "code",
      "metadata": {
        "id": "WhbbDE7Qr0wo"
      },
      "source": [
        "# Graph on how many different years of experiences employeees have\n",
        "experience_order = ['<1','1','2','3','4','5','6','7','8','9','10','11','12','13','14','15','16','17','18','19','20','>20']\n",
        "sns.countplot(x='experience',data=new_training, order=experience_order)\n",
        "plt.xlabel('Years of Experience')\n",
        "plt.ylabel('Count')\n",
        "plt.title('Experience')\n",
        "plt.show()\n"
      ],
      "id": "WhbbDE7Qr0wo",
      "execution_count": null,
      "outputs": []
    },
    {
      "cell_type": "code",
      "metadata": {
        "id": "XM4TiWXQr0wp",
        "scrolled": true
      },
      "source": [
        "# Bargraph counting the types of companies in dataset\n",
        "sns.set_theme(style=\"white\")\n",
        "sns.countplot(y='company_type',data=new_training)\n",
        "plt.xlabel('Count')\n",
        "plt.ylabel('Company Type')\n",
        "plt.title('Company Types')\n",
        "plt.show()"
      ],
      "id": "XM4TiWXQr0wp",
      "execution_count": null,
      "outputs": []
    },
    {
      "cell_type": "code",
      "metadata": {
        "id": "W05kT2QKr0wp"
      },
      "source": [
        "# Graph counting the types of companies and how many employees are/are not willing to leave\n",
        "sns.set_theme(style=\"dark\")\n",
        "sns.countplot(y='company_type',hue= 'target', data=new_training)\n",
        "plt.legend(('Stay','Leave'), loc='lower center')\n",
        "plt.xlabel('Count')\n",
        "plt.ylabel('Company Type')\n",
        "plt.title('Company Type')\n",
        "plt.show()"
      ],
      "id": "W05kT2QKr0wp",
      "execution_count": null,
      "outputs": []
    },
    {
      "cell_type": "code",
      "metadata": {
        "id": "gyYl_KSbr0wq"
      },
      "source": [
        ""
      ],
      "id": "gyYl_KSbr0wq",
      "execution_count": null,
      "outputs": []
    },
    {
      "cell_type": "markdown",
      "metadata": {
        "id": "rJI4UQXO8zFl"
      },
      "source": [
        "## 4. Simulate a nonparametric inference of the Median for a quantitative variable\n"
      ],
      "id": "rJI4UQXO8zFl"
    },
    {
      "cell_type": "markdown",
      "metadata": {
        "id": "d6td4ACGso-j"
      },
      "source": [
        "4a. Bootstrapping"
      ],
      "id": "d6td4ACGso-j"
    },
    {
      "cell_type": "code",
      "metadata": {
        "id": "Wdypd7bWr0wq"
      },
      "source": [
        "# (bootstrapping inference of median of 'training_hours' array)\n",
        "print (\"\\nMedian of the original training set: \", training['training_hours'].median())   #  original sample median\n",
        "\n",
        "median_boot_samples = []\n",
        "for i in range (1000):\n",
        "  boot_sample = np.random.choice(training['training_hours'], 1000)\n",
        "  median_boot_samples.append(np.median(boot_sample))\n",
        "\n",
        "bootstrap_median = np.median(median_boot_samples)\n",
        "print (\"\\nBootstrap median (red line): \", bootstrap_median)        # compare bootstrap median with original\n",
        "\n",
        "conf_int = np.percentile(median_boot_samples, [2.5, 97.5])     #confidence interval, central 95%\n",
        "print (\"\\n95% Confidence interval (yellow lines):\", conf_int,'\\n\\n')\n",
        "\n",
        "sns.kdeplot (median_boot_samples)      # plot the distribution, indicate median, conf. int.\n",
        "plt.axvline (bootstrap_median, color = 'red')\n",
        "plt.xlabel('Training Hours')\n",
        "plt.ylabel('Density')\n",
        "plt.title('Distribution of Training Hours')\n",
        "for ends in conf_int:\n",
        "  plt.axvline (ends, color = 'yellow')\n",
        "plt.show()\n"
      ],
      "id": "Wdypd7bWr0wq",
      "execution_count": null,
      "outputs": []
    },
    {
      "cell_type": "code",
      "metadata": {
        "id": "8U0CDf8tr0wq"
      },
      "source": [
        "## implement bootstrapping to infer the median of 'training_hours', using sklearn resample\n",
        "from sklearn.utils import resample\n",
        "\n",
        "print (\"\\nMedian of the original training set: \", training['training_hours'].median())   #  original sample median\n",
        "\n",
        "median_boot_samples = []\n",
        "\n",
        "for i in range (100):\n",
        "  boot_sample = resample(training['training_hours'], replace=True, random_state=1)\n",
        "  median_boot_samples.append (np.median(boot_sample))\n",
        "\n",
        "bootstrap_median = np.median(median_boot_samples)\n",
        "print (\"\\nBootstrap median (red line): \", bootstrap_median)        # compare bootstrap median with original"
      ],
      "id": "8U0CDf8tr0wq",
      "execution_count": null,
      "outputs": []
    },
    {
      "cell_type": "markdown",
      "metadata": {
        "id": "sMlhrTpDsyjw"
      },
      "source": [
        "## 5. Calculating probabilites"
      ],
      "id": "sMlhrTpDsyjw"
    },
    {
      "cell_type": "code",
      "metadata": {
        "id": "5rohl8VAr0wq"
      },
      "source": [
        "# Calculate probability of leaving for each category,  defined as P = Leave/(Leave+Stay)"
      ],
      "id": "5rohl8VAr0wq",
      "execution_count": null,
      "outputs": []
    },
    {
      "cell_type": "code",
      "metadata": {
        "id": "vTsD0DmvTD80"
      },
      "source": [
        "counts = new_training.groupby(['gender','target']).size().reset_index(name='counts')\n",
        "counts"
      ],
      "id": "vTsD0DmvTD80",
      "execution_count": null,
      "outputs": []
    },
    {
      "cell_type": "code",
      "metadata": {
        "id": "vS6wCHvTYJwI"
      },
      "source": [
        "Pfem = counts.loc[1,'counts'] / (counts.loc[0,'counts'] + counts.loc[1,'counts'])\n",
        "Pmal = counts.loc[3,'counts'] / (counts.loc[2,'counts'] + counts.loc[3,'counts'])\n",
        "Poth = counts.loc[5,'counts'] / (counts.loc[4,'counts'] + counts.loc[5,'counts'])\n",
        "print ('\\nProbabilities\\nFemales: ', Pfem, '\\nMales: ', Pmal,'\\nOther: ', Poth)"
      ],
      "id": "vS6wCHvTYJwI",
      "execution_count": null,
      "outputs": []
    },
    {
      "cell_type": "code",
      "metadata": {
        "id": "tqhiq7X8o6LM"
      },
      "source": [
        "counts = new_training.groupby(['education_level','target']).size().reset_index(name='counts')\n",
        "counts"
      ],
      "id": "tqhiq7X8o6LM",
      "execution_count": null,
      "outputs": []
    },
    {
      "cell_type": "code",
      "metadata": {
        "id": "E0UPhfZyrCUJ"
      },
      "source": [
        "Pgra = counts.loc[1,'counts'] / (counts.loc[0,'counts'] + counts.loc[1,'counts'])\n",
        "Pmst = counts.loc[3,'counts'] / (counts.loc[2,'counts'] + counts.loc[3,'counts'])\n",
        "Pphd = counts.loc[5,'counts'] / (counts.loc[4,'counts'] + counts.loc[5,'counts'])\n",
        "print ('\\nProbabilities\\nGraduates: ', Pgra,'\\nMasters: ', Pmst,'\\nPhDs: ', Pphd)"
      ],
      "id": "E0UPhfZyrCUJ",
      "execution_count": null,
      "outputs": []
    },
    {
      "cell_type": "code",
      "metadata": {
        "id": "X1xTnBKn6bYX"
      },
      "source": [
        "# Probabilities for subcategories:   gender in each education_level\n",
        "\n",
        "counts = new_training.groupby(['education_level','gender','target']).size().reset_index(name='counts')\n",
        "counts"
      ],
      "id": "X1xTnBKn6bYX",
      "execution_count": null,
      "outputs": []
    },
    {
      "cell_type": "code",
      "metadata": {
        "id": "G2FaFszK9MRR"
      },
      "source": [
        "Pgraf = counts.loc[1,'counts'] / (counts.loc[0,'counts'] + counts.loc[1,'counts'])\n",
        "Pmstf = counts.loc[7,'counts'] / (counts.loc[6,'counts'] + counts.loc[3,'counts'])\n",
        "Pphdf = counts.loc[12,'counts'] / (counts.loc[11,'counts'] + counts.loc[5,'counts'])\n",
        "Pgram = counts.loc[3,'counts'] / (counts.loc[2,'counts'] + counts.loc[1,'counts'])\n",
        "Pmstm = counts.loc[9,'counts'] / (counts.loc[8,'counts'] + counts.loc[3,'counts'])\n",
        "Pphdm = counts.loc[14,'counts'] / (counts.loc[13,'counts'] + counts.loc[5,'counts'])\n",
        "Pgrao = counts.loc[5,'counts'] / (counts.loc[4,'counts'] + counts.loc[1,'counts'])\n",
        "Pmsto = 0. / (counts.loc[2,'counts'] + counts.loc[3,'counts'])\n",
        "Pphdo = 0. / (counts.loc[4,'counts'] + counts.loc[5,'counts'])\n",
        "print ('Probabilities\\nFemale graduates: ', Pgraf,'\\nFemale masters:', Pmstf,'\\nFemale PhDs:', Pphdf)\n",
        "print ('\\nMale graduates: ', Pgram,'\\nMale masters:', Pmstm,'\\nMale PhDs:', Pphdm)\n",
        "print ('\\nOther graduates: ', Pgrao,'\\nOther masters:' ,Pmsto,'\\nOther PhDs:', Pphdo)"
      ],
      "id": "G2FaFszK9MRR",
      "execution_count": null,
      "outputs": []
    },
    {
      "cell_type": "code",
      "metadata": {
        "id": "osY1mX0S_rD6"
      },
      "source": [
        "# Looking at other categorical variables: major_discipline and the average target (1: likely to leave)\n",
        "new_training.drop('enrollee_id', axis=1).groupby('major_discipline').mean()"
      ],
      "id": "osY1mX0S_rD6",
      "execution_count": null,
      "outputs": []
    },
    {
      "cell_type": "code",
      "metadata": {
        "id": "iAz1JOBQDqd4"
      },
      "source": [
        "# Looking at other categorical variables: company_type and the average target\n",
        "new_training.drop('enrollee_id', axis=1).groupby('company_type').mean()"
      ],
      "id": "iAz1JOBQDqd4",
      "execution_count": null,
      "outputs": []
    },
    {
      "cell_type": "code",
      "metadata": {
        "id": "xVbvefo1FRTM"
      },
      "source": [
        "# Looking at other categorical variables: relevant_experience and the average target\n",
        "new_training.drop('enrollee_id', axis=1).groupby('relevant_experience').mean()"
      ],
      "id": "xVbvefo1FRTM",
      "execution_count": null,
      "outputs": []
    },
    {
      "cell_type": "code",
      "metadata": {
        "id": "yM3uYj_qFg_R"
      },
      "source": [
        "# Plotting the years of experience against average target\n",
        "\n",
        "dftemp = new_training.drop('enrollee_id', axis=1).groupby('experience', as_index=False)['target'].mean()\n",
        "dftemp.loc[dftemp.experience == '>20', 'experience'] = 25\n",
        "dftemp.loc[dftemp.experience == '<1', 'experience'] = 0.5\n",
        "dftemp.experience = pd.to_numeric(dftemp.experience)\n",
        "dftemp"
      ],
      "id": "yM3uYj_qFg_R",
      "execution_count": null,
      "outputs": []
    },
    {
      "cell_type": "code",
      "metadata": {
        "id": "4tuuTgjvXYSv"
      },
      "source": [
        "x, y = dftemp.experience, dftemp.target\n",
        "plt.scatter(x, y, marker='o') ;\n",
        "plt.xlabel('Experience')\n",
        "plt.ylabel('Probability')\n",
        "plt.title ('Likelihood of Leaving Decreases with Years of Experience')\n",
        "plt.show()\n"
      ],
      "id": "4tuuTgjvXYSv",
      "execution_count": null,
      "outputs": []
    },
    {
      "cell_type": "code",
      "metadata": {
        "id": "KPDFgY21s-mC"
      },
      "source": [
        "# Getting basic statistics on city development index\n",
        "new_training['city_development_index'].describe()"
      ],
      "id": "KPDFgY21s-mC",
      "execution_count": null,
      "outputs": []
    },
    {
      "cell_type": "code",
      "metadata": {
        "id": "qGgAZepItSh9"
      },
      "source": [
        "# Binning the city_development_index to create 'City_class\" and examine average target for each class\n",
        "bins = [0.4,.82,.919,.92,.96]\n",
        "labels = ['.40-.82', '.821-.91','.911-.930','.931-.960']\n",
        "new_training['City_class'] = pd.cut(new_training.city_development_index, bins, labels=labels)\n",
        "\n",
        "new_training.drop('enrollee_id', axis=1).groupby('City_class', as_index=False).mean()"
      ],
      "id": "qGgAZepItSh9",
      "execution_count": null,
      "outputs": []
    },
    {
      "cell_type": "code",
      "metadata": {
        "id": "_OoSvTlI2xK1"
      },
      "source": [
        "# Creating 'Training_hr' as bins of training hours to examine mean target for each class\n",
        "new_training['experience'].describe()"
      ],
      "id": "_OoSvTlI2xK1",
      "execution_count": null,
      "outputs": []
    },
    {
      "cell_type": "code",
      "metadata": {
        "colab": {
          "background_save": true
        },
        "id": "cBiYVht52rMo",
        "outputId": "9cb93099-bf6d-418e-dbf7-446491e39ee0"
      },
      "source": [
        "bins = [0,5,9,12,16,20]\n",
        "labels = ['0-5', '5.1-9','9.1-12','12.1-16', '16.1-20']\n",
        "new_training['Training_hr'] = pd.cut(new_training.training_hours, bins, labels=labels)\n",
        "\n",
        "new_training.drop('enrollee_id', axis=1).groupby('Training_hr', as_index=False).mean()"
      ],
      "id": "cBiYVht52rMo",
      "execution_count": null,
      "outputs": [
        {
          "output_type": "stream",
          "text": [
            "/usr/local/lib/python3.7/dist-packages/ipykernel_launcher.py:3: SettingWithCopyWarning: \n",
            "A value is trying to be set on a copy of a slice from a DataFrame.\n",
            "Try using .loc[row_indexer,col_indexer] = value instead\n",
            "\n",
            "See the caveats in the documentation: https://pandas.pydata.org/pandas-docs/stable/user_guide/indexing.html#returning-a-view-versus-a-copy\n",
            "  This is separate from the ipykernel package so we can avoid doing imports until\n"
          ],
          "name": "stderr"
        },
        {
          "output_type": "execute_result",
          "data": {
            "text/html": [
              "<div>\n",
              "<style scoped>\n",
              "    .dataframe tbody tr th:only-of-type {\n",
              "        vertical-align: middle;\n",
              "    }\n",
              "\n",
              "    .dataframe tbody tr th {\n",
              "        vertical-align: top;\n",
              "    }\n",
              "\n",
              "    .dataframe thead th {\n",
              "        text-align: right;\n",
              "    }\n",
              "</style>\n",
              "<table border=\"1\" class=\"dataframe\">\n",
              "  <thead>\n",
              "    <tr style=\"text-align: right;\">\n",
              "      <th></th>\n",
              "      <th>Training_hr</th>\n",
              "      <th>city_development_index</th>\n",
              "      <th>training_hours</th>\n",
              "      <th>target</th>\n",
              "    </tr>\n",
              "  </thead>\n",
              "  <tbody>\n",
              "    <tr>\n",
              "      <th>0</th>\n",
              "      <td>0-5</td>\n",
              "      <td>0.833728</td>\n",
              "      <td>3.664000</td>\n",
              "      <td>0.192000</td>\n",
              "    </tr>\n",
              "    <tr>\n",
              "      <th>1</th>\n",
              "      <td>5.1-9</td>\n",
              "      <td>0.845561</td>\n",
              "      <td>7.493243</td>\n",
              "      <td>0.182432</td>\n",
              "    </tr>\n",
              "    <tr>\n",
              "      <th>2</th>\n",
              "      <td>9.1-12</td>\n",
              "      <td>0.844767</td>\n",
              "      <td>11.037433</td>\n",
              "      <td>0.171123</td>\n",
              "    </tr>\n",
              "    <tr>\n",
              "      <th>3</th>\n",
              "      <td>12.1-16</td>\n",
              "      <td>0.848122</td>\n",
              "      <td>14.547500</td>\n",
              "      <td>0.167500</td>\n",
              "    </tr>\n",
              "    <tr>\n",
              "      <th>4</th>\n",
              "      <td>16.1-20</td>\n",
              "      <td>0.848012</td>\n",
              "      <td>18.480249</td>\n",
              "      <td>0.149688</td>\n",
              "    </tr>\n",
              "  </tbody>\n",
              "</table>\n",
              "</div>"
            ],
            "text/plain": [
              "  Training_hr  city_development_index  training_hours    target\n",
              "0         0-5                0.833728        3.664000  0.192000\n",
              "1       5.1-9                0.845561        7.493243  0.182432\n",
              "2      9.1-12                0.844767       11.037433  0.171123\n",
              "3     12.1-16                0.848122       14.547500  0.167500\n",
              "4     16.1-20                0.848012       18.480249  0.149688"
            ]
          },
          "metadata": {
            "tags": []
          },
          "execution_count": 0
        }
      ]
    },
    {
      "cell_type": "code",
      "metadata": {
        "colab": {
          "background_save": true
        },
        "id": "3cULK4EO557U",
        "outputId": "44a2c604-f3d5-4d1f-a95d-5b3d18b99688"
      },
      "source": [
        "# Looking at company_type\n",
        "new_training['company_type'].describe()"
      ],
      "id": "3cULK4EO557U",
      "execution_count": null,
      "outputs": [
        {
          "output_type": "execute_result",
          "data": {
            "text/plain": [
              "count        8955\n",
              "unique          6\n",
              "top       Pvt Ltd\n",
              "freq         6794\n",
              "Name: company_type, dtype: object"
            ]
          },
          "metadata": {
            "tags": []
          },
          "execution_count": 0
        }
      ]
    },
    {
      "cell_type": "code",
      "metadata": {
        "colab": {
          "background_save": true
        },
        "id": "rAkEDTsc6zX7",
        "outputId": "24b271cb-c35a-4cac-dbca-29e0618b1939"
      },
      "source": [
        "# Looking at years since 'last_new_job'\n",
        "new_training['last_new_job'].describe()"
      ],
      "id": "rAkEDTsc6zX7",
      "execution_count": null,
      "outputs": [
        {
          "output_type": "execute_result",
          "data": {
            "text/plain": [
              "count     8955\n",
              "unique       6\n",
              "top          1\n",
              "freq      3838\n",
              "Name: last_new_job, dtype: object"
            ]
          },
          "metadata": {
            "tags": []
          },
          "execution_count": 0
        }
      ]
    },
    {
      "cell_type": "markdown",
      "metadata": {
        "id": "9mslsbqDyFmN"
      },
      "source": [
        "## 6. Modeling with scikit-learn LogisticRegression"
      ],
      "id": "9mslsbqDyFmN"
    },
    {
      "cell_type": "code",
      "metadata": {
        "colab": {
          "base_uri": "https://localhost:8080/"
        },
        "id": "IXwqWxAYoBsn",
        "outputId": "3d244014-d2fd-4315-8347-12461282580d"
      },
      "source": [
        "# Clean original testdata and combine with original training data\n",
        "\n",
        "testdata.isnull().sum()"
      ],
      "id": "IXwqWxAYoBsn",
      "execution_count": null,
      "outputs": [
        {
          "output_type": "execute_result",
          "data": {
            "text/plain": [
              "enrollee_id                 0\n",
              "city                        0\n",
              "city_development_index      0\n",
              "gender                    508\n",
              "relevant_experience         0\n",
              "enrolled_university        31\n",
              "education_level            52\n",
              "major_discipline          312\n",
              "experience                  5\n",
              "company_size              622\n",
              "company_type              634\n",
              "last_new_job               40\n",
              "training_hours              0\n",
              "target                      0\n",
              "dtype: int64"
            ]
          },
          "metadata": {
            "tags": []
          },
          "execution_count": 156
        }
      ]
    },
    {
      "cell_type": "code",
      "metadata": {
        "colab": {
          "base_uri": "https://localhost:8080/"
        },
        "id": "1OifKexgpCIC",
        "outputId": "d541d9e3-cca8-4a45-85bd-5424923df8f1"
      },
      "source": [
        "new_testdata = testdata.dropna()\n",
        "new_testdata.isnull().sum()"
      ],
      "id": "1OifKexgpCIC",
      "execution_count": null,
      "outputs": [
        {
          "output_type": "execute_result",
          "data": {
            "text/plain": [
              "enrollee_id               0\n",
              "city                      0\n",
              "city_development_index    0\n",
              "gender                    0\n",
              "relevant_experience       0\n",
              "enrolled_university       0\n",
              "education_level           0\n",
              "major_discipline          0\n",
              "experience                0\n",
              "company_size              0\n",
              "company_type              0\n",
              "last_new_job              0\n",
              "training_hours            0\n",
              "target                    0\n",
              "dtype: int64"
            ]
          },
          "metadata": {
            "tags": []
          },
          "execution_count": 157
        }
      ]
    },
    {
      "cell_type": "code",
      "metadata": {
        "colab": {
          "base_uri": "https://localhost:8080/",
          "height": 367
        },
        "id": "mviULat5pCD5",
        "outputId": "67448601-850d-466e-bcc1-cee5be1adedf"
      },
      "source": [
        "new_testdata[:10]"
      ],
      "id": "mviULat5pCD5",
      "execution_count": null,
      "outputs": [
        {
          "output_type": "execute_result",
          "data": {
            "text/html": [
              "<div>\n",
              "<style scoped>\n",
              "    .dataframe tbody tr th:only-of-type {\n",
              "        vertical-align: middle;\n",
              "    }\n",
              "\n",
              "    .dataframe tbody tr th {\n",
              "        vertical-align: top;\n",
              "    }\n",
              "\n",
              "    .dataframe thead th {\n",
              "        text-align: right;\n",
              "    }\n",
              "</style>\n",
              "<table border=\"1\" class=\"dataframe\">\n",
              "  <thead>\n",
              "    <tr style=\"text-align: right;\">\n",
              "      <th></th>\n",
              "      <th>enrollee_id</th>\n",
              "      <th>city</th>\n",
              "      <th>city_development_index</th>\n",
              "      <th>gender</th>\n",
              "      <th>relevant_experience</th>\n",
              "      <th>enrolled_university</th>\n",
              "      <th>education_level</th>\n",
              "      <th>major_discipline</th>\n",
              "      <th>experience</th>\n",
              "      <th>company_size</th>\n",
              "      <th>company_type</th>\n",
              "      <th>last_new_job</th>\n",
              "      <th>training_hours</th>\n",
              "      <th>target</th>\n",
              "    </tr>\n",
              "  </thead>\n",
              "  <tbody>\n",
              "    <tr>\n",
              "      <th>3</th>\n",
              "      <td>27385</td>\n",
              "      <td>city_13</td>\n",
              "      <td>0.827</td>\n",
              "      <td>Male</td>\n",
              "      <td>Has relevant experience</td>\n",
              "      <td>no_enrollment</td>\n",
              "      <td>Masters</td>\n",
              "      <td>STEM</td>\n",
              "      <td>11</td>\n",
              "      <td>10/49</td>\n",
              "      <td>Pvt Ltd</td>\n",
              "      <td>1</td>\n",
              "      <td>39</td>\n",
              "      <td>0.0</td>\n",
              "    </tr>\n",
              "    <tr>\n",
              "      <th>4</th>\n",
              "      <td>27724</td>\n",
              "      <td>city_103</td>\n",
              "      <td>0.920</td>\n",
              "      <td>Male</td>\n",
              "      <td>Has relevant experience</td>\n",
              "      <td>no_enrollment</td>\n",
              "      <td>Graduate</td>\n",
              "      <td>STEM</td>\n",
              "      <td>&gt;20</td>\n",
              "      <td>10000+</td>\n",
              "      <td>Pvt Ltd</td>\n",
              "      <td>&gt;4</td>\n",
              "      <td>72</td>\n",
              "      <td>1.0</td>\n",
              "    </tr>\n",
              "    <tr>\n",
              "      <th>11</th>\n",
              "      <td>9272</td>\n",
              "      <td>city_90</td>\n",
              "      <td>0.698</td>\n",
              "      <td>Male</td>\n",
              "      <td>Has relevant experience</td>\n",
              "      <td>no_enrollment</td>\n",
              "      <td>Graduate</td>\n",
              "      <td>STEM</td>\n",
              "      <td>20</td>\n",
              "      <td>10/49</td>\n",
              "      <td>Pvt Ltd</td>\n",
              "      <td>2</td>\n",
              "      <td>51</td>\n",
              "      <td>1.0</td>\n",
              "    </tr>\n",
              "    <tr>\n",
              "      <th>12</th>\n",
              "      <td>14249</td>\n",
              "      <td>city_46</td>\n",
              "      <td>0.762</td>\n",
              "      <td>Male</td>\n",
              "      <td>Has relevant experience</td>\n",
              "      <td>no_enrollment</td>\n",
              "      <td>Graduate</td>\n",
              "      <td>STEM</td>\n",
              "      <td>8</td>\n",
              "      <td>100-500</td>\n",
              "      <td>Other</td>\n",
              "      <td>never</td>\n",
              "      <td>48</td>\n",
              "      <td>0.0</td>\n",
              "    </tr>\n",
              "    <tr>\n",
              "      <th>16</th>\n",
              "      <td>7865</td>\n",
              "      <td>city_21</td>\n",
              "      <td>0.624</td>\n",
              "      <td>Male</td>\n",
              "      <td>Has relevant experience</td>\n",
              "      <td>no_enrollment</td>\n",
              "      <td>Masters</td>\n",
              "      <td>STEM</td>\n",
              "      <td>4</td>\n",
              "      <td>100-500</td>\n",
              "      <td>Pvt Ltd</td>\n",
              "      <td>1</td>\n",
              "      <td>4</td>\n",
              "      <td>0.0</td>\n",
              "    </tr>\n",
              "    <tr>\n",
              "      <th>17</th>\n",
              "      <td>7463</td>\n",
              "      <td>city_13</td>\n",
              "      <td>0.827</td>\n",
              "      <td>Male</td>\n",
              "      <td>Has relevant experience</td>\n",
              "      <td>no_enrollment</td>\n",
              "      <td>Masters</td>\n",
              "      <td>Business Degree</td>\n",
              "      <td>2</td>\n",
              "      <td>50-99</td>\n",
              "      <td>Pvt Ltd</td>\n",
              "      <td>1</td>\n",
              "      <td>31</td>\n",
              "      <td>1.0</td>\n",
              "    </tr>\n",
              "    <tr>\n",
              "      <th>22</th>\n",
              "      <td>25202</td>\n",
              "      <td>city_21</td>\n",
              "      <td>0.624</td>\n",
              "      <td>Male</td>\n",
              "      <td>Has relevant experience</td>\n",
              "      <td>no_enrollment</td>\n",
              "      <td>Graduate</td>\n",
              "      <td>STEM</td>\n",
              "      <td>6</td>\n",
              "      <td>1000-4999</td>\n",
              "      <td>Pvt Ltd</td>\n",
              "      <td>3</td>\n",
              "      <td>33</td>\n",
              "      <td>1.0</td>\n",
              "    </tr>\n",
              "    <tr>\n",
              "      <th>24</th>\n",
              "      <td>23570</td>\n",
              "      <td>city_118</td>\n",
              "      <td>0.722</td>\n",
              "      <td>Male</td>\n",
              "      <td>Has relevant experience</td>\n",
              "      <td>no_enrollment</td>\n",
              "      <td>Graduate</td>\n",
              "      <td>STEM</td>\n",
              "      <td>19</td>\n",
              "      <td>100-500</td>\n",
              "      <td>Pvt Ltd</td>\n",
              "      <td>&gt;4</td>\n",
              "      <td>19</td>\n",
              "      <td>0.0</td>\n",
              "    </tr>\n",
              "    <tr>\n",
              "      <th>26</th>\n",
              "      <td>9548</td>\n",
              "      <td>city_114</td>\n",
              "      <td>0.926</td>\n",
              "      <td>Male</td>\n",
              "      <td>Has relevant experience</td>\n",
              "      <td>no_enrollment</td>\n",
              "      <td>Masters</td>\n",
              "      <td>STEM</td>\n",
              "      <td>&gt;20</td>\n",
              "      <td>50-99</td>\n",
              "      <td>Pvt Ltd</td>\n",
              "      <td>&gt;4</td>\n",
              "      <td>65</td>\n",
              "      <td>0.0</td>\n",
              "    </tr>\n",
              "    <tr>\n",
              "      <th>33</th>\n",
              "      <td>17189</td>\n",
              "      <td>city_21</td>\n",
              "      <td>0.624</td>\n",
              "      <td>Male</td>\n",
              "      <td>Has relevant experience</td>\n",
              "      <td>no_enrollment</td>\n",
              "      <td>Graduate</td>\n",
              "      <td>STEM</td>\n",
              "      <td>7</td>\n",
              "      <td>10000+</td>\n",
              "      <td>Pvt Ltd</td>\n",
              "      <td>4</td>\n",
              "      <td>43</td>\n",
              "      <td>0.0</td>\n",
              "    </tr>\n",
              "  </tbody>\n",
              "</table>\n",
              "</div>"
            ],
            "text/plain": [
              "    enrollee_id      city  ...  training_hours target\n",
              "3         27385   city_13  ...              39    0.0\n",
              "4         27724  city_103  ...              72    1.0\n",
              "11         9272   city_90  ...              51    1.0\n",
              "12        14249   city_46  ...              48    0.0\n",
              "16         7865   city_21  ...               4    0.0\n",
              "17         7463   city_13  ...              31    1.0\n",
              "22        25202   city_21  ...              33    1.0\n",
              "24        23570  city_118  ...              19    0.0\n",
              "26         9548  city_114  ...              65    0.0\n",
              "33        17189   city_21  ...              43    0.0\n",
              "\n",
              "[10 rows x 14 columns]"
            ]
          },
          "metadata": {
            "tags": []
          },
          "execution_count": 158
        }
      ]
    },
    {
      "cell_type": "code",
      "metadata": {
        "colab": {
          "base_uri": "https://localhost:8080/",
          "height": 217
        },
        "id": "4zIBwrh6B_kA",
        "outputId": "d9f4531c-8729-45fe-8be4-b6893aae5d5d"
      },
      "source": [
        "# Combine training and testing sets originally given; drop vars not used as predictors\n",
        "\n",
        "new_training2 = new_training.append(new_testdata)       # concat 2 datasets\n",
        "new_training2 = new_training.drop(['enrollee_id','City_class','Training_hr'], axis=1)   # drop enrollee_id, City_class, Training_hr\n",
        "new_training2.head()"
      ],
      "id": "4zIBwrh6B_kA",
      "execution_count": null,
      "outputs": [
        {
          "output_type": "execute_result",
          "data": {
            "text/html": [
              "<div>\n",
              "<style scoped>\n",
              "    .dataframe tbody tr th:only-of-type {\n",
              "        vertical-align: middle;\n",
              "    }\n",
              "\n",
              "    .dataframe tbody tr th {\n",
              "        vertical-align: top;\n",
              "    }\n",
              "\n",
              "    .dataframe thead th {\n",
              "        text-align: right;\n",
              "    }\n",
              "</style>\n",
              "<table border=\"1\" class=\"dataframe\">\n",
              "  <thead>\n",
              "    <tr style=\"text-align: right;\">\n",
              "      <th></th>\n",
              "      <th>city</th>\n",
              "      <th>city_development_index</th>\n",
              "      <th>gender</th>\n",
              "      <th>relevant_experience</th>\n",
              "      <th>enrolled_university</th>\n",
              "      <th>education_level</th>\n",
              "      <th>major_discipline</th>\n",
              "      <th>experience</th>\n",
              "      <th>company_size</th>\n",
              "      <th>company_type</th>\n",
              "      <th>last_new_job</th>\n",
              "      <th>training_hours</th>\n",
              "      <th>target</th>\n",
              "    </tr>\n",
              "  </thead>\n",
              "  <tbody>\n",
              "    <tr>\n",
              "      <th>1</th>\n",
              "      <td>city_40</td>\n",
              "      <td>0.776</td>\n",
              "      <td>Male</td>\n",
              "      <td>No relevant experience</td>\n",
              "      <td>no_enrollment</td>\n",
              "      <td>Graduate</td>\n",
              "      <td>STEM</td>\n",
              "      <td>15</td>\n",
              "      <td>50-99</td>\n",
              "      <td>Pvt Ltd</td>\n",
              "      <td>&gt;4</td>\n",
              "      <td>47</td>\n",
              "      <td>0.0</td>\n",
              "    </tr>\n",
              "    <tr>\n",
              "      <th>4</th>\n",
              "      <td>city_162</td>\n",
              "      <td>0.767</td>\n",
              "      <td>Male</td>\n",
              "      <td>Has relevant experience</td>\n",
              "      <td>no_enrollment</td>\n",
              "      <td>Masters</td>\n",
              "      <td>STEM</td>\n",
              "      <td>&gt;20</td>\n",
              "      <td>50-99</td>\n",
              "      <td>Funded Startup</td>\n",
              "      <td>4</td>\n",
              "      <td>8</td>\n",
              "      <td>0.0</td>\n",
              "    </tr>\n",
              "    <tr>\n",
              "      <th>7</th>\n",
              "      <td>city_46</td>\n",
              "      <td>0.762</td>\n",
              "      <td>Male</td>\n",
              "      <td>Has relevant experience</td>\n",
              "      <td>no_enrollment</td>\n",
              "      <td>Graduate</td>\n",
              "      <td>STEM</td>\n",
              "      <td>13</td>\n",
              "      <td>&lt;10</td>\n",
              "      <td>Pvt Ltd</td>\n",
              "      <td>&gt;4</td>\n",
              "      <td>18</td>\n",
              "      <td>1.0</td>\n",
              "    </tr>\n",
              "    <tr>\n",
              "      <th>8</th>\n",
              "      <td>city_103</td>\n",
              "      <td>0.920</td>\n",
              "      <td>Male</td>\n",
              "      <td>Has relevant experience</td>\n",
              "      <td>no_enrollment</td>\n",
              "      <td>Graduate</td>\n",
              "      <td>STEM</td>\n",
              "      <td>7</td>\n",
              "      <td>50-99</td>\n",
              "      <td>Pvt Ltd</td>\n",
              "      <td>1</td>\n",
              "      <td>46</td>\n",
              "      <td>1.0</td>\n",
              "    </tr>\n",
              "    <tr>\n",
              "      <th>11</th>\n",
              "      <td>city_103</td>\n",
              "      <td>0.920</td>\n",
              "      <td>Male</td>\n",
              "      <td>Has relevant experience</td>\n",
              "      <td>no_enrollment</td>\n",
              "      <td>Graduate</td>\n",
              "      <td>STEM</td>\n",
              "      <td>5</td>\n",
              "      <td>5000-9999</td>\n",
              "      <td>Pvt Ltd</td>\n",
              "      <td>1</td>\n",
              "      <td>108</td>\n",
              "      <td>0.0</td>\n",
              "    </tr>\n",
              "  </tbody>\n",
              "</table>\n",
              "</div>"
            ],
            "text/plain": [
              "        city  city_development_index  ... training_hours target\n",
              "1    city_40                   0.776  ...             47    0.0\n",
              "4   city_162                   0.767  ...              8    0.0\n",
              "7    city_46                   0.762  ...             18    1.0\n",
              "8   city_103                   0.920  ...             46    1.0\n",
              "11  city_103                   0.920  ...            108    0.0\n",
              "\n",
              "[5 rows x 13 columns]"
            ]
          },
          "metadata": {
            "tags": []
          },
          "execution_count": 165
        }
      ]
    },
    {
      "cell_type": "code",
      "metadata": {
        "colab": {
          "base_uri": "https://localhost:8080/"
        },
        "id": "CJ4sJGylr-LJ",
        "outputId": "7761664e-16fa-4f22-a5cf-b341b90751a4"
      },
      "source": [
        "new_training2.shape"
      ],
      "id": "CJ4sJGylr-LJ",
      "execution_count": null,
      "outputs": [
        {
          "output_type": "execute_result",
          "data": {
            "text/plain": [
              "(8955, 13)"
            ]
          },
          "metadata": {
            "tags": []
          },
          "execution_count": 163
        }
      ]
    },
    {
      "cell_type": "code",
      "metadata": {
        "colab": {
          "base_uri": "https://localhost:8080/",
          "height": 367
        },
        "id": "WRCSCLpjg5EW",
        "outputId": "9f81cea4-28cb-4f53-967c-0242f516b126"
      },
      "source": [
        "# Convert columns that contain mixed characters and numbers to numbers\n",
        "#   so that these columns will now be numeric: 'experience','city','company_size','last_new_job'\n",
        "\n",
        "new_training2.loc[new_training2.experience == '<1','experience'] = \"0\"   \n",
        "new_training2.loc[new_training2.experience == '>20','experience'] = \"25\"   # numeric assignment of >20 to 25\n",
        "new_training2['city'] = new_training2['city'].str.replace('city_', '')        #convert city codes to numbers\n",
        "new_training2.loc[new_training2.company_size == '<10','company_size'] = \"5\"   # numeric assignment of <10 to 5\n",
        "new_training2.loc[new_training2.company_size == '10000+','company_size'] = \"12000\"   # numeric assignment of >10000 to 13000\n",
        "new_training2.loc[new_training2.company_size == '10/49','company_size'] = \"30\"   # numeric assignment of range to the average\n",
        "new_training2.loc[new_training2.company_size == '50-99','company_size'] = \"75\"   # numeric assignment of range to the average\n",
        "new_training2.loc[new_training2.company_size == '100-500','company_size'] = \"300\"   # numeric assignment of range to the average\n",
        "new_training2.loc[new_training2.company_size == '500-999','company_size'] = \"750\"   # numeric assignment of range to the average\n",
        "new_training2.loc[new_training2.company_size == '1000-4999','company_size'] = \"3000\"   # numeric assignment of range to the average\n",
        "new_training2.loc[new_training2.company_size == '5000-9999','company_size'] = \"7500\"  # numeric assignment of range to the average\n",
        "new_training2.loc[new_training2.last_new_job == '>4','last_new_job'] = \"5\" # numeric assignment of >4 to 5\n",
        "new_training2.loc[new_training2.last_new_job == 'never','last_new_job'] = \"0\" # numeric assignment of never to 0\n",
        "new_training2[['experience','city','company_size','last_new_job','training_hours']] = new_training2[['experience','city','company_size','last_new_job','training_hours']].apply(pd.to_numeric)\n",
        "new_training2[:10]\n"
      ],
      "id": "WRCSCLpjg5EW",
      "execution_count": null,
      "outputs": [
        {
          "output_type": "execute_result",
          "data": {
            "text/html": [
              "<div>\n",
              "<style scoped>\n",
              "    .dataframe tbody tr th:only-of-type {\n",
              "        vertical-align: middle;\n",
              "    }\n",
              "\n",
              "    .dataframe tbody tr th {\n",
              "        vertical-align: top;\n",
              "    }\n",
              "\n",
              "    .dataframe thead th {\n",
              "        text-align: right;\n",
              "    }\n",
              "</style>\n",
              "<table border=\"1\" class=\"dataframe\">\n",
              "  <thead>\n",
              "    <tr style=\"text-align: right;\">\n",
              "      <th></th>\n",
              "      <th>city</th>\n",
              "      <th>city_development_index</th>\n",
              "      <th>gender</th>\n",
              "      <th>relevant_experience</th>\n",
              "      <th>enrolled_university</th>\n",
              "      <th>education_level</th>\n",
              "      <th>major_discipline</th>\n",
              "      <th>experience</th>\n",
              "      <th>company_size</th>\n",
              "      <th>company_type</th>\n",
              "      <th>last_new_job</th>\n",
              "      <th>training_hours</th>\n",
              "      <th>target</th>\n",
              "    </tr>\n",
              "  </thead>\n",
              "  <tbody>\n",
              "    <tr>\n",
              "      <th>1</th>\n",
              "      <td>40</td>\n",
              "      <td>0.776</td>\n",
              "      <td>Male</td>\n",
              "      <td>No relevant experience</td>\n",
              "      <td>no_enrollment</td>\n",
              "      <td>Graduate</td>\n",
              "      <td>STEM</td>\n",
              "      <td>15</td>\n",
              "      <td>75</td>\n",
              "      <td>Pvt Ltd</td>\n",
              "      <td>5</td>\n",
              "      <td>47</td>\n",
              "      <td>0.0</td>\n",
              "    </tr>\n",
              "    <tr>\n",
              "      <th>4</th>\n",
              "      <td>162</td>\n",
              "      <td>0.767</td>\n",
              "      <td>Male</td>\n",
              "      <td>Has relevant experience</td>\n",
              "      <td>no_enrollment</td>\n",
              "      <td>Masters</td>\n",
              "      <td>STEM</td>\n",
              "      <td>25</td>\n",
              "      <td>75</td>\n",
              "      <td>Funded Startup</td>\n",
              "      <td>4</td>\n",
              "      <td>8</td>\n",
              "      <td>0.0</td>\n",
              "    </tr>\n",
              "    <tr>\n",
              "      <th>7</th>\n",
              "      <td>46</td>\n",
              "      <td>0.762</td>\n",
              "      <td>Male</td>\n",
              "      <td>Has relevant experience</td>\n",
              "      <td>no_enrollment</td>\n",
              "      <td>Graduate</td>\n",
              "      <td>STEM</td>\n",
              "      <td>13</td>\n",
              "      <td>5</td>\n",
              "      <td>Pvt Ltd</td>\n",
              "      <td>5</td>\n",
              "      <td>18</td>\n",
              "      <td>1.0</td>\n",
              "    </tr>\n",
              "    <tr>\n",
              "      <th>8</th>\n",
              "      <td>103</td>\n",
              "      <td>0.920</td>\n",
              "      <td>Male</td>\n",
              "      <td>Has relevant experience</td>\n",
              "      <td>no_enrollment</td>\n",
              "      <td>Graduate</td>\n",
              "      <td>STEM</td>\n",
              "      <td>7</td>\n",
              "      <td>75</td>\n",
              "      <td>Pvt Ltd</td>\n",
              "      <td>1</td>\n",
              "      <td>46</td>\n",
              "      <td>1.0</td>\n",
              "    </tr>\n",
              "    <tr>\n",
              "      <th>11</th>\n",
              "      <td>103</td>\n",
              "      <td>0.920</td>\n",
              "      <td>Male</td>\n",
              "      <td>Has relevant experience</td>\n",
              "      <td>no_enrollment</td>\n",
              "      <td>Graduate</td>\n",
              "      <td>STEM</td>\n",
              "      <td>5</td>\n",
              "      <td>7500</td>\n",
              "      <td>Pvt Ltd</td>\n",
              "      <td>1</td>\n",
              "      <td>108</td>\n",
              "      <td>0.0</td>\n",
              "    </tr>\n",
              "    <tr>\n",
              "      <th>12</th>\n",
              "      <td>61</td>\n",
              "      <td>0.913</td>\n",
              "      <td>Male</td>\n",
              "      <td>Has relevant experience</td>\n",
              "      <td>no_enrollment</td>\n",
              "      <td>Graduate</td>\n",
              "      <td>STEM</td>\n",
              "      <td>25</td>\n",
              "      <td>3000</td>\n",
              "      <td>Pvt Ltd</td>\n",
              "      <td>3</td>\n",
              "      <td>23</td>\n",
              "      <td>0.0</td>\n",
              "    </tr>\n",
              "    <tr>\n",
              "      <th>15</th>\n",
              "      <td>114</td>\n",
              "      <td>0.926</td>\n",
              "      <td>Male</td>\n",
              "      <td>Has relevant experience</td>\n",
              "      <td>no_enrollment</td>\n",
              "      <td>Graduate</td>\n",
              "      <td>STEM</td>\n",
              "      <td>16</td>\n",
              "      <td>30</td>\n",
              "      <td>Pvt Ltd</td>\n",
              "      <td>5</td>\n",
              "      <td>18</td>\n",
              "      <td>0.0</td>\n",
              "    </tr>\n",
              "    <tr>\n",
              "      <th>20</th>\n",
              "      <td>159</td>\n",
              "      <td>0.843</td>\n",
              "      <td>Male</td>\n",
              "      <td>Has relevant experience</td>\n",
              "      <td>no_enrollment</td>\n",
              "      <td>Masters</td>\n",
              "      <td>STEM</td>\n",
              "      <td>11</td>\n",
              "      <td>300</td>\n",
              "      <td>Pvt Ltd</td>\n",
              "      <td>1</td>\n",
              "      <td>68</td>\n",
              "      <td>0.0</td>\n",
              "    </tr>\n",
              "    <tr>\n",
              "      <th>21</th>\n",
              "      <td>114</td>\n",
              "      <td>0.926</td>\n",
              "      <td>Male</td>\n",
              "      <td>Has relevant experience</td>\n",
              "      <td>no_enrollment</td>\n",
              "      <td>Masters</td>\n",
              "      <td>STEM</td>\n",
              "      <td>11</td>\n",
              "      <td>300</td>\n",
              "      <td>Pvt Ltd</td>\n",
              "      <td>2</td>\n",
              "      <td>50</td>\n",
              "      <td>0.0</td>\n",
              "    </tr>\n",
              "    <tr>\n",
              "      <th>23</th>\n",
              "      <td>40</td>\n",
              "      <td>0.776</td>\n",
              "      <td>Male</td>\n",
              "      <td>Has relevant experience</td>\n",
              "      <td>no_enrollment</td>\n",
              "      <td>Graduate</td>\n",
              "      <td>Humanities</td>\n",
              "      <td>0</td>\n",
              "      <td>3000</td>\n",
              "      <td>Pvt Ltd</td>\n",
              "      <td>1</td>\n",
              "      <td>65</td>\n",
              "      <td>0.0</td>\n",
              "    </tr>\n",
              "  </tbody>\n",
              "</table>\n",
              "</div>"
            ],
            "text/plain": [
              "    city  city_development_index gender  ... last_new_job training_hours target\n",
              "1     40                   0.776   Male  ...            5             47    0.0\n",
              "4    162                   0.767   Male  ...            4              8    0.0\n",
              "7     46                   0.762   Male  ...            5             18    1.0\n",
              "8    103                   0.920   Male  ...            1             46    1.0\n",
              "11   103                   0.920   Male  ...            1            108    0.0\n",
              "12    61                   0.913   Male  ...            3             23    0.0\n",
              "15   114                   0.926   Male  ...            5             18    0.0\n",
              "20   159                   0.843   Male  ...            1             68    0.0\n",
              "21   114                   0.926   Male  ...            2             50    0.0\n",
              "23    40                   0.776   Male  ...            1             65    0.0\n",
              "\n",
              "[10 rows x 13 columns]"
            ]
          },
          "metadata": {
            "tags": []
          },
          "execution_count": 164
        }
      ]
    },
    {
      "cell_type": "code",
      "metadata": {
        "colab": {
          "background_save": true
        },
        "id": "-0_B3N-BaoY_"
      },
      "source": [
        "#  Use pd.get_dummies to convert categorical variables to numeric"
      ],
      "id": "-0_B3N-BaoY_",
      "execution_count": null,
      "outputs": []
    },
    {
      "cell_type": "code",
      "metadata": {
        "id": "2zrqZ-N5asve"
      },
      "source": [
        "new_training3 = pd.get_dummies(new_training2, columns=['gender','relevant_experience','enrolled_university','education_level','major_discipline','company_type'])\n",
        "new_training3"
      ],
      "id": "2zrqZ-N5asve",
      "execution_count": null,
      "outputs": []
    },
    {
      "cell_type": "code",
      "metadata": {
        "id": "JEbzxAmJeANf"
      },
      "source": [
        "#  We can use these lines to add columns of 0's for other educational levels that may exist in test data\n",
        "#new_training3['education_level_High_School'] = 0\n",
        "#new_training3['education_level_Primary_School'] = 0\n",
        "#new_training3"
      ],
      "id": "JEbzxAmJeANf",
      "execution_count": null,
      "outputs": []
    },
    {
      "cell_type": "code",
      "metadata": {
        "id": "Z3kSxzfBin87"
      },
      "source": [
        "#  Allocate the target variable to the y array and the predictor variables to the X array\n",
        "\n",
        "y = new_training3['target']\n",
        "X = new_training3.drop(['target'], axis=1)\n",
        "\n",
        "#  Use  sklearn train_test_split to recreate the training and test data sets\n",
        "X_train, X_test, y_train, y_test = train_test_split(X,y,test_size=0.2, random_state=42)\n",
        "print (\"X_train shape: \", X_train.shape)\n",
        "print (\"y_train shape: \", y_train.shape)\n",
        "print (\"X_test shape: \", X_test.shape)\n",
        "print (\"y_test shape: \", y_test.shape)\n",
        "type(X_train)"
      ],
      "id": "Z3kSxzfBin87",
      "execution_count": null,
      "outputs": []
    },
    {
      "cell_type": "code",
      "metadata": {
        "id": "QGBdFtyphSWk"
      },
      "source": [
        "# Instantiate a  class of sklearn LogisticRegression \n",
        "model = LogisticRegression(max_iter=1000)\n",
        "# Fit the model to the training data\n",
        "model.fit(X_train, y_train)\n",
        "# Use the model to predict the target of the test set, on the basis of the categorical variables in the test set\n",
        "y_pred = pd.Series(model.predict(X_test))\n"
      ],
      "id": "QGBdFtyphSWk",
      "execution_count": null,
      "outputs": []
    },
    {
      "cell_type": "code",
      "metadata": {
        "id": "NcZ3A5Ud3gHj"
      },
      "source": [
        "# print some fitting results\n",
        "\n",
        "print ('\\nIntercept: ', model.intercept_)\n",
        "print ('\\nCoefficients: ', model.coef_, end='\\n\\n')"
      ],
      "id": "NcZ3A5Ud3gHj",
      "execution_count": null,
      "outputs": []
    },
    {
      "cell_type": "code",
      "metadata": {
        "id": "4e4gJ4Xvp_Sk"
      },
      "source": [
        "#  Calculate the confusion matrix using sklearn metrics.confusion_matrix method\n",
        "\n",
        "cnf_matrix = metrics.confusion_matrix(y_test, y_pred)     # confusion matrix calculation\n",
        "print ('\\n\\nConfusion matrix:\\n', cnf_matrix, '\\n\\n')\n",
        "class_names=[0,1] # name  of classes\n",
        "\n",
        "# graph the confusion matrix\n",
        "fig, ax = plt.subplots()\n",
        "tick_marks = np.arange(len(class_names))\n",
        "plt.xticks(tick_marks, class_names)\n",
        "plt.yticks(tick_marks, class_names)\n",
        "# create heatmap\n",
        "sns.heatmap(pd.DataFrame(cnf_matrix), annot=True, cmap=\"YlGnBu\" ,fmt='g')\n",
        "ax.xaxis.set_label_position(\"top\")\n",
        "plt.tight_layout()\n",
        "plt.title('Confusion matrix', y=1.1)\n",
        "plt.ylabel('Actual label')\n",
        "plt.xlabel('Predicted label')\n",
        "plt.show()"
      ],
      "id": "4e4gJ4Xvp_Sk",
      "execution_count": null,
      "outputs": []
    },
    {
      "cell_type": "code",
      "metadata": {
        "id": "DvF75E5Qs6iC"
      },
      "source": [
        "# Calculate the Accuracy, Precision, Recall from the confusion matrix, using sklearn metrics methods\n",
        "\n",
        "print(\"Accuracy:\",metrics.accuracy_score(y_test, y_pred))     # accuracy precision and recall calculation\n",
        "print(\"Precision:\",metrics.precision_score(y_test, y_pred))\n",
        "print(\"Recall:\",metrics.recall_score(y_test, y_pred))"
      ],
      "id": "DvF75E5Qs6iC",
      "execution_count": null,
      "outputs": []
    },
    {
      "cell_type": "code",
      "metadata": {
        "id": "Vvs1Rcy9tA0E"
      },
      "source": [
        "# Calculate and plot the ROC curve from the model predictions versus actual targets, using sklearn metrics methods\n",
        "y_pred_proba = model.predict_proba(X_test)[::,1]             # predict probability\n",
        "fpr, tpr, _ = metrics.roc_curve(y_test,  y_pred_proba)       # receiver operating characteristic curve\n",
        "auc = metrics.roc_auc_score(y_test, y_pred_proba)            # true positive against false positive\n",
        "# graph it\n",
        "plt.title('Receiver Operating Characteristic')\n",
        "plt.plot(fpr,tpr,label=\"new_training3, auc=\"+str(auc))\n",
        "plt.legend(loc='lower right')\n",
        "plt.plot([0,1], [0,1], 'r--')\n",
        "plt.ylabel('True Positive Rate')\n",
        "plt.xlabel('False Positive Rate')\n",
        "plt.show()"
      ],
      "id": "Vvs1Rcy9tA0E",
      "execution_count": null,
      "outputs": []
    },
    {
      "cell_type": "code",
      "metadata": {
        "id": "YU0Nbq4G52wR"
      },
      "source": [
        "# Show some of the predictions\n",
        "y_test = y_test.reset_index(drop=True)\n",
        "z = pd.concat([y_test, y_pred], axis=1)\n",
        "z.columns = ['True', 'Predictions']\n",
        "z.iloc[:10]"
      ],
      "id": "YU0Nbq4G52wR",
      "execution_count": null,
      "outputs": []
    },
    {
      "cell_type": "code",
      "metadata": {
        "id": "bshag9w30bfb"
      },
      "source": [
        "# Summary statistics\n",
        "print (metrics.classification_report(y_test, y_pred))"
      ],
      "id": "bshag9w30bfb",
      "execution_count": null,
      "outputs": []
    },
    {
      "cell_type": "code",
      "metadata": {
        "id": "uYIXrg2XnDnb"
      },
      "source": [
        "#  Using SMOTE  (Synthetic Minority Oversampling Technique)\n",
        "#   to  try to resolve the imbalanced target problem\n"
      ],
      "id": "uYIXrg2XnDnb",
      "execution_count": null,
      "outputs": []
    },
    {
      "cell_type": "code",
      "metadata": {
        "id": "HHEwzci9zcrs"
      },
      "source": [
        "from imblearn.over_sampling import SMOTE"
      ],
      "id": "HHEwzci9zcrs",
      "execution_count": null,
      "outputs": []
    },
    {
      "cell_type": "code",
      "metadata": {
        "id": "Vp7K37a9zqYm"
      },
      "source": [
        "smt = SMOTE (random_state=42, ratio='minority')\n",
        "X_train_SMOTE, y_train_SMOTE = smt.fit_sample(X_train, y_train)"
      ],
      "id": "Vp7K37a9zqYm",
      "execution_count": null,
      "outputs": []
    },
    {
      "cell_type": "code",
      "metadata": {
        "id": "0RxxcQwn31Nx"
      },
      "source": [
        "# See the new shape\n",
        "\n",
        "print (\"X_train shape: \", X_train_SMOTE.shape)\n",
        "print (\"y_train shape: \", y_train_SMOTE.shape)\n",
        "print (\"X_test shape: \", X_test.shape)\n",
        "print (\"y_test shape: \", y_test.shape)\n",
        "type(X_train_SMOTE)"
      ],
      "id": "0RxxcQwn31Nx",
      "execution_count": null,
      "outputs": []
    },
    {
      "cell_type": "code",
      "metadata": {
        "id": "r82Iecyl4O4G"
      },
      "source": [
        "# Repeat the Logistic Regression and Prediction with the SMOTEd datasets\n",
        "\n",
        "# Instantiate a  class of sklearn LogisticRegression \n",
        "model = LogisticRegression(max_iter=1000)\n",
        "# Fit the model to the training data\n",
        "model.fit(X_train_SMOTE, y_train_SMOTE)\n",
        "# Use the model to predict the target of the test set, on the basis of the categorical variables in the test set\n",
        "y_pred = pd.Series(model.predict(X_test))\n",
        "\n",
        "# print some fitting results\n",
        "\n",
        "print ('\\nIntercept: ', model.intercept_)\n",
        "print ('\\nCoefficients: ', model.coef_, end='\\n\\n')\n",
        "\n",
        "#  Calculate the confusion matrix using sklearn metrics.confusion_matrix method\n",
        "\n",
        "cnf_matrix = metrics.confusion_matrix(y_test, y_pred)     # confusion matrix calculation\n",
        "print ('\\n\\nConfusion matrix:\\n', cnf_matrix, '\\n\\n')\n",
        "class_names=[0,1] # name  of classes\n",
        "\n",
        "# graph the confusion matrix\n",
        "fig, ax = plt.subplots()\n",
        "tick_marks = np.arange(len(class_names))\n",
        "plt.xticks(tick_marks, class_names)\n",
        "plt.yticks(tick_marks, class_names)\n",
        "# create heatmap\n",
        "sns.heatmap(pd.DataFrame(cnf_matrix), annot=True, cmap=\"YlGnBu\" ,fmt='g')\n",
        "ax.xaxis.set_label_position(\"top\")\n",
        "plt.tight_layout()\n",
        "plt.title('Confusion matrix', y=1.1)\n",
        "plt.ylabel('Actual label')\n",
        "plt.xlabel('Predicted label')\n",
        "plt.show()\n",
        "\n",
        "# Calculate the Accuracy, Precision, Recall from the confusion matrix, using sklearn metrics methods\n",
        "\n",
        "print(\"\\n\\nAccuracy:\",metrics.accuracy_score(y_test, y_pred))     # accuracy precision and recall calculation\n",
        "print(\"Precision:\",metrics.precision_score(y_test, y_pred))\n",
        "print(\"Recall:\",metrics.recall_score(y_test, y_pred))\n",
        "\n",
        "print ('\\n\\n', metrics.classification_report(y_test, y_pred), '\\n\\n')\n",
        "\n",
        "# Calculate and plot the ROC curve from the model predictions versus actual targets, using sklearn metrics methods\n",
        "y_pred_proba = model.predict_proba(X_test)[::,1]             # predict probability\n",
        "fpr, tpr, _ = metrics.roc_curve(y_test,  y_pred_proba)       # receiver operating characteristic curve\n",
        "auc = metrics.roc_auc_score(y_test, y_pred_proba)            # true positive against false positive\n",
        "# graph it\n",
        "plt.title('Receiver Operating Characteristic')\n",
        "plt.plot(fpr,tpr,label=\"new_training3, auc=\"+str(auc))\n",
        "plt.legend(loc='lower right')\n",
        "plt.plot([0,1], [0,1], 'r--')\n",
        "plt.ylabel('True Positive Rate')\n",
        "plt.xlabel('False Positive Rate')\n",
        "plt.show()\n"
      ],
      "id": "r82Iecyl4O4G",
      "execution_count": null,
      "outputs": []
    },
    {
      "cell_type": "markdown",
      "metadata": {
        "id": "R6aENLkX9Kly"
      },
      "source": [
        "## 5. Conclusions\n"
      ],
      "id": "R6aENLkX9Kly"
    },
    {
      "cell_type": "markdown",
      "metadata": {
        "id": "rNT9s_WUtsKO"
      },
      "source": [
        "This project has shown that predicting the intention to leave employment on the basis of a partial set of variables is not straightforward. It would have been important to include more information on the current job and the prospective job. For example, level of both positions, salary, and the like. \n",
        "\n",
        "**The goal of our project was to answer the following questions:**\n",
        "\n",
        "1) Which **gender** is most probable to leave their current job?\n",
        "> The data shows that both males and females are as likely to leave or stay. Those that are in the \"other\" gender category are less likely to leave.\n",
        "\n",
        "> Due to an imbalanced data on genders, our intitial EDA is skewed. Therefore, the conclusions that are made are biased. However, more tend to leave rather than stay for both these genders. There is small data size of the \"other\" genders.\n",
        "\n",
        "> Within the gender groups, more females are more likely to stay. \n",
        "\n",
        "2) What **type of company** will employees most likely leave?\n",
        "> Employees of private, public sector, and NGOs companies are less likely to leave. Out of all, those in founded start-ups are the least likely to leave. \n",
        "\n",
        "> Those in early stage and other are more likely to leave. \n",
        "\n",
        "> We can assume that those in early stage start ups have less job securitiy, in which a lot of start ups fail in their first years.\n",
        "\n",
        "> Additionally, half of the companies in the data are private companies. This is another way that our data is imbalanced. The ratio of leave:stay is large for the private.\n",
        "\n",
        "\n",
        "3) Does more **training time** lead to candidates more likely to leave their current job?\n",
        "> Those that have more training hours are more likely to stay rather than to leave. \n",
        "\n",
        "> Training hours have some influence, but  are not a major factor in explaining the probability of leaving.\n",
        "\n",
        "> We can assume that it is because those who are more trained feel security and oppportunties for growth within their companies. Having training opportunties shows that companies are willing to invest in their employees. Employees may feel less \"stuck\" or \"stagnant\" in their current jobs.\n",
        "\n",
        "> Also, using the bootstrap mehtod we were able to get the same median and the python statistic mean for training hours.\n",
        "\n",
        "4) Are people likely to change their jobs when they have **experience that is more relevant** to the position?\n",
        "\n",
        "> The data shows that those who have more relevant experience are more likely to stay rather than leave. \n",
        "\n",
        "> We could assume that those who have less experience are looking for new more favorable oppportunities in other companies. These people may have lower expectations, or picky, of the new job. There are also less job opportunties for mid-level or late-career job seekers. There are more job options for early-career employees in the market.\n",
        "\n",
        "> The data is also imblanced, in which we have more people that have relevant experience than those who do not. \n",
        "\n",
        "> We do not have information about the position they currently have versus the position that they are applyting to. We can assume that their current position is a better than the offers that are in the market.\n",
        "\n",
        "> Also, the smooth curve of probability of staying in the position shows the constant decrease with respect of years of experience. \n",
        "\n",
        "5) Are they likely to leave when they have more **years of experience**?\n",
        "> Those that have more relevant experience are less likely to leave. \n",
        "\n",
        "> What is missing in the data is more information on the current job positions. It would be great to see the level of jobs and the salary. Not having this information makes it more difficult to understand incentives of why they choose to leave. Additionally, the data is slightly imbalanced because those that have 20 years of experiencs are over represented in the data. The plotted data of years of experience is not a normal distribution.\n",
        "\n",
        "**Additional findings:**\n",
        "\n",
        "Education level \n",
        "> Those that are \"graduates\" or those that have their Bachelors, are more likely to leave rather than stay.\n",
        "\n",
        "> The higher the education, the more likely they are able to stay.\n",
        "> We can assume that people with lower experience in education are more likely to take risks and change jobs into new opportunities. \n",
        "\n",
        "> Looking within gender groups, female are less likely to leave rather than stay in comparison to males. In the \"other\" category none are wiling to leave when they have Masters or PhD. Within the scope of this data, we can assume this can be explained in which females may have more responsibilities with children than males. They may be working mothers than need the stablity of their jobs and not willing to take larger risks. \n",
        "\n",
        "Major Disciplines\n",
        "> STEM majors are more likely to leave than of the other majors. Those that have degrees in the Arts are less likely to leave. However, Art majors are underrepresented in the data, and STEM majors are overrepresented.\n",
        "\n",
        "> We can assume that this is because those that are coming from the Art field could be having mid-career changes, and had to work hard to be able to get their current positions through additional training. They may feel satisfied having reached their current jobs and are less willing to leave. We can assume that those with STEM degress are more confident in changing jobs in the Tech field because they have a wider skills set through their degrees.\n",
        "\n",
        "City Development Index\n",
        "> By looking at city class, the probability of leaving is highest in the first 25th percentile of the city index (or lower developed areas.\n",
        "\n",
        "> People are more willing to leave their jobs located in cities that have a lower city index. \n",
        "\n",
        "> In the data, most companies have higher city development indexes.\n",
        "\n",
        "**Modeling with Logistic Regression:**\n",
        "> In the confusion matrix, the recall is too low, but the precision is acceptable. The model overall is accurate when trained with the dataset provided, with an accuracy of 84.6%, precision of 51.7%, and recall of 23.6%. Technically this is not a reliable model.\n",
        "\n",
        ">After applying the SMOTE procedure to generate more minority samples, the model trained with more data improved the recall (59.3%) as expected. However, it  decreased the accuracy (77.1%) and precision(35.9%), as expected.\n",
        "\n",
        ">The model is not accurate enough to reliably predict the target, and should be improved. We would like over 95% accuracy.\n",
        "\n",
        ">The required steps to improve the model are not a part of this project.\n",
        "\n",
        "**Reflections on the data:**\n",
        "\n",
        "Imbalanced data\n",
        "> The imbalance of data is a major issue in our dataset because this causes inconsistencies in finding conclusions to our questions. For example, there is a imbalance in the amount of \"target\" and \"gender\" and therefore this could cause over estimation of \"leaves\" in our models.\n",
        "\n",
        "> Ideally, we would want to have about equal representation in the various levels of variables, but we do not have such in the data. Other procedures besides SMOTE can be attempted in the future. Likewise, it is possible to explore other classification methods than logistic regression.\n",
        "\n",
        "More information needed\n",
        "> We would like to have more information that dives deeper into the dataset, such as \"what is the current position and salary of the employees,\" and \"what is the position and salary that they are leaving the companies for?\" Another important factor needed would be the age of employees.\n",
        "\n",
        "\n",
        "\n"
      ],
      "id": "rNT9s_WUtsKO"
    }
  ]
}