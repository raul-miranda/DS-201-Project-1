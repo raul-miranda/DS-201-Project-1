{
  "nbformat": 4,
  "nbformat_minor": 5,
  "metadata": {
    "kernelspec": {
      "display_name": "Python 3",
      "language": "python",
      "name": "python3"
    },
    "language_info": {
      "codemirror_mode": {
        "name": "ipython",
        "version": 3
      },
      "file_extension": ".py",
      "mimetype": "text/x-python",
      "name": "python",
      "nbconvert_exporter": "python",
      "pygments_lexer": "ipython3",
      "version": "3.8.5"
    },
    "colab": {
      "name": "Project_1_logistic.ipynb",
      "provenance": [],
      "collapsed_sections": [],
      "include_colab_link": true
    }
  },
  "cells": [
    {
      "cell_type": "markdown",
      "metadata": {
        "id": "view-in-github",
        "colab_type": "text"
      },
      "source": [
        "<a href=\"https://colab.research.google.com/github/raul-miranda/DS-201-Project-1/blob/main/Project_1_logistic.ipynb\" target=\"_parent\"><img src=\"https://colab.research.google.com/assets/colab-badge.svg\" alt=\"Open In Colab\"/></a>"
      ]
    },
    {
      "cell_type": "code",
      "metadata": {
        "id": "gcmHTefJr0wZ"
      },
      "source": [
        "### On the Problem of Predicting Whether a Candidate is Ready To Leave their Job\n",
        "\n",
        "## Introduction"
      ],
      "id": "gcmHTefJr0wZ",
      "execution_count": 63,
      "outputs": []
    },
    {
      "cell_type": "code",
      "metadata": {
        "id": "sT8q5-nCr0wf"
      },
      "source": [
        "# Human resource departments at companies and institutions face the usual challenge of sorting \n",
        "# hundreds to thousands of applications to identify those candidates who are most likely to leave\n",
        "# their present employment. Although a decision to leave depends strongly on the offer received,\n",
        "# experience determines that candidates have various levels of predisposition based only on\n",
        "# their current circumstances. Ranking candidates according to that predisposition allows HR departments \n",
        "# to focus their resources on those candidates that are most likely to change jobs.\n",
        "#\n",
        "# To start exploring this problem, Team 4 selected a dataset from Kaggle titled \"HR Analytics: Job Change \n",
        "# of Data Scientists.\" https://www.kaggle.com/arashnic/hr-analytics-job-change-of-data-scientists.\n",
        "# This dataset contains information about a large pool of potential candidates at a hypothetical company. \n",
        "# That information includes their gender, relevant experience, education level, current company type \n",
        "# and size, city index of development, years since been hired for the last job, etc., and the\n",
        "# expressed desire to either leave their current position or likely to stay in it.\n",
        "# \n",
        "# The purpose of our project is to do Exploratory Data Analysis to examine the database, and then \n",
        "# determine what features appear as better determinant of the outcome for each candidate in the\n",
        "# database: likely to leave or likely to stay.  Full statistical analysis to generate a \n",
        "# model capable of predicting the binary outcome from mostly categorical variables, is outside \n",
        "# the project scope at this stage.\n",
        "\n",
        "# The questions to investigate are:\n",
        "# Which gender is most probable to leave their current job?\n",
        "# What type of company will employees most likely leave?\n",
        "# Does more training time lead to candidates more likly to leave their current job?\n",
        "# Are people likely to change their jobs when they have experience that is more relevant to the position?"
      ],
      "id": "sT8q5-nCr0wf",
      "execution_count": 64,
      "outputs": []
    },
    {
      "cell_type": "code",
      "metadata": {
        "id": "B9C_yDByr0wf"
      },
      "source": [
        "# Data Features\n",
        "\n",
        "# The features of the data are as follows:\n",
        "#\n",
        "# enrollee_id : Unique ID for candidate - categorical \n",
        "# city: City code - discrete\n",
        "# city_development_index : Development index of the city (scaled) - continuous \n",
        "# gender: Gender of candidate - categorical\n",
        "# relevant_experience: Relevant experience of candidate - categorical\n",
        "# enrolled_university: Type of University course enrolled if any - categorical\n",
        "# education_level: Education level of candidate - categorical\n",
        "# major_discipline: Education major discipline of candidate - categorical\n",
        "# experience: Candidate total experience in years - discrete\n",
        "# company_size: No of employees in current employer's company - discrete\n",
        "# company_type : Type of current employer - categorical\n",
        "# lastnewjob: Difference in years between previous job and current job -4 discrete\n",
        "# training_hours: training hours completed - continuous\n",
        "# target: 0 – Not looking for job change, 1 – Looking for a job change - binary"
      ],
      "id": "B9C_yDByr0wf",
      "execution_count": 65,
      "outputs": []
    },
    {
      "cell_type": "code",
      "metadata": {
        "id": "fjcM9-VWr0wg"
      },
      "source": [
        "## Prepare and Wrangle Data"
      ],
      "id": "fjcM9-VWr0wg",
      "execution_count": 66,
      "outputs": []
    },
    {
      "cell_type": "code",
      "metadata": {
        "id": "2ISknwzer0wg"
      },
      "source": [
        "# Import all the necessary packages\n",
        "import pandas as pd\n",
        "import numpy as np\n",
        "import seaborn as sns\n",
        "import matplotlib.pyplot as plt\n",
        "from sklearn import metrics\n",
        "from sklearn.linear_model import LogisticRegression\n",
        "from sklearn.model_selection import train_test_split\n",
        "from sklearn.preprocessing import StandardScaler\n"
      ],
      "id": "2ISknwzer0wg",
      "execution_count": 67,
      "outputs": []
    },
    {
      "cell_type": "code",
      "metadata": {
        "colab": {
          "resources": {
            "http://localhost:8080/nbextensions/google.colab/files.js": {
              "data": "Ly8gQ29weXJpZ2h0IDIwMTcgR29vZ2xlIExMQwovLwovLyBMaWNlbnNlZCB1bmRlciB0aGUgQXBhY2hlIExpY2Vuc2UsIFZlcnNpb24gMi4wICh0aGUgIkxpY2Vuc2UiKTsKLy8geW91IG1heSBub3QgdXNlIHRoaXMgZmlsZSBleGNlcHQgaW4gY29tcGxpYW5jZSB3aXRoIHRoZSBMaWNlbnNlLgovLyBZb3UgbWF5IG9idGFpbiBhIGNvcHkgb2YgdGhlIExpY2Vuc2UgYXQKLy8KLy8gICAgICBodHRwOi8vd3d3LmFwYWNoZS5vcmcvbGljZW5zZXMvTElDRU5TRS0yLjAKLy8KLy8gVW5sZXNzIHJlcXVpcmVkIGJ5IGFwcGxpY2FibGUgbGF3IG9yIGFncmVlZCB0byBpbiB3cml0aW5nLCBzb2Z0d2FyZQovLyBkaXN0cmlidXRlZCB1bmRlciB0aGUgTGljZW5zZSBpcyBkaXN0cmlidXRlZCBvbiBhbiAiQVMgSVMiIEJBU0lTLAovLyBXSVRIT1VUIFdBUlJBTlRJRVMgT1IgQ09ORElUSU9OUyBPRiBBTlkgS0lORCwgZWl0aGVyIGV4cHJlc3Mgb3IgaW1wbGllZC4KLy8gU2VlIHRoZSBMaWNlbnNlIGZvciB0aGUgc3BlY2lmaWMgbGFuZ3VhZ2UgZ292ZXJuaW5nIHBlcm1pc3Npb25zIGFuZAovLyBsaW1pdGF0aW9ucyB1bmRlciB0aGUgTGljZW5zZS4KCi8qKgogKiBAZmlsZW92ZXJ2aWV3IEhlbHBlcnMgZm9yIGdvb2dsZS5jb2xhYiBQeXRob24gbW9kdWxlLgogKi8KKGZ1bmN0aW9uKHNjb3BlKSB7CmZ1bmN0aW9uIHNwYW4odGV4dCwgc3R5bGVBdHRyaWJ1dGVzID0ge30pIHsKICBjb25zdCBlbGVtZW50ID0gZG9jdW1lbnQuY3JlYXRlRWxlbWVudCgnc3BhbicpOwogIGVsZW1lbnQudGV4dENvbnRlbnQgPSB0ZXh0OwogIGZvciAoY29uc3Qga2V5IG9mIE9iamVjdC5rZXlzKHN0eWxlQXR0cmlidXRlcykpIHsKICAgIGVsZW1lbnQuc3R5bGVba2V5XSA9IHN0eWxlQXR0cmlidXRlc1trZXldOwogIH0KICByZXR1cm4gZWxlbWVudDsKfQoKLy8gTWF4IG51bWJlciBvZiBieXRlcyB3aGljaCB3aWxsIGJlIHVwbG9hZGVkIGF0IGEgdGltZS4KY29uc3QgTUFYX1BBWUxPQURfU0laRSA9IDEwMCAqIDEwMjQ7CgpmdW5jdGlvbiBfdXBsb2FkRmlsZXMoaW5wdXRJZCwgb3V0cHV0SWQpIHsKICBjb25zdCBzdGVwcyA9IHVwbG9hZEZpbGVzU3RlcChpbnB1dElkLCBvdXRwdXRJZCk7CiAgY29uc3Qgb3V0cHV0RWxlbWVudCA9IGRvY3VtZW50LmdldEVsZW1lbnRCeUlkKG91dHB1dElkKTsKICAvLyBDYWNoZSBzdGVwcyBvbiB0aGUgb3V0cHV0RWxlbWVudCB0byBtYWtlIGl0IGF2YWlsYWJsZSBmb3IgdGhlIG5leHQgY2FsbAogIC8vIHRvIHVwbG9hZEZpbGVzQ29udGludWUgZnJvbSBQeXRob24uCiAgb3V0cHV0RWxlbWVudC5zdGVwcyA9IHN0ZXBzOwoKICByZXR1cm4gX3VwbG9hZEZpbGVzQ29udGludWUob3V0cHV0SWQpOwp9CgovLyBUaGlzIGlzIHJvdWdobHkgYW4gYXN5bmMgZ2VuZXJhdG9yIChub3Qgc3VwcG9ydGVkIGluIHRoZSBicm93c2VyIHlldCksCi8vIHdoZXJlIHRoZXJlIGFyZSBtdWx0aXBsZSBhc3luY2hyb25vdXMgc3RlcHMgYW5kIHRoZSBQeXRob24gc2lkZSBpcyBnb2luZwovLyB0byBwb2xsIGZvciBjb21wbGV0aW9uIG9mIGVhY2ggc3RlcC4KLy8gVGhpcyB1c2VzIGEgUHJvbWlzZSB0byBibG9jayB0aGUgcHl0aG9uIHNpZGUgb24gY29tcGxldGlvbiBvZiBlYWNoIHN0ZXAsCi8vIHRoZW4gcGFzc2VzIHRoZSByZXN1bHQgb2YgdGhlIHByZXZpb3VzIHN0ZXAgYXMgdGhlIGlucHV0IHRvIHRoZSBuZXh0IHN0ZXAuCmZ1bmN0aW9uIF91cGxvYWRGaWxlc0NvbnRpbnVlKG91dHB1dElkKSB7CiAgY29uc3Qgb3V0cHV0RWxlbWVudCA9IGRvY3VtZW50LmdldEVsZW1lbnRCeUlkKG91dHB1dElkKTsKICBjb25zdCBzdGVwcyA9IG91dHB1dEVsZW1lbnQuc3RlcHM7CgogIGNvbnN0IG5leHQgPSBzdGVwcy5uZXh0KG91dHB1dEVsZW1lbnQubGFzdFByb21pc2VWYWx1ZSk7CiAgcmV0dXJuIFByb21pc2UucmVzb2x2ZShuZXh0LnZhbHVlLnByb21pc2UpLnRoZW4oKHZhbHVlKSA9PiB7CiAgICAvLyBDYWNoZSB0aGUgbGFzdCBwcm9taXNlIHZhbHVlIHRvIG1ha2UgaXQgYXZhaWxhYmxlIHRvIHRoZSBuZXh0CiAgICAvLyBzdGVwIG9mIHRoZSBnZW5lcmF0b3IuCiAgICBvdXRwdXRFbGVtZW50Lmxhc3RQcm9taXNlVmFsdWUgPSB2YWx1ZTsKICAgIHJldHVybiBuZXh0LnZhbHVlLnJlc3BvbnNlOwogIH0pOwp9CgovKioKICogR2VuZXJhdG9yIGZ1bmN0aW9uIHdoaWNoIGlzIGNhbGxlZCBiZXR3ZWVuIGVhY2ggYXN5bmMgc3RlcCBvZiB0aGUgdXBsb2FkCiAqIHByb2Nlc3MuCiAqIEBwYXJhbSB7c3RyaW5nfSBpbnB1dElkIEVsZW1lbnQgSUQgb2YgdGhlIGlucHV0IGZpbGUgcGlja2VyIGVsZW1lbnQuCiAqIEBwYXJhbSB7c3RyaW5nfSBvdXRwdXRJZCBFbGVtZW50IElEIG9mIHRoZSBvdXRwdXQgZGlzcGxheS4KICogQHJldHVybiB7IUl0ZXJhYmxlPCFPYmplY3Q+fSBJdGVyYWJsZSBvZiBuZXh0IHN0ZXBzLgogKi8KZnVuY3Rpb24qIHVwbG9hZEZpbGVzU3RlcChpbnB1dElkLCBvdXRwdXRJZCkgewogIGNvbnN0IGlucHV0RWxlbWVudCA9IGRvY3VtZW50LmdldEVsZW1lbnRCeUlkKGlucHV0SWQpOwogIGlucHV0RWxlbWVudC5kaXNhYmxlZCA9IGZhbHNlOwoKICBjb25zdCBvdXRwdXRFbGVtZW50ID0gZG9jdW1lbnQuZ2V0RWxlbWVudEJ5SWQob3V0cHV0SWQpOwogIG91dHB1dEVsZW1lbnQuaW5uZXJIVE1MID0gJyc7CgogIGNvbnN0IHBpY2tlZFByb21pc2UgPSBuZXcgUHJvbWlzZSgocmVzb2x2ZSkgPT4gewogICAgaW5wdXRFbGVtZW50LmFkZEV2ZW50TGlzdGVuZXIoJ2NoYW5nZScsIChlKSA9PiB7CiAgICAgIHJlc29sdmUoZS50YXJnZXQuZmlsZXMpOwogICAgfSk7CiAgfSk7CgogIGNvbnN0IGNhbmNlbCA9IGRvY3VtZW50LmNyZWF0ZUVsZW1lbnQoJ2J1dHRvbicpOwogIGlucHV0RWxlbWVudC5wYXJlbnRFbGVtZW50LmFwcGVuZENoaWxkKGNhbmNlbCk7CiAgY2FuY2VsLnRleHRDb250ZW50ID0gJ0NhbmNlbCB1cGxvYWQnOwogIGNvbnN0IGNhbmNlbFByb21pc2UgPSBuZXcgUHJvbWlzZSgocmVzb2x2ZSkgPT4gewogICAgY2FuY2VsLm9uY2xpY2sgPSAoKSA9PiB7CiAgICAgIHJlc29sdmUobnVsbCk7CiAgICB9OwogIH0pOwoKICAvLyBXYWl0IGZvciB0aGUgdXNlciB0byBwaWNrIHRoZSBmaWxlcy4KICBjb25zdCBmaWxlcyA9IHlpZWxkIHsKICAgIHByb21pc2U6IFByb21pc2UucmFjZShbcGlja2VkUHJvbWlzZSwgY2FuY2VsUHJvbWlzZV0pLAogICAgcmVzcG9uc2U6IHsKICAgICAgYWN0aW9uOiAnc3RhcnRpbmcnLAogICAgfQogIH07CgogIGNhbmNlbC5yZW1vdmUoKTsKCiAgLy8gRGlzYWJsZSB0aGUgaW5wdXQgZWxlbWVudCBzaW5jZSBmdXJ0aGVyIHBpY2tzIGFyZSBub3QgYWxsb3dlZC4KICBpbnB1dEVsZW1lbnQuZGlzYWJsZWQgPSB0cnVlOwoKICBpZiAoIWZpbGVzKSB7CiAgICByZXR1cm4gewogICAgICByZXNwb25zZTogewogICAgICAgIGFjdGlvbjogJ2NvbXBsZXRlJywKICAgICAgfQogICAgfTsKICB9CgogIGZvciAoY29uc3QgZmlsZSBvZiBmaWxlcykgewogICAgY29uc3QgbGkgPSBkb2N1bWVudC5jcmVhdGVFbGVtZW50KCdsaScpOwogICAgbGkuYXBwZW5kKHNwYW4oZmlsZS5uYW1lLCB7Zm9udFdlaWdodDogJ2JvbGQnfSkpOwogICAgbGkuYXBwZW5kKHNwYW4oCiAgICAgICAgYCgke2ZpbGUudHlwZSB8fCAnbi9hJ30pIC0gJHtmaWxlLnNpemV9IGJ5dGVzLCBgICsKICAgICAgICBgbGFzdCBtb2RpZmllZDogJHsKICAgICAgICAgICAgZmlsZS5sYXN0TW9kaWZpZWREYXRlID8gZmlsZS5sYXN0TW9kaWZpZWREYXRlLnRvTG9jYWxlRGF0ZVN0cmluZygpIDoKICAgICAgICAgICAgICAgICAgICAgICAgICAgICAgICAgICAgJ24vYSd9IC0gYCkpOwogICAgY29uc3QgcGVyY2VudCA9IHNwYW4oJzAlIGRvbmUnKTsKICAgIGxpLmFwcGVuZENoaWxkKHBlcmNlbnQpOwoKICAgIG91dHB1dEVsZW1lbnQuYXBwZW5kQ2hpbGQobGkpOwoKICAgIGNvbnN0IGZpbGVEYXRhUHJvbWlzZSA9IG5ldyBQcm9taXNlKChyZXNvbHZlKSA9PiB7CiAgICAgIGNvbnN0IHJlYWRlciA9IG5ldyBGaWxlUmVhZGVyKCk7CiAgICAgIHJlYWRlci5vbmxvYWQgPSAoZSkgPT4gewogICAgICAgIHJlc29sdmUoZS50YXJnZXQucmVzdWx0KTsKICAgICAgfTsKICAgICAgcmVhZGVyLnJlYWRBc0FycmF5QnVmZmVyKGZpbGUpOwogICAgfSk7CiAgICAvLyBXYWl0IGZvciB0aGUgZGF0YSB0byBiZSByZWFkeS4KICAgIGxldCBmaWxlRGF0YSA9IHlpZWxkIHsKICAgICAgcHJvbWlzZTogZmlsZURhdGFQcm9taXNlLAogICAgICByZXNwb25zZTogewogICAgICAgIGFjdGlvbjogJ2NvbnRpbnVlJywKICAgICAgfQogICAgfTsKCiAgICAvLyBVc2UgYSBjaHVua2VkIHNlbmRpbmcgdG8gYXZvaWQgbWVzc2FnZSBzaXplIGxpbWl0cy4gU2VlIGIvNjIxMTU2NjAuCiAgICBsZXQgcG9zaXRpb24gPSAwOwogICAgd2hpbGUgKHBvc2l0aW9uIDwgZmlsZURhdGEuYnl0ZUxlbmd0aCkgewogICAgICBjb25zdCBsZW5ndGggPSBNYXRoLm1pbihmaWxlRGF0YS5ieXRlTGVuZ3RoIC0gcG9zaXRpb24sIE1BWF9QQVlMT0FEX1NJWkUpOwogICAgICBjb25zdCBjaHVuayA9IG5ldyBVaW50OEFycmF5KGZpbGVEYXRhLCBwb3NpdGlvbiwgbGVuZ3RoKTsKICAgICAgcG9zaXRpb24gKz0gbGVuZ3RoOwoKICAgICAgY29uc3QgYmFzZTY0ID0gYnRvYShTdHJpbmcuZnJvbUNoYXJDb2RlLmFwcGx5KG51bGwsIGNodW5rKSk7CiAgICAgIHlpZWxkIHsKICAgICAgICByZXNwb25zZTogewogICAgICAgICAgYWN0aW9uOiAnYXBwZW5kJywKICAgICAgICAgIGZpbGU6IGZpbGUubmFtZSwKICAgICAgICAgIGRhdGE6IGJhc2U2NCwKICAgICAgICB9LAogICAgICB9OwogICAgICBwZXJjZW50LnRleHRDb250ZW50ID0KICAgICAgICAgIGAke01hdGgucm91bmQoKHBvc2l0aW9uIC8gZmlsZURhdGEuYnl0ZUxlbmd0aCkgKiAxMDApfSUgZG9uZWA7CiAgICB9CiAgfQoKICAvLyBBbGwgZG9uZS4KICB5aWVsZCB7CiAgICByZXNwb25zZTogewogICAgICBhY3Rpb246ICdjb21wbGV0ZScsCiAgICB9CiAgfTsKfQoKc2NvcGUuZ29vZ2xlID0gc2NvcGUuZ29vZ2xlIHx8IHt9OwpzY29wZS5nb29nbGUuY29sYWIgPSBzY29wZS5nb29nbGUuY29sYWIgfHwge307CnNjb3BlLmdvb2dsZS5jb2xhYi5fZmlsZXMgPSB7CiAgX3VwbG9hZEZpbGVzLAogIF91cGxvYWRGaWxlc0NvbnRpbnVlLAp9Owp9KShzZWxmKTsK",
              "ok": true,
              "headers": [
                [
                  "content-type",
                  "application/javascript"
                ]
              ],
              "status": 200,
              "status_text": ""
            }
          },
          "base_uri": "https://localhost:8080/",
          "height": 140
        },
        "id": "tPBuwkXkGpZf",
        "outputId": "98a85032-76c8-4a94-bb5e-b9d479c7f7e4"
      },
      "source": [
        "# Download source files into google colab drive, from desktop; the alternative is to read directly from kaggle\n",
        "\n",
        "from google.colab import files\n",
        "target = files.upload()"
      ],
      "id": "tPBuwkXkGpZf",
      "execution_count": 68,
      "outputs": [
        {
          "output_type": "display_data",
          "data": {
            "text/html": [
              "\n",
              "     <input type=\"file\" id=\"files-c789782b-3f25-41cb-85d7-c070e07ad6a5\" name=\"files[]\" multiple disabled\n",
              "        style=\"border:none\" />\n",
              "     <output id=\"result-c789782b-3f25-41cb-85d7-c070e07ad6a5\">\n",
              "      Upload widget is only available when the cell has been executed in the\n",
              "      current browser session. Please rerun this cell to enable.\n",
              "      </output>\n",
              "      <script src=\"/nbextensions/google.colab/files.js\"></script> "
            ],
            "text/plain": [
              "<IPython.core.display.HTML object>"
            ]
          },
          "metadata": {
            "tags": []
          }
        },
        {
          "output_type": "stream",
          "text": [
            "Saving aug_test.csv to aug_test (1).csv\n",
            "Saving aug_train.csv to aug_train (1).csv\n",
            "Saving jobchange_test_target_values.npy to jobchange_test_target_values (1).npy\n"
          ],
          "name": "stdout"
        }
      ]
    },
    {
      "cell_type": "code",
      "metadata": {
        "colab": {
          "base_uri": "https://localhost:8080/"
        },
        "id": "RBLPmQ6FFQ5i",
        "outputId": "4a62a705-e963-4d28-c0ce-85c96595962e"
      },
      "source": [
        "# Check: list files in google colab current directory\n",
        "import os\n",
        "from os import listdir\n",
        "\n",
        "for f in os.listdir('.'):\n",
        "  if os.path.isfile(f):\n",
        "    print(f)"
      ],
      "id": "RBLPmQ6FFQ5i",
      "execution_count": 69,
      "outputs": [
        {
          "output_type": "stream",
          "text": [
            "aug_train (1).csv\n",
            "jobchange_test_target_values (1).npy\n",
            "jobchange_test_target_values.npy\n",
            "aug_train.csv\n",
            "aug_test.csv\n",
            "aug_test (1).csv\n"
          ],
          "name": "stdout"
        }
      ]
    },
    {
      "cell_type": "code",
      "metadata": {
        "id": "XTB16j8ir0wg"
      },
      "source": [
        "# Load the target data for the test set, provided as a numpy array\n",
        "target =  np.load('jobchange_test_target_values.npy')"
      ],
      "id": "XTB16j8ir0wg",
      "execution_count": 70,
      "outputs": []
    },
    {
      "cell_type": "code",
      "metadata": {
        "colab": {
          "base_uri": "https://localhost:8080/"
        },
        "id": "8haMy0u6r0wg",
        "outputId": "36a6e2eb-81cc-4702-f34a-b94cfc08d6ce"
      },
      "source": [
        "len(target)"
      ],
      "id": "8haMy0u6r0wg",
      "execution_count": 71,
      "outputs": [
        {
          "output_type": "execute_result",
          "data": {
            "text/plain": [
              "2129"
            ]
          },
          "metadata": {
            "tags": []
          },
          "execution_count": 71
        }
      ]
    },
    {
      "cell_type": "code",
      "metadata": {
        "id": "CJjtx9WLr0wh"
      },
      "source": [
        "# Load the test set, provided as a CSV file\n",
        "\n",
        "testdata = pd.read_csv('aug_test.csv',sep=',')"
      ],
      "id": "CJjtx9WLr0wh",
      "execution_count": 72,
      "outputs": []
    },
    {
      "cell_type": "code",
      "metadata": {
        "colab": {
          "base_uri": "https://localhost:8080/"
        },
        "id": "r2Am1G0Jr0wi",
        "outputId": "7518d506-acb6-42c3-caad-3c35df8f12da"
      },
      "source": [
        "len(testdata)"
      ],
      "id": "r2Am1G0Jr0wi",
      "execution_count": 73,
      "outputs": [
        {
          "output_type": "execute_result",
          "data": {
            "text/plain": [
              "2129"
            ]
          },
          "metadata": {
            "tags": []
          },
          "execution_count": 73
        }
      ]
    },
    {
      "cell_type": "code",
      "metadata": {
        "id": "xIQEDdsWr0wi"
      },
      "source": [
        "# Correct typo in 'relevent'\n",
        "testdata['relevent_experience'] = testdata['relevent_experience'].str.replace('relevent', 'relevant')\n",
        "testdata.rename (inplace=True, columns={'relevent_experience':'relevant_experience'})"
      ],
      "id": "xIQEDdsWr0wi",
      "execution_count": 74,
      "outputs": []
    },
    {
      "cell_type": "code",
      "metadata": {
        "colab": {
          "base_uri": "https://localhost:8080/",
          "height": 224
        },
        "id": "NUMf7mZyr0wi",
        "outputId": "3e00036b-7a65-4d7e-c238-be8d8f66378d"
      },
      "source": [
        "testdata[0:5]  # test data without the target column"
      ],
      "id": "NUMf7mZyr0wi",
      "execution_count": 75,
      "outputs": [
        {
          "output_type": "execute_result",
          "data": {
            "text/html": [
              "<div>\n",
              "<style scoped>\n",
              "    .dataframe tbody tr th:only-of-type {\n",
              "        vertical-align: middle;\n",
              "    }\n",
              "\n",
              "    .dataframe tbody tr th {\n",
              "        vertical-align: top;\n",
              "    }\n",
              "\n",
              "    .dataframe thead th {\n",
              "        text-align: right;\n",
              "    }\n",
              "</style>\n",
              "<table border=\"1\" class=\"dataframe\">\n",
              "  <thead>\n",
              "    <tr style=\"text-align: right;\">\n",
              "      <th></th>\n",
              "      <th>enrollee_id</th>\n",
              "      <th>city</th>\n",
              "      <th>city_development_index</th>\n",
              "      <th>gender</th>\n",
              "      <th>relevant_experience</th>\n",
              "      <th>enrolled_university</th>\n",
              "      <th>education_level</th>\n",
              "      <th>major_discipline</th>\n",
              "      <th>experience</th>\n",
              "      <th>company_size</th>\n",
              "      <th>company_type</th>\n",
              "      <th>last_new_job</th>\n",
              "      <th>training_hours</th>\n",
              "    </tr>\n",
              "  </thead>\n",
              "  <tbody>\n",
              "    <tr>\n",
              "      <th>0</th>\n",
              "      <td>32403</td>\n",
              "      <td>city_41</td>\n",
              "      <td>0.827</td>\n",
              "      <td>Male</td>\n",
              "      <td>Has relevant experience</td>\n",
              "      <td>Full time course</td>\n",
              "      <td>Graduate</td>\n",
              "      <td>STEM</td>\n",
              "      <td>9</td>\n",
              "      <td>&lt;10</td>\n",
              "      <td>NaN</td>\n",
              "      <td>1</td>\n",
              "      <td>21</td>\n",
              "    </tr>\n",
              "    <tr>\n",
              "      <th>1</th>\n",
              "      <td>9858</td>\n",
              "      <td>city_103</td>\n",
              "      <td>0.920</td>\n",
              "      <td>Female</td>\n",
              "      <td>Has relevant experience</td>\n",
              "      <td>no_enrollment</td>\n",
              "      <td>Graduate</td>\n",
              "      <td>STEM</td>\n",
              "      <td>5</td>\n",
              "      <td>NaN</td>\n",
              "      <td>Pvt Ltd</td>\n",
              "      <td>1</td>\n",
              "      <td>98</td>\n",
              "    </tr>\n",
              "    <tr>\n",
              "      <th>2</th>\n",
              "      <td>31806</td>\n",
              "      <td>city_21</td>\n",
              "      <td>0.624</td>\n",
              "      <td>Male</td>\n",
              "      <td>No relevant experience</td>\n",
              "      <td>no_enrollment</td>\n",
              "      <td>High School</td>\n",
              "      <td>NaN</td>\n",
              "      <td>&lt;1</td>\n",
              "      <td>NaN</td>\n",
              "      <td>Pvt Ltd</td>\n",
              "      <td>never</td>\n",
              "      <td>15</td>\n",
              "    </tr>\n",
              "    <tr>\n",
              "      <th>3</th>\n",
              "      <td>27385</td>\n",
              "      <td>city_13</td>\n",
              "      <td>0.827</td>\n",
              "      <td>Male</td>\n",
              "      <td>Has relevant experience</td>\n",
              "      <td>no_enrollment</td>\n",
              "      <td>Masters</td>\n",
              "      <td>STEM</td>\n",
              "      <td>11</td>\n",
              "      <td>10/49</td>\n",
              "      <td>Pvt Ltd</td>\n",
              "      <td>1</td>\n",
              "      <td>39</td>\n",
              "    </tr>\n",
              "    <tr>\n",
              "      <th>4</th>\n",
              "      <td>27724</td>\n",
              "      <td>city_103</td>\n",
              "      <td>0.920</td>\n",
              "      <td>Male</td>\n",
              "      <td>Has relevant experience</td>\n",
              "      <td>no_enrollment</td>\n",
              "      <td>Graduate</td>\n",
              "      <td>STEM</td>\n",
              "      <td>&gt;20</td>\n",
              "      <td>10000+</td>\n",
              "      <td>Pvt Ltd</td>\n",
              "      <td>&gt;4</td>\n",
              "      <td>72</td>\n",
              "    </tr>\n",
              "  </tbody>\n",
              "</table>\n",
              "</div>"
            ],
            "text/plain": [
              "   enrollee_id      city  ...  last_new_job training_hours\n",
              "0        32403   city_41  ...             1             21\n",
              "1         9858  city_103  ...             1             98\n",
              "2        31806   city_21  ...         never             15\n",
              "3        27385   city_13  ...             1             39\n",
              "4        27724  city_103  ...            >4             72\n",
              "\n",
              "[5 rows x 13 columns]"
            ]
          },
          "metadata": {
            "tags": []
          },
          "execution_count": 75
        }
      ]
    },
    {
      "cell_type": "code",
      "metadata": {
        "colab": {
          "base_uri": "https://localhost:8080/"
        },
        "id": "uARxmgmFr0wj",
        "outputId": "c842e8c3-699d-45a1-9cec-549e4134f775"
      },
      "source": [
        "target[:5]   #   target array"
      ],
      "id": "uARxmgmFr0wj",
      "execution_count": 76,
      "outputs": [
        {
          "output_type": "execute_result",
          "data": {
            "text/plain": [
              "array([1., 0., 1., 0., 1.])"
            ]
          },
          "metadata": {
            "tags": []
          },
          "execution_count": 76
        }
      ]
    },
    {
      "cell_type": "code",
      "metadata": {
        "id": "OIEepS38r0wj"
      },
      "source": [
        "#  Append the column with targets to testdata \n",
        "testdata['target'] = target    "
      ],
      "id": "OIEepS38r0wj",
      "execution_count": 77,
      "outputs": []
    },
    {
      "cell_type": "code",
      "metadata": {
        "colab": {
          "base_uri": "https://localhost:8080/",
          "height": 224
        },
        "id": "9WhxqqRzr0wj",
        "outputId": "10ec2b7b-61a4-4243-df70-6eeb52a1dafa"
      },
      "source": [
        "testdata[:5]  #  test data with the target column"
      ],
      "id": "9WhxqqRzr0wj",
      "execution_count": 78,
      "outputs": [
        {
          "output_type": "execute_result",
          "data": {
            "text/html": [
              "<div>\n",
              "<style scoped>\n",
              "    .dataframe tbody tr th:only-of-type {\n",
              "        vertical-align: middle;\n",
              "    }\n",
              "\n",
              "    .dataframe tbody tr th {\n",
              "        vertical-align: top;\n",
              "    }\n",
              "\n",
              "    .dataframe thead th {\n",
              "        text-align: right;\n",
              "    }\n",
              "</style>\n",
              "<table border=\"1\" class=\"dataframe\">\n",
              "  <thead>\n",
              "    <tr style=\"text-align: right;\">\n",
              "      <th></th>\n",
              "      <th>enrollee_id</th>\n",
              "      <th>city</th>\n",
              "      <th>city_development_index</th>\n",
              "      <th>gender</th>\n",
              "      <th>relevant_experience</th>\n",
              "      <th>enrolled_university</th>\n",
              "      <th>education_level</th>\n",
              "      <th>major_discipline</th>\n",
              "      <th>experience</th>\n",
              "      <th>company_size</th>\n",
              "      <th>company_type</th>\n",
              "      <th>last_new_job</th>\n",
              "      <th>training_hours</th>\n",
              "      <th>target</th>\n",
              "    </tr>\n",
              "  </thead>\n",
              "  <tbody>\n",
              "    <tr>\n",
              "      <th>0</th>\n",
              "      <td>32403</td>\n",
              "      <td>city_41</td>\n",
              "      <td>0.827</td>\n",
              "      <td>Male</td>\n",
              "      <td>Has relevant experience</td>\n",
              "      <td>Full time course</td>\n",
              "      <td>Graduate</td>\n",
              "      <td>STEM</td>\n",
              "      <td>9</td>\n",
              "      <td>&lt;10</td>\n",
              "      <td>NaN</td>\n",
              "      <td>1</td>\n",
              "      <td>21</td>\n",
              "      <td>1.0</td>\n",
              "    </tr>\n",
              "    <tr>\n",
              "      <th>1</th>\n",
              "      <td>9858</td>\n",
              "      <td>city_103</td>\n",
              "      <td>0.920</td>\n",
              "      <td>Female</td>\n",
              "      <td>Has relevant experience</td>\n",
              "      <td>no_enrollment</td>\n",
              "      <td>Graduate</td>\n",
              "      <td>STEM</td>\n",
              "      <td>5</td>\n",
              "      <td>NaN</td>\n",
              "      <td>Pvt Ltd</td>\n",
              "      <td>1</td>\n",
              "      <td>98</td>\n",
              "      <td>0.0</td>\n",
              "    </tr>\n",
              "    <tr>\n",
              "      <th>2</th>\n",
              "      <td>31806</td>\n",
              "      <td>city_21</td>\n",
              "      <td>0.624</td>\n",
              "      <td>Male</td>\n",
              "      <td>No relevant experience</td>\n",
              "      <td>no_enrollment</td>\n",
              "      <td>High School</td>\n",
              "      <td>NaN</td>\n",
              "      <td>&lt;1</td>\n",
              "      <td>NaN</td>\n",
              "      <td>Pvt Ltd</td>\n",
              "      <td>never</td>\n",
              "      <td>15</td>\n",
              "      <td>1.0</td>\n",
              "    </tr>\n",
              "    <tr>\n",
              "      <th>3</th>\n",
              "      <td>27385</td>\n",
              "      <td>city_13</td>\n",
              "      <td>0.827</td>\n",
              "      <td>Male</td>\n",
              "      <td>Has relevant experience</td>\n",
              "      <td>no_enrollment</td>\n",
              "      <td>Masters</td>\n",
              "      <td>STEM</td>\n",
              "      <td>11</td>\n",
              "      <td>10/49</td>\n",
              "      <td>Pvt Ltd</td>\n",
              "      <td>1</td>\n",
              "      <td>39</td>\n",
              "      <td>0.0</td>\n",
              "    </tr>\n",
              "    <tr>\n",
              "      <th>4</th>\n",
              "      <td>27724</td>\n",
              "      <td>city_103</td>\n",
              "      <td>0.920</td>\n",
              "      <td>Male</td>\n",
              "      <td>Has relevant experience</td>\n",
              "      <td>no_enrollment</td>\n",
              "      <td>Graduate</td>\n",
              "      <td>STEM</td>\n",
              "      <td>&gt;20</td>\n",
              "      <td>10000+</td>\n",
              "      <td>Pvt Ltd</td>\n",
              "      <td>&gt;4</td>\n",
              "      <td>72</td>\n",
              "      <td>1.0</td>\n",
              "    </tr>\n",
              "  </tbody>\n",
              "</table>\n",
              "</div>"
            ],
            "text/plain": [
              "   enrollee_id      city  ...  training_hours target\n",
              "0        32403   city_41  ...              21    1.0\n",
              "1         9858  city_103  ...              98    0.0\n",
              "2        31806   city_21  ...              15    1.0\n",
              "3        27385   city_13  ...              39    0.0\n",
              "4        27724  city_103  ...              72    1.0\n",
              "\n",
              "[5 rows x 14 columns]"
            ]
          },
          "metadata": {
            "tags": []
          },
          "execution_count": 78
        }
      ]
    },
    {
      "cell_type": "code",
      "metadata": {
        "id": "r8PLhh9ar0wj"
      },
      "source": [
        "# Load the training set, provided as a CSV file\n",
        "training = pd.read_csv('aug_train.csv',sep=',')"
      ],
      "id": "r8PLhh9ar0wj",
      "execution_count": 79,
      "outputs": []
    },
    {
      "cell_type": "code",
      "metadata": {
        "colab": {
          "base_uri": "https://localhost:8080/"
        },
        "id": "mwj8vRYrr0wk",
        "outputId": "f62ba69d-4a19-4aaa-e827-1a7cc9a1b3ea"
      },
      "source": [
        "len(training)"
      ],
      "id": "mwj8vRYrr0wk",
      "execution_count": 80,
      "outputs": [
        {
          "output_type": "execute_result",
          "data": {
            "text/plain": [
              "19158"
            ]
          },
          "metadata": {
            "tags": []
          },
          "execution_count": 80
        }
      ]
    },
    {
      "cell_type": "code",
      "metadata": {
        "colab": {
          "base_uri": "https://localhost:8080/",
          "height": 224
        },
        "id": "6XXu49kLr0wk",
        "outputId": "6761f35e-8bbb-4381-d8b7-1fba8dc1ce41"
      },
      "source": [
        "# Correct typo in 'relevent'\n",
        "training['relevent_experience'] = training['relevent_experience'].str.replace('relevent', 'relevant')\n",
        "training.rename (inplace=True, columns={'relevent_experience':'relevant_experience'})\n",
        "training.head()"
      ],
      "id": "6XXu49kLr0wk",
      "execution_count": 81,
      "outputs": [
        {
          "output_type": "execute_result",
          "data": {
            "text/html": [
              "<div>\n",
              "<style scoped>\n",
              "    .dataframe tbody tr th:only-of-type {\n",
              "        vertical-align: middle;\n",
              "    }\n",
              "\n",
              "    .dataframe tbody tr th {\n",
              "        vertical-align: top;\n",
              "    }\n",
              "\n",
              "    .dataframe thead th {\n",
              "        text-align: right;\n",
              "    }\n",
              "</style>\n",
              "<table border=\"1\" class=\"dataframe\">\n",
              "  <thead>\n",
              "    <tr style=\"text-align: right;\">\n",
              "      <th></th>\n",
              "      <th>enrollee_id</th>\n",
              "      <th>city</th>\n",
              "      <th>city_development_index</th>\n",
              "      <th>gender</th>\n",
              "      <th>relevant_experience</th>\n",
              "      <th>enrolled_university</th>\n",
              "      <th>education_level</th>\n",
              "      <th>major_discipline</th>\n",
              "      <th>experience</th>\n",
              "      <th>company_size</th>\n",
              "      <th>company_type</th>\n",
              "      <th>last_new_job</th>\n",
              "      <th>training_hours</th>\n",
              "      <th>target</th>\n",
              "    </tr>\n",
              "  </thead>\n",
              "  <tbody>\n",
              "    <tr>\n",
              "      <th>0</th>\n",
              "      <td>8949</td>\n",
              "      <td>city_103</td>\n",
              "      <td>0.920</td>\n",
              "      <td>Male</td>\n",
              "      <td>Has relevant experience</td>\n",
              "      <td>no_enrollment</td>\n",
              "      <td>Graduate</td>\n",
              "      <td>STEM</td>\n",
              "      <td>&gt;20</td>\n",
              "      <td>NaN</td>\n",
              "      <td>NaN</td>\n",
              "      <td>1</td>\n",
              "      <td>36</td>\n",
              "      <td>1.0</td>\n",
              "    </tr>\n",
              "    <tr>\n",
              "      <th>1</th>\n",
              "      <td>29725</td>\n",
              "      <td>city_40</td>\n",
              "      <td>0.776</td>\n",
              "      <td>Male</td>\n",
              "      <td>No relevant experience</td>\n",
              "      <td>no_enrollment</td>\n",
              "      <td>Graduate</td>\n",
              "      <td>STEM</td>\n",
              "      <td>15</td>\n",
              "      <td>50-99</td>\n",
              "      <td>Pvt Ltd</td>\n",
              "      <td>&gt;4</td>\n",
              "      <td>47</td>\n",
              "      <td>0.0</td>\n",
              "    </tr>\n",
              "    <tr>\n",
              "      <th>2</th>\n",
              "      <td>11561</td>\n",
              "      <td>city_21</td>\n",
              "      <td>0.624</td>\n",
              "      <td>NaN</td>\n",
              "      <td>No relevant experience</td>\n",
              "      <td>Full time course</td>\n",
              "      <td>Graduate</td>\n",
              "      <td>STEM</td>\n",
              "      <td>5</td>\n",
              "      <td>NaN</td>\n",
              "      <td>NaN</td>\n",
              "      <td>never</td>\n",
              "      <td>83</td>\n",
              "      <td>0.0</td>\n",
              "    </tr>\n",
              "    <tr>\n",
              "      <th>3</th>\n",
              "      <td>33241</td>\n",
              "      <td>city_115</td>\n",
              "      <td>0.789</td>\n",
              "      <td>NaN</td>\n",
              "      <td>No relevant experience</td>\n",
              "      <td>NaN</td>\n",
              "      <td>Graduate</td>\n",
              "      <td>Business Degree</td>\n",
              "      <td>&lt;1</td>\n",
              "      <td>NaN</td>\n",
              "      <td>Pvt Ltd</td>\n",
              "      <td>never</td>\n",
              "      <td>52</td>\n",
              "      <td>1.0</td>\n",
              "    </tr>\n",
              "    <tr>\n",
              "      <th>4</th>\n",
              "      <td>666</td>\n",
              "      <td>city_162</td>\n",
              "      <td>0.767</td>\n",
              "      <td>Male</td>\n",
              "      <td>Has relevant experience</td>\n",
              "      <td>no_enrollment</td>\n",
              "      <td>Masters</td>\n",
              "      <td>STEM</td>\n",
              "      <td>&gt;20</td>\n",
              "      <td>50-99</td>\n",
              "      <td>Funded Startup</td>\n",
              "      <td>4</td>\n",
              "      <td>8</td>\n",
              "      <td>0.0</td>\n",
              "    </tr>\n",
              "  </tbody>\n",
              "</table>\n",
              "</div>"
            ],
            "text/plain": [
              "   enrollee_id      city  ...  training_hours target\n",
              "0         8949  city_103  ...              36    1.0\n",
              "1        29725   city_40  ...              47    0.0\n",
              "2        11561   city_21  ...              83    0.0\n",
              "3        33241  city_115  ...              52    1.0\n",
              "4          666  city_162  ...               8    0.0\n",
              "\n",
              "[5 rows x 14 columns]"
            ]
          },
          "metadata": {
            "tags": []
          },
          "execution_count": 81
        }
      ]
    },
    {
      "cell_type": "code",
      "metadata": {
        "id": "2O3HfFY9r0wk"
      },
      "source": [
        "# Save the test set with target column included\n",
        "testdata.to_csv ('aug_test1.csv', sep = ',')"
      ],
      "id": "2O3HfFY9r0wk",
      "execution_count": 82,
      "outputs": []
    },
    {
      "cell_type": "code",
      "metadata": {
        "collapsed": true,
        "colab": {
          "base_uri": "https://localhost:8080/"
        },
        "id": "cVWSSOwnr0wl",
        "outputId": "d5b3eec3-6903-4e6b-a52a-82210241e90f"
      },
      "source": [
        "# Checking to see how many null values\n",
        "training.isnull().sum()"
      ],
      "id": "cVWSSOwnr0wl",
      "execution_count": 83,
      "outputs": [
        {
          "output_type": "execute_result",
          "data": {
            "text/plain": [
              "enrollee_id                  0\n",
              "city                         0\n",
              "city_development_index       0\n",
              "gender                    4508\n",
              "relevant_experience          0\n",
              "enrolled_university        386\n",
              "education_level            460\n",
              "major_discipline          2813\n",
              "experience                  65\n",
              "company_size              5938\n",
              "company_type              6140\n",
              "last_new_job               423\n",
              "training_hours               0\n",
              "target                       0\n",
              "dtype: int64"
            ]
          },
          "metadata": {
            "tags": []
          },
          "execution_count": 83
        }
      ]
    },
    {
      "cell_type": "code",
      "metadata": {
        "id": "rK1NC3QHr0wl"
      },
      "source": [
        "# Dropping all the nulls \n",
        "new_training = training.dropna()"
      ],
      "id": "rK1NC3QHr0wl",
      "execution_count": 157,
      "outputs": []
    },
    {
      "cell_type": "code",
      "metadata": {
        "collapsed": true,
        "colab": {
          "base_uri": "https://localhost:8080/"
        },
        "id": "pLh5zgM5r0wl",
        "outputId": "a2c6c28d-f5ce-402e-f050-fb6a519827ba"
      },
      "source": [
        "# Viewing new dataset\n",
        "new_training.shape"
      ],
      "id": "pLh5zgM5r0wl",
      "execution_count": 130,
      "outputs": [
        {
          "output_type": "execute_result",
          "data": {
            "text/plain": [
              "(8955, 14)"
            ]
          },
          "metadata": {
            "tags": []
          },
          "execution_count": 130
        }
      ]
    },
    {
      "cell_type": "code",
      "metadata": {
        "collapsed": true,
        "colab": {
          "base_uri": "https://localhost:8080/"
        },
        "id": "f8v_zB9rr0wl",
        "outputId": "e0e2aa3e-d596-4b78-9af4-c18201317b4a"
      },
      "source": [
        "# Checking that there are no more nulls\n",
        "new_training.isnull().sum()"
      ],
      "id": "f8v_zB9rr0wl",
      "execution_count": 158,
      "outputs": [
        {
          "output_type": "execute_result",
          "data": {
            "text/plain": [
              "enrollee_id               0\n",
              "city                      0\n",
              "city_development_index    0\n",
              "gender                    0\n",
              "relevant_experience       0\n",
              "enrolled_university       0\n",
              "education_level           0\n",
              "major_discipline          0\n",
              "experience                0\n",
              "company_size              0\n",
              "company_type              0\n",
              "last_new_job              0\n",
              "training_hours            0\n",
              "target                    0\n",
              "dtype: int64"
            ]
          },
          "metadata": {
            "tags": []
          },
          "execution_count": 158
        }
      ]
    },
    {
      "cell_type": "code",
      "metadata": {
        "collapsed": true,
        "colab": {
          "base_uri": "https://localhost:8080/",
          "height": 224
        },
        "id": "59aygCPMr0wm",
        "outputId": "9e74f421-83c6-4990-e4b4-484bae4cb19d"
      },
      "source": [
        "# Viewing head of new data\n",
        "new_training.head()"
      ],
      "id": "59aygCPMr0wm",
      "execution_count": 132,
      "outputs": [
        {
          "output_type": "execute_result",
          "data": {
            "text/html": [
              "<div>\n",
              "<style scoped>\n",
              "    .dataframe tbody tr th:only-of-type {\n",
              "        vertical-align: middle;\n",
              "    }\n",
              "\n",
              "    .dataframe tbody tr th {\n",
              "        vertical-align: top;\n",
              "    }\n",
              "\n",
              "    .dataframe thead th {\n",
              "        text-align: right;\n",
              "    }\n",
              "</style>\n",
              "<table border=\"1\" class=\"dataframe\">\n",
              "  <thead>\n",
              "    <tr style=\"text-align: right;\">\n",
              "      <th></th>\n",
              "      <th>enrollee_id</th>\n",
              "      <th>city</th>\n",
              "      <th>city_development_index</th>\n",
              "      <th>gender</th>\n",
              "      <th>relevant_experience</th>\n",
              "      <th>enrolled_university</th>\n",
              "      <th>education_level</th>\n",
              "      <th>major_discipline</th>\n",
              "      <th>experience</th>\n",
              "      <th>company_size</th>\n",
              "      <th>company_type</th>\n",
              "      <th>last_new_job</th>\n",
              "      <th>training_hours</th>\n",
              "      <th>target</th>\n",
              "    </tr>\n",
              "  </thead>\n",
              "  <tbody>\n",
              "    <tr>\n",
              "      <th>1</th>\n",
              "      <td>29725</td>\n",
              "      <td>city_40</td>\n",
              "      <td>0.776</td>\n",
              "      <td>Male</td>\n",
              "      <td>No relevant experience</td>\n",
              "      <td>no_enrollment</td>\n",
              "      <td>Graduate</td>\n",
              "      <td>STEM</td>\n",
              "      <td>15</td>\n",
              "      <td>50-99</td>\n",
              "      <td>Pvt Ltd</td>\n",
              "      <td>&gt;4</td>\n",
              "      <td>47</td>\n",
              "      <td>0.0</td>\n",
              "    </tr>\n",
              "    <tr>\n",
              "      <th>4</th>\n",
              "      <td>666</td>\n",
              "      <td>city_162</td>\n",
              "      <td>0.767</td>\n",
              "      <td>Male</td>\n",
              "      <td>Has relevant experience</td>\n",
              "      <td>no_enrollment</td>\n",
              "      <td>Masters</td>\n",
              "      <td>STEM</td>\n",
              "      <td>&gt;20</td>\n",
              "      <td>50-99</td>\n",
              "      <td>Funded Startup</td>\n",
              "      <td>4</td>\n",
              "      <td>8</td>\n",
              "      <td>0.0</td>\n",
              "    </tr>\n",
              "    <tr>\n",
              "      <th>7</th>\n",
              "      <td>402</td>\n",
              "      <td>city_46</td>\n",
              "      <td>0.762</td>\n",
              "      <td>Male</td>\n",
              "      <td>Has relevant experience</td>\n",
              "      <td>no_enrollment</td>\n",
              "      <td>Graduate</td>\n",
              "      <td>STEM</td>\n",
              "      <td>13</td>\n",
              "      <td>&lt;10</td>\n",
              "      <td>Pvt Ltd</td>\n",
              "      <td>&gt;4</td>\n",
              "      <td>18</td>\n",
              "      <td>1.0</td>\n",
              "    </tr>\n",
              "    <tr>\n",
              "      <th>8</th>\n",
              "      <td>27107</td>\n",
              "      <td>city_103</td>\n",
              "      <td>0.920</td>\n",
              "      <td>Male</td>\n",
              "      <td>Has relevant experience</td>\n",
              "      <td>no_enrollment</td>\n",
              "      <td>Graduate</td>\n",
              "      <td>STEM</td>\n",
              "      <td>7</td>\n",
              "      <td>50-99</td>\n",
              "      <td>Pvt Ltd</td>\n",
              "      <td>1</td>\n",
              "      <td>46</td>\n",
              "      <td>1.0</td>\n",
              "    </tr>\n",
              "    <tr>\n",
              "      <th>11</th>\n",
              "      <td>23853</td>\n",
              "      <td>city_103</td>\n",
              "      <td>0.920</td>\n",
              "      <td>Male</td>\n",
              "      <td>Has relevant experience</td>\n",
              "      <td>no_enrollment</td>\n",
              "      <td>Graduate</td>\n",
              "      <td>STEM</td>\n",
              "      <td>5</td>\n",
              "      <td>5000-9999</td>\n",
              "      <td>Pvt Ltd</td>\n",
              "      <td>1</td>\n",
              "      <td>108</td>\n",
              "      <td>0.0</td>\n",
              "    </tr>\n",
              "  </tbody>\n",
              "</table>\n",
              "</div>"
            ],
            "text/plain": [
              "    enrollee_id      city  ...  training_hours target\n",
              "1         29725   city_40  ...              47    0.0\n",
              "4           666  city_162  ...               8    0.0\n",
              "7           402   city_46  ...              18    1.0\n",
              "8         27107  city_103  ...              46    1.0\n",
              "11        23853  city_103  ...             108    0.0\n",
              "\n",
              "[5 rows x 14 columns]"
            ]
          },
          "metadata": {
            "tags": []
          },
          "execution_count": 132
        }
      ]
    },
    {
      "cell_type": "code",
      "metadata": {
        "id": "AAOD3SHRr0wm"
      },
      "source": [
        "## Use EDA principles and the Matplotlib / Seaborn packages to visualize the data"
      ],
      "id": "AAOD3SHRr0wm",
      "execution_count": 88,
      "outputs": []
    },
    {
      "cell_type": "code",
      "metadata": {
        "colab": {
          "base_uri": "https://localhost:8080/"
        },
        "id": "z_cM7Ybur0wm",
        "outputId": "b619b787-b97b-4e2c-b671-600472314ab8"
      },
      "source": [
        "new_training.value_counts('target')"
      ],
      "id": "z_cM7Ybur0wm",
      "execution_count": 155,
      "outputs": [
        {
          "output_type": "execute_result",
          "data": {
            "text/plain": [
              "target\n",
              "0.0    7472\n",
              "1.0    1483\n",
              "dtype: int64"
            ]
          },
          "metadata": {
            "tags": []
          },
          "execution_count": 155
        }
      ]
    },
    {
      "cell_type": "code",
      "metadata": {
        "colab": {
          "base_uri": "https://localhost:8080/",
          "height": 369
        },
        "id": "8m4ZikTCr0wm",
        "outputId": "02f89735-c2e2-424d-ac3e-0d94432f39bc"
      },
      "source": [
        "# Counting the amount of target data, showing its imbalanced\n",
        "sns.displot(new_training['target'])\n",
        "plt.show()"
      ],
      "id": "8m4ZikTCr0wm",
      "execution_count": 90,
      "outputs": [
        {
          "output_type": "display_data",
          "data": {
            "image/png": "[encoded data removed]",
            "text/plain": [
              "<Figure size 360x360 with 1 Axes>"
            ]
          },
          "metadata": {
            "tags": [],
            "needs_background": "light"
          }
        }
      ]
    },
    {
      "cell_type": "code",
      "metadata": {
        "colab": {
          "base_uri": "https://localhost:8080/",
          "height": 381
        },
        "id": "-Rgy5Hs3r0wn",
        "outputId": "f49edf6a-f264-4d17-bb0c-4aa94c28b85b"
      },
      "source": [
        "# Graph of the number of genders reported in dataset\n",
        "sns.set_theme(style=\"darkgrid\")\n",
        "sns.displot(new_training['gender'])\n",
        "plt.xlabel('Reported Genders')\n",
        "plt.ylabel('Count')\n",
        "plt.title('Reported Genders')\n",
        "plt.show()"
      ],
      "id": "-Rgy5Hs3r0wn",
      "execution_count": 91,
      "outputs": [
        {
          "output_type": "display_data",
          "data": {
            "image/png": "[encoded data removed]",
            "text/plain": [
              "<Figure size 360x360 with 1 Axes>"
            ]
          },
          "metadata": {
            "tags": []
          }
        }
      ]
    },
    {
      "cell_type": "code",
      "metadata": {
        "colab": {
          "base_uri": "https://localhost:8080/",
          "height": 301
        },
        "id": "EBq_Iw_fr0wn",
        "outputId": "8beb5697-81cf-467e-a4a8-a9fbe346a688"
      },
      "source": [
        "# Graph of counting the number of people who are willing to leave/stay based on gender\n",
        "sns.set_theme(style=\"whitegrid\")\n",
        "sns.countplot(x='target',hue='gender',data=new_training)\n",
        "plt.xlabel('Target')\n",
        "plt.ylabel('Count')\n",
        "plt.title('Gender and Target Data')\n",
        "plt.xticks([0.0, 1.0], ['Stay', 'Leave'])\n",
        "plt.show()"
      ],
      "id": "EBq_Iw_fr0wn",
      "execution_count": 92,
      "outputs": [
        {
          "output_type": "display_data",
          "data": {
            "image/png": "[encoded data removed]",
            "text/plain": [
              "<Figure size 432x288 with 1 Axes>"
            ]
          },
          "metadata": {
            "tags": []
          }
        }
      ]
    },
    {
      "cell_type": "code",
      "metadata": {
        "scrolled": true,
        "colab": {
          "base_uri": "https://localhost:8080/",
          "height": 301
        },
        "id": "jg_tXKS_r0wn",
        "outputId": "3fa00223-8b9e-40cd-b6a0-b478cca4036d"
      },
      "source": [
        "# Bargraph of the number of people who are willing to leave/stay in dataset\n",
        "sns.countplot(x='target', data = new_training)\n",
        "plt.xlabel('Target')\n",
        "plt.ylabel('Count')\n",
        "plt.title('Projected to Leave Training Hours Completed')\n",
        "plt.xticks([0.0, 1.0], ['Stay', 'Leave'])\n",
        "plt.show()"
      ],
      "id": "jg_tXKS_r0wn",
      "execution_count": 93,
      "outputs": [
        {
          "output_type": "display_data",
          "data": {
            "image/png": "[encoded data removed]",
            "text/plain": [
              "<Figure size 432x288 with 1 Axes>"
            ]
          },
          "metadata": {
            "tags": []
          }
        }
      ]
    },
    {
      "cell_type": "code",
      "metadata": {
        "colab": {
          "base_uri": "https://localhost:8080/",
          "height": 301
        },
        "id": "rz05kALIr0wn",
        "outputId": "d54b85c5-4a03-48ed-cedd-ea45c448a414"
      },
      "source": [
        "# Barplot of the genders of people who are willing to leave/stay and the training hours completed\n",
        "sns.set_theme(style=\"dark\")\n",
        "sns.barplot(x=\"target\", y=\"training_hours\", hue=\"gender\", data=new_training)\n",
        "plt.xticks([0.0, 1.0], ['Stay', 'Leave'])\n",
        "plt.xlabel('Target')\n",
        "plt.ylabel('Training Hours Completed')\n",
        "plt.title('Gender of Those Projected to Leave and Training Hours Completed')\n",
        "plt.show()"
      ],
      "id": "rz05kALIr0wn",
      "execution_count": 94,
      "outputs": [
        {
          "output_type": "display_data",
          "data": {
            "image/png": "[encoded data removed]",
            "text/plain": [
              "<Figure size 432x288 with 1 Axes>"
            ]
          },
          "metadata": {
            "tags": []
          }
        }
      ]
    },
    {
      "cell_type": "code",
      "metadata": {
        "colab": {
          "base_uri": "https://localhost:8080/",
          "height": 301
        },
        "id": "0aAYMtJ8r0wo",
        "outputId": "2ed84f8d-7c9a-4e0d-c64e-661ab9aef9cb"
      },
      "source": [
        "# Bargraph counting those with relevant experience based on gender\n",
        "sns.set_theme(style=\"darkgrid\")\n",
        "sns.countplot(x='relevant_experience', hue = 'gender',data=new_training)\n",
        "plt.xlabel('Relevant Experience')\n",
        "plt.ylabel('Count')\n",
        "plt.title('Relevant Experience and Gender')\n",
        "plt.show()"
      ],
      "id": "0aAYMtJ8r0wo",
      "execution_count": 95,
      "outputs": [
        {
          "output_type": "display_data",
          "data": {
            "image/png": "[encoded data removed]",
            "text/plain": [
              "<Figure size 432x288 with 1 Axes>"
            ]
          },
          "metadata": {
            "tags": []
          }
        }
      ]
    },
    {
      "cell_type": "code",
      "metadata": {
        "scrolled": true,
        "colab": {
          "base_uri": "https://localhost:8080/",
          "height": 301
        },
        "id": "5hkv1L7or0wo",
        "outputId": "fffefa68-ccb6-4c85-e541-f864a2f5e4ca"
      },
      "source": [
        "# Bargraph counting those who have relevent experience based on likelihood of leaving/staying\n",
        "sns.set_theme(style=\"whitegrid\")\n",
        "sns.countplot(x='relevant_experience', hue ='target',data=new_training)\n",
        "plt.xlabel('Relevant Experience')\n",
        "plt.ylabel('Count')\n",
        "plt.title('Relevant Experience')\n",
        "plt.show()"
      ],
      "id": "5hkv1L7or0wo",
      "execution_count": 96,
      "outputs": [
        {
          "output_type": "display_data",
          "data": {
            "image/png": "[encoded data removed]",
            "text/plain": [
              "<Figure size 432x288 with 1 Axes>"
            ]
          },
          "metadata": {
            "tags": []
          }
        }
      ]
    },
    {
      "cell_type": "code",
      "metadata": {
        "colab": {
          "base_uri": "https://localhost:8080/",
          "height": 301
        },
        "id": "WhbbDE7Qr0wo",
        "outputId": "9cc591a4-0154-41a6-97a3-2199e266f243"
      },
      "source": [
        "# Graph on how many different years of experiences employeees have\n",
        "# re-arrange\n",
        "sns.countplot(x='experience',data=new_training)\n",
        "plt.xlabel('Years of Experience')\n",
        "plt.ylabel('Count')\n",
        "plt.title('Experience')\n",
        "plt.show()"
      ],
      "id": "WhbbDE7Qr0wo",
      "execution_count": 97,
      "outputs": [
        {
          "output_type": "display_data",
          "data": {
            "image/png": "[encoded data removed]",
            "text/plain": [
              "<Figure size 432x288 with 1 Axes>"
            ]
          },
          "metadata": {
            "tags": []
          }
        }
      ]
    },
    {
      "cell_type": "code",
      "metadata": {
        "scrolled": true,
        "colab": {
          "base_uri": "https://localhost:8080/",
          "height": 301
        },
        "id": "XM4TiWXQr0wp",
        "outputId": "aebdcc3a-c927-48b7-c7be-0d383a83cecc"
      },
      "source": [
        "# Graph counting the types of companies in dataset\n",
        "sns.set_theme(style=\"white\")\n",
        "sns.countplot(y='company_type',data=new_training)\n",
        "plt.xlabel('Count')\n",
        "plt.ylabel('Company Type')\n",
        "plt.title('Company Types')\n",
        "plt.show()"
      ],
      "id": "XM4TiWXQr0wp",
      "execution_count": 98,
      "outputs": [
        {
          "output_type": "display_data",
          "data": {
            "image/png": "[encoded data removed]",
            "text/plain": [
              "<Figure size 432x288 with 1 Axes>"
            ]
          },
          "metadata": {
            "tags": []
          }
        }
      ]
    },
    {
      "cell_type": "code",
      "metadata": {
        "colab": {
          "base_uri": "https://localhost:8080/",
          "height": 301
        },
        "id": "W05kT2QKr0wp",
        "outputId": "7ed26623-5109-43ca-ee65-7ac057ed85eb"
      },
      "source": [
        "# Graph counting the types of companies and how many employees are/are not willing to leave\n",
        "sns.set_theme(style=\"dark\")\n",
        "sns.countplot(y='company_type',hue= 'target', data=new_training)\n",
        "plt.legend(loc='lower center')\n",
        "plt.xlabel('Count')\n",
        "plt.ylabel('Company Type')\n",
        "plt.title('Company Type')\n",
        "plt.show()"
      ],
      "id": "W05kT2QKr0wp",
      "execution_count": 99,
      "outputs": [
        {
          "output_type": "display_data",
          "data": {
            "image/png": "[encoded data removed]",
            "text/plain": [
              "<Figure size 432x288 with 1 Axes>"
            ]
          },
          "metadata": {
            "tags": []
          }
        }
      ]
    },
    {
      "cell_type": "code",
      "metadata": {
        "id": "gyYl_KSbr0wq"
      },
      "source": [
        ""
      ],
      "id": "gyYl_KSbr0wq",
      "execution_count": 99,
      "outputs": []
    },
    {
      "cell_type": "code",
      "metadata": {
        "colab": {
          "base_uri": "https://localhost:8080/",
          "height": 319
        },
        "id": "Wdypd7bWr0wq",
        "outputId": "a10dad13-b762-4094-800c-c2ac484db14d"
      },
      "source": [
        "# Simulate a nonparametric inference of the Median for a quantitative variable\n",
        "# (bootstrapping inference of median of 'training_hours' array)\n",
        "\n",
        "print (\"Median of the original training set: \", training['training_hours'].median())   #  original sample median\n",
        "\n",
        "median_boot_samples = []\n",
        "for i in range (1000):\n",
        "  boot_sample = np.random.choice(training['training_hours'], 1000)\n",
        "  median_boot_samples.append(np.median(boot_sample))\n",
        "\n",
        "bootstrap_median = np.median(median_boot_samples)\n",
        "print (\"Bootstrap median (red line): \", bootstrap_median)        # compare bootstrap median with original\n",
        "\n",
        "conf_int = np.percentile(median_boot_samples, [2.5, 97.5])     #confidence interval, central 95%\n",
        "print (\"95% Confidence interval (yellow lines):\", conf_int)\n",
        "\n",
        "sns.kdeplot (median_boot_samples)      # plot the distribution, indicate median, conf. int.\n",
        "plt.axvline (bootstrap_median, color = 'red')\n",
        "for ends in conf_int:\n",
        "  plt.axvline (ends, color = 'yellow')\n"
      ],
      "id": "Wdypd7bWr0wq",
      "execution_count": 100,
      "outputs": [
        {
          "output_type": "stream",
          "text": [
            "Median of the original training set:  47.0\n",
            "Bootstrap median (red line):  47.0\n",
            "95% Confidence interval (yellow lines): [44. 50.]\n"
          ],
          "name": "stdout"
        },
        {
          "output_type": "display_data",
          "data": {
            "image/png": "[encoded data removed]",
            "text/plain": [
              "<Figure size 432x288 with 1 Axes>"
            ]
          },
          "metadata": {
            "tags": []
          }
        }
      ]
    },
    {
      "cell_type": "code",
      "metadata": {
        "colab": {
          "base_uri": "https://localhost:8080/"
        },
        "id": "8U0CDf8tr0wq",
        "outputId": "2f2cb409-f5d3-4d93-92eb-8a885b232fea"
      },
      "source": [
        "## implement bootstrapping to infer the median of 'training_hours', using sklearn resample\n",
        "from sklearn.utils import resample\n",
        "\n",
        "print (\"Median of the original training set: \", training['training_hours'].median())   #  original sample median\n",
        "\n",
        "median_boot_samples = []\n",
        "\n",
        "for i in range (100):\n",
        "  boot_sample = resample(training['training_hours'], replace=True, random_state=1)\n",
        "  median_boot_samples.append (np.median(boot_sample))\n",
        "\n",
        "bootstrap_median = np.median(median_boot_samples)\n",
        "print (\"Bootstrap median (red line): \", bootstrap_median)        # compare bootstrap median with original"
      ],
      "id": "8U0CDf8tr0wq",
      "execution_count": 101,
      "outputs": [
        {
          "output_type": "stream",
          "text": [
            "Median of the original training set:  47.0\n",
            "Bootstrap median (red line):  47.0\n"
          ],
          "name": "stdout"
        }
      ]
    },
    {
      "cell_type": "code",
      "metadata": {
        "id": "5rohl8VAr0wq"
      },
      "source": [
        "# Calculate probability of leaving for each category,  defined as P = Leave/(Leave+Stay)\n"
      ],
      "id": "5rohl8VAr0wq",
      "execution_count": 102,
      "outputs": []
    },
    {
      "cell_type": "code",
      "metadata": {
        "colab": {
          "base_uri": "https://localhost:8080/",
          "height": 235
        },
        "id": "vTsD0DmvTD80",
        "outputId": "6960ef31-a076-491a-ebaf-ab4c61fde417"
      },
      "source": [
        "counts = new_training.groupby(['gender','target']).size().reset_index(name='counts')\n",
        "counts\n"
      ],
      "id": "vTsD0DmvTD80",
      "execution_count": 103,
      "outputs": [
        {
          "output_type": "execute_result",
          "data": {
            "text/html": [
              "<div>\n",
              "<style scoped>\n",
              "    .dataframe tbody tr th:only-of-type {\n",
              "        vertical-align: middle;\n",
              "    }\n",
              "\n",
              "    .dataframe tbody tr th {\n",
              "        vertical-align: top;\n",
              "    }\n",
              "\n",
              "    .dataframe thead th {\n",
              "        text-align: right;\n",
              "    }\n",
              "</style>\n",
              "<table border=\"1\" class=\"dataframe\">\n",
              "  <thead>\n",
              "    <tr style=\"text-align: right;\">\n",
              "      <th></th>\n",
              "      <th>gender</th>\n",
              "      <th>target</th>\n",
              "      <th>counts</th>\n",
              "    </tr>\n",
              "  </thead>\n",
              "  <tbody>\n",
              "    <tr>\n",
              "      <th>0</th>\n",
              "      <td>Female</td>\n",
              "      <td>0.0</td>\n",
              "      <td>673</td>\n",
              "    </tr>\n",
              "    <tr>\n",
              "      <th>1</th>\n",
              "      <td>Female</td>\n",
              "      <td>1.0</td>\n",
              "      <td>131</td>\n",
              "    </tr>\n",
              "    <tr>\n",
              "      <th>2</th>\n",
              "      <td>Male</td>\n",
              "      <td>0.0</td>\n",
              "      <td>6733</td>\n",
              "    </tr>\n",
              "    <tr>\n",
              "      <th>3</th>\n",
              "      <td>Male</td>\n",
              "      <td>1.0</td>\n",
              "      <td>1340</td>\n",
              "    </tr>\n",
              "    <tr>\n",
              "      <th>4</th>\n",
              "      <td>Other</td>\n",
              "      <td>0.0</td>\n",
              "      <td>66</td>\n",
              "    </tr>\n",
              "    <tr>\n",
              "      <th>5</th>\n",
              "      <td>Other</td>\n",
              "      <td>1.0</td>\n",
              "      <td>12</td>\n",
              "    </tr>\n",
              "  </tbody>\n",
              "</table>\n",
              "</div>"
            ],
            "text/plain": [
              "   gender  target  counts\n",
              "0  Female     0.0     673\n",
              "1  Female     1.0     131\n",
              "2    Male     0.0    6733\n",
              "3    Male     1.0    1340\n",
              "4   Other     0.0      66\n",
              "5   Other     1.0      12"
            ]
          },
          "metadata": {
            "tags": []
          },
          "execution_count": 103
        }
      ]
    },
    {
      "cell_type": "code",
      "metadata": {
        "colab": {
          "base_uri": "https://localhost:8080/"
        },
        "id": "vS6wCHvTYJwI",
        "outputId": "b1557942-f52e-4ca3-f9d3-8b49b1a5e398"
      },
      "source": [
        "Pfem = counts.loc[1,'counts'] / (counts.loc[0,'counts'] + counts.loc[1,'counts'])\n",
        "Pmal = counts.loc[3,'counts'] / (counts.loc[2,'counts'] + counts.loc[3,'counts'])\n",
        "Poth = counts.loc[5,'counts'] / (counts.loc[4,'counts'] + counts.loc[5,'counts'])\n",
        "print ('Probabilities for females: ', Pfem, '; males: ', Pmal,'; Other: ', Poth)"
      ],
      "id": "vS6wCHvTYJwI",
      "execution_count": 104,
      "outputs": [
        {
          "output_type": "stream",
          "text": [
            "Probabilities for females:  0.16293532338308458 ; males:  0.16598538337668772 ; Other:  0.15384615384615385\n"
          ],
          "name": "stdout"
        }
      ]
    },
    {
      "cell_type": "code",
      "metadata": {
        "colab": {
          "base_uri": "https://localhost:8080/",
          "height": 235
        },
        "id": "tqhiq7X8o6LM",
        "outputId": "5f9c7676-5430-45e5-b78c-96ff4d6261ad"
      },
      "source": [
        "counts = new_training.groupby(['education_level','target']).size().reset_index(name='counts')\n",
        "counts"
      ],
      "id": "tqhiq7X8o6LM",
      "execution_count": 105,
      "outputs": [
        {
          "output_type": "execute_result",
          "data": {
            "text/html": [
              "<div>\n",
              "<style scoped>\n",
              "    .dataframe tbody tr th:only-of-type {\n",
              "        vertical-align: middle;\n",
              "    }\n",
              "\n",
              "    .dataframe tbody tr th {\n",
              "        vertical-align: top;\n",
              "    }\n",
              "\n",
              "    .dataframe thead th {\n",
              "        text-align: right;\n",
              "    }\n",
              "</style>\n",
              "<table border=\"1\" class=\"dataframe\">\n",
              "  <thead>\n",
              "    <tr style=\"text-align: right;\">\n",
              "      <th></th>\n",
              "      <th>education_level</th>\n",
              "      <th>target</th>\n",
              "      <th>counts</th>\n",
              "    </tr>\n",
              "  </thead>\n",
              "  <tbody>\n",
              "    <tr>\n",
              "      <th>0</th>\n",
              "      <td>Graduate</td>\n",
              "      <td>0.0</td>\n",
              "      <td>5160</td>\n",
              "    </tr>\n",
              "    <tr>\n",
              "      <th>1</th>\n",
              "      <td>Graduate</td>\n",
              "      <td>1.0</td>\n",
              "      <td>1092</td>\n",
              "    </tr>\n",
              "    <tr>\n",
              "      <th>2</th>\n",
              "      <td>Masters</td>\n",
              "      <td>0.0</td>\n",
              "      <td>2092</td>\n",
              "    </tr>\n",
              "    <tr>\n",
              "      <th>3</th>\n",
              "      <td>Masters</td>\n",
              "      <td>1.0</td>\n",
              "      <td>357</td>\n",
              "    </tr>\n",
              "    <tr>\n",
              "      <th>4</th>\n",
              "      <td>Phd</td>\n",
              "      <td>0.0</td>\n",
              "      <td>220</td>\n",
              "    </tr>\n",
              "    <tr>\n",
              "      <th>5</th>\n",
              "      <td>Phd</td>\n",
              "      <td>1.0</td>\n",
              "      <td>34</td>\n",
              "    </tr>\n",
              "  </tbody>\n",
              "</table>\n",
              "</div>"
            ],
            "text/plain": [
              "  education_level  target  counts\n",
              "0        Graduate     0.0    5160\n",
              "1        Graduate     1.0    1092\n",
              "2         Masters     0.0    2092\n",
              "3         Masters     1.0     357\n",
              "4             Phd     0.0     220\n",
              "5             Phd     1.0      34"
            ]
          },
          "metadata": {
            "tags": []
          },
          "execution_count": 105
        }
      ]
    },
    {
      "cell_type": "code",
      "metadata": {
        "colab": {
          "base_uri": "https://localhost:8080/"
        },
        "id": "E0UPhfZyrCUJ",
        "outputId": "ae5356fe-0470-4c5f-f3e8-9401c2d74c9d"
      },
      "source": [
        "Pgra = counts.loc[1,'counts'] / (counts.loc[0,'counts'] + counts.loc[1,'counts'])\n",
        "Pmst = counts.loc[3,'counts'] / (counts.loc[2,'counts'] + counts.loc[3,'counts'])\n",
        "Pphd = counts.loc[5,'counts'] / (counts.loc[4,'counts'] + counts.loc[5,'counts'])\n",
        "print ('Probabilities for Graduates: ', Pgra,'; Masters: ', Pmst,'; PhDs: ', Pphd)"
      ],
      "id": "E0UPhfZyrCUJ",
      "execution_count": 106,
      "outputs": [
        {
          "output_type": "stream",
          "text": [
            "Probabilities for Graduates:  0.1746641074856046 ; Masters:  0.14577378521845652 ; PhDs:  0.13385826771653545\n"
          ],
          "name": "stdout"
        }
      ]
    },
    {
      "cell_type": "code",
      "metadata": {
        "colab": {
          "base_uri": "https://localhost:8080/",
          "height": 514
        },
        "id": "X1xTnBKn6bYX",
        "outputId": "1ca11c82-9591-42da-c893-b0d57eec6315"
      },
      "source": [
        "# Probabilities for subcategories:   gender in each education_level\n",
        "\n",
        "counts = new_training.groupby(['education_level','gender','target']).size().reset_index(name='counts')\n",
        "counts"
      ],
      "id": "X1xTnBKn6bYX",
      "execution_count": 107,
      "outputs": [
        {
          "output_type": "execute_result",
          "data": {
            "text/html": [
              "<div>\n",
              "<style scoped>\n",
              "    .dataframe tbody tr th:only-of-type {\n",
              "        vertical-align: middle;\n",
              "    }\n",
              "\n",
              "    .dataframe tbody tr th {\n",
              "        vertical-align: top;\n",
              "    }\n",
              "\n",
              "    .dataframe thead th {\n",
              "        text-align: right;\n",
              "    }\n",
              "</style>\n",
              "<table border=\"1\" class=\"dataframe\">\n",
              "  <thead>\n",
              "    <tr style=\"text-align: right;\">\n",
              "      <th></th>\n",
              "      <th>education_level</th>\n",
              "      <th>gender</th>\n",
              "      <th>target</th>\n",
              "      <th>counts</th>\n",
              "    </tr>\n",
              "  </thead>\n",
              "  <tbody>\n",
              "    <tr>\n",
              "      <th>0</th>\n",
              "      <td>Graduate</td>\n",
              "      <td>Female</td>\n",
              "      <td>0.0</td>\n",
              "      <td>441</td>\n",
              "    </tr>\n",
              "    <tr>\n",
              "      <th>1</th>\n",
              "      <td>Graduate</td>\n",
              "      <td>Female</td>\n",
              "      <td>1.0</td>\n",
              "      <td>85</td>\n",
              "    </tr>\n",
              "    <tr>\n",
              "      <th>2</th>\n",
              "      <td>Graduate</td>\n",
              "      <td>Male</td>\n",
              "      <td>0.0</td>\n",
              "      <td>4669</td>\n",
              "    </tr>\n",
              "    <tr>\n",
              "      <th>3</th>\n",
              "      <td>Graduate</td>\n",
              "      <td>Male</td>\n",
              "      <td>1.0</td>\n",
              "      <td>995</td>\n",
              "    </tr>\n",
              "    <tr>\n",
              "      <th>4</th>\n",
              "      <td>Graduate</td>\n",
              "      <td>Other</td>\n",
              "      <td>0.0</td>\n",
              "      <td>50</td>\n",
              "    </tr>\n",
              "    <tr>\n",
              "      <th>5</th>\n",
              "      <td>Graduate</td>\n",
              "      <td>Other</td>\n",
              "      <td>1.0</td>\n",
              "      <td>12</td>\n",
              "    </tr>\n",
              "    <tr>\n",
              "      <th>6</th>\n",
              "      <td>Masters</td>\n",
              "      <td>Female</td>\n",
              "      <td>0.0</td>\n",
              "      <td>194</td>\n",
              "    </tr>\n",
              "    <tr>\n",
              "      <th>7</th>\n",
              "      <td>Masters</td>\n",
              "      <td>Female</td>\n",
              "      <td>1.0</td>\n",
              "      <td>42</td>\n",
              "    </tr>\n",
              "    <tr>\n",
              "      <th>8</th>\n",
              "      <td>Masters</td>\n",
              "      <td>Male</td>\n",
              "      <td>0.0</td>\n",
              "      <td>1882</td>\n",
              "    </tr>\n",
              "    <tr>\n",
              "      <th>9</th>\n",
              "      <td>Masters</td>\n",
              "      <td>Male</td>\n",
              "      <td>1.0</td>\n",
              "      <td>315</td>\n",
              "    </tr>\n",
              "    <tr>\n",
              "      <th>10</th>\n",
              "      <td>Masters</td>\n",
              "      <td>Other</td>\n",
              "      <td>0.0</td>\n",
              "      <td>16</td>\n",
              "    </tr>\n",
              "    <tr>\n",
              "      <th>11</th>\n",
              "      <td>Phd</td>\n",
              "      <td>Female</td>\n",
              "      <td>0.0</td>\n",
              "      <td>38</td>\n",
              "    </tr>\n",
              "    <tr>\n",
              "      <th>12</th>\n",
              "      <td>Phd</td>\n",
              "      <td>Female</td>\n",
              "      <td>1.0</td>\n",
              "      <td>4</td>\n",
              "    </tr>\n",
              "    <tr>\n",
              "      <th>13</th>\n",
              "      <td>Phd</td>\n",
              "      <td>Male</td>\n",
              "      <td>0.0</td>\n",
              "      <td>182</td>\n",
              "    </tr>\n",
              "    <tr>\n",
              "      <th>14</th>\n",
              "      <td>Phd</td>\n",
              "      <td>Male</td>\n",
              "      <td>1.0</td>\n",
              "      <td>30</td>\n",
              "    </tr>\n",
              "  </tbody>\n",
              "</table>\n",
              "</div>"
            ],
            "text/plain": [
              "   education_level  gender  target  counts\n",
              "0         Graduate  Female     0.0     441\n",
              "1         Graduate  Female     1.0      85\n",
              "2         Graduate    Male     0.0    4669\n",
              "3         Graduate    Male     1.0     995\n",
              "4         Graduate   Other     0.0      50\n",
              "5         Graduate   Other     1.0      12\n",
              "6          Masters  Female     0.0     194\n",
              "7          Masters  Female     1.0      42\n",
              "8          Masters    Male     0.0    1882\n",
              "9          Masters    Male     1.0     315\n",
              "10         Masters   Other     0.0      16\n",
              "11             Phd  Female     0.0      38\n",
              "12             Phd  Female     1.0       4\n",
              "13             Phd    Male     0.0     182\n",
              "14             Phd    Male     1.0      30"
            ]
          },
          "metadata": {
            "tags": []
          },
          "execution_count": 107
        }
      ]
    },
    {
      "cell_type": "code",
      "metadata": {
        "colab": {
          "base_uri": "https://localhost:8080/"
        },
        "id": "G2FaFszK9MRR",
        "outputId": "c08cc587-d0b4-4bcb-b445-2f016ac64536"
      },
      "source": [
        "Pgraf = counts.loc[1,'counts'] / (counts.loc[0,'counts'] + counts.loc[1,'counts'])\n",
        "Pmstf = counts.loc[7,'counts'] / (counts.loc[6,'counts'] + counts.loc[3,'counts'])\n",
        "Pphdf = counts.loc[12,'counts'] / (counts.loc[11,'counts'] + counts.loc[5,'counts'])\n",
        "Pgram = counts.loc[3,'counts'] / (counts.loc[2,'counts'] + counts.loc[1,'counts'])\n",
        "Pmstm = counts.loc[9,'counts'] / (counts.loc[8,'counts'] + counts.loc[3,'counts'])\n",
        "Pphdm = counts.loc[14,'counts'] / (counts.loc[13,'counts'] + counts.loc[5,'counts'])\n",
        "Pgrao = counts.loc[5,'counts'] / (counts.loc[4,'counts'] + counts.loc[1,'counts'])\n",
        "Pmsto = 0. / (counts.loc[2,'counts'] + counts.loc[3,'counts'])\n",
        "Pphdo = 0. / (counts.loc[4,'counts'] + counts.loc[5,'counts'])\n",
        "print ('Probabilities for female graduates: ', Pgraf,'; female masters: ', Pmstf,'; female PhDs:', Pphdf)\n",
        "print ('Probabilities for male graduates: ', Pgram,'; male masters: ', Pmstm,'; male PhDs:', Pphdm)\n",
        "print ('Probabilities for other graduates: ', Pgrao,'; other masters: ', Pmsto,'; other PhDs:', Pphdo)"
      ],
      "id": "G2FaFszK9MRR",
      "execution_count": 110,
      "outputs": [
        {
          "output_type": "stream",
          "text": [
            "Probabilities for female graduates:  0.16159695817490494 ; female masters:  0.03532380151387721 ; female PhDs: 0.08\n",
            "Probabilities for male graduates:  0.20929743374000842 ; male masters:  0.10948905109489052 ; male PhDs: 0.15463917525773196\n",
            "Probabilities for other graduates:  0.08888888888888889 ; other masters:  0.0 ; other PhDs: 0.0\n"
          ],
          "name": "stdout"
        }
      ]
    },
    {
      "cell_type": "code",
      "metadata": {
        "colab": {
          "base_uri": "https://localhost:8080/",
          "height": 266
        },
        "id": "osY1mX0S_rD6",
        "outputId": "f1c47f7d-c8d0-44d8-d34b-6e1b580410ed"
      },
      "source": [
        "# Looking at other categorical variables: major_discipline and the average target (1: likely to leave)\n",
        "new_training.drop('enrollee_id', axis=1).groupby('major_discipline').mean()"
      ],
      "id": "osY1mX0S_rD6",
      "execution_count": 111,
      "outputs": [
        {
          "output_type": "execute_result",
          "data": {
            "text/html": [
              "<div>\n",
              "<style scoped>\n",
              "    .dataframe tbody tr th:only-of-type {\n",
              "        vertical-align: middle;\n",
              "    }\n",
              "\n",
              "    .dataframe tbody tr th {\n",
              "        vertical-align: top;\n",
              "    }\n",
              "\n",
              "    .dataframe thead th {\n",
              "        text-align: right;\n",
              "    }\n",
              "</style>\n",
              "<table border=\"1\" class=\"dataframe\">\n",
              "  <thead>\n",
              "    <tr style=\"text-align: right;\">\n",
              "      <th></th>\n",
              "      <th>city_development_index</th>\n",
              "      <th>training_hours</th>\n",
              "      <th>target</th>\n",
              "    </tr>\n",
              "    <tr>\n",
              "      <th>major_discipline</th>\n",
              "      <th></th>\n",
              "      <th></th>\n",
              "      <th></th>\n",
              "    </tr>\n",
              "  </thead>\n",
              "  <tbody>\n",
              "    <tr>\n",
              "      <th>Arts</th>\n",
              "      <td>0.907961</td>\n",
              "      <td>56.224806</td>\n",
              "      <td>0.069767</td>\n",
              "    </tr>\n",
              "    <tr>\n",
              "      <th>Business Degree</th>\n",
              "      <td>0.878659</td>\n",
              "      <td>70.482353</td>\n",
              "      <td>0.123529</td>\n",
              "    </tr>\n",
              "    <tr>\n",
              "      <th>Humanities</th>\n",
              "      <td>0.900392</td>\n",
              "      <td>66.124339</td>\n",
              "      <td>0.105820</td>\n",
              "    </tr>\n",
              "    <tr>\n",
              "      <th>No Major</th>\n",
              "      <td>0.863777</td>\n",
              "      <td>59.687500</td>\n",
              "      <td>0.133929</td>\n",
              "    </tr>\n",
              "    <tr>\n",
              "      <th>Other</th>\n",
              "      <td>0.860650</td>\n",
              "      <td>61.728814</td>\n",
              "      <td>0.107345</td>\n",
              "    </tr>\n",
              "    <tr>\n",
              "      <th>STEM</th>\n",
              "      <td>0.839554</td>\n",
              "      <td>65.202779</td>\n",
              "      <td>0.172612</td>\n",
              "    </tr>\n",
              "  </tbody>\n",
              "</table>\n",
              "</div>"
            ],
            "text/plain": [
              "                  city_development_index  training_hours    target\n",
              "major_discipline                                                  \n",
              "Arts                            0.907961       56.224806  0.069767\n",
              "Business Degree                 0.878659       70.482353  0.123529\n",
              "Humanities                      0.900392       66.124339  0.105820\n",
              "No Major                        0.863777       59.687500  0.133929\n",
              "Other                           0.860650       61.728814  0.107345\n",
              "STEM                            0.839554       65.202779  0.172612"
            ]
          },
          "metadata": {
            "tags": []
          },
          "execution_count": 111
        }
      ]
    },
    {
      "cell_type": "code",
      "metadata": {
        "colab": {
          "base_uri": "https://localhost:8080/",
          "height": 266
        },
        "id": "iAz1JOBQDqd4",
        "outputId": "e398faac-7dbf-45ca-875f-6335633b25e2"
      },
      "source": [
        "# Looking at other categorical variables: company_type and the average target\n",
        "new_training.drop('enrollee_id', axis=1).groupby('company_type').mean()"
      ],
      "id": "iAz1JOBQDqd4",
      "execution_count": 112,
      "outputs": [
        {
          "output_type": "execute_result",
          "data": {
            "text/html": [
              "<div>\n",
              "<style scoped>\n",
              "    .dataframe tbody tr th:only-of-type {\n",
              "        vertical-align: middle;\n",
              "    }\n",
              "\n",
              "    .dataframe tbody tr th {\n",
              "        vertical-align: top;\n",
              "    }\n",
              "\n",
              "    .dataframe thead th {\n",
              "        text-align: right;\n",
              "    }\n",
              "</style>\n",
              "<table border=\"1\" class=\"dataframe\">\n",
              "  <thead>\n",
              "    <tr style=\"text-align: right;\">\n",
              "      <th></th>\n",
              "      <th>city_development_index</th>\n",
              "      <th>training_hours</th>\n",
              "      <th>target</th>\n",
              "    </tr>\n",
              "    <tr>\n",
              "      <th>company_type</th>\n",
              "      <th></th>\n",
              "      <th></th>\n",
              "      <th></th>\n",
              "    </tr>\n",
              "  </thead>\n",
              "  <tbody>\n",
              "    <tr>\n",
              "      <th>Early Stage Startup</th>\n",
              "      <td>0.807151</td>\n",
              "      <td>69.441558</td>\n",
              "      <td>0.202597</td>\n",
              "    </tr>\n",
              "    <tr>\n",
              "      <th>Funded Startup</th>\n",
              "      <td>0.853381</td>\n",
              "      <td>67.178571</td>\n",
              "      <td>0.137755</td>\n",
              "    </tr>\n",
              "    <tr>\n",
              "      <th>NGO</th>\n",
              "      <td>0.856022</td>\n",
              "      <td>63.117978</td>\n",
              "      <td>0.154494</td>\n",
              "    </tr>\n",
              "    <tr>\n",
              "      <th>Other</th>\n",
              "      <td>0.870667</td>\n",
              "      <td>69.305556</td>\n",
              "      <td>0.208333</td>\n",
              "    </tr>\n",
              "    <tr>\n",
              "      <th>Public Sector</th>\n",
              "      <td>0.871012</td>\n",
              "      <td>59.132979</td>\n",
              "      <td>0.166667</td>\n",
              "    </tr>\n",
              "    <tr>\n",
              "      <th>Pvt Ltd</th>\n",
              "      <td>0.842602</td>\n",
              "      <td>65.135708</td>\n",
              "      <td>0.166765</td>\n",
              "    </tr>\n",
              "  </tbody>\n",
              "</table>\n",
              "</div>"
            ],
            "text/plain": [
              "                     city_development_index  training_hours    target\n",
              "company_type                                                         \n",
              "Early Stage Startup                0.807151       69.441558  0.202597\n",
              "Funded Startup                     0.853381       67.178571  0.137755\n",
              "NGO                                0.856022       63.117978  0.154494\n",
              "Other                              0.870667       69.305556  0.208333\n",
              "Public Sector                      0.871012       59.132979  0.166667\n",
              "Pvt Ltd                            0.842602       65.135708  0.166765"
            ]
          },
          "metadata": {
            "tags": []
          },
          "execution_count": 112
        }
      ]
    },
    {
      "cell_type": "code",
      "metadata": {
        "colab": {
          "base_uri": "https://localhost:8080/",
          "height": 142
        },
        "id": "xVbvefo1FRTM",
        "outputId": "9580823f-ea1e-4cf1-9d8d-f771b22f5a85"
      },
      "source": [
        "# Looking at other categorical variables: relevant_experience and the average target\n",
        "new_training.drop('enrollee_id', axis=1).groupby('relevant_experience').mean()"
      ],
      "id": "xVbvefo1FRTM",
      "execution_count": 113,
      "outputs": [
        {
          "output_type": "execute_result",
          "data": {
            "text/html": [
              "<div>\n",
              "<style scoped>\n",
              "    .dataframe tbody tr th:only-of-type {\n",
              "        vertical-align: middle;\n",
              "    }\n",
              "\n",
              "    .dataframe tbody tr th {\n",
              "        vertical-align: top;\n",
              "    }\n",
              "\n",
              "    .dataframe thead th {\n",
              "        text-align: right;\n",
              "    }\n",
              "</style>\n",
              "<table border=\"1\" class=\"dataframe\">\n",
              "  <thead>\n",
              "    <tr style=\"text-align: right;\">\n",
              "      <th></th>\n",
              "      <th>city_development_index</th>\n",
              "      <th>training_hours</th>\n",
              "      <th>target</th>\n",
              "    </tr>\n",
              "    <tr>\n",
              "      <th>relevant_experience</th>\n",
              "      <th></th>\n",
              "      <th></th>\n",
              "      <th></th>\n",
              "    </tr>\n",
              "  </thead>\n",
              "  <tbody>\n",
              "    <tr>\n",
              "      <th>Has relevant experience</th>\n",
              "      <td>0.844350</td>\n",
              "      <td>65.472042</td>\n",
              "      <td>0.160489</td>\n",
              "    </tr>\n",
              "    <tr>\n",
              "      <th>No relevant experience</th>\n",
              "      <td>0.846132</td>\n",
              "      <td>62.250906</td>\n",
              "      <td>0.201993</td>\n",
              "    </tr>\n",
              "  </tbody>\n",
              "</table>\n",
              "</div>"
            ],
            "text/plain": [
              "                         city_development_index  training_hours    target\n",
              "relevant_experience                                                      \n",
              "Has relevant experience                0.844350       65.472042  0.160489\n",
              "No relevant experience                 0.846132       62.250906  0.201993"
            ]
          },
          "metadata": {
            "tags": []
          },
          "execution_count": 113
        }
      ]
    },
    {
      "cell_type": "code",
      "metadata": {
        "colab": {
          "base_uri": "https://localhost:8080/",
          "height": 731
        },
        "id": "yM3uYj_qFg_R",
        "outputId": "108dd741-587c-4649-b208-434dafe44376"
      },
      "source": [
        "# Plotting the years of experience against average target\n",
        "\n",
        "dftemp = new_training.drop('enrollee_id', axis=1).groupby('experience', as_index=False)['target'].mean()\n",
        "dftemp.loc[dftemp.experience == '>20', 'experience'] = 25\n",
        "dftemp.loc[dftemp.experience == '<1', 'experience'] = 0.5\n",
        "dftemp.experience = pd.to_numeric(dftemp.experience)\n",
        "dftemp"
      ],
      "id": "yM3uYj_qFg_R",
      "execution_count": 173,
      "outputs": [
        {
          "output_type": "execute_result",
          "data": {
            "text/html": [
              "<div>\n",
              "<style scoped>\n",
              "    .dataframe tbody tr th:only-of-type {\n",
              "        vertical-align: middle;\n",
              "    }\n",
              "\n",
              "    .dataframe tbody tr th {\n",
              "        vertical-align: top;\n",
              "    }\n",
              "\n",
              "    .dataframe thead th {\n",
              "        text-align: right;\n",
              "    }\n",
              "</style>\n",
              "<table border=\"1\" class=\"dataframe\">\n",
              "  <thead>\n",
              "    <tr style=\"text-align: right;\">\n",
              "      <th></th>\n",
              "      <th>experience</th>\n",
              "      <th>target</th>\n",
              "    </tr>\n",
              "  </thead>\n",
              "  <tbody>\n",
              "    <tr>\n",
              "      <th>0</th>\n",
              "      <td>1.0</td>\n",
              "      <td>0.429752</td>\n",
              "    </tr>\n",
              "    <tr>\n",
              "      <th>1</th>\n",
              "      <td>10.0</td>\n",
              "      <td>0.156080</td>\n",
              "    </tr>\n",
              "    <tr>\n",
              "      <th>2</th>\n",
              "      <td>11.0</td>\n",
              "      <td>0.134409</td>\n",
              "    </tr>\n",
              "    <tr>\n",
              "      <th>3</th>\n",
              "      <td>12.0</td>\n",
              "      <td>0.126280</td>\n",
              "    </tr>\n",
              "    <tr>\n",
              "      <th>4</th>\n",
              "      <td>13.0</td>\n",
              "      <td>0.153191</td>\n",
              "    </tr>\n",
              "    <tr>\n",
              "      <th>5</th>\n",
              "      <td>14.0</td>\n",
              "      <td>0.129129</td>\n",
              "    </tr>\n",
              "    <tr>\n",
              "      <th>6</th>\n",
              "      <td>15.0</td>\n",
              "      <td>0.125628</td>\n",
              "    </tr>\n",
              "    <tr>\n",
              "      <th>7</th>\n",
              "      <td>16.0</td>\n",
              "      <td>0.098684</td>\n",
              "    </tr>\n",
              "    <tr>\n",
              "      <th>8</th>\n",
              "      <td>17.0</td>\n",
              "      <td>0.131068</td>\n",
              "    </tr>\n",
              "    <tr>\n",
              "      <th>9</th>\n",
              "      <td>18.0</td>\n",
              "      <td>0.071429</td>\n",
              "    </tr>\n",
              "    <tr>\n",
              "      <th>10</th>\n",
              "      <td>19.0</td>\n",
              "      <td>0.078212</td>\n",
              "    </tr>\n",
              "    <tr>\n",
              "      <th>11</th>\n",
              "      <td>2.0</td>\n",
              "      <td>0.245791</td>\n",
              "    </tr>\n",
              "    <tr>\n",
              "      <th>12</th>\n",
              "      <td>20.0</td>\n",
              "      <td>0.081395</td>\n",
              "    </tr>\n",
              "    <tr>\n",
              "      <th>13</th>\n",
              "      <td>3.0</td>\n",
              "      <td>0.292056</td>\n",
              "    </tr>\n",
              "    <tr>\n",
              "      <th>14</th>\n",
              "      <td>4.0</td>\n",
              "      <td>0.231250</td>\n",
              "    </tr>\n",
              "    <tr>\n",
              "      <th>15</th>\n",
              "      <td>5.0</td>\n",
              "      <td>0.246957</td>\n",
              "    </tr>\n",
              "    <tr>\n",
              "      <th>16</th>\n",
              "      <td>6.0</td>\n",
              "      <td>0.218692</td>\n",
              "    </tr>\n",
              "    <tr>\n",
              "      <th>17</th>\n",
              "      <td>7.0</td>\n",
              "      <td>0.226804</td>\n",
              "    </tr>\n",
              "    <tr>\n",
              "      <th>18</th>\n",
              "      <td>8.0</td>\n",
              "      <td>0.193467</td>\n",
              "    </tr>\n",
              "    <tr>\n",
              "      <th>19</th>\n",
              "      <td>9.0</td>\n",
              "      <td>0.178236</td>\n",
              "    </tr>\n",
              "    <tr>\n",
              "      <th>20</th>\n",
              "      <td>0.5</td>\n",
              "      <td>0.463918</td>\n",
              "    </tr>\n",
              "    <tr>\n",
              "      <th>21</th>\n",
              "      <td>25.0</td>\n",
              "      <td>0.076555</td>\n",
              "    </tr>\n",
              "  </tbody>\n",
              "</table>\n",
              "</div>"
            ],
            "text/plain": [
              "    experience    target\n",
              "0          1.0  0.429752\n",
              "1         10.0  0.156080\n",
              "2         11.0  0.134409\n",
              "3         12.0  0.126280\n",
              "4         13.0  0.153191\n",
              "5         14.0  0.129129\n",
              "6         15.0  0.125628\n",
              "7         16.0  0.098684\n",
              "8         17.0  0.131068\n",
              "9         18.0  0.071429\n",
              "10        19.0  0.078212\n",
              "11         2.0  0.245791\n",
              "12        20.0  0.081395\n",
              "13         3.0  0.292056\n",
              "14         4.0  0.231250\n",
              "15         5.0  0.246957\n",
              "16         6.0  0.218692\n",
              "17         7.0  0.226804\n",
              "18         8.0  0.193467\n",
              "19         9.0  0.178236\n",
              "20         0.5  0.463918\n",
              "21        25.0  0.076555"
            ]
          },
          "metadata": {
            "tags": []
          },
          "execution_count": 173
        }
      ]
    },
    {
      "cell_type": "code",
      "metadata": {
        "colab": {
          "base_uri": "https://localhost:8080/",
          "height": 268
        },
        "id": "4tuuTgjvXYSv",
        "outputId": "fa0aef87-82a8-4be4-fd4e-659ea1b82543"
      },
      "source": [
        "x, y = dftemp.experience, dftemp.target\n",
        "\n",
        "plt.scatter(x, y, marker='o') ;"
      ],
      "id": "4tuuTgjvXYSv",
      "execution_count": 174,
      "outputs": [
        {
          "output_type": "display_data",
          "data": {
            "image/png": "[encoded data removed]",
            "text/plain": [
              "<Figure size 432x288 with 1 Axes>"
            ]
          },
          "metadata": {
            "tags": []
          }
        }
      ]
    },
    {
      "cell_type": "code",
      "metadata": {
        "colab": {
          "base_uri": "https://localhost:8080/"
        },
        "id": "KPDFgY21s-mC",
        "outputId": "4803eef9-ea15-49a0-a11b-2c8ddcde8091"
      },
      "source": [
        "# Getting basic statistics on city development index\n",
        "new_training['city_development_index'].describe()"
      ],
      "id": "KPDFgY21s-mC",
      "execution_count": 116,
      "outputs": [
        {
          "output_type": "execute_result",
          "data": {
            "text/plain": [
              "count    8955.000000\n",
              "mean        0.844570\n",
              "std         0.116178\n",
              "min         0.448000\n",
              "25%         0.794000\n",
              "50%         0.910000\n",
              "75%         0.920000\n",
              "max         0.949000\n",
              "Name: city_development_index, dtype: float64"
            ]
          },
          "metadata": {
            "tags": []
          },
          "execution_count": 116
        }
      ]
    },
    {
      "cell_type": "code",
      "metadata": {
        "colab": {
          "base_uri": "https://localhost:8080/",
          "height": 275
        },
        "id": "qGgAZepItSh9",
        "outputId": "7e58a848-bc6b-4a83-9283-a344560d288d"
      },
      "source": [
        "# Binning the city_development_index to create 'City_class\" and examine average target for each class\n",
        "bins = [0.4,.82,.919,.92,.96]\n",
        "labels = ['.40-.82', '.821-.91','.911-.930','.931-.960']\n",
        "new_training['City_class'] = pd.cut(new_training.city_development_index, bins, labels=labels)\n",
        "\n",
        "new_training.drop('enrollee_id', axis=1).groupby('City_class', as_index=False).mean()"
      ],
      "id": "qGgAZepItSh9",
      "execution_count": 117,
      "outputs": [
        {
          "output_type": "stream",
          "text": [
            "/usr/local/lib/python3.7/dist-packages/ipykernel_launcher.py:4: SettingWithCopyWarning: \n",
            "A value is trying to be set on a copy of a slice from a DataFrame.\n",
            "Try using .loc[row_indexer,col_indexer] = value instead\n",
            "\n",
            "See the caveats in the documentation: https://pandas.pydata.org/pandas-docs/stable/user_guide/indexing.html#returning-a-view-versus-a-copy\n",
            "  after removing the cwd from sys.path.\n"
          ],
          "name": "stderr"
        },
        {
          "output_type": "execute_result",
          "data": {
            "text/html": [
              "<div>\n",
              "<style scoped>\n",
              "    .dataframe tbody tr th:only-of-type {\n",
              "        vertical-align: middle;\n",
              "    }\n",
              "\n",
              "    .dataframe tbody tr th {\n",
              "        vertical-align: top;\n",
              "    }\n",
              "\n",
              "    .dataframe thead th {\n",
              "        text-align: right;\n",
              "    }\n",
              "</style>\n",
              "<table border=\"1\" class=\"dataframe\">\n",
              "  <thead>\n",
              "    <tr style=\"text-align: right;\">\n",
              "      <th></th>\n",
              "      <th>City_class</th>\n",
              "      <th>city_development_index</th>\n",
              "      <th>experience</th>\n",
              "      <th>training_hours</th>\n",
              "      <th>target</th>\n",
              "    </tr>\n",
              "  </thead>\n",
              "  <tbody>\n",
              "    <tr>\n",
              "      <th>0</th>\n",
              "      <td>.40-.82</td>\n",
              "      <td>0.670677</td>\n",
              "      <td>7.753785</td>\n",
              "      <td>65.545822</td>\n",
              "      <td>0.376665</td>\n",
              "    </tr>\n",
              "    <tr>\n",
              "      <th>1</th>\n",
              "      <td>.821-.91</td>\n",
              "      <td>0.891245</td>\n",
              "      <td>10.053611</td>\n",
              "      <td>63.705711</td>\n",
              "      <td>0.076282</td>\n",
              "    </tr>\n",
              "    <tr>\n",
              "      <th>2</th>\n",
              "      <td>.911-.930</td>\n",
              "      <td>0.920000</td>\n",
              "      <td>9.728141</td>\n",
              "      <td>65.775380</td>\n",
              "      <td>0.094093</td>\n",
              "    </tr>\n",
              "    <tr>\n",
              "      <th>3</th>\n",
              "      <td>.931-.960</td>\n",
              "      <td>0.928850</td>\n",
              "      <td>10.453450</td>\n",
              "      <td>65.185304</td>\n",
              "      <td>0.080671</td>\n",
              "    </tr>\n",
              "  </tbody>\n",
              "</table>\n",
              "</div>"
            ],
            "text/plain": [
              "  City_class  city_development_index  experience  training_hours    target\n",
              "0    .40-.82                0.670677    7.753785       65.545822  0.376665\n",
              "1   .821-.91                0.891245   10.053611       63.705711  0.076282\n",
              "2  .911-.930                0.920000    9.728141       65.775380  0.094093\n",
              "3  .931-.960                0.928850   10.453450       65.185304  0.080671"
            ]
          },
          "metadata": {
            "tags": []
          },
          "execution_count": 117
        }
      ]
    },
    {
      "cell_type": "code",
      "metadata": {
        "colab": {
          "base_uri": "https://localhost:8080/"
        },
        "id": "_OoSvTlI2xK1",
        "outputId": "bf3b41a6-63ca-442c-b79d-b9490e6f9f14"
      },
      "source": [
        "# Creating 'Training_hr' as bins of training hours to examine mean target for each class\n",
        "new_training['experience'].describe()"
      ],
      "id": "_OoSvTlI2xK1",
      "execution_count": 153,
      "outputs": [
        {
          "output_type": "execute_result",
          "data": {
            "text/plain": [
              "count    6977.000000\n",
              "mean        9.272753\n",
              "std         4.887231\n",
              "min         1.000000\n",
              "25%         5.000000\n",
              "50%         9.000000\n",
              "75%        13.000000\n",
              "max        20.000000\n",
              "Name: experience, dtype: float64"
            ]
          },
          "metadata": {
            "tags": []
          },
          "execution_count": 153
        }
      ]
    },
    {
      "cell_type": "code",
      "metadata": {
        "colab": {
          "base_uri": "https://localhost:8080/",
          "height": 306
        },
        "id": "cBiYVht52rMo",
        "outputId": "3a5ca76d-d7ed-4dd6-e786-3c3b33af21a9"
      },
      "source": [
        "bins = [0,5,9,12,16,20]\n",
        "labels = ['0-5', '5.1-9','9.1-12','12.1-16', '16.1-20']\n",
        "new_training['Training_hr'] = pd.cut(new_training.training_hours, bins, labels=labels)\n",
        "\n",
        "new_training.drop('enrollee_id', axis=1).groupby('Training_hr', as_index=False).mean()"
      ],
      "id": "cBiYVht52rMo",
      "execution_count": 119,
      "outputs": [
        {
          "output_type": "stream",
          "text": [
            "/usr/local/lib/python3.7/dist-packages/ipykernel_launcher.py:3: SettingWithCopyWarning: \n",
            "A value is trying to be set on a copy of a slice from a DataFrame.\n",
            "Try using .loc[row_indexer,col_indexer] = value instead\n",
            "\n",
            "See the caveats in the documentation: https://pandas.pydata.org/pandas-docs/stable/user_guide/indexing.html#returning-a-view-versus-a-copy\n",
            "  This is separate from the ipykernel package so we can avoid doing imports until\n"
          ],
          "name": "stderr"
        },
        {
          "output_type": "execute_result",
          "data": {
            "text/html": [
              "<div>\n",
              "<style scoped>\n",
              "    .dataframe tbody tr th:only-of-type {\n",
              "        vertical-align: middle;\n",
              "    }\n",
              "\n",
              "    .dataframe tbody tr th {\n",
              "        vertical-align: top;\n",
              "    }\n",
              "\n",
              "    .dataframe thead th {\n",
              "        text-align: right;\n",
              "    }\n",
              "</style>\n",
              "<table border=\"1\" class=\"dataframe\">\n",
              "  <thead>\n",
              "    <tr style=\"text-align: right;\">\n",
              "      <th></th>\n",
              "      <th>Training_hr</th>\n",
              "      <th>city_development_index</th>\n",
              "      <th>experience</th>\n",
              "      <th>training_hours</th>\n",
              "      <th>target</th>\n",
              "    </tr>\n",
              "  </thead>\n",
              "  <tbody>\n",
              "    <tr>\n",
              "      <th>0</th>\n",
              "      <td>0-5</td>\n",
              "      <td>0.833728</td>\n",
              "      <td>9.198925</td>\n",
              "      <td>3.664000</td>\n",
              "      <td>0.192000</td>\n",
              "    </tr>\n",
              "    <tr>\n",
              "      <th>1</th>\n",
              "      <td>5.1-9</td>\n",
              "      <td>0.845561</td>\n",
              "      <td>9.439883</td>\n",
              "      <td>7.493243</td>\n",
              "      <td>0.182432</td>\n",
              "    </tr>\n",
              "    <tr>\n",
              "      <th>2</th>\n",
              "      <td>9.1-12</td>\n",
              "      <td>0.844767</td>\n",
              "      <td>9.321070</td>\n",
              "      <td>11.037433</td>\n",
              "      <td>0.171123</td>\n",
              "    </tr>\n",
              "    <tr>\n",
              "      <th>3</th>\n",
              "      <td>12.1-16</td>\n",
              "      <td>0.848122</td>\n",
              "      <td>9.981132</td>\n",
              "      <td>14.547500</td>\n",
              "      <td>0.167500</td>\n",
              "    </tr>\n",
              "    <tr>\n",
              "      <th>4</th>\n",
              "      <td>16.1-20</td>\n",
              "      <td>0.848012</td>\n",
              "      <td>9.492105</td>\n",
              "      <td>18.480249</td>\n",
              "      <td>0.149688</td>\n",
              "    </tr>\n",
              "  </tbody>\n",
              "</table>\n",
              "</div>"
            ],
            "text/plain": [
              "  Training_hr  city_development_index  experience  training_hours    target\n",
              "0         0-5                0.833728    9.198925        3.664000  0.192000\n",
              "1       5.1-9                0.845561    9.439883        7.493243  0.182432\n",
              "2      9.1-12                0.844767    9.321070       11.037433  0.171123\n",
              "3     12.1-16                0.848122    9.981132       14.547500  0.167500\n",
              "4     16.1-20                0.848012    9.492105       18.480249  0.149688"
            ]
          },
          "metadata": {
            "tags": []
          },
          "execution_count": 119
        }
      ]
    },
    {
      "cell_type": "code",
      "metadata": {
        "colab": {
          "base_uri": "https://localhost:8080/"
        },
        "id": "3cULK4EO557U",
        "outputId": "11a49eac-a712-4458-90b6-52576491c39c"
      },
      "source": [
        "# Looking at company_type\n",
        "new_training['company_type'].describe()"
      ],
      "id": "3cULK4EO557U",
      "execution_count": 120,
      "outputs": [
        {
          "output_type": "execute_result",
          "data": {
            "text/plain": [
              "count        8955\n",
              "unique          6\n",
              "top       Pvt Ltd\n",
              "freq         6794\n",
              "Name: company_type, dtype: object"
            ]
          },
          "metadata": {
            "tags": []
          },
          "execution_count": 120
        }
      ]
    },
    {
      "cell_type": "code",
      "metadata": {
        "colab": {
          "base_uri": "https://localhost:8080/"
        },
        "id": "rAkEDTsc6zX7",
        "outputId": "2a074b4d-ddc6-4245-cfff-c122cb874897"
      },
      "source": [
        "# Looking at years since 'last_new_job'\n",
        "new_training['last_new_job'].describe()"
      ],
      "id": "rAkEDTsc6zX7",
      "execution_count": 121,
      "outputs": [
        {
          "output_type": "execute_result",
          "data": {
            "text/plain": [
              "count     8955\n",
              "unique       6\n",
              "top          1\n",
              "freq      3838\n",
              "Name: last_new_job, dtype: object"
            ]
          },
          "metadata": {
            "tags": []
          },
          "execution_count": 121
        }
      ]
    },
    {
      "cell_type": "code",
      "metadata": {
        "id": "fTK_uKR88vxC"
      },
      "source": [
        "# Implementing sklearn LogisticRegression\n",
        "#"
      ],
      "id": "fTK_uKR88vxC",
      "execution_count": 122,
      "outputs": []
    },
    {
      "cell_type": "code",
      "metadata": {
        "colab": {
          "base_uri": "https://localhost:8080/"
        },
        "id": "IXwqWxAYoBsn",
        "outputId": "c31d195f-84dc-4864-cb7f-8176d1027148"
      },
      "source": [
        "testdata.isnull().sum()"
      ],
      "id": "IXwqWxAYoBsn",
      "execution_count": 123,
      "outputs": [
        {
          "output_type": "execute_result",
          "data": {
            "text/plain": [
              "enrollee_id                 0\n",
              "city                        0\n",
              "city_development_index      0\n",
              "gender                    508\n",
              "relevant_experience         0\n",
              "enrolled_university        31\n",
              "education_level            52\n",
              "major_discipline          312\n",
              "experience                  5\n",
              "company_size              622\n",
              "company_type              634\n",
              "last_new_job               40\n",
              "training_hours              0\n",
              "target                      0\n",
              "dtype: int64"
            ]
          },
          "metadata": {
            "tags": []
          },
          "execution_count": 123
        }
      ]
    },
    {
      "cell_type": "code",
      "metadata": {
        "colab": {
          "base_uri": "https://localhost:8080/"
        },
        "id": "1OifKexgpCIC",
        "outputId": "af158130-2e39-4540-be2e-6a30a374ca52"
      },
      "source": [
        "new_testdata = testdata.dropna()\n",
        "new_testdata.isnull().sum()"
      ],
      "id": "1OifKexgpCIC",
      "execution_count": 124,
      "outputs": [
        {
          "output_type": "execute_result",
          "data": {
            "text/plain": [
              "enrollee_id               0\n",
              "city                      0\n",
              "city_development_index    0\n",
              "gender                    0\n",
              "relevant_experience       0\n",
              "enrolled_university       0\n",
              "education_level           0\n",
              "major_discipline          0\n",
              "experience                0\n",
              "company_size              0\n",
              "company_type              0\n",
              "last_new_job              0\n",
              "training_hours            0\n",
              "target                    0\n",
              "dtype: int64"
            ]
          },
          "metadata": {
            "tags": []
          },
          "execution_count": 124
        }
      ]
    },
    {
      "cell_type": "code",
      "metadata": {
        "colab": {
          "base_uri": "https://localhost:8080/",
          "height": 379
        },
        "id": "mviULat5pCD5",
        "outputId": "b747b93b-6a2c-4201-a963-426dff63d9b7"
      },
      "source": [
        "new_testdata[:10]"
      ],
      "id": "mviULat5pCD5",
      "execution_count": 125,
      "outputs": [
        {
          "output_type": "execute_result",
          "data": {
            "text/html": [
              "<div>\n",
              "<style scoped>\n",
              "    .dataframe tbody tr th:only-of-type {\n",
              "        vertical-align: middle;\n",
              "    }\n",
              "\n",
              "    .dataframe tbody tr th {\n",
              "        vertical-align: top;\n",
              "    }\n",
              "\n",
              "    .dataframe thead th {\n",
              "        text-align: right;\n",
              "    }\n",
              "</style>\n",
              "<table border=\"1\" class=\"dataframe\">\n",
              "  <thead>\n",
              "    <tr style=\"text-align: right;\">\n",
              "      <th></th>\n",
              "      <th>enrollee_id</th>\n",
              "      <th>city</th>\n",
              "      <th>city_development_index</th>\n",
              "      <th>gender</th>\n",
              "      <th>relevant_experience</th>\n",
              "      <th>enrolled_university</th>\n",
              "      <th>education_level</th>\n",
              "      <th>major_discipline</th>\n",
              "      <th>experience</th>\n",
              "      <th>company_size</th>\n",
              "      <th>company_type</th>\n",
              "      <th>last_new_job</th>\n",
              "      <th>training_hours</th>\n",
              "      <th>target</th>\n",
              "    </tr>\n",
              "  </thead>\n",
              "  <tbody>\n",
              "    <tr>\n",
              "      <th>3</th>\n",
              "      <td>27385</td>\n",
              "      <td>city_13</td>\n",
              "      <td>0.827</td>\n",
              "      <td>Male</td>\n",
              "      <td>Has relevant experience</td>\n",
              "      <td>no_enrollment</td>\n",
              "      <td>Masters</td>\n",
              "      <td>STEM</td>\n",
              "      <td>11</td>\n",
              "      <td>10/49</td>\n",
              "      <td>Pvt Ltd</td>\n",
              "      <td>1</td>\n",
              "      <td>39</td>\n",
              "      <td>0.0</td>\n",
              "    </tr>\n",
              "    <tr>\n",
              "      <th>4</th>\n",
              "      <td>27724</td>\n",
              "      <td>city_103</td>\n",
              "      <td>0.920</td>\n",
              "      <td>Male</td>\n",
              "      <td>Has relevant experience</td>\n",
              "      <td>no_enrollment</td>\n",
              "      <td>Graduate</td>\n",
              "      <td>STEM</td>\n",
              "      <td>&gt;20</td>\n",
              "      <td>10000+</td>\n",
              "      <td>Pvt Ltd</td>\n",
              "      <td>&gt;4</td>\n",
              "      <td>72</td>\n",
              "      <td>1.0</td>\n",
              "    </tr>\n",
              "    <tr>\n",
              "      <th>11</th>\n",
              "      <td>9272</td>\n",
              "      <td>city_90</td>\n",
              "      <td>0.698</td>\n",
              "      <td>Male</td>\n",
              "      <td>Has relevant experience</td>\n",
              "      <td>no_enrollment</td>\n",
              "      <td>Graduate</td>\n",
              "      <td>STEM</td>\n",
              "      <td>20</td>\n",
              "      <td>10/49</td>\n",
              "      <td>Pvt Ltd</td>\n",
              "      <td>2</td>\n",
              "      <td>51</td>\n",
              "      <td>1.0</td>\n",
              "    </tr>\n",
              "    <tr>\n",
              "      <th>12</th>\n",
              "      <td>14249</td>\n",
              "      <td>city_46</td>\n",
              "      <td>0.762</td>\n",
              "      <td>Male</td>\n",
              "      <td>Has relevant experience</td>\n",
              "      <td>no_enrollment</td>\n",
              "      <td>Graduate</td>\n",
              "      <td>STEM</td>\n",
              "      <td>8</td>\n",
              "      <td>100-500</td>\n",
              "      <td>Other</td>\n",
              "      <td>never</td>\n",
              "      <td>48</td>\n",
              "      <td>0.0</td>\n",
              "    </tr>\n",
              "    <tr>\n",
              "      <th>16</th>\n",
              "      <td>7865</td>\n",
              "      <td>city_21</td>\n",
              "      <td>0.624</td>\n",
              "      <td>Male</td>\n",
              "      <td>Has relevant experience</td>\n",
              "      <td>no_enrollment</td>\n",
              "      <td>Masters</td>\n",
              "      <td>STEM</td>\n",
              "      <td>4</td>\n",
              "      <td>100-500</td>\n",
              "      <td>Pvt Ltd</td>\n",
              "      <td>1</td>\n",
              "      <td>4</td>\n",
              "      <td>0.0</td>\n",
              "    </tr>\n",
              "    <tr>\n",
              "      <th>17</th>\n",
              "      <td>7463</td>\n",
              "      <td>city_13</td>\n",
              "      <td>0.827</td>\n",
              "      <td>Male</td>\n",
              "      <td>Has relevant experience</td>\n",
              "      <td>no_enrollment</td>\n",
              "      <td>Masters</td>\n",
              "      <td>Business Degree</td>\n",
              "      <td>2</td>\n",
              "      <td>50-99</td>\n",
              "      <td>Pvt Ltd</td>\n",
              "      <td>1</td>\n",
              "      <td>31</td>\n",
              "      <td>1.0</td>\n",
              "    </tr>\n",
              "    <tr>\n",
              "      <th>22</th>\n",
              "      <td>25202</td>\n",
              "      <td>city_21</td>\n",
              "      <td>0.624</td>\n",
              "      <td>Male</td>\n",
              "      <td>Has relevant experience</td>\n",
              "      <td>no_enrollment</td>\n",
              "      <td>Graduate</td>\n",
              "      <td>STEM</td>\n",
              "      <td>6</td>\n",
              "      <td>1000-4999</td>\n",
              "      <td>Pvt Ltd</td>\n",
              "      <td>3</td>\n",
              "      <td>33</td>\n",
              "      <td>1.0</td>\n",
              "    </tr>\n",
              "    <tr>\n",
              "      <th>24</th>\n",
              "      <td>23570</td>\n",
              "      <td>city_118</td>\n",
              "      <td>0.722</td>\n",
              "      <td>Male</td>\n",
              "      <td>Has relevant experience</td>\n",
              "      <td>no_enrollment</td>\n",
              "      <td>Graduate</td>\n",
              "      <td>STEM</td>\n",
              "      <td>19</td>\n",
              "      <td>100-500</td>\n",
              "      <td>Pvt Ltd</td>\n",
              "      <td>&gt;4</td>\n",
              "      <td>19</td>\n",
              "      <td>0.0</td>\n",
              "    </tr>\n",
              "    <tr>\n",
              "      <th>26</th>\n",
              "      <td>9548</td>\n",
              "      <td>city_114</td>\n",
              "      <td>0.926</td>\n",
              "      <td>Male</td>\n",
              "      <td>Has relevant experience</td>\n",
              "      <td>no_enrollment</td>\n",
              "      <td>Masters</td>\n",
              "      <td>STEM</td>\n",
              "      <td>&gt;20</td>\n",
              "      <td>50-99</td>\n",
              "      <td>Pvt Ltd</td>\n",
              "      <td>&gt;4</td>\n",
              "      <td>65</td>\n",
              "      <td>0.0</td>\n",
              "    </tr>\n",
              "    <tr>\n",
              "      <th>33</th>\n",
              "      <td>17189</td>\n",
              "      <td>city_21</td>\n",
              "      <td>0.624</td>\n",
              "      <td>Male</td>\n",
              "      <td>Has relevant experience</td>\n",
              "      <td>no_enrollment</td>\n",
              "      <td>Graduate</td>\n",
              "      <td>STEM</td>\n",
              "      <td>7</td>\n",
              "      <td>10000+</td>\n",
              "      <td>Pvt Ltd</td>\n",
              "      <td>4</td>\n",
              "      <td>43</td>\n",
              "      <td>0.0</td>\n",
              "    </tr>\n",
              "  </tbody>\n",
              "</table>\n",
              "</div>"
            ],
            "text/plain": [
              "    enrollee_id      city  ...  training_hours target\n",
              "3         27385   city_13  ...              39    0.0\n",
              "4         27724  city_103  ...              72    1.0\n",
              "11         9272   city_90  ...              51    1.0\n",
              "12        14249   city_46  ...              48    0.0\n",
              "16         7865   city_21  ...               4    0.0\n",
              "17         7463   city_13  ...              31    1.0\n",
              "22        25202   city_21  ...              33    1.0\n",
              "24        23570  city_118  ...              19    0.0\n",
              "26         9548  city_114  ...              65    0.0\n",
              "33        17189   city_21  ...              43    0.0\n",
              "\n",
              "[10 rows x 14 columns]"
            ]
          },
          "metadata": {
            "tags": []
          },
          "execution_count": 125
        }
      ]
    },
    {
      "cell_type": "code",
      "metadata": {
        "colab": {
          "base_uri": "https://localhost:8080/",
          "height": 255
        },
        "id": "4zIBwrh6B_kA",
        "outputId": "22cd97c3-35fc-4764-e754-a7d93d197114"
      },
      "source": [
        "# Prepare data for LogisticRegression method, requiring all numerical predictor variables\n",
        "\n",
        "new_training2 = new_training.append(new_testdata)     # append training and testing originally provided - gives lower accuracy than training set\n",
        "new_training2 = new_training.drop(['enrollee_id'], axis=1)     #  drop enrollee_id, not used as predictor\n",
        "new_training2[:10]\n",
        "new_training2[4:10]"
      ],
      "id": "4zIBwrh6B_kA",
      "execution_count": 186,
      "outputs": [
        {
          "output_type": "execute_result",
          "data": {
            "text/html": [
              "<div>\n",
              "<style scoped>\n",
              "    .dataframe tbody tr th:only-of-type {\n",
              "        vertical-align: middle;\n",
              "    }\n",
              "\n",
              "    .dataframe tbody tr th {\n",
              "        vertical-align: top;\n",
              "    }\n",
              "\n",
              "    .dataframe thead th {\n",
              "        text-align: right;\n",
              "    }\n",
              "</style>\n",
              "<table border=\"1\" class=\"dataframe\">\n",
              "  <thead>\n",
              "    <tr style=\"text-align: right;\">\n",
              "      <th></th>\n",
              "      <th>city</th>\n",
              "      <th>city_development_index</th>\n",
              "      <th>gender</th>\n",
              "      <th>relevant_experience</th>\n",
              "      <th>enrolled_university</th>\n",
              "      <th>education_level</th>\n",
              "      <th>major_discipline</th>\n",
              "      <th>experience</th>\n",
              "      <th>company_size</th>\n",
              "      <th>company_type</th>\n",
              "      <th>last_new_job</th>\n",
              "      <th>training_hours</th>\n",
              "      <th>target</th>\n",
              "    </tr>\n",
              "  </thead>\n",
              "  <tbody>\n",
              "    <tr>\n",
              "      <th>11</th>\n",
              "      <td>city_103</td>\n",
              "      <td>0.920</td>\n",
              "      <td>Male</td>\n",
              "      <td>Has relevant experience</td>\n",
              "      <td>no_enrollment</td>\n",
              "      <td>Graduate</td>\n",
              "      <td>STEM</td>\n",
              "      <td>5</td>\n",
              "      <td>5000-9999</td>\n",
              "      <td>Pvt Ltd</td>\n",
              "      <td>1</td>\n",
              "      <td>108</td>\n",
              "      <td>0.0</td>\n",
              "    </tr>\n",
              "    <tr>\n",
              "      <th>12</th>\n",
              "      <td>city_61</td>\n",
              "      <td>0.913</td>\n",
              "      <td>Male</td>\n",
              "      <td>Has relevant experience</td>\n",
              "      <td>no_enrollment</td>\n",
              "      <td>Graduate</td>\n",
              "      <td>STEM</td>\n",
              "      <td>&gt;20</td>\n",
              "      <td>1000-4999</td>\n",
              "      <td>Pvt Ltd</td>\n",
              "      <td>3</td>\n",
              "      <td>23</td>\n",
              "      <td>0.0</td>\n",
              "    </tr>\n",
              "    <tr>\n",
              "      <th>15</th>\n",
              "      <td>city_114</td>\n",
              "      <td>0.926</td>\n",
              "      <td>Male</td>\n",
              "      <td>Has relevant experience</td>\n",
              "      <td>no_enrollment</td>\n",
              "      <td>Graduate</td>\n",
              "      <td>STEM</td>\n",
              "      <td>16</td>\n",
              "      <td>10/49</td>\n",
              "      <td>Pvt Ltd</td>\n",
              "      <td>&gt;4</td>\n",
              "      <td>18</td>\n",
              "      <td>0.0</td>\n",
              "    </tr>\n",
              "    <tr>\n",
              "      <th>20</th>\n",
              "      <td>city_159</td>\n",
              "      <td>0.843</td>\n",
              "      <td>Male</td>\n",
              "      <td>Has relevant experience</td>\n",
              "      <td>no_enrollment</td>\n",
              "      <td>Masters</td>\n",
              "      <td>STEM</td>\n",
              "      <td>11</td>\n",
              "      <td>100-500</td>\n",
              "      <td>Pvt Ltd</td>\n",
              "      <td>1</td>\n",
              "      <td>68</td>\n",
              "      <td>0.0</td>\n",
              "    </tr>\n",
              "    <tr>\n",
              "      <th>21</th>\n",
              "      <td>city_114</td>\n",
              "      <td>0.926</td>\n",
              "      <td>Male</td>\n",
              "      <td>Has relevant experience</td>\n",
              "      <td>no_enrollment</td>\n",
              "      <td>Masters</td>\n",
              "      <td>STEM</td>\n",
              "      <td>11</td>\n",
              "      <td>100-500</td>\n",
              "      <td>Pvt Ltd</td>\n",
              "      <td>2</td>\n",
              "      <td>50</td>\n",
              "      <td>0.0</td>\n",
              "    </tr>\n",
              "    <tr>\n",
              "      <th>23</th>\n",
              "      <td>city_40</td>\n",
              "      <td>0.776</td>\n",
              "      <td>Male</td>\n",
              "      <td>Has relevant experience</td>\n",
              "      <td>no_enrollment</td>\n",
              "      <td>Graduate</td>\n",
              "      <td>Humanities</td>\n",
              "      <td>&lt;1</td>\n",
              "      <td>1000-4999</td>\n",
              "      <td>Pvt Ltd</td>\n",
              "      <td>1</td>\n",
              "      <td>65</td>\n",
              "      <td>0.0</td>\n",
              "    </tr>\n",
              "  </tbody>\n",
              "</table>\n",
              "</div>"
            ],
            "text/plain": [
              "        city  city_development_index  ... training_hours target\n",
              "11  city_103                   0.920  ...            108    0.0\n",
              "12   city_61                   0.913  ...             23    0.0\n",
              "15  city_114                   0.926  ...             18    0.0\n",
              "20  city_159                   0.843  ...             68    0.0\n",
              "21  city_114                   0.926  ...             50    0.0\n",
              "23   city_40                   0.776  ...             65    0.0\n",
              "\n",
              "[6 rows x 13 columns]"
            ]
          },
          "metadata": {
            "tags": []
          },
          "execution_count": 186
        }
      ]
    },
    {
      "cell_type": "code",
      "metadata": {
        "colab": {
          "base_uri": "https://localhost:8080/"
        },
        "id": "CJ4sJGylr-LJ",
        "outputId": "b98391e4-19d8-4300-fbb7-956ae2fc4336"
      },
      "source": [
        "new_training2.shape\n",
        "new_training2.isnull().sum()"
      ],
      "id": "CJ4sJGylr-LJ",
      "execution_count": 187,
      "outputs": [
        {
          "output_type": "execute_result",
          "data": {
            "text/plain": [
              "city                      0\n",
              "city_development_index    0\n",
              "gender                    0\n",
              "relevant_experience       0\n",
              "enrolled_university       0\n",
              "education_level           0\n",
              "major_discipline          0\n",
              "experience                0\n",
              "company_size              0\n",
              "company_type              0\n",
              "last_new_job              0\n",
              "training_hours            0\n",
              "target                    0\n",
              "dtype: int64"
            ]
          },
          "metadata": {
            "tags": []
          },
          "execution_count": 187
        }
      ]
    },
    {
      "cell_type": "code",
      "metadata": {
        "colab": {
          "base_uri": "https://localhost:8080/",
          "height": 379
        },
        "id": "WRCSCLpjg5EW",
        "outputId": "aeaa1a72-d570-4934-80c1-24bb4a4193a2"
      },
      "source": [
        "# Convert columns that contain mixed characters and numbers to numbers\n",
        "#   so that these columns will now be numeric: 'experience','city','company_size','last_new_job'\n",
        "\n",
        "new_training2.loc[new_training2.experience == '<1','experience'] = \"0\"   \n",
        "new_training2.loc[new_training2.experience == '>20','experience'] = \"25\"   # numeric assignment of >20 to 25\n",
        "new_training2['city'] = new_training2['city'].str.replace('city_', '')        #convert city codes to numbers\n",
        "new_training2.loc[new_training2.company_size == '<10','company_size'] = \"5\"   # numeric assignment of <10 to 5\n",
        "new_training2.loc[new_training2.company_size == '10000+','company_size'] = \"12000\"   # numeric assignment of >10000 to 13000\n",
        "new_training2.loc[new_training2.company_size == '10/49','company_size'] = \"30\"   # numeric assignment of range to the average\n",
        "new_training2.loc[new_training2.company_size == '50-99','company_size'] = \"75\"   # numeric assignment of range to the average\n",
        "new_training2.loc[new_training2.company_size == '100-500','company_size'] = \"300\"   # numeric assignment of range to the average\n",
        "new_training2.loc[new_training2.company_size == '500-999','company_size'] = \"750\"   # numeric assignment of range to the average\n",
        "new_training2.loc[new_training2.company_size == '1000-4999','company_size'] = \"3000\"   # numeric assignment of range to the average\n",
        "new_training2.loc[new_training2.company_size == '5000-9999','company_size'] = \"7500\"  # numeric assignment of range to the average\n",
        "new_training2.loc[new_training2.last_new_job == '>4','last_new_job'] = \"5\" # numeric assignment of >4 to 5\n",
        "new_training2.loc[new_training2.last_new_job == 'never','last_new_job'] = \"0\" # numeric assignment of never to 0\n",
        "new_training2[['experience','city','company_size','last_new_job','training_hours']] = new_training2[['experience','city','company_size','last_new_job','training_hours']].apply(pd.to_numeric)\n",
        "new_training2[:10]\n"
      ],
      "id": "WRCSCLpjg5EW",
      "execution_count": 188,
      "outputs": [
        {
          "output_type": "execute_result",
          "data": {
            "text/html": [
              "<div>\n",
              "<style scoped>\n",
              "    .dataframe tbody tr th:only-of-type {\n",
              "        vertical-align: middle;\n",
              "    }\n",
              "\n",
              "    .dataframe tbody tr th {\n",
              "        vertical-align: top;\n",
              "    }\n",
              "\n",
              "    .dataframe thead th {\n",
              "        text-align: right;\n",
              "    }\n",
              "</style>\n",
              "<table border=\"1\" class=\"dataframe\">\n",
              "  <thead>\n",
              "    <tr style=\"text-align: right;\">\n",
              "      <th></th>\n",
              "      <th>city</th>\n",
              "      <th>city_development_index</th>\n",
              "      <th>gender</th>\n",
              "      <th>relevant_experience</th>\n",
              "      <th>enrolled_university</th>\n",
              "      <th>education_level</th>\n",
              "      <th>major_discipline</th>\n",
              "      <th>experience</th>\n",
              "      <th>company_size</th>\n",
              "      <th>company_type</th>\n",
              "      <th>last_new_job</th>\n",
              "      <th>training_hours</th>\n",
              "      <th>target</th>\n",
              "    </tr>\n",
              "  </thead>\n",
              "  <tbody>\n",
              "    <tr>\n",
              "      <th>1</th>\n",
              "      <td>40</td>\n",
              "      <td>0.776</td>\n",
              "      <td>Male</td>\n",
              "      <td>No relevant experience</td>\n",
              "      <td>no_enrollment</td>\n",
              "      <td>Graduate</td>\n",
              "      <td>STEM</td>\n",
              "      <td>15</td>\n",
              "      <td>75</td>\n",
              "      <td>Pvt Ltd</td>\n",
              "      <td>5</td>\n",
              "      <td>47</td>\n",
              "      <td>0.0</td>\n",
              "    </tr>\n",
              "    <tr>\n",
              "      <th>4</th>\n",
              "      <td>162</td>\n",
              "      <td>0.767</td>\n",
              "      <td>Male</td>\n",
              "      <td>Has relevant experience</td>\n",
              "      <td>no_enrollment</td>\n",
              "      <td>Masters</td>\n",
              "      <td>STEM</td>\n",
              "      <td>25</td>\n",
              "      <td>75</td>\n",
              "      <td>Funded Startup</td>\n",
              "      <td>4</td>\n",
              "      <td>8</td>\n",
              "      <td>0.0</td>\n",
              "    </tr>\n",
              "    <tr>\n",
              "      <th>7</th>\n",
              "      <td>46</td>\n",
              "      <td>0.762</td>\n",
              "      <td>Male</td>\n",
              "      <td>Has relevant experience</td>\n",
              "      <td>no_enrollment</td>\n",
              "      <td>Graduate</td>\n",
              "      <td>STEM</td>\n",
              "      <td>13</td>\n",
              "      <td>5</td>\n",
              "      <td>Pvt Ltd</td>\n",
              "      <td>5</td>\n",
              "      <td>18</td>\n",
              "      <td>1.0</td>\n",
              "    </tr>\n",
              "    <tr>\n",
              "      <th>8</th>\n",
              "      <td>103</td>\n",
              "      <td>0.920</td>\n",
              "      <td>Male</td>\n",
              "      <td>Has relevant experience</td>\n",
              "      <td>no_enrollment</td>\n",
              "      <td>Graduate</td>\n",
              "      <td>STEM</td>\n",
              "      <td>7</td>\n",
              "      <td>75</td>\n",
              "      <td>Pvt Ltd</td>\n",
              "      <td>1</td>\n",
              "      <td>46</td>\n",
              "      <td>1.0</td>\n",
              "    </tr>\n",
              "    <tr>\n",
              "      <th>11</th>\n",
              "      <td>103</td>\n",
              "      <td>0.920</td>\n",
              "      <td>Male</td>\n",
              "      <td>Has relevant experience</td>\n",
              "      <td>no_enrollment</td>\n",
              "      <td>Graduate</td>\n",
              "      <td>STEM</td>\n",
              "      <td>5</td>\n",
              "      <td>7500</td>\n",
              "      <td>Pvt Ltd</td>\n",
              "      <td>1</td>\n",
              "      <td>108</td>\n",
              "      <td>0.0</td>\n",
              "    </tr>\n",
              "    <tr>\n",
              "      <th>12</th>\n",
              "      <td>61</td>\n",
              "      <td>0.913</td>\n",
              "      <td>Male</td>\n",
              "      <td>Has relevant experience</td>\n",
              "      <td>no_enrollment</td>\n",
              "      <td>Graduate</td>\n",
              "      <td>STEM</td>\n",
              "      <td>25</td>\n",
              "      <td>3000</td>\n",
              "      <td>Pvt Ltd</td>\n",
              "      <td>3</td>\n",
              "      <td>23</td>\n",
              "      <td>0.0</td>\n",
              "    </tr>\n",
              "    <tr>\n",
              "      <th>15</th>\n",
              "      <td>114</td>\n",
              "      <td>0.926</td>\n",
              "      <td>Male</td>\n",
              "      <td>Has relevant experience</td>\n",
              "      <td>no_enrollment</td>\n",
              "      <td>Graduate</td>\n",
              "      <td>STEM</td>\n",
              "      <td>16</td>\n",
              "      <td>30</td>\n",
              "      <td>Pvt Ltd</td>\n",
              "      <td>5</td>\n",
              "      <td>18</td>\n",
              "      <td>0.0</td>\n",
              "    </tr>\n",
              "    <tr>\n",
              "      <th>20</th>\n",
              "      <td>159</td>\n",
              "      <td>0.843</td>\n",
              "      <td>Male</td>\n",
              "      <td>Has relevant experience</td>\n",
              "      <td>no_enrollment</td>\n",
              "      <td>Masters</td>\n",
              "      <td>STEM</td>\n",
              "      <td>11</td>\n",
              "      <td>300</td>\n",
              "      <td>Pvt Ltd</td>\n",
              "      <td>1</td>\n",
              "      <td>68</td>\n",
              "      <td>0.0</td>\n",
              "    </tr>\n",
              "    <tr>\n",
              "      <th>21</th>\n",
              "      <td>114</td>\n",
              "      <td>0.926</td>\n",
              "      <td>Male</td>\n",
              "      <td>Has relevant experience</td>\n",
              "      <td>no_enrollment</td>\n",
              "      <td>Masters</td>\n",
              "      <td>STEM</td>\n",
              "      <td>11</td>\n",
              "      <td>300</td>\n",
              "      <td>Pvt Ltd</td>\n",
              "      <td>2</td>\n",
              "      <td>50</td>\n",
              "      <td>0.0</td>\n",
              "    </tr>\n",
              "    <tr>\n",
              "      <th>23</th>\n",
              "      <td>40</td>\n",
              "      <td>0.776</td>\n",
              "      <td>Male</td>\n",
              "      <td>Has relevant experience</td>\n",
              "      <td>no_enrollment</td>\n",
              "      <td>Graduate</td>\n",
              "      <td>Humanities</td>\n",
              "      <td>0</td>\n",
              "      <td>3000</td>\n",
              "      <td>Pvt Ltd</td>\n",
              "      <td>1</td>\n",
              "      <td>65</td>\n",
              "      <td>0.0</td>\n",
              "    </tr>\n",
              "  </tbody>\n",
              "</table>\n",
              "</div>"
            ],
            "text/plain": [
              "    city  city_development_index gender  ... last_new_job training_hours target\n",
              "1     40                   0.776   Male  ...            5             47    0.0\n",
              "4    162                   0.767   Male  ...            4              8    0.0\n",
              "7     46                   0.762   Male  ...            5             18    1.0\n",
              "8    103                   0.920   Male  ...            1             46    1.0\n",
              "11   103                   0.920   Male  ...            1            108    0.0\n",
              "12    61                   0.913   Male  ...            3             23    0.0\n",
              "15   114                   0.926   Male  ...            5             18    0.0\n",
              "20   159                   0.843   Male  ...            1             68    0.0\n",
              "21   114                   0.926   Male  ...            2             50    0.0\n",
              "23    40                   0.776   Male  ...            1             65    0.0\n",
              "\n",
              "[10 rows x 13 columns]"
            ]
          },
          "metadata": {
            "tags": []
          },
          "execution_count": 188
        }
      ]
    },
    {
      "cell_type": "code",
      "metadata": {
        "id": "-0_B3N-BaoY_"
      },
      "source": [
        "#  Use pd.get_dummies to convert categorical variables to numeric"
      ],
      "id": "-0_B3N-BaoY_",
      "execution_count": 189,
      "outputs": []
    },
    {
      "cell_type": "code",
      "metadata": {
        "colab": {
          "base_uri": "https://localhost:8080/",
          "height": 396
        },
        "id": "2zrqZ-N5asve",
        "outputId": "2d250407-f465-475a-8c84-bed5f2c27c14"
      },
      "source": [
        "new_training3 = pd.get_dummies(new_training2, columns=['gender','relevant_experience','enrolled_university','education_level','major_discipline','company_type'])\n",
        "new_training3[:10]"
      ],
      "id": "2zrqZ-N5asve",
      "execution_count": 190,
      "outputs": [
        {
          "output_type": "execute_result",
          "data": {
            "text/html": [
              "<div>\n",
              "<style scoped>\n",
              "    .dataframe tbody tr th:only-of-type {\n",
              "        vertical-align: middle;\n",
              "    }\n",
              "\n",
              "    .dataframe tbody tr th {\n",
              "        vertical-align: top;\n",
              "    }\n",
              "\n",
              "    .dataframe thead th {\n",
              "        text-align: right;\n",
              "    }\n",
              "</style>\n",
              "<table border=\"1\" class=\"dataframe\">\n",
              "  <thead>\n",
              "    <tr style=\"text-align: right;\">\n",
              "      <th></th>\n",
              "      <th>city</th>\n",
              "      <th>city_development_index</th>\n",
              "      <th>experience</th>\n",
              "      <th>company_size</th>\n",
              "      <th>last_new_job</th>\n",
              "      <th>training_hours</th>\n",
              "      <th>target</th>\n",
              "      <th>gender_Female</th>\n",
              "      <th>gender_Male</th>\n",
              "      <th>gender_Other</th>\n",
              "      <th>relevant_experience_Has relevant experience</th>\n",
              "      <th>relevant_experience_No relevant experience</th>\n",
              "      <th>enrolled_university_Full time course</th>\n",
              "      <th>enrolled_university_Part time course</th>\n",
              "      <th>enrolled_university_no_enrollment</th>\n",
              "      <th>education_level_Graduate</th>\n",
              "      <th>education_level_Masters</th>\n",
              "      <th>education_level_Phd</th>\n",
              "      <th>major_discipline_Arts</th>\n",
              "      <th>major_discipline_Business Degree</th>\n",
              "      <th>major_discipline_Humanities</th>\n",
              "      <th>major_discipline_No Major</th>\n",
              "      <th>major_discipline_Other</th>\n",
              "      <th>major_discipline_STEM</th>\n",
              "      <th>company_type_Early Stage Startup</th>\n",
              "      <th>company_type_Funded Startup</th>\n",
              "      <th>company_type_NGO</th>\n",
              "      <th>company_type_Other</th>\n",
              "      <th>company_type_Public Sector</th>\n",
              "      <th>company_type_Pvt Ltd</th>\n",
              "    </tr>\n",
              "  </thead>\n",
              "  <tbody>\n",
              "    <tr>\n",
              "      <th>1</th>\n",
              "      <td>40</td>\n",
              "      <td>0.776</td>\n",
              "      <td>15</td>\n",
              "      <td>75</td>\n",
              "      <td>5</td>\n",
              "      <td>47</td>\n",
              "      <td>0.0</td>\n",
              "      <td>0</td>\n",
              "      <td>1</td>\n",
              "      <td>0</td>\n",
              "      <td>0</td>\n",
              "      <td>1</td>\n",
              "      <td>0</td>\n",
              "      <td>0</td>\n",
              "      <td>1</td>\n",
              "      <td>1</td>\n",
              "      <td>0</td>\n",
              "      <td>0</td>\n",
              "      <td>0</td>\n",
              "      <td>0</td>\n",
              "      <td>0</td>\n",
              "      <td>0</td>\n",
              "      <td>0</td>\n",
              "      <td>1</td>\n",
              "      <td>0</td>\n",
              "      <td>0</td>\n",
              "      <td>0</td>\n",
              "      <td>0</td>\n",
              "      <td>0</td>\n",
              "      <td>1</td>\n",
              "    </tr>\n",
              "    <tr>\n",
              "      <th>4</th>\n",
              "      <td>162</td>\n",
              "      <td>0.767</td>\n",
              "      <td>25</td>\n",
              "      <td>75</td>\n",
              "      <td>4</td>\n",
              "      <td>8</td>\n",
              "      <td>0.0</td>\n",
              "      <td>0</td>\n",
              "      <td>1</td>\n",
              "      <td>0</td>\n",
              "      <td>1</td>\n",
              "      <td>0</td>\n",
              "      <td>0</td>\n",
              "      <td>0</td>\n",
              "      <td>1</td>\n",
              "      <td>0</td>\n",
              "      <td>1</td>\n",
              "      <td>0</td>\n",
              "      <td>0</td>\n",
              "      <td>0</td>\n",
              "      <td>0</td>\n",
              "      <td>0</td>\n",
              "      <td>0</td>\n",
              "      <td>1</td>\n",
              "      <td>0</td>\n",
              "      <td>1</td>\n",
              "      <td>0</td>\n",
              "      <td>0</td>\n",
              "      <td>0</td>\n",
              "      <td>0</td>\n",
              "    </tr>\n",
              "    <tr>\n",
              "      <th>7</th>\n",
              "      <td>46</td>\n",
              "      <td>0.762</td>\n",
              "      <td>13</td>\n",
              "      <td>5</td>\n",
              "      <td>5</td>\n",
              "      <td>18</td>\n",
              "      <td>1.0</td>\n",
              "      <td>0</td>\n",
              "      <td>1</td>\n",
              "      <td>0</td>\n",
              "      <td>1</td>\n",
              "      <td>0</td>\n",
              "      <td>0</td>\n",
              "      <td>0</td>\n",
              "      <td>1</td>\n",
              "      <td>1</td>\n",
              "      <td>0</td>\n",
              "      <td>0</td>\n",
              "      <td>0</td>\n",
              "      <td>0</td>\n",
              "      <td>0</td>\n",
              "      <td>0</td>\n",
              "      <td>0</td>\n",
              "      <td>1</td>\n",
              "      <td>0</td>\n",
              "      <td>0</td>\n",
              "      <td>0</td>\n",
              "      <td>0</td>\n",
              "      <td>0</td>\n",
              "      <td>1</td>\n",
              "    </tr>\n",
              "    <tr>\n",
              "      <th>8</th>\n",
              "      <td>103</td>\n",
              "      <td>0.920</td>\n",
              "      <td>7</td>\n",
              "      <td>75</td>\n",
              "      <td>1</td>\n",
              "      <td>46</td>\n",
              "      <td>1.0</td>\n",
              "      <td>0</td>\n",
              "      <td>1</td>\n",
              "      <td>0</td>\n",
              "      <td>1</td>\n",
              "      <td>0</td>\n",
              "      <td>0</td>\n",
              "      <td>0</td>\n",
              "      <td>1</td>\n",
              "      <td>1</td>\n",
              "      <td>0</td>\n",
              "      <td>0</td>\n",
              "      <td>0</td>\n",
              "      <td>0</td>\n",
              "      <td>0</td>\n",
              "      <td>0</td>\n",
              "      <td>0</td>\n",
              "      <td>1</td>\n",
              "      <td>0</td>\n",
              "      <td>0</td>\n",
              "      <td>0</td>\n",
              "      <td>0</td>\n",
              "      <td>0</td>\n",
              "      <td>1</td>\n",
              "    </tr>\n",
              "    <tr>\n",
              "      <th>11</th>\n",
              "      <td>103</td>\n",
              "      <td>0.920</td>\n",
              "      <td>5</td>\n",
              "      <td>7500</td>\n",
              "      <td>1</td>\n",
              "      <td>108</td>\n",
              "      <td>0.0</td>\n",
              "      <td>0</td>\n",
              "      <td>1</td>\n",
              "      <td>0</td>\n",
              "      <td>1</td>\n",
              "      <td>0</td>\n",
              "      <td>0</td>\n",
              "      <td>0</td>\n",
              "      <td>1</td>\n",
              "      <td>1</td>\n",
              "      <td>0</td>\n",
              "      <td>0</td>\n",
              "      <td>0</td>\n",
              "      <td>0</td>\n",
              "      <td>0</td>\n",
              "      <td>0</td>\n",
              "      <td>0</td>\n",
              "      <td>1</td>\n",
              "      <td>0</td>\n",
              "      <td>0</td>\n",
              "      <td>0</td>\n",
              "      <td>0</td>\n",
              "      <td>0</td>\n",
              "      <td>1</td>\n",
              "    </tr>\n",
              "    <tr>\n",
              "      <th>12</th>\n",
              "      <td>61</td>\n",
              "      <td>0.913</td>\n",
              "      <td>25</td>\n",
              "      <td>3000</td>\n",
              "      <td>3</td>\n",
              "      <td>23</td>\n",
              "      <td>0.0</td>\n",
              "      <td>0</td>\n",
              "      <td>1</td>\n",
              "      <td>0</td>\n",
              "      <td>1</td>\n",
              "      <td>0</td>\n",
              "      <td>0</td>\n",
              "      <td>0</td>\n",
              "      <td>1</td>\n",
              "      <td>1</td>\n",
              "      <td>0</td>\n",
              "      <td>0</td>\n",
              "      <td>0</td>\n",
              "      <td>0</td>\n",
              "      <td>0</td>\n",
              "      <td>0</td>\n",
              "      <td>0</td>\n",
              "      <td>1</td>\n",
              "      <td>0</td>\n",
              "      <td>0</td>\n",
              "      <td>0</td>\n",
              "      <td>0</td>\n",
              "      <td>0</td>\n",
              "      <td>1</td>\n",
              "    </tr>\n",
              "    <tr>\n",
              "      <th>15</th>\n",
              "      <td>114</td>\n",
              "      <td>0.926</td>\n",
              "      <td>16</td>\n",
              "      <td>30</td>\n",
              "      <td>5</td>\n",
              "      <td>18</td>\n",
              "      <td>0.0</td>\n",
              "      <td>0</td>\n",
              "      <td>1</td>\n",
              "      <td>0</td>\n",
              "      <td>1</td>\n",
              "      <td>0</td>\n",
              "      <td>0</td>\n",
              "      <td>0</td>\n",
              "      <td>1</td>\n",
              "      <td>1</td>\n",
              "      <td>0</td>\n",
              "      <td>0</td>\n",
              "      <td>0</td>\n",
              "      <td>0</td>\n",
              "      <td>0</td>\n",
              "      <td>0</td>\n",
              "      <td>0</td>\n",
              "      <td>1</td>\n",
              "      <td>0</td>\n",
              "      <td>0</td>\n",
              "      <td>0</td>\n",
              "      <td>0</td>\n",
              "      <td>0</td>\n",
              "      <td>1</td>\n",
              "    </tr>\n",
              "    <tr>\n",
              "      <th>20</th>\n",
              "      <td>159</td>\n",
              "      <td>0.843</td>\n",
              "      <td>11</td>\n",
              "      <td>300</td>\n",
              "      <td>1</td>\n",
              "      <td>68</td>\n",
              "      <td>0.0</td>\n",
              "      <td>0</td>\n",
              "      <td>1</td>\n",
              "      <td>0</td>\n",
              "      <td>1</td>\n",
              "      <td>0</td>\n",
              "      <td>0</td>\n",
              "      <td>0</td>\n",
              "      <td>1</td>\n",
              "      <td>0</td>\n",
              "      <td>1</td>\n",
              "      <td>0</td>\n",
              "      <td>0</td>\n",
              "      <td>0</td>\n",
              "      <td>0</td>\n",
              "      <td>0</td>\n",
              "      <td>0</td>\n",
              "      <td>1</td>\n",
              "      <td>0</td>\n",
              "      <td>0</td>\n",
              "      <td>0</td>\n",
              "      <td>0</td>\n",
              "      <td>0</td>\n",
              "      <td>1</td>\n",
              "    </tr>\n",
              "    <tr>\n",
              "      <th>21</th>\n",
              "      <td>114</td>\n",
              "      <td>0.926</td>\n",
              "      <td>11</td>\n",
              "      <td>300</td>\n",
              "      <td>2</td>\n",
              "      <td>50</td>\n",
              "      <td>0.0</td>\n",
              "      <td>0</td>\n",
              "      <td>1</td>\n",
              "      <td>0</td>\n",
              "      <td>1</td>\n",
              "      <td>0</td>\n",
              "      <td>0</td>\n",
              "      <td>0</td>\n",
              "      <td>1</td>\n",
              "      <td>0</td>\n",
              "      <td>1</td>\n",
              "      <td>0</td>\n",
              "      <td>0</td>\n",
              "      <td>0</td>\n",
              "      <td>0</td>\n",
              "      <td>0</td>\n",
              "      <td>0</td>\n",
              "      <td>1</td>\n",
              "      <td>0</td>\n",
              "      <td>0</td>\n",
              "      <td>0</td>\n",
              "      <td>0</td>\n",
              "      <td>0</td>\n",
              "      <td>1</td>\n",
              "    </tr>\n",
              "    <tr>\n",
              "      <th>23</th>\n",
              "      <td>40</td>\n",
              "      <td>0.776</td>\n",
              "      <td>0</td>\n",
              "      <td>3000</td>\n",
              "      <td>1</td>\n",
              "      <td>65</td>\n",
              "      <td>0.0</td>\n",
              "      <td>0</td>\n",
              "      <td>1</td>\n",
              "      <td>0</td>\n",
              "      <td>1</td>\n",
              "      <td>0</td>\n",
              "      <td>0</td>\n",
              "      <td>0</td>\n",
              "      <td>1</td>\n",
              "      <td>1</td>\n",
              "      <td>0</td>\n",
              "      <td>0</td>\n",
              "      <td>0</td>\n",
              "      <td>0</td>\n",
              "      <td>1</td>\n",
              "      <td>0</td>\n",
              "      <td>0</td>\n",
              "      <td>0</td>\n",
              "      <td>0</td>\n",
              "      <td>0</td>\n",
              "      <td>0</td>\n",
              "      <td>0</td>\n",
              "      <td>0</td>\n",
              "      <td>1</td>\n",
              "    </tr>\n",
              "  </tbody>\n",
              "</table>\n",
              "</div>"
            ],
            "text/plain": [
              "    city  ...  company_type_Pvt Ltd\n",
              "1     40  ...                     1\n",
              "4    162  ...                     0\n",
              "7     46  ...                     1\n",
              "8    103  ...                     1\n",
              "11   103  ...                     1\n",
              "12    61  ...                     1\n",
              "15   114  ...                     1\n",
              "20   159  ...                     1\n",
              "21   114  ...                     1\n",
              "23    40  ...                     1\n",
              "\n",
              "[10 rows x 30 columns]"
            ]
          },
          "metadata": {
            "tags": []
          },
          "execution_count": 190
        }
      ]
    },
    {
      "cell_type": "code",
      "metadata": {
        "id": "JEbzxAmJeANf"
      },
      "source": [
        "#  Use these lines to add columns of 0's for other educational levels that may exist in test data\n",
        "#new_training3['education_level_High_School'] = 0\n",
        "#new_training3['education_level_Primary_School'] = 0\n",
        "#new_training3"
      ],
      "id": "JEbzxAmJeANf",
      "execution_count": null,
      "outputs": []
    },
    {
      "cell_type": "code",
      "metadata": {
        "colab": {
          "base_uri": "https://localhost:8080/"
        },
        "id": "Z3kSxzfBin87",
        "outputId": "6e6de509-a8fa-45c9-d484-5029707f11d2"
      },
      "source": [
        "#  Allocate the target variable to the y array and the predictor variables to the X array\n",
        "\n",
        "y = new_training3['target']\n",
        "X = new_training3.drop(['target'], axis=1)\n",
        "\n",
        "#  Use  sklearn train_test_split to create the training and test data sets\n",
        "X_train, X_test, y_train, y_test = train_test_split(X,y,test_size=0.2, random_state=42)\n",
        "print (\"X_train shape: \", X_train.shape)\n",
        "print (\"y_train shape: \", y_train.shape)\n",
        "print (\"X_test shape: \", X_test.shape)\n",
        "print (\"y_test shape: \", y_test.shape)\n",
        "type(X_train)"
      ],
      "id": "Z3kSxzfBin87",
      "execution_count": 191,
      "outputs": [
        {
          "output_type": "stream",
          "text": [
            "X_train shape:  (7164, 29)\n",
            "y_train shape:  (7164,)\n",
            "X_test shape:  (1791, 29)\n",
            "y_test shape:  (1791,)\n"
          ],
          "name": "stdout"
        },
        {
          "output_type": "execute_result",
          "data": {
            "text/plain": [
              "pandas.core.frame.DataFrame"
            ]
          },
          "metadata": {
            "tags": []
          },
          "execution_count": 191
        }
      ]
    },
    {
      "cell_type": "code",
      "metadata": {
        "id": "QGBdFtyphSWk"
      },
      "source": [
        "# Instantiate a  class of sklearn LogisticRegression \n",
        "model = LogisticRegression(max_iter=1000)\n",
        "# Fit the model to the training data\n",
        "model.fit(X_train, y_train)\n",
        "# Use the model to predict the target of the test set, on the basis of the categorical variables in the test set\n",
        "y_pred = pd.Series(model.predict(X_test))\n"
      ],
      "id": "QGBdFtyphSWk",
      "execution_count": 182,
      "outputs": []
    },
    {
      "cell_type": "code",
      "metadata": {
        "colab": {
          "base_uri": "https://localhost:8080/"
        },
        "id": "eGqSzWP0P9SF",
        "outputId": "e5a5e62e-6020-4c51-b754-9ac1f2889eec"
      },
      "source": [
        "# print some fitting results\n",
        "\n",
        "print ('\\nIntercept: ', model.intercept_)\n",
        "print ('\\nCoefficients: ', model.coef_, end='\\n\\n')"
      ],
      "id": "eGqSzWP0P9SF",
      "execution_count": 192,
      "outputs": [
        {
          "output_type": "stream",
          "text": [
            "\n",
            "Intercept:  [0.4094028]\n",
            "\n",
            "Coefficients:  [[-6.52205497e-03 -3.89731857e+00 -4.90535601e-02  1.56072098e-05\n",
            "   5.71372716e-02 -3.49489084e-04  5.81457805e-02  2.16422292e-01\n",
            "   1.33364691e-01  1.52324930e-01  2.55607834e-01  5.99242508e-01\n",
            "  -4.20098972e-01  2.28789227e-01  4.82007691e-02  1.54682717e-01\n",
            "   2.05049278e-01 -2.67511055e-01 -4.07565984e-02 -2.40994970e-01\n",
            "  -5.64923192e-02 -3.62914140e-01  1.37660185e+00  8.57693622e-02\n",
            "  -2.95052872e-01 -2.92458995e-02  2.19399826e-01  3.70795996e-01\n",
            "   5.62663509e-02]]\n",
            "\n"
          ],
          "name": "stdout"
        }
      ]
    },
    {
      "cell_type": "code",
      "metadata": {
        "colab": {
          "base_uri": "https://localhost:8080/",
          "height": 442
        },
        "id": "4e4gJ4Xvp_Sk",
        "outputId": "d97b4e20-b572-46aa-d7a3-a0376b4e2554"
      },
      "source": [
        "#  Calculate the confusion matrix using sklearn metrics.confusion_matrix method\n",
        "\n",
        "cnf_matrix = metrics.confusion_matrix(y_test, y_pred)     # confusion matrix calculation\n",
        "print ('\\n\\nConfusion matrix:\\n', cnf_matrix, '\\n\\n')\n",
        "class_names=[0,1] # name  of classes\n",
        "\n",
        "# graph the confusion matrix\n",
        "fig, ax = plt.subplots()\n",
        "tick_marks = np.arange(len(class_names))\n",
        "plt.xticks(tick_marks, class_names)\n",
        "plt.yticks(tick_marks, class_names)\n",
        "# create heatmap\n",
        "sns.heatmap(pd.DataFrame(cnf_matrix), annot=True, cmap=\"YlGnBu\" ,fmt='g')\n",
        "ax.xaxis.set_label_position(\"top\")\n",
        "plt.tight_layout()\n",
        "plt.title('Confusion matrix', y=1.1)\n",
        "plt.ylabel('Actual label')\n",
        "plt.xlabel('Predicted label')\n",
        "plt.show()"
      ],
      "id": "4e4gJ4Xvp_Sk",
      "execution_count": 193,
      "outputs": [
        {
          "output_type": "stream",
          "text": [
            "\n",
            "\n",
            "Confusion matrix:\n",
            " [[1489   22]\n",
            " [ 245   35]] \n",
            "\n",
            "\n"
          ],
          "name": "stdout"
        },
        {
          "output_type": "display_data",
          "data": {
            "image/png": "[encoded data removed]",
            "text/plain": [
              "<Figure size 432x288 with 2 Axes>"
            ]
          },
          "metadata": {
            "tags": []
          }
        }
      ]
    },
    {
      "cell_type": "code",
      "metadata": {
        "colab": {
          "base_uri": "https://localhost:8080/"
        },
        "id": "DvF75E5Qs6iC",
        "outputId": "e414eac1-e2ad-41be-f6a0-65d5c581a26f"
      },
      "source": [
        "# Calculate the Accuracy, Precision, Recall from the confusion matrix, using sklearn metrics methods\n",
        "\n",
        "print(\"Accuracy:\",metrics.accuracy_score(y_test, y_pred))     # accuracy precision and recall calculation\n",
        "print(\"Precision:\",metrics.precision_score(y_test, y_pred))\n",
        "print(\"Recall:\",metrics.recall_score(y_test, y_pred))"
      ],
      "id": "DvF75E5Qs6iC",
      "execution_count": 194,
      "outputs": [
        {
          "output_type": "stream",
          "text": [
            "Accuracy: 0.8509212730318257\n",
            "Precision: 0.6140350877192983\n",
            "Recall: 0.125\n"
          ],
          "name": "stdout"
        }
      ]
    },
    {
      "cell_type": "code",
      "metadata": {
        "colab": {
          "base_uri": "https://localhost:8080/",
          "height": 301
        },
        "id": "Vvs1Rcy9tA0E",
        "outputId": "f351a215-03fa-4cf7-d9e7-9fe8cdb5fc0b"
      },
      "source": [
        "# Calculate and plot the ROC curve from the model predictions versus actual targets, using sklearn metrics methods\n",
        "y_pred_proba = model.predict_proba(X_test)[::,1]             # predict probability\n",
        "fpr, tpr, _ = metrics.roc_curve(y_test,  y_pred_proba)       # receiver operating characteristic curve\n",
        "auc = metrics.roc_auc_score(y_test, y_pred_proba)            # true positive against false positive\n",
        "# graph it\n",
        "plt.title('Receiver Operating Characteristic')\n",
        "plt.plot(fpr,tpr,label=\"new_training3, auc=\"+str(auc))\n",
        "plt.legend(loc='lower right')\n",
        "plt.plot([0,1], [0,1], 'r--')\n",
        "plt.ylabel('True Positive Rate')\n",
        "plt.xlabel('False Positive Rate')\n",
        "plt.show()"
      ],
      "id": "Vvs1Rcy9tA0E",
      "execution_count": 195,
      "outputs": [
        {
          "output_type": "display_data",
          "data": {
            "image/png": "[encoded data removed]",
            "text/plain": [
              "<Figure size 432x288 with 1 Axes>"
            ]
          },
          "metadata": {
            "tags": []
          }
        }
      ]
    },
    {
      "cell_type": "code",
      "metadata": {
        "colab": {
          "base_uri": "https://localhost:8080/",
          "height": 359
        },
        "id": "YU0Nbq4G52wR",
        "outputId": "8fabd195-2814-4ff4-c881-0ddac1272ff7"
      },
      "source": [
        "y_test = y_test.reset_index(drop=True)\n",
        "z = pd.concat([y_test, y_pred], axis=1)\n",
        "z.columns = ['True', 'Predictions']\n",
        "z.iloc[:10]"
      ],
      "id": "YU0Nbq4G52wR",
      "execution_count": 196,
      "outputs": [
        {
          "output_type": "execute_result",
          "data": {
            "text/html": [
              "<div>\n",
              "<style scoped>\n",
              "    .dataframe tbody tr th:only-of-type {\n",
              "        vertical-align: middle;\n",
              "    }\n",
              "\n",
              "    .dataframe tbody tr th {\n",
              "        vertical-align: top;\n",
              "    }\n",
              "\n",
              "    .dataframe thead th {\n",
              "        text-align: right;\n",
              "    }\n",
              "</style>\n",
              "<table border=\"1\" class=\"dataframe\">\n",
              "  <thead>\n",
              "    <tr style=\"text-align: right;\">\n",
              "      <th></th>\n",
              "      <th>True</th>\n",
              "      <th>Predictions</th>\n",
              "    </tr>\n",
              "  </thead>\n",
              "  <tbody>\n",
              "    <tr>\n",
              "      <th>0</th>\n",
              "      <td>0.0</td>\n",
              "      <td>0.0</td>\n",
              "    </tr>\n",
              "    <tr>\n",
              "      <th>1</th>\n",
              "      <td>0.0</td>\n",
              "      <td>0.0</td>\n",
              "    </tr>\n",
              "    <tr>\n",
              "      <th>2</th>\n",
              "      <td>0.0</td>\n",
              "      <td>0.0</td>\n",
              "    </tr>\n",
              "    <tr>\n",
              "      <th>3</th>\n",
              "      <td>0.0</td>\n",
              "      <td>0.0</td>\n",
              "    </tr>\n",
              "    <tr>\n",
              "      <th>4</th>\n",
              "      <td>0.0</td>\n",
              "      <td>0.0</td>\n",
              "    </tr>\n",
              "    <tr>\n",
              "      <th>5</th>\n",
              "      <td>0.0</td>\n",
              "      <td>0.0</td>\n",
              "    </tr>\n",
              "    <tr>\n",
              "      <th>6</th>\n",
              "      <td>1.0</td>\n",
              "      <td>0.0</td>\n",
              "    </tr>\n",
              "    <tr>\n",
              "      <th>7</th>\n",
              "      <td>0.0</td>\n",
              "      <td>0.0</td>\n",
              "    </tr>\n",
              "    <tr>\n",
              "      <th>8</th>\n",
              "      <td>0.0</td>\n",
              "      <td>0.0</td>\n",
              "    </tr>\n",
              "    <tr>\n",
              "      <th>9</th>\n",
              "      <td>0.0</td>\n",
              "      <td>0.0</td>\n",
              "    </tr>\n",
              "  </tbody>\n",
              "</table>\n",
              "</div>"
            ],
            "text/plain": [
              "   True  Predictions\n",
              "0   0.0          0.0\n",
              "1   0.0          0.0\n",
              "2   0.0          0.0\n",
              "3   0.0          0.0\n",
              "4   0.0          0.0\n",
              "5   0.0          0.0\n",
              "6   1.0          0.0\n",
              "7   0.0          0.0\n",
              "8   0.0          0.0\n",
              "9   0.0          0.0"
            ]
          },
          "metadata": {
            "tags": []
          },
          "execution_count": 196
        }
      ]
    },
    {
      "cell_type": "code",
      "metadata": {
        "colab": {
          "base_uri": "https://localhost:8080/"
        },
        "id": "bshag9w30bfb",
        "outputId": "c203dc2e-5067-4c8c-bec7-e4fa6dcd2bfb"
      },
      "source": [
        "print (metrics.classification_report(y_test, y_pred))"
      ],
      "id": "bshag9w30bfb",
      "execution_count": 197,
      "outputs": [
        {
          "output_type": "stream",
          "text": [
            "              precision    recall  f1-score   support\n",
            "\n",
            "         0.0       0.86      0.99      0.92      1511\n",
            "         1.0       0.61      0.12      0.21       280\n",
            "\n",
            "    accuracy                           0.85      1791\n",
            "   macro avg       0.74      0.56      0.56      1791\n",
            "weighted avg       0.82      0.85      0.81      1791\n",
            "\n"
          ],
          "name": "stdout"
        }
      ]
    },
    {
      "cell_type": "code",
      "metadata": {
        "id": "uYIXrg2XnDnb"
      },
      "source": [
        "#  Using SMOTE  to  try to resolve the imbalanced target problem\n"
      ],
      "id": "uYIXrg2XnDnb",
      "execution_count": null,
      "outputs": []
    },
    {
      "cell_type": "code",
      "metadata": {
        "id": "HHEwzci9zcrs"
      },
      "source": [
        "from imblearn.over_sampling import SMOTE"
      ],
      "id": "HHEwzci9zcrs",
      "execution_count": 198,
      "outputs": []
    },
    {
      "cell_type": "code",
      "metadata": {
        "colab": {
          "base_uri": "https://localhost:8080/"
        },
        "id": "Vp7K37a9zqYm",
        "outputId": "dc4e2341-363b-462e-b73d-68a5ee6d4a8f"
      },
      "source": [
        "smt = SMOTE (random_state=42, ratio='minority')\n",
        "X_train_SMOTE, y_train_SMOTE = smt.fit_sample(X_train, y_train)"
      ],
      "id": "Vp7K37a9zqYm",
      "execution_count": 148,
      "outputs": [
        {
          "output_type": "stream",
          "text": [
            "/usr/local/lib/python3.7/dist-packages/sklearn/utils/deprecation.py:87: FutureWarning: Function safe_indexing is deprecated; safe_indexing is deprecated in version 0.22 and will be removed in version 0.24.\n",
            "  warnings.warn(msg, category=FutureWarning)\n"
          ],
          "name": "stderr"
        }
      ]
    },
    {
      "cell_type": "code",
      "metadata": {
        "colab": {
          "base_uri": "https://localhost:8080/"
        },
        "id": "0RxxcQwn31Nx",
        "outputId": "e6c7fca4-f8b5-4e7c-f42b-f182fae682ed"
      },
      "source": [
        "# See the new shape\n",
        "\n",
        "print (\"X_train shape: \", X_train_SMOTE.shape)\n",
        "print (\"y_train shape: \", y_train_SMOTE.shape)\n",
        "print (\"X_test shape: \", X_test.shape)\n",
        "print (\"y_test shape: \", y_test.shape)\n",
        "type(X_train_SMOTE)"
      ],
      "id": "0RxxcQwn31Nx",
      "execution_count": 199,
      "outputs": [
        {
          "output_type": "stream",
          "text": [
            "X_train shape:  (11922, 29)\n",
            "y_train shape:  (11922,)\n",
            "X_test shape:  (1791, 29)\n",
            "y_test shape:  (1791,)\n"
          ],
          "name": "stdout"
        },
        {
          "output_type": "execute_result",
          "data": {
            "text/plain": [
              "numpy.ndarray"
            ]
          },
          "metadata": {
            "tags": []
          },
          "execution_count": 199
        }
      ]
    },
    {
      "cell_type": "code",
      "metadata": {
        "colab": {
          "base_uri": "https://localhost:8080/",
          "height": 1000
        },
        "id": "r82Iecyl4O4G",
        "outputId": "a5ddc989-f883-404b-9fe8-54f7ea231124"
      },
      "source": [
        "# Repeat the Logistic Regression and Prediction\n",
        "\n",
        "# Instantiate a  class of sklearn LogisticRegression \n",
        "model = LogisticRegression(max_iter=1000)\n",
        "# Fit the model to the training data\n",
        "model.fit(X_train_SMOTE, y_train_SMOTE)\n",
        "# Use the model to predict the target of the test set, on the basis of the categorical variables in the test set\n",
        "y_pred = pd.Series(model.predict(X_test))\n",
        "\n",
        "# print some fitting results\n",
        "\n",
        "print ('\\nIntercept: ', model.intercept_)\n",
        "print ('\\nCoefficients: ', model.coef_, end='\\n\\n')\n",
        "\n",
        "#  Calculate the confusion matrix using sklearn metrics.confusion_matrix method\n",
        "\n",
        "cnf_matrix = metrics.confusion_matrix(y_test, y_pred)     # confusion matrix calculation\n",
        "print ('\\n\\nConfusion matrix:\\n', cnf_matrix, '\\n\\n')\n",
        "class_names=[0,1] # name  of classes\n",
        "\n",
        "# graph the confusion matrix\n",
        "fig, ax = plt.subplots()\n",
        "tick_marks = np.arange(len(class_names))\n",
        "plt.xticks(tick_marks, class_names)\n",
        "plt.yticks(tick_marks, class_names)\n",
        "# create heatmap\n",
        "sns.heatmap(pd.DataFrame(cnf_matrix), annot=True, cmap=\"YlGnBu\" ,fmt='g')\n",
        "ax.xaxis.set_label_position(\"top\")\n",
        "plt.tight_layout()\n",
        "plt.title('Confusion matrix', y=1.1)\n",
        "plt.ylabel('Actual label')\n",
        "plt.xlabel('Predicted label')\n",
        "plt.show()\n",
        "\n",
        "# Calculate the Accuracy, Precision, Recall from the confusion matrix, using sklearn metrics methods\n",
        "\n",
        "print(\"\\n\\nAccuracy:\",metrics.accuracy_score(y_test, y_pred))     # accuracy precision and recall calculation\n",
        "print(\"Precision:\",metrics.precision_score(y_test, y_pred))\n",
        "print(\"Recall:\",metrics.recall_score(y_test, y_pred))\n",
        "\n",
        "print ('\\n\\n', metrics.classification_report(y_test, y_pred), '\\n\\n')\n",
        "\n",
        "# Calculate and plot the ROC curve from the model predictions versus actual targets, using sklearn metrics methods\n",
        "y_pred_proba = model.predict_proba(X_test)[::,1]             # predict probability\n",
        "fpr, tpr, _ = metrics.roc_curve(y_test,  y_pred_proba)       # receiver operating characteristic curve\n",
        "auc = metrics.roc_auc_score(y_test, y_pred_proba)            # true positive against false positive\n",
        "# graph it\n",
        "plt.title('Receiver Operating Characteristic')\n",
        "plt.plot(fpr,tpr,label=\"new_training3, auc=\"+str(auc))\n",
        "plt.legend(loc='lower right')\n",
        "plt.plot([0,1], [0,1], 'r--')\n",
        "plt.ylabel('True Positive Rate')\n",
        "plt.xlabel('False Positive Rate')\n",
        "plt.show()\n"
      ],
      "id": "r82Iecyl4O4G",
      "execution_count": 200,
      "outputs": [
        {
          "output_type": "stream",
          "text": [
            "\n",
            "Intercept:  [1.89547098]\n",
            "\n",
            "Coefficients:  [[-7.64907436e-04 -7.28852413e+00 -2.98992816e-02  2.20576013e-05\n",
            "   7.36446533e-02 -1.03087473e-03  6.19836465e-01  6.11406045e-01\n",
            "   6.39872713e-01  7.94843206e-01  1.07627202e+00  1.24353187e+00\n",
            "  -2.09116410e-02  6.48494998e-01  9.12276813e-01  2.76020121e-01\n",
            "   6.82818290e-01  1.60601887e-04  3.15929038e-01  9.70557936e-01\n",
            "   1.31621943e-02 -5.07158579e-01  1.07846403e+00  2.41548313e-02\n",
            "   4.11907998e-02  1.95261416e-01  6.23250693e-01  7.25531306e-01\n",
            "   2.61726179e-01]]\n",
            "\n",
            "\n",
            "\n",
            "Confusion matrix:\n",
            " [[1212  299]\n",
            " [ 114  166]] \n",
            "\n",
            "\n"
          ],
          "name": "stdout"
        },
        {
          "output_type": "display_data",
          "data": {
            "image/png": "[encoded data removed]",
            "text/plain": [
              "<Figure size 432x288 with 2 Axes>"
            ]
          },
          "metadata": {
            "tags": []
          }
        },
        {
          "output_type": "stream",
          "text": [
            "\n",
            "\n",
            "Accuracy: 0.7694025683975433\n",
            "Precision: 0.35698924731182796\n",
            "Recall: 0.5928571428571429\n",
            "\n",
            "\n",
            "               precision    recall  f1-score   support\n",
            "\n",
            "         0.0       0.91      0.80      0.85      1511\n",
            "         1.0       0.36      0.59      0.45       280\n",
            "\n",
            "    accuracy                           0.77      1791\n",
            "   macro avg       0.64      0.70      0.65      1791\n",
            "weighted avg       0.83      0.77      0.79      1791\n",
            " \n",
            "\n",
            "\n"
          ],
          "name": "stdout"
        },
        {
          "output_type": "display_data",
          "data": {
            "image/png": "[encoded data removed]",
            "text/plain": [
              "<Figure size 432x288 with 1 Axes>"
            ]
          },
          "metadata": {
            "tags": []
          }
        }
      ]
    },
    {
      "cell_type": "code",
      "metadata": {
        "id": "Nx2Ue06HGiQc"
      },
      "source": [
        ""
      ],
      "id": "Nx2Ue06HGiQc",
      "execution_count": null,
      "outputs": []
    }
  ]
}